{
 "cells": [
  {
   "cell_type": "markdown",
   "id": "196b2db2",
   "metadata": {},
   "source": [
    "# <font color=\"maroon\">Dynamics in Solids</font>\n",
    "\n",
    "SLEEPY was originally developed for simulating relaxation in solids. For good reason: relaxation is orientation dependent in solids, so that the orientationally-averaged rate constants that may more easily calculated are not always sufficient to understand more complex processes occuring in solids. Slow (μs-ms) reorientational motion that is masked in solution NMR is present in solids and plays an important role in behavior of various experiments. Text \n",
    "\n",
    "- [$R_{1\\rho}$ relaxation](Chapter3/Ch3_R1p.ipynb)\n",
    "- [REDOR](Chapter3/Ch3_REDOR.ipynb)\n",
    "- [DIPSHIFT](Chapter3/Ch3_DIPSHIFT.ipynb)\n",
    "- [Relaxation in Complex Sequences: RECRR](Chapter3/Ch3_RECRR.ipynb)\n",
    "- [$T_1$ and NOE](Chapter3/Ch3_T1_NOE.ipynb)\n",
    "- [Quadrupolar phenomena](Chapter3/Ch3_Quad.ipynb)"
   ]
  },
  {
   "cell_type": "code",
   "execution_count": null,
   "id": "2b637b23",
   "metadata": {},
   "outputs": [],
   "source": []
  }
 ],
 "metadata": {
  "kernelspec": {
   "display_name": "Python 3",
   "language": "python",
   "name": "python3"
  },
  "language_info": {
   "codemirror_mode": {
    "name": "ipython",
    "version": 3
   },
   "file_extension": ".py",
   "mimetype": "text/x-python",
   "name": "python",
   "nbconvert_exporter": "python",
   "pygments_lexer": "ipython3",
   "version": "3.8.8"
  }
 },
 "nbformat": 4,
 "nbformat_minor": 5
}
