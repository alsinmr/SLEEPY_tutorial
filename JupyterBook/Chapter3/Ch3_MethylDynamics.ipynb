{
 "cells": [
  {
   "cell_type": "markdown",
   "metadata": {
    "id": "P0FJxG-b0_3u"
   },
   "source": [
    "## Setup"
   ]
  },
  {
   "cell_type": "code",
   "execution_count": 1,
   "metadata": {
    "colab": {
     "base_uri": "https://localhost:8080/"
    },
    "executionInfo": {
     "elapsed": 248,
     "status": "ok",
     "timestamp": 1733756875039,
     "user": {
      "displayName": "Susanne, Albert Smith-Penzel",
      "userId": "02415093135417951996"
     },
     "user_tz": -60
    },
    "id": "JveIYJ311DOB",
    "outputId": "6e5cdb26-6a23-44df-86a0-c454d4649ae5"
   },
   "outputs": [],
   "source": [
    "import os\n",
    "os.chdir('../../../')\n",
    "import SLEEPY as sl\n",
    "import numpy as np\n",
    "import matplotlib.pyplot as plt"
   ]
  },
  {
   "cell_type": "code",
   "execution_count": 14,
   "metadata": {
    "executionInfo": {
     "elapsed": 245,
     "status": "ok",
     "timestamp": 1733756546731,
     "user": {
      "displayName": "Susanne, Albert Smith-Penzel",
      "userId": "02415093135417951996"
     },
     "user_tz": -60
    },
    "id": "b_mJFXWx1Kaz"
   },
   "outputs": [],
   "source": [
    "ex=sl.ExpSys(600,Nucs=['1H','1H','1H'],vr=15000,pwdavg=2,LF=True)\n",
    "dHC=.109\n",
    "tetra=np.arccos(-1/3)\n",
    "dHH=dHC*np.sqrt(2-2*np.cos(2*np.pi/3))\n",
    "deltaHH=sl.Tools.dipole_coupling(dHH,'1H','1H')\n",
    "ex.set_inter('CSA',i=0,delta=20)\n",
    "for k in range(3):\n",
    "    for j in range(k+1,3):\n",
    "        euler=[0,np.pi/2,(k+j)*2*np.pi/3]\n",
    "        ex.set_inter('dipole',i0=k,i1=j,delta=deltaHH,euler=euler)"
   ]
  },
  {
   "cell_type": "code",
   "execution_count": null,
   "metadata": {
    "colab": {
     "base_uri": "https://localhost:8080/",
     "height": 889
    },
    "executionInfo": {
     "elapsed": 65838,
     "status": "error",
     "timestamp": 1733756947955,
     "user": {
      "displayName": "Susanne, Albert Smith-Penzel",
      "userId": "02415093135417951996"
     },
     "user_tz": -60
    },
    "id": "FwBM5D6R3QmZ",
    "outputId": "f08c3eeb-491b-4c5a-d0c4-2eb71305a996"
   },
   "outputs": [],
   "source": [
    "L=ex.Liouvillian()\n",
    "L.add_SpinEx(i=[0,1,2],tc=1e-9)\n",
    "\n",
    "seq=L.Sequence()\n",
    "\n",
    "rho=sl.Rho('Thermal','1Hz')\n",
    "rho.DetProp(seq,n=150000)\n",
    "rho.plot()"
   ]
  },
  {
   "cell_type": "code",
   "execution_count": null,
   "metadata": {},
   "outputs": [],
   "source": []
  }
 ],
 "metadata": {
  "colab": {
   "authorship_tag": "ABX9TyM5FOWPQF8qNzQQKXW+4NR4",
   "provenance": []
  },
  "kernelspec": {
   "display_name": "Python 3",
   "language": "python",
   "name": "python3"
  },
  "language_info": {
   "codemirror_mode": {
    "name": "ipython",
    "version": 3
   },
   "file_extension": ".py",
   "mimetype": "text/x-python",
   "name": "python",
   "nbconvert_exporter": "python",
   "pygments_lexer": "ipython3",
   "version": "3.8.8"
  }
 },
 "nbformat": 4,
 "nbformat_minor": 1
}
