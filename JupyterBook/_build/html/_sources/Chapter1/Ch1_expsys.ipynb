{
 "cells": [
  {
   "cell_type": "markdown",
   "id": "85b01b75",
   "metadata": {},
   "source": [
    "# <font  color = \"#0093AF\"> Experimental Settings and Spin-System Definition"
   ]
  },
  {
   "cell_type": "markdown",
   "id": "5f38a3fc",
   "metadata": {},
   "source": [
    "## Setup"
   ]
  },
  {
   "cell_type": "code",
   "execution_count": 15,
   "id": "0d830fa5",
   "metadata": {},
   "outputs": [],
   "source": [
    "import os\n",
    "os.chdir('../../../')\n",
    "import SLEEPY as sl\n",
    "import numpy as np"
   ]
  },
  {
   "cell_type": "markdown",
   "id": "8a7f1ffd",
   "metadata": {},
   "source": [
    "## Defining nuclei and experimental conditions"
   ]
  },
  {
   "cell_type": "markdown",
   "id": "4b9838e2",
   "metadata": {},
   "source": [
    "The experimental system defines the magnetic field, the nuclei in the spin-system, the spinning rate, the temperature, the rotor angle, the powder average, and the number of gamma angles calculated during one rotor period. Except for the field and nuclei, these all have default values and only need to be provided to change the default values.\n",
    "\n",
    "- v0H: The magnetic field strength, given as the $^1$H frequency in MHz (required, unless B0 provided)\n",
    "- B0: The magnetic field strength in Tesla (required, unless v0H provided)\n",
    "- Nucs: List of nuclei, with mass number followed by atomic symbol ('1H','13C','2H', etc.). Electrons may also be included via 'e-'. Specifying 'e1' would give an electron with spin 1, and 'e3/2' or 'e1.5' would produce an electron with spin-3/2.\n",
    "- T_K: Temperature in Kelvin. Only used if relaxation to thermal equilibrium is used (thermalization), or the density matrix (rho) is initialized with the \"thermal\" option.\n",
    "- vr: Spinning frequency in Hz (only used if anisotropic interactions provided). Default is 10000\n",
    "- rotor_angle: Rotor angle, in radians. Default is the magic angle\n",
    "- n_gamma: Number of gamma angles calculated per rotor period. For string-specified powder averages, this is also the number of gamma angles in the powder average. Default is 100\n",
    "- pwdavg: Type of powder average. Type sl.PowderAvg.list_powder_types to see options (Most powder averages from SIMPSON). If an integer is provided, then this yields the JCP59 powder average, with higher integers yielding more angles. Defaults is 3 (JCP59 with 99 angles)\n",
    "- LF: Specifiy whether each spin should be simulating in the lab frame. Can be provided as a single boolean, e.g. False sets all spins in the rotating frame, or as a list the same length as Nucs, which puts some spins in the lab frame and some in the rotating frame (useful, e.g. for DNP experiments such as solid-effect, where the electron should be in the rotating frame, but the nucleus in the lab frame)."
   ]
  },
  {
   "cell_type": "code",
   "execution_count": 31,
   "id": "daccb4bf",
   "metadata": {},
   "outputs": [],
   "source": [
    "ex=sl.ExpSys(v0H=600,Nucs=['1H','13C'],vr=10000,T_K=298,\n",
    "             rotor_angle=np.arccos(np.sqrt(1/3)),n_gamma=100,\n",
    "             pwdavg=3,LF=[False,False])"
   ]
  },
  {
   "cell_type": "markdown",
   "id": "5b5e83fb",
   "metadata": {},
   "source": [
    "Typing `ex` at the command line will return a description of the spin-system."
   ]
  },
  {
   "cell_type": "markdown",
   "id": "434e1e08",
   "metadata": {},
   "source": [
    "Note that we have used the default values, so the same system may be obtained while omitting all the defaults:"
   ]
  },
  {
   "cell_type": "code",
   "execution_count": 32,
   "id": "b0c5089e",
   "metadata": {},
   "outputs": [],
   "source": [
    "ex=sl.ExpSys(v0H=600,Nucs=['1H','13C'])"
   ]
  },
  {
   "cell_type": "markdown",
   "id": "81e54f71",
   "metadata": {},
   "source": [
    "## Defining Interactions\n",
    "Once the experimental settings and spin-system is set, we may add interactions. This is achieved by running\n",
    "```\n",
    "ex.set_inter(...)\n",
    "```\n",
    "For every interaction, we have to specify the spins involved. For an N-spin system, this is specified with an index (spin-field) or indices (spin-spin) referring to the spin at the corresponding position in Nucs. Note we use python convention of indexing from 0 to N-1. For spin-field interactions, we specify \"i\", and for spin-spin interactions, we specify \"i0\" and \"i1\". The available interactions are:\n",
    "\n",
    "- dipole: Specify delta (the full anisotropy in Hz, which is 2x the definition used by SIMPSON). Optionally specify an asymmetry, eta (unitless) and the euler angles, euler as a 3-element (alpha,beta,gamma) list in radians.\n",
    "- J: Specify J in Hz.\n",
    "- CS: Isotropic chemical shift, specify in ppm.\n",
    "- CSA: Chemical shift anisotropy. Specify delta in ppm. eta and the euler angles are optional.\n",
    "- hyperfine: Specify Axx, Ayy, and Azz. If all entries are equal, will be treated as an isotropic interaction. \"euler\" may be optionally provided.\n",
    "- quadrupole: Specify delta in Hz (CHECK THIS INPUT). Optionally specify eta and euler\n",
    "- g: Electron g-tensor. Specify gxx, gyy, and gzz, and optionally euler.\n"
   ]
  },
  {
   "cell_type": "code",
   "execution_count": 37,
   "id": "37a3f08b",
   "metadata": {},
   "outputs": [],
   "source": [
    "delta=sl.Tools.dipole_coupling(.105,'1H','13C')  #Calculate H-C dipole for 1.05 Angstrom distance\n",
    "ex.set_inter('dipole',i0=0,i1=1,delta=delta) #H-C dipole coupling\n",
    "ex.set_inter('CSA',i=1,delta=100,eta=1) #13C CSA\n",
    "_=ex.set_inter('CS',i=0,ppm=10) #1H isotropic chemical shift"
   ]
  },
  {
   "cell_type": "markdown",
   "id": "4efffa81",
   "metadata": {},
   "source": [
    "Note that when setting an interaction, ex returns itself. This lets us string together multiple commands, for example, the following line will achieve the same interactions as above."
   ]
  },
  {
   "cell_type": "code",
   "execution_count": 38,
   "id": "b87474a6",
   "metadata": {},
   "outputs": [],
   "source": [
    "_=ex.set_inter('dipole',i0=0,i1=1,delta=delta).set_inter('CSA',i=1,delta=100,eta=1).\\\n",
    "    set_inter('CS',i=0,ppm=10)"
   ]
  },
  {
   "cell_type": "markdown",
   "id": "5c470cf4",
   "metadata": {},
   "source": [
    "If we just type 'ex' at the command line, we will obtain a description of the experimental system"
   ]
  },
  {
   "cell_type": "code",
   "execution_count": 39,
   "id": "7a09f56f",
   "metadata": {},
   "outputs": [
    {
     "data": {
      "text/plain": [
       "2-spin system (1H,13C)\n",
       "B0 = 14.092 T (600.000 MHz 1H frequency)\n",
       "rotor angle = 54.736 degrees\n",
       "rotor frequency = 10.0 kHz\n",
       "Temperature = 298 K\n",
       "Powder Average: JCP59 with 99 angles\n",
       "Interactions:\n",
       "\tdipole between spins 0,1 with arguments:\n",
       "\t\t(delta=52194.25)\n",
       "\tCSA on spin 1 with arguments: (delta=100.00,eta=1.00)\n",
       "\tCS on spin 0 with arguments: (ppm=10.00)\n",
       "\n",
       "<SLEEPY.ExpSys.ExpSys object at 0x7fe90887d828>"
      ]
     },
     "execution_count": 39,
     "metadata": {},
     "output_type": "execute_result"
    }
   ],
   "source": [
    "ex"
   ]
  },
  {
   "cell_type": "code",
   "execution_count": null,
   "id": "0779ab93",
   "metadata": {},
   "outputs": [],
   "source": []
  }
 ],
 "metadata": {
  "kernelspec": {
   "display_name": "Python 3",
   "language": "python",
   "name": "python3"
  },
  "language_info": {
   "codemirror_mode": {
    "name": "ipython",
    "version": 3
   },
   "file_extension": ".py",
   "mimetype": "text/x-python",
   "name": "python",
   "nbconvert_exporter": "python",
   "pygments_lexer": "ipython3",
   "version": "3.7.3"
  }
 },
 "nbformat": 4,
 "nbformat_minor": 5
}
