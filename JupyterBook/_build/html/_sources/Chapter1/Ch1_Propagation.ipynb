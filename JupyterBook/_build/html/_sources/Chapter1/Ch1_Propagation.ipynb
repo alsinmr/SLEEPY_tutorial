{
 "cells": [
  {
   "cell_type": "markdown",
   "id": "bd8d3700",
   "metadata": {},
   "source": [
    "# <font  color = \"#0093AF\"> Propagators and Sequences"
   ]
  },
  {
   "cell_type": "markdown",
   "id": "e16e2faf",
   "metadata": {},
   "source": [
    "Propagators are responsible for moving the density matrix, $\\hat{\\rho}(t)$ forward in time in magnetic resonance simulations. For a constant Liouvillian, the propagator, $\\hat{\\hat{U}}(t,t+\\Delta t)$ is given by\n",
    "\\begin{equation}\n",
    "\\hat{\\hat{U}}(t,t+\\Delta t)=\\exp(\\hat{\\hat{L}}(t)\\Delta t)\n",
    "\\end{equation}\n",
    "such that\n",
    "\\begin{equation}\n",
    "\\hat{\\rho}(t+\\Delta t)=\\hat{\\hat{U}}(t,t+\\Delta t)\\hat{\\rho}(t)\n",
    "\\end{equation}\n",
    "Of course, the Liouvillian is often not constant, either due to rotor spinning or a pulse sequence. In this case, the propagator is constructed as a product of piecewise constant propagators.\n",
    "\n",
    "\\begin{equation}\n",
    "U(t_0,t_n)=U(t_{n-1},t_{n})*U(t_{n-2},t_{n-1)})...U(t_1,t_2)*U(t_0,t_1)\n",
    "\\end{equation}\n",
    "\n",
    "SLEEPY handles the construction of the propagator for a time-dependent Liouvillian from propagators generated from piecewise-constant Liouvillians internally. Here, we start without pulses, where time-dependence arises only from rotor spinning."
   ]
  },
  {
   "cell_type": "markdown",
   "id": "3ef4a5a0",
   "metadata": {},
   "source": [
    "## Setup"
   ]
  },
  {
   "cell_type": "code",
   "execution_count": 1,
   "id": "acab298f",
   "metadata": {},
   "outputs": [],
   "source": [
    "import os\n",
    "os.chdir('../../../')\n",
    "import SLEEPY as sl\n",
    "import numpy as np"
   ]
  },
  {
   "cell_type": "code",
   "execution_count": 2,
   "id": "417021b6",
   "metadata": {},
   "outputs": [],
   "source": [
    "ex=sl.ExpSys(v0H=600,Nucs=['1H','13C'],vr=60000) \n",
    "ex.set_inter('dipole',i0=0,i1=1,delta=44000).set_inter('CSA',i=1,delta=100,eta=1).\\\n",
    "    set_inter('CS',i=0,ppm=10) #Add a dipole, CSA to 13C, and CS to 1H\n",
    "\n",
    "ex1=ex.copy() #Copy the above\n",
    "ex1.set_inter('dipole',i0=0,i1=1,delta=44000,euler=[0,30*np.pi/180,0])\n",
    "\n",
    "L=sl.Liouvillian(ex,ex1,kex=sl.Tools.twoSite_kex(1e-5)) #Here, we produce the exchange matrix with twoSite_kex"
   ]
  },
  {
   "cell_type": "markdown",
   "id": "bf5afda8",
   "metadata": {},
   "source": [
    "## Propagators without pulses"
   ]
  },
  {
   "cell_type": "markdown",
   "id": "10a1ec45",
   "metadata": {},
   "source": [
    "We first generate the default propagator from the Liouvillian. These propagators do not have contributions from applied radio-frequency fields."
   ]
  },
  {
   "cell_type": "code",
   "execution_count": 3,
   "id": "846674a7",
   "metadata": {},
   "outputs": [],
   "source": [
    "U=L.U()"
   ]
  },
  {
   "cell_type": "markdown",
   "id": "fba7a182",
   "metadata": {},
   "source": [
    "U has a few key features: it has a starting time relative to the rotor period (t0), and a length (Dt). If unspecified when creating the propagator, the length is one rotor period (L.taur), since this helps makes computational speed faster. Defining Dt will override this length. If spinning is not included, then Dt must be specified since the rotor period is no longer defined (note that even if spinning is specified in ex, if no anisotropic interactions are defined, then the rotor period becomes undefined and Dt must be specified).\n",
    "\n",
    "U also has a starting time relative to the rotor period. \n",
    "\n",
    "Unless we are not spinning, it is important that when multiplying propagators, that the end of the propagator to the right (the first to be applied in time) ends when the propagator to the left starts. That is, to calculate \n",
    "```\n",
    "U1*U0\n",
    "```\n",
    "we require that `U0.tf%U0.taur==U1.t0` (% is the modulo operator, so this is the same point in the rotor period, although it is ok if U0.tf is multiple rotor periods after U1.t0, as long as they are equal modulo taur. Note that 'taur' is available in most SLEEPY objects, although defaults to None (has no value) if spinning is not included.\n",
    "\n",
    "Note that while t0 may also be specified when a propagator is created, but if omitted, then t0 is set to ex.current_time (or L.expsys.current_time). ex.current_time is updated whenever a propagator is created, to match the time at the end of that propagator. Then, if propagators are created in the order in which they will be applied, they will always be created with the correct t0.\n",
    "\n",
    "A density matrix also has a time associated with it, and to multiply\n",
    "```\n",
    "U*rho\n",
    "```\n",
    "we require, similarly, that `U.t0==rho.t%rho.taur`\n",
    "\n",
    "\n",
    "\n",
    "Note that the current_time may be reset using L.reset_prop_time(t), where the default time, t, is zero.\n",
    "\n",
    "We make an example where we generate two propagators, and see how their initial times are defined."
   ]
  },
  {
   "cell_type": "code",
   "execution_count": 4,
   "id": "5a61a900",
   "metadata": {},
   "outputs": [
    {
     "name": "stdout",
     "output_type": "stream",
     "text": [
      "U0: t0=0.000 us, tf=5.556 us, Dt=5.556\n",
      "U1: t0=5.556 us, tf=16.667 us, Dt=11.111\n"
     ]
    }
   ],
   "source": [
    "L.reset_prop_time()\n",
    "U0=L.U(Dt=L.taur/3)\n",
    "U1=L.U(Dt=L.taur*2/3)\n",
    "print(f'U0: t0={U0.t0*1e6:.3f} us, tf={U0.tf*1e6:.3f} us, Dt={U0.Dt*1e6:.3f}')\n",
    "print(f'U1: t0={U1.t0*1e6:.3f} us, tf={U1.tf*1e6:.3f} us, Dt={U1.Dt*1e6:.3f}')"
   ]
  },
  {
   "cell_type": "markdown",
   "id": "7227355a",
   "metadata": {},
   "source": [
    "Note that while the first propagator has t0=0, the second starts at 5.556 $\\mu$s, when the previous propagator ended. This happens because when U0 was created, ex.current_time was updated to match the end of U0. Then, we can easily take their product without have problems with mis-matched starting and ending times. When we do so, we get a propagator with length of one rotor period."
   ]
  },
  {
   "cell_type": "code",
   "execution_count": 5,
   "id": "0a047c9c",
   "metadata": {},
   "outputs": [
    {
     "data": {
      "text/plain": [
       "Propagator with length of 16.667 microseconds (t0=0.000,tf=16.667)\n",
       "Constructed from the following Liouvillian:\n",
       "\tLiouvillian under the following conditions:\n",
       "\t\t2-spin system (1H,13C)\n",
       "\t\tB0 = 14.092 T (600.000 MHz 1H frequency)\n",
       "\t\trotor angle = 54.736 degrees\n",
       "\t\trotor frequency = 60.0 kHz\n",
       "\t\tTemperature = 298 K\n",
       "\t\tPowder Average: JCP59 with 99 angles\n",
       "\t\n",
       "\tThe individual Hamiltonians have the following interactions\n",
       "\t\tHamiltonian #0\n",
       "\t\t\tdipole between spins 0,1 with arguments:\n",
       "\t\t\t\t(delta=44000.00)\n",
       "\t\t\tCSA on spin 1 with arguments: (delta=100.00,eta=1.00)\n",
       "\t\t\tCS on spin 0 with arguments: (ppm=10.00)\n",
       "\t\t\n",
       "\t\tHamiltonian #1\n",
       "\t\t\tCSA on spin 1 with arguments: (delta=100.00,eta=1.00)\n",
       "\t\t\tCS on spin 0 with arguments: (ppm=10.00)\n",
       "\t\t\tdipole between spins 0,1 with arguments:\n",
       "\t\t\t\t(delta=44000.00,euler=[0.00,30.00,0.00])\n",
       "\t\t\n",
       "\t\t\n",
       "\tHamiltonians are coupled by exchange matrix:\n",
       "\t\tarray([[-50000.,  50000.],\n",
       "\t\t       [ 50000., -50000.]])\n",
       "\t\n",
       "<SLEEPY.Propagator.Propagator object at 0x7f8aa13b3f98>"
      ]
     },
     "execution_count": 5,
     "metadata": {},
     "output_type": "execute_result"
    }
   ],
   "source": [
    "U1*U0"
   ]
  },
  {
   "cell_type": "markdown",
   "id": "76ca7021",
   "metadata": {},
   "source": [
    "Note that if we multiply U0 by itself, we get a warning, since the end of U0 is not the same time as the beginning of U0 (relative to the rotor period)"
   ]
  },
  {
   "cell_type": "code",
   "execution_count": 6,
   "id": "3c075ac1",
   "metadata": {},
   "outputs": [
    {
     "name": "stderr",
     "output_type": "stream",
     "text": [
      "/Users/albertsmith/Documents/GitHub/SLEEPY/Propagator.py:234: UserWarning: \n",
      "First propagator ends at 5.555555555555556e-06 but second propagator starts at 0.0\n",
      "  warnings.warn(f'\\nFirst propagator ends at {U.tf%self.taur} but second propagator starts at {self.t0%U.taur}')\n"
     ]
    }
   ],
   "source": [
    "_=U0*U0"
   ]
  },
  {
   "cell_type": "markdown",
   "id": "f597cf5a",
   "metadata": {},
   "source": [
    "As with the Hamiltonian and Liouvillian, propagators can also be plotted:"
   ]
  },
  {
   "cell_type": "code",
   "execution_count": 8,
   "id": "fe362e51",
   "metadata": {},
   "outputs": [],
   "source": [
    "#U0.plot(mode='abs')"
   ]
  },
  {
   "cell_type": "markdown",
   "id": "f060c5bb",
   "metadata": {},
   "source": [
    "### Special propagators"
   ]
  },
  {
   "cell_type": "markdown",
   "id": "7d5604e6",
   "metadata": {},
   "source": [
    "The Liouvillian can also produce propagators for $\\delta$-pulses (i.e. pulses with zero length) and an identity propagator. Both types have zero length, and they can be multiplied with propagators ending at any time (they do acquire an initial time, but this is not checked when multiplying these types of propagators). The identity propagator does not have any effect on other propagators or density matrices, but is occasionally useful as a kind of propagator pre-allocation."
   ]
  },
  {
   "cell_type": "code",
   "execution_count": 10,
   "id": "ddee0cee",
   "metadata": {},
   "outputs": [],
   "source": [
    "Ueye=L.Ueye()\n",
    "#Ueye.plot(mode='re')"
   ]
  },
  {
   "cell_type": "markdown",
   "id": "785f3282",
   "metadata": {},
   "source": [
    "A $\\delta$-pulse propagator needs to be provided with a channel ('13C','1H', etc.) or a spin-index (0,1,2). The spin-index will apply the pulse just to one spin, even if there are other spins of the same nucleus type. Obviously this is unphysical, but can be useful for creating selective pulses without actually fully simulating them.\n",
    "\n",
    "The default flip angle for the $\\delta$-pulse is a $\\pi$-pulse with an 'x' phase, but adjusting phi (flip angle) and phase, any $\\delta$-pulse may be obtained."
   ]
  },
  {
   "cell_type": "code",
   "execution_count": 11,
   "id": "bf0cf7dc",
   "metadata": {},
   "outputs": [],
   "source": [
    "Ud=L.Udelta('13C',phi=np.pi/2,phase=np.pi/2)  #pi/2 y-pulse on 13C\n",
    "#Ud.plot(mode='re')"
   ]
  },
  {
   "cell_type": "markdown",
   "id": "a6e7333c",
   "metadata": {},
   "source": [
    "## Sequences"
   ]
  },
  {
   "cell_type": "markdown",
   "id": "9b300033",
   "metadata": {},
   "source": [
    "Of course, we would also like to be able to apply pulses for our propagators. This is achieved with the sequence object, which is also generated from the Liouvillian. \n",
    "\n",
    "Sequences are used to create propagators, although in some cases, propagators are only calculated internally within rho when used with a sequence.\n",
    "\n",
    "We initialize a sequence by calling L.Sequence(). Usually, when we add channels to the sequence, we define a time-axis while doing so, which will then define the length of the sequence. However, it is possible to use the sequence to just define the amplitude of a continuously applied field. In this case, under spinning, the sequence length then becomes one rotor period by default. If no spinning is used, then this case requires initializing the sequency with a length (`Dt=1e-3` would, for example, make a 1 ms sequence).\n",
    "\n",
    "Once a sequence is defined, we add channels to it. Channels may be added the usual way, by specifying the nucleus, but they may also be added to a specific spin by index."
   ]
  },
  {
   "cell_type": "code",
   "execution_count": 12,
   "id": "1358cbac",
   "metadata": {},
   "outputs": [],
   "source": [
    "seq=L.Sequence()"
   ]
  },
  {
   "cell_type": "markdown",
   "id": "56d7d835",
   "metadata": {},
   "source": [
    "We start with a sequence that has no time axis, just a constant field applied to $^{13}$C, applied in the *y*-direction. We use `seq.plot()` to visualize the result."
   ]
  },
  {
   "cell_type": "code",
   "execution_count": 13,
   "id": "13dfd4e9",
   "metadata": {},
   "outputs": [
    {
     "data": {
      "text/plain": [
       "[<AxesSubplot:ylabel='$v_1$ / kHz'>,\n",
       " <AxesSubplot:xlabel='t / $\\\\mu$s', ylabel='$v_1$ / kHz'>]"
      ]
     },
     "execution_count": 13,
     "metadata": {},
     "output_type": "execute_result"
    },
    {
     "data": {
      "image/png": "[encoded data removed]",
      "text/plain": [
       "<Figure size 432x288 with 2 Axes>"
      ]
     },
     "metadata": {
      "needs_background": "light"
     },
     "output_type": "display_data"
    }
   ],
   "source": [
    "seq.add_channel('13C',v1=25000,phase=np.pi/2)\n",
    "seq.plot()"
   ]
  },
  {
   "cell_type": "markdown",
   "id": "5f7c8c01",
   "metadata": {},
   "source": [
    "Alternatively, we may use pulses. We may overwrite the existing channels, or just create a new sequence (here we overwrite the $^{13}$C channel by calling it without any arguments (the default for v1 is 0). Note that the 'add_channel' function returns itself, so we can string together multiple calls to seq."
   ]
  },
  {
   "cell_type": "code",
   "execution_count": 14,
   "id": "16c79c59",
   "metadata": {},
   "outputs": [
    {
     "data": {
      "text/plain": [
       "[<AxesSubplot:ylabel='$v_1$ / kHz'>,\n",
       " <AxesSubplot:xlabel='t / $\\\\mu$s', ylabel='$v_1$ / kHz'>]"
      ]
     },
     "execution_count": 14,
     "metadata": {},
     "output_type": "execute_result"
    },
    {
     "data": {
      "image/png": "[encoded data removed]",
      "text/plain": [
       "<Figure size 432x288 with 2 Axes>"
      ]
     },
     "metadata": {
      "needs_background": "light"
     },
     "output_type": "display_data"
    }
   ],
   "source": [
    "v1=150000\n",
    "tpi=1/v1/2\n",
    "t=[0,L.taur/2-tpi,L.taur/2,L.taur-tpi,L.taur]\n",
    "seq.add_channel('13C').add_channel('1H',t=t,v1=[0,v1,0,v1]).plot()"
   ]
  },
  {
   "cell_type": "markdown",
   "id": "69c87563",
   "metadata": {},
   "source": [
    "Note that this setup lets us easily create shaped pulses by just providing a time axis and an amplitude. "
   ]
  },
  {
   "cell_type": "code",
   "execution_count": null,
   "id": "1d8bb8f5",
   "metadata": {},
   "outputs": [],
   "source": []
  }
 ],
 "metadata": {
  "kernelspec": {
   "display_name": "Python 3",
   "language": "python",
   "name": "python3"
  },
  "language_info": {
   "codemirror_mode": {
    "name": "ipython",
    "version": 3
   },
   "file_extension": ".py",
   "mimetype": "text/x-python",
   "name": "python",
   "nbconvert_exporter": "python",
   "pygments_lexer": "ipython3",
   "version": "3.7.3"
  }
 },
 "nbformat": 4,
 "nbformat_minor": 5
}
