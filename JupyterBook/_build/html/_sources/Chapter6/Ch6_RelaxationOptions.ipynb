{
 "cells": [

{
   "cell_type": "markdown",
   "id": "ee475a2c",
   "metadata": {},
   "source": [
    "# <font  color = \"maroon\"> Relaxation Options"
   ]
},
{
     "cell_type": "markdown",
     "metadata": {},
     "source": [
      "<a href=\"https://githubtocolab.com/alsinmr/SLEEPY_tutorial/blob/main/ColabNotebooks/Chapter6/Ch6_RelaxationOptions.ipynb\" target=\"_blank\"><img src=\"https://colab.research.google.com/assets/colab-badge.svg\"></a>"
     
            ]
},
{
   "cell_type": "markdown",
   "id": "7897654e",
   "metadata": {},
   "source": [
    "SLEEPY has a variety of options for introducing relaxation to spin-systems. Understanding the differences between these can be important for correctly simulating complex effects. We explain and demonstrate the various options here"
   ]
},
{
     "cell_type": "code",
     "execution_count": 0,
     "metadata": {},
     "outputs": [],
     "source": [
      "# SETUP SLEEPY"
     ]
    },
{
   "cell_type": "markdown",
   "id": "48d671c6",
   "metadata": {},
   "source": [
    "## Setup"
   ]
},
{
   "cell_type": "code",
   "execution_count": null,
   "id": "58663ea4",
   "metadata": {},
   "outputs": [],
   "source": []
}
],
 "metadata": {
  "kernelspec": {
   "display_name": "Python 3",
   "language": "python",
   "name": "python3"
  },
  "language_info": {
   "codemirror_mode": {
    "name": "ipython",
    "version": 3
   },
   "file_extension": ".py",
   "mimetype": "text/x-python",
   "name": "python",
   "nbconvert_exporter": "python",
   "pygments_lexer": "ipython3",
   "version": "3.8.8"
  }
 },
 "nbformat": 4,
 "nbformat_minor": 5
}
