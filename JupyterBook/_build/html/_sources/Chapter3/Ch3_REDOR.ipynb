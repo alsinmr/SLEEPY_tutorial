{
 "cells": [

{
   "cell_type": "markdown",
   "id": "2a88d805",
   "metadata": {},
   "source": [
    "# <font  color = \"#0093AF\">REDOR</font>"
   ]
},
{
     "cell_type": "markdown",
     "metadata": {},
     "source": [
      "<a href=\"https://githubtocolab.com/alsinmr/SLEEPY_tutorial/blob/main/ColabNotebooks/Chapter3/Ch3_REDOR.ipynb\" target=\"_blank\"><img src=\"https://colab.research.google.com/assets/colab-badge.svg\"></a>"
     
            ]
},
{
   "cell_type": "markdown",
   "id": "bfadf6fc",
   "metadata": {},
   "source": [
    "Rotational-Echo DOuble Resonance NMR (REDOR$^1$) is an important technique for dynamics measurements,$^{2,3}$ where applying REDOR to one-bond dipole couplings allows one to compare the known size of the rigid dipole coupling, to its measured size, which is reduced due to dynamics. This yields the order parameter, $S$, according to\n",
    "\n",
    "$$\n",
    "\\begin{equation}\n",
    "|S|=\\left|\\frac{\\delta_{exp}}{\\delta_{rigid}}\\right|\n",
    "\\end{equation}\n",
    "$$\n",
    "\n",
    "We do not obtain the sign of the dipole coupling from REDOR, so we only get the absolute value of $S$. \n",
    "\n",
    "Here, we investigate how REDOR behaves as a function of correlation time.\n",
    "\n",
    "Note, this was the topic of a recent paper by Aebischer et al.,$^4$ where simulations were performed using Gamma$^5$. We hope SLEEPY makes this type of simulation more accessible.\n",
    "\n",
    "[1] T. Gullion, J. Schaefer. [*J. Magn. Reson.*](https://doi.org/10.1016/0022-2364(89)90280-1), **1989**, 196-200.\n",
    "\n",
    "[2] V. Chevelkov, U. Fink. B. Reif. [*J. Am. Chem. Soc.*](https://doi.org/10.1021/ja902649u), **2009**, 131, 14018-14022.\n",
    "\n",
    "[3] P. Schanda, B.H. Meier, M. Ernst. [*J. Magn. Reson.*](https://doi.org/10.1016/j.jmr.2011.03.015), **2011**, 210, 246-259.\n",
    "\n",
    "[4] K. Aebischer, L.M. Becker, P. Schanda, M. Ernst. [*Magn. Reson.*](https://doi.org/10.5194/mr-5-69-2024), **2024**, 5, 69-86\n",
    "\n",
    "[5] S.A. Smith, T.O. Levante, B.H. Meier, R.R. Ernst. [*J. Magn. Reson. A*](https://doi.org/10.1006/jmra.1994.1008), **1994**, 106, 75-105."
   ]
},
{
   "cell_type": "markdown",
   "id": "a00dac14",
   "metadata": {},
   "source": [
    "## Setup"
   ]
}
,
    {
     "cell_type": "code",
     "execution_count": 0,
     "metadata": {"tags": [
        "remove-cell"
    ]},
     "outputs": [],
     "source": [
      "# SETUP SLEEPY\n",
      "import sys\n",
      "if 'google.colab' in sys.modules:\n",
      "  !pip install sleepy-nmr"
     ]
    },
{
   "cell_type": "code",
   "execution_count": 2,
   "id": "0c25513a",
   "metadata": {},
   "outputs": [],
   "source": [
    "import SLEEPY as sl\n",
    "import numpy as np\n",
    "import matplotlib.pyplot as plt\n",
    "from time import time"
   ]
},
{
   "cell_type": "markdown",
   "id": "4c859836",
   "metadata": {},
   "source": [
    "## Build the system\n",
    "We construct a system undergoing 3-site symmetric exchange, in order to obtain a residual dipole coupling without asymmetry ($\\eta$=0). The `sl.Tools.Setup3siteSym(...)` function is used to create the three-site hopping motion out of the initial system, `ex0`."
   ]
},
{
   "cell_type": "code",
   "execution_count": 20,
   "id": "62722ee4",
   "metadata": {},
   "outputs": [],
   "source": [
    "ex0=sl.ExpSys(v0H=600,Nucs=['15N','1H'],vr=60000,pwdavg=sl.PowderAvg('bcr20'),n_gamma=30)\n",
    "# After varying the powder average and n_gamma\n",
    "# a beta-average and 30 gamma angles were determined to be sufficient\n",
    "delta=sl.Tools.dipole_coupling(.102,'15N','1H')\n",
    "phi=35*np.pi/180\n",
    "\n",
    "ex0.set_inter('dipole',i0=0,i1=1,delta=delta)\n",
    "L=sl.Tools.Setup3siteSym(ex0,tc=1e-9,phi=phi)"
   ]
},
{
   "cell_type": "markdown",
   "id": "ac44e08a",
   "metadata": {},
   "source": [
    "## Generate and plot pulse sequences\n",
    "We break the REDOR sequence up into three sequences (`L.Sequence()`), a first half (`first`) with $^1$H $\\pi$-pulses coming in the middle and end of the rotor period, a middle sequence (`center`) with a $^{15}$N $\\pi$-pulse to refocus the $^{15}$N chemical shift, and a second half (`second`) with $^1$H $\\pi$-pulses coming at the beginning and middle of the rotor period."
   ]
},
{
   "cell_type": "code",
   "execution_count": 21,
   "id": "097096d8",
   "metadata": {},
   "outputs": [],
   "source": [
    "v1=120e3 #100 kHz pulse\n",
    "tp=1/v1/2 #pi/2 pulse length\n",
    "\n",
    "t=[0,L.taur/2-tp,L.taur/2,L.taur-tp,L.taur]\n",
    "first=L.Sequence().add_channel('1H',t=t,v1=[0,v1,0,v1],phase=[0,0,0,np.pi/2,0])\n",
    "t=[0,tp,L.taur/2,L.taur/2+tp,L.taur]\n",
    "second=L.Sequence().add_channel('1H',t=t,v1=[v1,0,v1,0],phase=[np.pi/2,0,0,0,0])\n",
    "center=L.Sequence().add_channel('15N',t=[0,L.taur/2-tp/2,L.taur/2+tp/2,L.taur],\n",
    "                               v1=[0,v1,0])\n",
    "\n",
    "rho=sl.Rho('15Nx','15Nx')"
   ]
},
{
   "cell_type": "markdown",
   "id": "5be0f664",
   "metadata": {},
   "source": [
    "We plot the three sequences below."
   ]
},
{
   "cell_type": "code",
   "execution_count": 22,
   "id": "5ac0da36",
   "metadata": {},
   "outputs": [
    {
     "data": {
      "image/png": "[encoded data removed]",
      "text/plain": [
       "<Figure size 576x288 with 6 Axes>"
      ]
     },
     "metadata": {
      "needs_background": "light"
     },
     "output_type": "display_data"
    }
   ],
   "source": [
    "fig,ax=plt.subplots(2,3,figsize=[8,4],sharey=True)\n",
    "first.plot(ax=ax.T[0])\n",
    "center.plot(ax=ax.T[1])\n",
    "second.plot(ax=ax.T[2])\n",
    "fig.tight_layout()"
   ]
},
{
   "cell_type": "markdown",
   "id": "5d145dee",
   "metadata": {},
   "source": [
    "## Propagation"
   ]
},
{
   "cell_type": "markdown",
   "id": "d71bca3a",
   "metadata": {},
   "source": [
    "We first generate a propagator for each of the three sequences (`Ucenter`,`Ufirst`,`Usecond`). Then below, we create two propagators for the first (`U1`) and second half (`U2`) of the sequence which are increased in length by one rotor period at every step of the rotor period. "
   ]
},
{
   "cell_type": "code",
   "execution_count": 23,
   "id": "4fc71d91",
   "metadata": {},
   "outputs": [],
   "source": [
    "Ucenter=center.U()\n",
    "Ufirst=first.U()\n",
    "Usecond=second.U()"
   ]
},
{
   "cell_type": "markdown",
   "id": "0afcc7bd",
   "metadata": {},
   "source": [
    "At each step below, the density matrix (`rho`), is set back to the initial time via `rho.reset()`, and then multiplied with propagators for the first half (`U1`), the center (`Ucenter`), and for the second half (`U2`), where `U1` and `U2` are each increased by one rotor period at every step. `(U2*Ucenter*U1*rho)()` propagates `rho` with the full REDOR sequence, followed by detection (don't forget the parenthesis!). "
   ]
},
{
   "cell_type": "code",
   "execution_count": 24,
   "id": "8cb98c14",
   "metadata": {},
   "outputs": [
    {
     "name": "stdout",
     "output_type": "stream",
     "text": [
      "25.295255184173584\n"
     ]
    }
   ],
   "source": [
    "rho=sl.Rho('15Nx','15Nx')\n",
    "U1=L.Ueye()\n",
    "U2=L.Ueye()\n",
    "\n",
    "t0=time()\n",
    "for k in range(48):\n",
    "    rho.reset()\n",
    "    (U2*Ucenter*U1*rho)()\n",
    "    U1=Ufirst*U1\n",
    "    U2=Usecond*U2\n",
    "print(time()-t0)"
   ]
},
{
   "cell_type": "code",
   "execution_count": 25,
   "id": "f4bb1b96",
   "metadata": {},
   "outputs": [
    {
     "data": {
      "image/png": "[encoded data removed]",
      "text/plain": [
       "<Figure size 432x288 with 1 Axes>"
      ]
     },
     "metadata": {
      "needs_background": "light"
     },
     "output_type": "display_data"
    }
   ],
   "source": [
    "_=rho.plot()"
   ]
},
{
   "cell_type": "markdown",
   "id": "1f119a79",
   "metadata": {},
   "source": [
    "### Reducible sequence\n",
    "The above sequence is computationally expensive, requiring a basis set of 48 elements. If we consider that we're mainly interested in the $S^+$ operator of the $^{15}$N spin, then its worth noting that the $^{15}$N $\\pi$-pulse in the middle of the sequence converts $S^+$ into $S^-$, $S^\\alpha$, and $S^\\beta$, so that if we could get rid of it, we could use a basis set 1/4 as big (12 elements). Since there is no $^{15}$N chemical shift included in our simulation, we can switch the channel of the middle pulse to $^1$H. An alternative approach would be to use a $\\delta$-pulse on $^{15}$N, although the basis set would then only be reduced to 24 elements, since $S^+$ would still be converted to $S^-$"
   ]
},
{
   "cell_type": "code",
   "execution_count": 9,
   "id": "21706ef8",
   "metadata": {},
   "outputs": [
    {
     "name": "stdout",
     "output_type": "stream",
     "text": [
      "State-space reduction: 48->12\n"
     ]
    }
   ],
   "source": [
    "centerH=L.Sequence().add_channel('1H',t=[0,L.taur/2-tp/2,L.taur/2+tp/2,L.taur],v1=[0,v1,0])\n",
    "\n",
    "rho=sl.Rho('15Np','15Nx')\n",
    "\n",
    "rho,f,s,c,Ueye=rho.ReducedSetup(first,second,centerH,L.Ueye())"
   ]
},
{
   "cell_type": "code",
   "execution_count": 10,
   "id": "65deeecf",
   "metadata": {},
   "outputs": [],
   "source": [
    "Ufirst=f.U()\n",
    "Usecond=s.U()\n",
    "Ucenter=c.U()"
   ]
},
{
   "cell_type": "code",
   "execution_count": 11,
   "id": "60b97a9e",
   "metadata": {},
   "outputs": [
    {
     "name": "stdout",
     "output_type": "stream",
     "text": [
      "13.82811188697815\n"
     ]
    }
   ],
   "source": [
    "U1=Ueye\n",
    "U2=Ueye\n",
    "\n",
    "t0=time()\n",
    "for k in range(48):\n",
    "    rho.reset()\n",
    "    (U2*Ucenter*U1*rho)()\n",
    "    U1=Ufirst*U1\n",
    "    U2=Usecond*U2\n",
    "print(time()-t0)"
   ]
},
{
   "cell_type": "code",
   "execution_count": 12,
   "id": "ee96b5e6",
   "metadata": {},
   "outputs": [
    {
     "data": {
      "image/png": "[encoded data removed]",
      "text/plain": [
       "<Figure size 432x288 with 1 Axes>"
      ]
     },
     "metadata": {
      "needs_background": "light"
     },
     "output_type": "display_data"
    }
   ],
   "source": [
    "_=rho.plot()"
   ]
},
{
   "cell_type": "markdown",
   "id": "d7812428",
   "metadata": {},
   "source": [
    "We see that the reduced sequence yields the same results as before, but with matrices only 1/16 as big as the previous calculation."
   ]
},
{
   "cell_type": "markdown",
   "id": "e793e4dd",
   "metadata": {},
   "source": [
    "## Sweep the correlation time\n",
    "We now re-run the above setup, but while varying the correlation time to observe the transition between having a fully averaged dipole coupling and having the rigid-limit coupling."
   ]
},
{
   "cell_type": "code",
   "execution_count": 13,
   "id": "10f1ed81",
   "metadata": {},
   "outputs": [
    {
     "name": "stdout",
     "output_type": "stream",
     "text": [
      "log10(tc /s) = -6.0, 12 seconds elapsed\n",
      "log10(tc /s) = -5.6, 23 seconds elapsed\n",
      "log10(tc /s) = -5.1, 34 seconds elapsed\n",
      "log10(tc /s) = -4.7, 45 seconds elapsed\n",
      "log10(tc /s) = -4.3, 56 seconds elapsed\n",
      "log10(tc /s) = -3.9, 67 seconds elapsed\n",
      "log10(tc /s) = -3.4, 78 seconds elapsed\n",
      "log10(tc /s) = -3.0, 89 seconds elapsed\n"
     ]
    }
   ],
   "source": [
    "rho_list=[]\n",
    "legend=[]\n",
    "t0=time()\n",
    "for tc in np.logspace(-6,-3,8):\n",
    "    L.kex=sl.Tools.nSite_sym(n=3,tc=tc)\n",
    "\n",
    "    rho_list.append(rho.copy_reduced())\n",
    "\n",
    "    Ufirst=f.U()\n",
    "    Usecond=s.U()\n",
    "    Ucenter=c.U()\n",
    "\n",
    "    U1=Ueye\n",
    "    U2=Ueye\n",
    "\n",
    "    for k in range(28):\n",
    "        rho_list[-1].reset()\n",
    "        (U2*Ucenter*U1*rho_list[-1])()\n",
    "        \n",
    "        U1=Ufirst*U1\n",
    "        U2=Usecond*U2\n",
    "\n",
    "    legend.append(fr'$\\log_{{10}}(\\tau_c)$ = {np.log10(tc):.1f}')\n",
    "    print(f'log10(tc /s) = {np.log10(tc):.1f}, {time()-t0:.0f} seconds elapsed')"
   ]
},
{
   "cell_type": "code",
   "execution_count": 14,
   "id": "43b12e5c",
   "metadata": {},
   "outputs": [
    {
     "data": {
      "image/png": "[encoded data removed]",
      "text/plain": [
       "<Figure size 648x324 with 8 Axes>"
      ]
     },
     "metadata": {
      "needs_background": "light"
     },
     "output_type": "display_data"
    }
   ],
   "source": [
    "fig,ax=plt.subplots(2,4,figsize=[9,4.5])\n",
    "ax=ax.flatten()\n",
    "for a,l,r in zip(ax,legend,rho_list):\n",
    "    r.plot(ax=a)\n",
    "    a.set_title(l)\n",
    "    if not(a.is_first_col()):\n",
    "        a.set_ylabel('')\n",
    "        a.set_yticklabels([])\n",
    "    if not(a.is_last_row()):\n",
    "        a.set_xlabel('')\n",
    "        a.set_xticklabels([])\n",
    "fig.tight_layout()"
   ]
},
{
   "cell_type": "markdown",
   "id": "712b2d16",
   "metadata": {},
   "source": [
    "We observe above that when the correlation time is shorter than about 100 $\\mu$s, we see the fully averaged coupling, and when the correlation time is longer than about 1 ms, we obtain the rigid-limit value. In between, oscillations are damped due to dynamics being on the timescale of the coupling."
   ]
}
],
 "metadata": {
  "kernelspec": {
   "display_name": "Python 3",
   "language": "python",
   "name": "python3"
  },
  "language_info": {
   "codemirror_mode": {
    "name": "ipython",
    "version": 3
   },
   "file_extension": ".py",
   "mimetype": "text/x-python",
   "name": "python",
   "nbconvert_exporter": "python",
   "pygments_lexer": "ipython3",
   "version": "3.7.3"
  }
 },
 "nbformat": 4,
 "nbformat_minor": 5
}
