{
 "cells": [
  {
   "cell_type": "code",
   "execution_count": 1,
   "id": "0d830fa5",
   "metadata": {},
   "outputs": [],
   "source": [
    "import os\n",
    "os.chdir('../../../')\n",
    "import SLEEPY as sl\n",
    "import numpy as np"
   ]
  },
  {
   "cell_type": "code",
   "execution_count": 2,
   "id": "daccb4bf",
   "metadata": {},
   "outputs": [],
   "source": [
    "ex=sl.ExpSys(v0H=600,Nucs=['1H','13C'],vr=10000,T_K=298,\n",
    "             rotor_angle=np.arccos(np.sqrt(1/3)),n_gamma=100,\n",
    "             pwdavg=3,LF=[False,False])"
   ]
  },
  {
   "cell_type": "code",
   "execution_count": 3,
   "id": "b0c5089e",
   "metadata": {},
   "outputs": [],
   "source": [
    "ex=sl.ExpSys(v0H=600,Nucs=['1H','13C'])"
   ]
  },
  {
   "cell_type": "code",
   "execution_count": 4,
   "id": "37a3f08b",
   "metadata": {},
   "outputs": [],
   "source": [
    "delta=sl.Tools.dipole_coupling(.109,'1H','13C')  #Calculate H-C dipole for 1.05 Angstrom distance\n",
    "ex.set_inter('dipole',i0=0,i1=1,delta=delta) #H-C dipole coupling\n",
    "ex.set_inter('CSA',i=1,delta=100,eta=1) #13C CSA\n",
    "_=ex.set_inter('CS',i=0,ppm=10) #1H isotropic chemical shift"
   ]
  },
  {
   "cell_type": "code",
   "execution_count": 5,
   "id": "b87474a6",
   "metadata": {},
   "outputs": [],
   "source": [
    "_=ex.set_inter('dipole',i0=0,i1=1,delta=delta).set_inter('CSA',i=1,delta=100,eta=1).\\\n",
    "    set_inter('CS',i=0,ppm=10)"
   ]
  },
  {
   "cell_type": "code",
   "execution_count": 6,
   "id": "7a09f56f",
   "metadata": {},
   "outputs": [
    {
     "data": {
      "text/plain": [
       "2-spin system (1H,13C)\n",
       "B0 = 14.092 T (600.000 MHz 1H frequency)\n",
       "rotor angle = 54.736 degrees\n",
       "rotor frequency = 10.0 kHz\n",
       "Temperature = 298 K\n",
       "Powder Average: JCP59 with 99 angles\n",
       "Interactions:\n",
       "\tdipole between spins 0,1 with arguments:\n",
       "\t\t(delta=46656.38)\n",
       "\tCSA on spin 1 with arguments: (delta=100.00,eta=1.00)\n",
       "\tCS on spin 0 with arguments: (ppm=10.00)\n",
       "\n",
       "<SLEEPY.ExpSys.ExpSys object at 0x7fdc909e0ba8>"
      ]
     },
     "execution_count": 6,
     "metadata": {},
     "output_type": "execute_result"
    }
   ],
   "source": [
    "ex"
   ]
  },
  {
   "cell_type": "code",
   "execution_count": 7,
   "id": "2e9cb00e",
   "metadata": {},
   "outputs": [],
   "source": [
    "ex.pwdavg.set_powder_type('rep256')"
   ]
  },
  {
   "cell_type": "code",
   "execution_count": 8,
   "id": "f3d8be00",
   "metadata": {},
   "outputs": [
    {
     "data": {
      "text/plain": [
       "Powder Average\n",
       "Type:\trep256 with 25600 angles\n",
       "\n",
       "<SLEEPY.PowderAvg.PowderAvg object at 0x7fdc910df3c8>"
      ]
     },
     "execution_count": 8,
     "metadata": {},
     "output_type": "execute_result"
    }
   ],
   "source": [
    "ex.pwdavg"
   ]
  },
  {
   "cell_type": "code",
   "execution_count": 9,
   "id": "d9f8f9e1",
   "metadata": {},
   "outputs": [
    {
     "data": {
      "text/plain": [
       "<Axes3DSubplot:xlabel='x', ylabel='y'>"
      ]
     },
     "execution_count": 9,
     "metadata": {},
     "output_type": "execute_result"
    },
    {
     "data": {
      "image/png": "[encoded data removed]",
      "text/plain": [
       "<Figure size 432x288 with 1 Axes>"
      ]
     },
     "metadata": {
      "needs_background": "light"
     },
     "output_type": "display_data"
    }
   ],
   "source": [
    "ex.pwdavg.plot()"
   ]
  },
  {
   "cell_type": "code",
   "execution_count": 10,
   "id": "d1607173",
   "metadata": {},
   "outputs": [
    {
     "data": {
      "text/plain": [
       "array([[0. +0.j, 0. +0.j, 0.5+0.j, 0. +0.j],\n",
       "       [0. +0.j, 0. +0.j, 0. +0.j, 0.5+0.j],\n",
       "       [0.5+0.j, 0. +0.j, 0. +0.j, 0. +0.j],\n",
       "       [0. +0.j, 0.5+0.j, 0. +0.j, 0. +0.j]])"
      ]
     },
     "execution_count": 10,
     "metadata": {},
     "output_type": "execute_result"
    }
   ],
   "source": [
    "ex.Op[0].x  #Example: x operator for the 0th spin"
   ]
  },
  {
   "cell_type": "code",
   "execution_count": 11,
   "id": "450c79e7",
   "metadata": {},
   "outputs": [
    {
     "data": {
      "text/plain": [
       "array([[-0.        +0.j, -0.        +0.j, -0.70710678+0.j,\n",
       "        -0.        +0.j],\n",
       "       [-0.        +0.j, -0.        +0.j, -0.        +0.j,\n",
       "        -0.70710678+0.j],\n",
       "       [-0.        +0.j, -0.        +0.j, -0.        +0.j,\n",
       "        -0.        +0.j],\n",
       "       [-0.        +0.j, -0.        +0.j, -0.        +0.j,\n",
       "        -0.        +0.j]])"
      ]
     },
     "execution_count": 11,
     "metadata": {},
     "output_type": "execute_result"
    }
   ],
   "source": [
    "ex.Op[0].T[1][0] #eg m=-1 component of the rank-1 tensor for spin 0"
   ]
  },
  {
   "cell_type": "code",
   "execution_count": 12,
   "id": "56f96090",
   "metadata": {},
   "outputs": [
    {
     "data": {
      "text/plain": [
       "[array([[0., 0., 0., 0.],\n",
       "        [0., 0., 0., 0.],\n",
       "        [0., 0., 0., 0.],\n",
       "        [0., 0., 0., 0.]]), array([[0. +0.j, 0. +0.j, 0. +0.j, 0. +0.j],\n",
       "        [0. +0.j, 0. +0.j, 0. +0.j, 0. +0.j],\n",
       "        [0.5+0.j, 0. +0.j, 0. +0.j, 0. +0.j],\n",
       "        [0. +0.j, 0.5+0.j, 0. +0.j, 0. +0.j]]), array([[ 0.40824829+0.j,  0.        +0.j,  0.        +0.j,\n",
       "          0.        +0.j],\n",
       "        [ 0.        +0.j,  0.40824829+0.j,  0.        +0.j,\n",
       "          0.        +0.j],\n",
       "        [ 0.        +0.j,  0.        +0.j, -0.40824829+0.j,\n",
       "         -0.        +0.j],\n",
       "        [ 0.        +0.j,  0.        +0.j, -0.        +0.j,\n",
       "         -0.40824829+0.j]]), array([[-0. +0.j, -0. +0.j, -0.5+0.j, -0. +0.j],\n",
       "        [-0. +0.j, -0. +0.j, -0. +0.j, -0.5+0.j],\n",
       "        [-0. +0.j, -0. +0.j, -0. +0.j, -0. +0.j],\n",
       "        [-0. +0.j, -0. +0.j, -0. +0.j, -0. +0.j]]), array([[0., 0., 0., 0.],\n",
       "        [0., 0., 0., 0.],\n",
       "        [0., 0., 0., 0.],\n",
       "        [0., 0., 0., 0.]])]"
      ]
     },
     "execution_count": 12,
     "metadata": {},
     "output_type": "execute_result"
    }
   ],
   "source": [
    "ex.Op[0].T.set_mode('B0_LF')\n",
    "ex.Op[0].T[2]"
   ]
  },
  {
   "cell_type": "code",
   "execution_count": 13,
   "id": "00f55232",
   "metadata": {},
   "outputs": [
    {
     "data": {
      "text/plain": [
       "[array([[0., 0., 0., 0.],\n",
       "        [0., 0., 0., 0.],\n",
       "        [0., 0., 0., 0.],\n",
       "        [0., 0., 0., 0.]]),\n",
       " array([[-0.  +0.j, -0.  +0.j, -0.25+0.j, -0.  +0.j],\n",
       "        [-0.  +0.j, -0.  +0.j, -0.  +0.j,  0.25-0.j],\n",
       "        [-0.  +0.j, -0.  +0.j, -0.  +0.j, -0.  +0.j],\n",
       "        [-0.  +0.j, -0.  +0.j, -0.  +0.j, -0.  +0.j]]),\n",
       " array([[ 0.20412415+0.j,  0.        +0.j,  0.        +0.j,\n",
       "          0.        +0.j],\n",
       "        [ 0.        +0.j, -0.20412415+0.j,  0.        +0.j,\n",
       "          0.        +0.j],\n",
       "        [ 0.        +0.j,  0.        +0.j, -0.20412415+0.j,\n",
       "          0.        +0.j],\n",
       "        [ 0.        +0.j,  0.        +0.j,  0.        +0.j,\n",
       "          0.20412415+0.j]]),\n",
       " array([[ 0.  +0.j,  0.  +0.j,  0.  +0.j,  0.  +0.j],\n",
       "        [ 0.  +0.j,  0.  +0.j,  0.  +0.j,  0.  +0.j],\n",
       "        [ 0.25+0.j,  0.  +0.j,  0.  +0.j,  0.  +0.j],\n",
       "        [ 0.  +0.j, -0.25+0.j,  0.  +0.j,  0.  +0.j]]),\n",
       " array([[0., 0., 0., 0.],\n",
       "        [0., 0., 0., 0.],\n",
       "        [0., 0., 0., 0.],\n",
       "        [0., 0., 0., 0.]])]"
      ]
     },
     "execution_count": 13,
     "metadata": {},
     "output_type": "execute_result"
    }
   ],
   "source": [
    "T2spin=ex.Op[0].T*ex.Op[1].T\n",
    "T2spin.set_mode('LF_RF')\n",
    "T2spin[2]"
   ]
  },
  {
   "cell_type": "code",
   "execution_count": 14,
   "id": "88a2e1b9",
   "metadata": {},
   "outputs": [
    {
     "data": {
      "text/plain": [
       "[array([[0., 0., 0., 0.],\n",
       "        [0., 0., 0., 0.],\n",
       "        [0., 0., 0., 0.],\n",
       "        [0., 0., 0., 0.]]), array([[0., 0., 0., 0.],\n",
       "        [0., 0., 0., 0.],\n",
       "        [0., 0., 0., 0.],\n",
       "        [0., 0., 0., 0.]]), array([[ 0.20412415+0.j,  0.        +0.j,  0.        +0.j,\n",
       "          0.        +0.j],\n",
       "        [ 0.        +0.j, -0.20412415+0.j, -0.20412415+0.j,\n",
       "          0.        +0.j],\n",
       "        [ 0.        +0.j, -0.20412415+0.j, -0.20412415+0.j,\n",
       "          0.        +0.j],\n",
       "        [ 0.        +0.j,  0.        +0.j,  0.        +0.j,\n",
       "          0.20412415+0.j]]), array([[0., 0., 0., 0.],\n",
       "        [0., 0., 0., 0.],\n",
       "        [0., 0., 0., 0.],\n",
       "        [0., 0., 0., 0.]]), array([[0., 0., 0., 0.],\n",
       "        [0., 0., 0., 0.],\n",
       "        [0., 0., 0., 0.],\n",
       "        [0., 0., 0., 0.]])]"
      ]
     },
     "execution_count": 14,
     "metadata": {},
     "output_type": "execute_result"
    }
   ],
   "source": [
    "T2spin.set_mode('homo')\n",
    "T2spin[2]"
   ]
  },
  {
   "cell_type": "code",
   "execution_count": 15,
   "id": "a950f28c",
   "metadata": {},
   "outputs": [
    {
     "data": {
      "text/plain": [
       "[array([[0., 0., 0., 0.],\n",
       "        [0., 0., 0., 0.],\n",
       "        [0., 0., 0., 0.],\n",
       "        [0., 0., 0., 0.]]), array([[0., 0., 0., 0.],\n",
       "        [0., 0., 0., 0.],\n",
       "        [0., 0., 0., 0.],\n",
       "        [0., 0., 0., 0.]]), array([[ 0.20412415+0.j,  0.        +0.j,  0.        +0.j,\n",
       "          0.        +0.j],\n",
       "        [ 0.        +0.j, -0.20412415+0.j,  0.        +0.j,\n",
       "          0.        +0.j],\n",
       "        [ 0.        +0.j,  0.        +0.j, -0.20412415+0.j,\n",
       "          0.        +0.j],\n",
       "        [ 0.        +0.j,  0.        +0.j,  0.        +0.j,\n",
       "          0.20412415+0.j]]), array([[0., 0., 0., 0.],\n",
       "        [0., 0., 0., 0.],\n",
       "        [0., 0., 0., 0.],\n",
       "        [0., 0., 0., 0.]]), array([[0., 0., 0., 0.],\n",
       "        [0., 0., 0., 0.],\n",
       "        [0., 0., 0., 0.],\n",
       "        [0., 0., 0., 0.]])]"
      ]
     },
     "execution_count": 15,
     "metadata": {},
     "output_type": "execute_result"
    }
   ],
   "source": [
    "T2spin.set_mode('het')\n",
    "T2spin[2]"
   ]
  }
 ],
 "metadata": {
  "kernelspec": {
   "display_name": "Python 3",
   "language": "python",
   "name": "python3"
  },
  "language_info": {
   "codemirror_mode": {
    "name": "ipython",
    "version": 3
   },
   "file_extension": ".py",
   "mimetype": "text/x-python",
   "name": "python",
   "nbconvert_exporter": "python",
   "pygments_lexer": "ipython3",
   "version": "3.7.3"
  }
 },
 "nbformat": 4,
 "nbformat_minor": 5
}