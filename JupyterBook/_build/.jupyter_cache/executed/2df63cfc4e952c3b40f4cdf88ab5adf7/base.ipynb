{
 "cells": [
  {
   "cell_type": "code",
   "execution_count": 1,
   "id": "0d830fa5",
   "metadata": {},
   "outputs": [],
   "source": [
    "import os\n",
    "os.chdir('../../../')\n",
    "import SLEEPY as sl\n",
    "import numpy as np"
   ]
  },
  {
   "cell_type": "code",
   "execution_count": 2,
   "id": "daccb4bf",
   "metadata": {},
   "outputs": [],
   "source": [
    "ex=sl.ExpSys(v0H=600,Nucs=['1H','13C'],vr=10000,T_K=298,\n",
    "             rotor_angle=np.arccos(np.sqrt(1/3)),n_gamma=100,\n",
    "             pwdavg=3,LF=[False,False])"
   ]
  },
  {
   "cell_type": "code",
   "execution_count": 3,
   "id": "b0c5089e",
   "metadata": {},
   "outputs": [],
   "source": [
    "ex=sl.ExpSys(v0H=600,Nucs=['1H','13C'])"
   ]
  },
  {
   "cell_type": "code",
   "execution_count": 4,
   "id": "37a3f08b",
   "metadata": {},
   "outputs": [],
   "source": [
    "delta=sl.Tools.dipole_coupling(.105,'1H','13C')  #Calculate H-C dipole for 1.05 Angstrom distance\n",
    "ex.set_inter('dipole',i0=0,i1=1,delta=delta) #H-C dipole coupling\n",
    "ex.set_inter('CSA',i=1,delta=100,eta=1) #13C CSA\n",
    "_=ex.set_inter('CS',i=0,ppm=10) #1H isotropic chemical shift"
   ]
  },
  {
   "cell_type": "code",
   "execution_count": 5,
   "id": "b87474a6",
   "metadata": {},
   "outputs": [],
   "source": [
    "_=ex.set_inter('dipole',i0=0,i1=1,delta=delta).set_inter('CSA',i=1,delta=100,eta=1).\\\n",
    "    set_inter('CS',i=0,ppm=10)"
   ]
  },
  {
   "cell_type": "code",
   "execution_count": 6,
   "id": "7a09f56f",
   "metadata": {},
   "outputs": [
    {
     "data": {
      "text/plain": [
       "2-spin system (1H,13C)\n",
       "B0 = 14.092 T (600.000 MHz 1H frequency)\n",
       "rotor angle = 54.736 degrees\n",
       "rotor frequency = 10.0 kHz\n",
       "Temperature = 298 K\n",
       "Powder Average: JCP59 with 99 angles\n",
       "Interactions:\n",
       "\tdipole between spins 0,1 with arguments:\n",
       "\t\t(delta=52194.25)\n",
       "\tCSA on spin 1 with arguments: (delta=100.00,eta=1.00)\n",
       "\tCS on spin 0 with arguments: (ppm=10.00)\n",
       "\n",
       "<SLEEPY.ExpSys.ExpSys object at 0x7f7df05d7a20>"
      ]
     },
     "execution_count": 6,
     "metadata": {},
     "output_type": "execute_result"
    }
   ],
   "source": [
    "ex"
   ]
  },
  {
   "cell_type": "code",
   "execution_count": null,
   "id": "0779ab93",
   "metadata": {},
   "outputs": [],
   "source": []
  }
 ],
 "metadata": {
  "kernelspec": {
   "display_name": "Python 3",
   "language": "python",
   "name": "python3"
  },
  "language_info": {
   "codemirror_mode": {
    "name": "ipython",
    "version": 3
   },
   "file_extension": ".py",
   "mimetype": "text/x-python",
   "name": "python",
   "nbconvert_exporter": "python",
   "pygments_lexer": "ipython3",
   "version": "3.7.3"
  }
 },
 "nbformat": 4,
 "nbformat_minor": 5
}