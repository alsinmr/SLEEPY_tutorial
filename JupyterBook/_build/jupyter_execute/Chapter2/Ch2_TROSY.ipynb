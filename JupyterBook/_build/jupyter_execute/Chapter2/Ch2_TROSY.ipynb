{
 "cells": [
  {
   "cell_type": "markdown",
   "id": "41884ede",
   "metadata": {},
   "source": [
    "# <font  color = \"#0093AF\">TROSY effects</font>"
   ]
  },
  {
   "cell_type": "markdown",
   "id": "68b9faff",
   "metadata": {},
   "source": [
    "<a href=\"https://githubtocolab.com/alsinmr/SLEEPY_tutorial/blob/main/ColabNotebooks/Chapter2/Ch2_TROSY.ipynb\" target=\"_blank\"><img src=\"https://colab.research.google.com/assets/colab-badge.svg\"></a>"
   ]
  },
  {
   "cell_type": "markdown",
   "id": "a2419951",
   "metadata": {},
   "source": [
    "TROSY (Transverse Relaxation Optimized SpectroscopY)$^1$ is an important experiment in solution-NMR, which takes advantage of different relaxation rates of doublets coming from the H–N J-coupling in the $^1$H or $^{15}$N dimensions. \n",
    "\n",
    "The effect arises from the constructive or deconstructive effects of motion on relaxation due to the $^{15}$N chemical shift anisotropy (or $^1$H CSA) and the H–N dipole coupling. For one peak of the doublet, relaxation from the CSA and dipole anisotropies is constructive, but on the other peak it is destructive, resulting in one fast-relaxing peak and one slow-relaxing peak.\n",
    "\n",
    "Here, we will assume the tensors for these two interactions are parallel. This is not entirely accurate (being tilted from each other by about 23$^\\circ$), but it allows us to average the couplings to zero, mimicking tumbling in solution, with a simple, tetrahedral hopping motion.\n",
    "\n",
    "[1] K. Pervushin, R. Riek, G. Wider, K. Wüthrich. [*Proc. Natl. Acad. Sci. USA.*](https://doi.org/10.1073/pnas.94.23.12366) **1997**, 94, 12366 "
   ]
  },
  {
   "cell_type": "markdown",
   "id": "67e5f644",
   "metadata": {},
   "source": [
    "## Setup"
   ]
  },
  {
   "cell_type": "code",
   "execution_count": 0,
   "id": "9f59993c",
   "metadata": {
    "tags": [
     "remove-cell"
    ]
   },
   "outputs": [],
   "source": [
    "# SETUP SLEEPY\n",
    "import sys\n",
    "if 'google.colab' in sys.modules:\n",
    "  !pip install sleepy-nmr"
   ]
  },
  {
   "cell_type": "code",
   "execution_count": 3,
   "id": "188d8bcf",
   "metadata": {},
   "outputs": [],
   "source": [
    "import SLEEPY as sl\n",
    "import numpy as np\n",
    "import matplotlib.pyplot as plt"
   ]
  },
  {
   "cell_type": "markdown",
   "id": "261acac3",
   "metadata": {},
   "source": [
    "## Build the system"
   ]
  },
  {
   "cell_type": "markdown",
   "id": "a2ad63d3",
   "metadata": {},
   "source": [
    "We need a 2-spin $^1$H–$^{15}$N system with dipole and CSA terms to yield relaxation, plus a $J$-coupling to separate the $^{15}$N resonance into peaks corresponding to the $^1$H$^\\alpha$ and $^1$H$^\\beta$ states. Since we start just observing transverse relaxation, we do not require a lab-frame calculation."
   ]
  },
  {
   "cell_type": "code",
   "execution_count": 4,
   "id": "7769401a",
   "metadata": {},
   "outputs": [],
   "source": [
    "# By default, SLEEPY gives us powder average when including anisotropic terms.\n",
    "# However, we don't need it for mimicking tumbling, \n",
    "# so we set it explicitly to a 1-element powder average\n",
    "ex=sl.ExpSys(v0H=400,Nucs=['15N','1H'],vr=0,pwdavg='alpha0beta0')\n",
    "delta=sl.Tools.dipole_coupling(.102,'1H','15N')\n",
    "ex.set_inter('dipole',i0=0,i1=1,delta=delta)\n",
    "ex.set_inter('CSA',i=0,delta=113)\n",
    "ex.set_inter('J',i0=0,i1=1,J=92)\n",
    "\n",
    "# Set up 4-site motion\n",
    "ex,kex=sl.Tools.SetupTumbling(ex,tc=1e-9,q=1) #Defaults to the magic angle, which will average the couplings\n",
    "\n",
    "L=sl.Liouvillian(*ex,kex=kex)"
   ]
  },
  {
   "cell_type": "markdown",
   "id": "0c4ee44f",
   "metadata": {},
   "source": [
    "## 1D spectrum"
   ]
  },
  {
   "cell_type": "code",
   "execution_count": 5,
   "id": "75736dd4",
   "metadata": {},
   "outputs": [
    {
     "name": "stdout",
     "output_type": "stream",
     "text": [
      "State-space reduction: 64->8\n"
     ]
    },
    {
     "data": {
      "image/png": "[encoded data removed]",
      "text/plain": [
       "<Figure size 432x288 with 1 Axes>"
      ]
     },
     "metadata": {
      "needs_background": "light"
     },
     "output_type": "display_data"
    }
   ],
   "source": [
    "rho=sl.Rho('15Nx','15Np')\n",
    "seq=L.Sequence(Dt=5e-3)\n",
    "\n",
    "rho.DetProp(seq,n=10000)\n",
    "_=rho.plot(FT=True)"
   ]
  },
  {
   "cell_type": "markdown",
   "id": "22aaf4b9",
   "metadata": {},
   "source": [
    "We obtain two peaks, separated by the J-coupling, one being notably more intense and narrower than the other, where relaxation effects from the $^{15}$N CSA and H–N dipole coupling cancel. Note that since the CSA scales with field, the cancelation effect is also field dependent. We calculate the spectrum maximum as a function of field, and record the spectrum maximum to demonstrate."
   ]
  },
  {
   "cell_type": "code",
   "execution_count": 10,
   "id": "3c390cc4",
   "metadata": {},
   "outputs": [
    {
     "data": {
      "image/png": "[encoded data removed]",
      "text/plain": [
       "<Figure size 432x288 with 1 Axes>"
      ]
     },
     "metadata": {
      "needs_background": "light"
     },
     "output_type": "display_data"
    }
   ],
   "source": [
    "sl.Defaults['verbose']=False #Suppress output for loop\n",
    "B0_0=np.linspace(1,40,40)\n",
    "I=[]\n",
    "for B0 in B0_0:\n",
    "    ex=sl.ExpSys(B0=B0,Nucs=['15N','1H'],vr=0)\n",
    "    ex.set_inter('dipole',i0=0,i1=1,delta=delta)\n",
    "    ex.set_inter('CSA',i=0,delta=113)\n",
    "    ex.set_inter('J',i0=0,i1=1,J=92)\n",
    "    \n",
    "    ex,kex=sl.Tools.SetupTumbling(ex,tc=1e-9,q=1) #Defaults to the magic angle, which will average the couplings\n",
    "\n",
    "    L=sl.Liouvillian(*ex,kex=kex)\n",
    "    rho=sl.Rho('15Nx','15Np')\n",
    "    seq=L.Sequence(Dt=5e-3)\n",
    "\n",
    "    rho.DetProp(seq,n=10000)\n",
    "    I.append(rho.FT[0].real.max())\n",
    "ax=plt.subplots()[1]\n",
    "ax.plot(B0_0,I)\n",
    "ax.set_xlabel(r'B$_0$ / T')\n",
    "_=ax.set_ylabel('Spectrum Max [a.u.]')"
   ]
  },
  {
   "cell_type": "markdown",
   "id": "7092450b",
   "metadata": {},
   "source": [
    "We see the max occuring at ~24 T, as predicted by Fernández and Wider (23.5 T).$^2$\n",
    "\n",
    "[2] C. Fernández, G. Wider. [*Curr. Opin. Struct. Biol.*](https://doi.org/10.1016/j.sbi.2003.09.009). **2003**, 13, 570-580."
   ]
  },
  {
   "cell_type": "markdown",
   "id": "3db621ad",
   "metadata": {},
   "source": [
    "## With and without decoupling\n",
    "We can also compare what happens to the spectrum without and with decoupling. We go a little ways away from the optimal field so that the smaller peak still has a reasonable intensity."
   ]
  },
  {
   "cell_type": "code",
   "execution_count": 6,
   "id": "8960d065",
   "metadata": {},
   "outputs": [
    {
     "data": {
      "image/png": "[encoded data removed]",
      "text/plain": [
       "<Figure size 432x288 with 1 Axes>"
      ]
     },
     "metadata": {
      "needs_background": "light"
     },
     "output_type": "display_data"
    }
   ],
   "source": [
    "ex=sl.ExpSys(B0=15,Nucs=['15N','1H'],vr=0,pwdavg='alpha0beta0')\n",
    "delta=sl.Tools.dipole_coupling(.102,'1H','15N')\n",
    "ex.set_inter('dipole',i0=0,i1=1,delta=delta)\n",
    "ex.set_inter('CSA',i=0,delta=113)\n",
    "ex.set_inter('J',i0=0,i1=1,J=92)\n",
    "\n",
    "# Set up 4-site motion\n",
    "ex,kex=sl.Tools.SetupTumbling(ex,tc=1e-9,q=1) #Defaults to the magic angle, which will average the couplings\n",
    "\n",
    "L=sl.Liouvillian(*ex,kex=kex)\n",
    "\n",
    "rho=sl.Rho('15Nx','15Np')\n",
    "seq=L.Sequence(Dt=5e-3)\n",
    "\n",
    "rho.DetProp(seq,n=10000)\n",
    "ax=rho.plot(FT=True)\n",
    "\n",
    "seq.add_channel('1H',v1=500)\n",
    "\n",
    "rho.clear()\n",
    "rho.DetProp(seq,n=10000)\n",
    "rho.plot(FT=True,ax=ax)\n",
    "_=ax.legend(('w/o decoupling','w/ decoupling'))"
   ]
  },
  {
   "cell_type": "markdown",
   "id": "4a4d9d6e",
   "metadata": {},
   "source": [
    "The decoupled spectrum has significantly less intensity than the larger peak of the undecoupled spectrum, motivating the application of TROSY."
   ]
  },
  {
   "cell_type": "markdown",
   "id": "623eafc9",
   "metadata": {},
   "source": [
    "## Longitudinal effects from asymmetric relaxation"
   ]
  },
  {
   "cell_type": "markdown",
   "id": "fc7e1bc5",
   "metadata": {},
   "source": [
    "When measuring $T_1$ in solution NMR, one must take care to account for multiexponential $T_1$ relaxation. To obtain $T_1$ relaxation from exchange, we need to perform our calculations in the lab frame, so we set up a new `ExpSys` object (`ex` is constructed from `ex0` using the `SetupTumbling` function)."
   ]
  },
  {
   "cell_type": "code",
   "execution_count": 4,
   "id": "fa3aee54",
   "metadata": {},
   "outputs": [
    {
     "data": {
      "image/png": "[encoded data removed]",
      "text/plain": [
       "<Figure size 432x288 with 1 Axes>"
      ]
     },
     "metadata": {
      "needs_background": "light"
     },
     "output_type": "display_data"
    }
   ],
   "source": [
    "ex0=sl.ExpSys(v0H=1200,Nucs=['15N','1H'],vr=0,LF=True,pwdavg='alpha0beta90')\n",
    "delta=sl.Tools.dipole_coupling(.102,'1H','15N')\n",
    "ex0.set_inter('dipole',i0=0,i1=1,delta=delta)\n",
    "ex0.set_inter('CSA',i=0,delta=113)\n",
    "ex0.set_inter('J',i0=0,i1=1,J=92)\n",
    "\n",
    "# Set up 4-site motion\n",
    "L=sl.Tools.SetupTumbling(ex0,tc=1e-9,q=1) #Defaults to the magic angle, which will average the couplings\n",
    "L.add_relax('DynamicThermal')\n",
    "\n",
    "rho=sl.Rho('zero','15Nz')\n",
    "seq=L.Sequence(Dt=.5)\n",
    "\n",
    "rho.DetProp(seq,n=100)\n",
    "_=rho.plot(axis='s')"
   ]
  },
  {
   "cell_type": "markdown",
   "id": "f5258990",
   "metadata": {},
   "source": [
    "We observe a strongly bi-exponential behavior, corresponding to relaxation of the $\\hat{S}_z\\hat{I}_\\alpha$ and $\\hat{S}_z\\hat{I}_\\beta$ states. We can saturate the $^1$H to recover monoexponential behavior. However, because this calculation is in the lab frame, we cannot apply RF-fields as easily. This is because the applied RF is not static in the lab frame, but rather oscillates as in the real experiment, complicating its application in simulation. SLEEPY has a special tool, `sl.LFrf`,  for adding cw-irradation in the lab frame. This class takes a sequence as argument for initialization (which is used to specify the field strength and nucleus), and returns a propagator, `U`, with the corresponding applied field. We do not currently support time-dependent sequences for lab-frame irradiation."
   ]
  },
  {
   "cell_type": "code",
   "execution_count": 5,
   "id": "92fd0301",
   "metadata": {},
   "outputs": [
    {
     "name": "stdout",
     "output_type": "stream",
     "text": [
      "\r",
      "LF calculation: |------------------------------| 0% complete\r",
      "\r",
      "LF calculation: |██████████████████████████████| 100% complete\r",
      "\r",
      "LF calculation: |██████████████████████████████| 100% complete\r\n",
      "Completed\n"
     ]
    },
    {
     "data": {
      "image/png": "[encoded data removed]",
      "text/plain": [
       "<Figure size 432x288 with 1 Axes>"
      ]
     },
     "metadata": {
      "needs_background": "light"
     },
     "output_type": "display_data"
    }
   ],
   "source": [
    "rho.clear()\n",
    "seq=L.Sequence(Dt=.1).add_channel('1H',v1=500)\n",
    "U=sl.LFrf(seq).U()\n",
    "rho.DetProp(U,n=100)\n",
    "_=rho.plot(axis='s')"
   ]
  },
  {
   "cell_type": "markdown",
   "id": "2438e363",
   "metadata": {},
   "source": [
    "The decay curve becomes monoexponential. Note the equilibrium's  absolute value is also slightly decreased, due to an unfavorable NOE condition at 1 ns for H–N NOE."
   ]
  },
  {
   "cell_type": "code",
   "execution_count": null,
   "id": "3931a575",
   "metadata": {},
   "outputs": [],
   "source": []
  }
 ],
 "metadata": {
  "kernelspec": {
   "display_name": "Python 3",
   "language": "python",
   "name": "python3"
  },
  "language_info": {
   "codemirror_mode": {
    "name": "ipython",
    "version": 3
   },
   "file_extension": ".py",
   "mimetype": "text/x-python",
   "name": "python",
   "nbconvert_exporter": "python",
   "pygments_lexer": "ipython3",
   "version": "3.8.8"
  }
 },
 "nbformat": 4,
 "nbformat_minor": 5
}