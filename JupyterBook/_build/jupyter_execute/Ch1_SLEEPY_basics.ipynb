{
 "cells": [
  {
   "cell_type": "markdown",
   "id": "7299852d",
   "metadata": {},
   "source": [
    "# <font color=\"#B00000\">SLEEPY basics</font>\n",
    "\n",
    "The first chapter of SLEEPY begins with a simple example of a SLEEPY simulation under dynamic conditions, in order to introduce the various components of a SLEEPY simulation. We then go through an explanation of object-oriented programming, on which SLEEPY is based, and explain the functions and variables contained in the key objects in SLEEPY.\n",
    "\n",
    "- [A Quick Start](Chapter1/Ch1_basics.ipynb)\n",
    "- [Short Examples](Chapter1/Ch1_ShortExamples.ipynb)\n",
    "- [Objects](Chapter1/Ch1_Objects.md)\n",
    "- [Experimental Settings and Spin-System Definition](Chapter1/Ch1_expsys.ipynb)\n",
    "- [Hamiltonians and Liouvillians](Chapter1/Ch1_Liouvillian.ipynb)\n",
    "- [Propagtors and Sequences](Chapter1/Ch1_Propagation.ipynb)\n",
    "- [The Density Matrix](Chapter1/Ch1_rho.ipynb)\n",
    "- [Defaults, Constants, and Tools](Chapter1/Ch1_Tools.ipynb)"
   ]
  }
 ],
 "metadata": {
  "kernelspec": {
   "display_name": "Python 3",
   "language": "python",
   "name": "python3"
  },
  "language_info": {
   "codemirror_mode": {
    "name": "ipython",
    "version": 3
   },
   "file_extension": ".py",
   "mimetype": "text/x-python",
   "name": "python",
   "nbconvert_exporter": "python",
   "pygments_lexer": "ipython3",
   "version": "3.8.8"
  }
 },
 "nbformat": 4,
 "nbformat_minor": 5
}