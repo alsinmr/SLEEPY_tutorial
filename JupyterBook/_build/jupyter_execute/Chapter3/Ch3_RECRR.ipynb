{
 "cells": [
  {
   "cell_type": "markdown",
   "id": "5ad7b5a0",
   "metadata": {},
   "source": [
    "# <font  color = \"#0093AF\"> Correlation-time dependence of a pulse-sequence: RECRR"
   ]
  },
  {
   "cell_type": "code",
   "execution_count": 1,
   "id": "df921dbb",
   "metadata": {},
   "outputs": [],
   "source": [
    "import os\n",
    "os.chdir('../../../')\n",
    "import SLEEPY as sl\n",
    "import numpy as np\n",
    "import matplotlib.pyplot as plt"
   ]
  },
  {
   "cell_type": "code",
   "execution_count": 2,
   "id": "c94277dd",
   "metadata": {},
   "outputs": [],
   "source": [
    "ex0=sl.ExpSys(v0H=600,Nucs=['15N','1H'],vr=16000,pwdavg=sl.PowderAvg()[5],n_gamma=50)\n",
    "ex0.set_inter('dipole',i0=0,i1=1,delta=44000)\n",
    "ex1=ex0.copy()\n",
    "ex1.set_inter('dipole',i0=0,i1=1,delta=44000,euler=[0,15*np.pi/180,0])\n",
    "\n",
    "L=sl.Liouvillian(ex0,ex1)\n",
    "L.kex=sl.Tools.twoSite_kex(tc=200e-6)"
   ]
  },
  {
   "cell_type": "code",
   "execution_count": 3,
   "id": "54f28c04",
   "metadata": {},
   "outputs": [
    {
     "name": "stdout",
     "output_type": "stream",
     "text": [
      "State-space reduction: 32->16\n"
     ]
    }
   ],
   "source": [
    "Ux=L.Sequence().add_channel('15N',v1=25000).U()\n",
    "Umx=L.Sequence().add_channel('15N',v1=25000,phase=np.pi).U()\n",
    "Upiy=L.Udelta('15N',phase=np.pi/2)\n",
    "Upimy=L.Udelta('15N',phase=3*np.pi/2)\n",
    "\n",
    "rho=sl.Rho('15Nx','15Nx')\n",
    "\n",
    "rho,Ux,Umx,Upiy,Upimy=rho.ReducedSetup(Ux,Umx,Upiy,Upimy)"
   ]
  },
  {
   "cell_type": "code",
   "execution_count": 4,
   "id": "362755f4",
   "metadata": {},
   "outputs": [
    {
     "name": "stderr",
     "output_type": "stream",
     "text": [
      "/Users/albertsmith/Documents/GitHub/SLEEPY/Rho.py:648: UserWarning: Reduced Liouvillian applied to uninitialized propagator. Make sure reduction was perfomed with same Rho\n",
      "  warnings.warn('Reduced Liouvillian applied to uninitialized propagator. Make sure reduction was perfomed with same Rho')\n"
     ]
    },
    {
     "data": {
      "text/plain": [
       "<AxesSubplot:xlabel='t / ms', ylabel='<$^{15}N_x$>'>"
      ]
     },
     "execution_count": 4,
     "metadata": {},
     "output_type": "execute_result"
    },
    {
     "data": {
      "image/png": "[encoded data removed]",
      "text/plain": [
       "<Figure size 432x288 with 1 Axes>"
      ]
     },
     "metadata": {
      "filenames": {
       "image/png": "/Users/albertsmith/Documents/GitHub/SLEEPY_tutorial/JupyterBook/_build/jupyter_execute/Chapter3/Ch3_RECRR_4_2.png"
      },
      "needs_background": "light"
     },
     "output_type": "display_data"
    }
   ],
   "source": [
    "rho.clear()\n",
    "rho.DetProp(Ux,n=400)\n",
    "rho.plot()"
   ]
  },
  {
   "cell_type": "code",
   "execution_count": 5,
   "id": "da8bf382",
   "metadata": {},
   "outputs": [
    {
     "name": "stderr",
     "output_type": "stream",
     "text": [
      "/Users/albertsmith/Documents/GitHub/SLEEPY/Rho.py:648: UserWarning: Reduced Liouvillian applied to uninitialized propagator. Make sure reduction was perfomed with same Rho\n",
      "  warnings.warn('Reduced Liouvillian applied to uninitialized propagator. Make sure reduction was perfomed with same Rho')\n"
     ]
    },
    {
     "data": {
      "text/plain": [
       "<AxesSubplot:xlabel='t / ms', ylabel='<$^{15}N_x$>'>"
      ]
     },
     "execution_count": 5,
     "metadata": {},
     "output_type": "execute_result"
    },
    {
     "data": {
      "image/png": "[encoded data removed]",
      "text/plain": [
       "<Figure size 432x288 with 1 Axes>"
      ]
     },
     "metadata": {
      "filenames": {
       "image/png": "/Users/albertsmith/Documents/GitHub/SLEEPY_tutorial/JupyterBook/_build/jupyter_execute/Chapter3/Ch3_RECRR_5_2.png"
      },
      "needs_background": "light"
     },
     "output_type": "display_data"
    }
   ],
   "source": [
    "rho.clear()\n",
    "Umx0=Umx\n",
    "Ux0=Ux\n",
    "rho()\n",
    "for k in range(100):\n",
    "    rho.reset()\n",
    "    (Umx0*Upimy*Umx0*Ux0*Upiy*Ux0*rho)()\n",
    "    Umx0=Umx*Umx0\n",
    "    Ux0=Ux*Ux0\n",
    "rho.plot()"
   ]
  },
  {
   "cell_type": "code",
   "execution_count": 6,
   "id": "f4306337",
   "metadata": {},
   "outputs": [
    {
     "name": "stdout",
     "output_type": "stream",
     "text": [
      "State-space reduction: 32->16\n",
      "State-space reduction: 32->16\n",
      "State-space reduction: 32->16\n"
     ]
    },
    {
     "name": "stdout",
     "output_type": "stream",
     "text": [
      "State-space reduction: 32->16\n",
      "State-space reduction: 32->16\n",
      "State-space reduction: 32->16\n",
      "State-space reduction: 32->16\n"
     ]
    },
    {
     "name": "stdout",
     "output_type": "stream",
     "text": [
      "State-space reduction: 32->16\n",
      "State-space reduction: 32->16\n",
      "State-space reduction: 32->16\n",
      "State-space reduction: 32->16\n"
     ]
    },
    {
     "name": "stdout",
     "output_type": "stream",
     "text": [
      "State-space reduction: 32->16\n",
      "State-space reduction: 32->16\n",
      "State-space reduction: 32->16\n",
      "State-space reduction: 32->16\n"
     ]
    },
    {
     "name": "stdout",
     "output_type": "stream",
     "text": [
      "State-space reduction: 32->16\n",
      "State-space reduction: 32->16\n",
      "State-space reduction: 32->16\n",
      "State-space reduction: 32->16\n"
     ]
    },
    {
     "name": "stdout",
     "output_type": "stream",
     "text": [
      "State-space reduction: 32->16\n",
      "State-space reduction: 32->16\n",
      "State-space reduction: 32->16\n",
      "State-space reduction: 32->16\n"
     ]
    },
    {
     "name": "stdout",
     "output_type": "stream",
     "text": [
      "State-space reduction: 32->16\n",
      "State-space reduction: 32->16\n"
     ]
    }
   ],
   "source": [
    "tc0=np.logspace(-6,-3,25)\n",
    "R1p_cw=[]\n",
    "R1p_RECRR=[]\n",
    "for tc in tc0:\n",
    "    rho.reset()\n",
    "    L.kex=sl.Tools.twoSite_kex(tc=tc)\n",
    "    \n",
    "    Ux=L.Sequence().add_channel('15N',v1=25000).U()\n",
    "    Umx=L.Sequence().add_channel('15N',v1=25000,phase=np.pi).U()\n",
    "    Upiy=L.Udelta('15N',phase=np.pi/2)\n",
    "    Upimy=L.Udelta('15N',phase=3*np.pi/2)\n",
    "\n",
    "    rho=sl.Rho('15Nx','15Nx')\n",
    "\n",
    "    rho,Ux,Umx,Upiy,Upimy=rho.ReducedSetup(Ux,Umx,Upiy,Upimy)\n",
    "    \n",
    "    R1p_cw.append(rho.extract_decay_rates(Ux,pwdavg=True))\n",
    "    rho.reset()\n",
    "    (Umx*Upimy*Umx*Ux*Upiy*Ux*rho)()\n",
    "    R1p_RECRR.append((1-rho.I[0][-1])/rho.t)"
   ]
  },
  {
   "cell_type": "code",
   "execution_count": 7,
   "id": "2b27b4e1",
   "metadata": {},
   "outputs": [
    {
     "name": "stderr",
     "output_type": "stream",
     "text": [
      "/Users/albertsmith/anaconda3/lib/python3.7/site-packages/numpy/core/_asarray.py:83: ComplexWarning: Casting complex values to real discards the imaginary part\n",
      "  return array(a, dtype, copy=False, order=order)\n"
     ]
    },
    {
     "data": {
      "text/plain": [
       "[<matplotlib.lines.Line2D at 0x7fe9983e7160>]"
      ]
     },
     "execution_count": 7,
     "metadata": {},
     "output_type": "execute_result"
    },
    {
     "data": {
      "image/png": "[encoded data removed]",
      "text/plain": [
       "<Figure size 432x288 with 1 Axes>"
      ]
     },
     "metadata": {
      "filenames": {
       "image/png": "/Users/albertsmith/Documents/GitHub/SLEEPY_tutorial/JupyterBook/_build/jupyter_execute/Chapter3/Ch3_RECRR_7_2.png"
      },
      "needs_background": "light"
     },
     "output_type": "display_data"
    }
   ],
   "source": [
    "ax=plt.subplots()[1]\n",
    "ax.semilogx(tc0,R1p_cw)\n",
    "ax.semilogx(tc0,R1p_RECRR)"
   ]
  },
  {
   "cell_type": "code",
   "execution_count": 8,
   "id": "7ddf2648",
   "metadata": {},
   "outputs": [
    {
     "name": "stdout",
     "output_type": "stream",
     "text": [
      "State-space reduction: 32->16\n"
     ]
    },
    {
     "name": "stderr",
     "output_type": "stream",
     "text": [
      "/Users/albertsmith/Documents/GitHub/SLEEPY/Rho.py:648: UserWarning: Reduced Liouvillian applied to uninitialized propagator. Make sure reduction was perfomed with same Rho\n",
      "  warnings.warn('Reduced Liouvillian applied to uninitialized propagator. Make sure reduction was perfomed with same Rho')\n"
     ]
    },
    {
     "data": {
      "text/plain": [
       "<AxesSubplot:xlabel='t / ms', ylabel='<$^{15}N_x$>'>"
      ]
     },
     "execution_count": 8,
     "metadata": {},
     "output_type": "execute_result"
    },
    {
     "data": {
      "image/png": "[encoded data removed]",
      "text/plain": [
       "<Figure size 432x288 with 1 Axes>"
      ]
     },
     "metadata": {
      "filenames": {
       "image/png": "/Users/albertsmith/Documents/GitHub/SLEEPY_tutorial/JupyterBook/_build/jupyter_execute/Chapter3/Ch3_RECRR_8_3.png"
      },
      "needs_background": "light"
     },
     "output_type": "display_data"
    }
   ],
   "source": [
    "L.kex=sl.Tools.twoSite_kex(tc=10**-4)\n",
    "    \n",
    "Ux=L.Sequence().add_channel('15N',v1=25000).U()\n",
    "Umx=L.Sequence().add_channel('15N',v1=25000,phase=np.pi).U()\n",
    "Upiy=L.Udelta('15N',phase=np.pi/2)\n",
    "Upimy=L.Udelta('15N',phase=3*np.pi/2)\n",
    "\n",
    "rho=sl.Rho('15Nx','15Nx')\n",
    "\n",
    "rho,Ux,Umx,Upiy,Upimy=rho.ReducedSetup(Ux,Umx,Upiy,Upimy)\n",
    "\n",
    "ax=rho.DetProp(Ux,n=400).plot()\n",
    "\n",
    "rho.clear()\n",
    "Umx0=Umx\n",
    "Ux0=Ux\n",
    "rho()\n",
    "for k in range(100):\n",
    "    rho.reset()\n",
    "    (Umx0*Upimy*Umx0*Ux0*Upiy*Ux0*rho)()\n",
    "    Umx0=Umx*Umx0\n",
    "    Ux0=Ux*Ux0\n",
    "rho.plot(ax=ax)"
   ]
  },
  {
   "cell_type": "code",
   "execution_count": null,
   "id": "1614ec22",
   "metadata": {},
   "outputs": [],
   "source": []
  },
  {
   "cell_type": "code",
   "execution_count": null,
   "id": "559b8f5e",
   "metadata": {},
   "outputs": [],
   "source": []
  }
 ],
 "metadata": {
  "kernelspec": {
   "display_name": "Python 3",
   "language": "python",
   "name": "python3"
  },
  "language_info": {
   "codemirror_mode": {
    "name": "ipython",
    "version": 3
   },
   "file_extension": ".py",
   "mimetype": "text/x-python",
   "name": "python",
   "nbconvert_exporter": "python",
   "pygments_lexer": "ipython3",
   "version": "3.7.3"
  }
 },
 "nbformat": 4,
 "nbformat_minor": 5
}