{
 "cells": [
  {
   "cell_type": "markdown",
   "id": "f8aa4fa1",
   "metadata": {},
   "source": [
    "# <font  color = \"#0093AF\"> T$_1$ and NOE"
   ]
  },
  {
   "cell_type": "code",
   "execution_count": 1,
   "id": "11f82007",
   "metadata": {},
   "outputs": [],
   "source": [
    "import os\n",
    "os.chdir('../../../')\n",
    "import SLEEPY as sl\n",
    "import numpy as np\n",
    "import matplotlib.pyplot as plt\n",
    "from time import time"
   ]
  },
  {
   "cell_type": "code",
   "execution_count": 2,
   "id": "592a432f",
   "metadata": {},
   "outputs": [
    {
     "data": {
      "text/plain": [
       "Density Matrix/Detection Operator\n",
       "rho0: Thermal\n",
       "detect[0]: 13Cz\n",
       "Current time is 10000000.000 microseconds\n",
       "1000 time points have been recorded\n",
       "\n",
       "<SLEEPY.Rho.Rho object at 0x7fd6909fbf60>"
      ]
     },
     "execution_count": 2,
     "metadata": {},
     "output_type": "execute_result"
    }
   ],
   "source": [
    "ex0=sl.ExpSys(v0H=600,Nucs='13C',vr=0,LF=True,pwdavg=sl.PowderAvg())\n",
    "ex0.set_inter('CSA',i=0,delta=200)\n",
    "ex1=ex0.copy()\n",
    "ex1.set_inter('CSA',i=0,delta=200,euler=[0,45*np.pi/180,0])\n",
    "\n",
    "L=sl.Liouvillian(ex0,ex1)\n",
    "L.kex=sl.Tools.twoSite_kex(1e-10)\n",
    "\n",
    "seq=L.Sequence(Dt=1e-2)\n",
    "\n",
    "rho=sl.Rho('Thermal','13Cz')\n",
    "\n",
    "rho.DetProp(seq,n=1000)"
   ]
  },
  {
   "cell_type": "code",
   "execution_count": 3,
   "id": "f82d8069",
   "metadata": {},
   "outputs": [
    {
     "data": {
      "text/plain": [
       "<AxesSubplot:xlabel='t / ms', ylabel='<$^{13}C_z$>'>"
      ]
     },
     "execution_count": 3,
     "metadata": {},
     "output_type": "execute_result"
    },
    {
     "data": {
      "image/png": "[encoded data removed]",
      "text/plain": [
       "<Figure size 432x288 with 1 Axes>"
      ]
     },
     "metadata": {
      "filenames": {
       "image/png": "/Users/albertsmith/Documents/GitHub/SLEEPY_tutorial/JupyterBook/_build/jupyter_execute/Chapter3/Ch3_T1_NOE_3_1.png"
      },
      "needs_background": "light"
     },
     "output_type": "display_data"
    }
   ],
   "source": [
    "rho.plot()"
   ]
  },
  {
   "cell_type": "code",
   "execution_count": 4,
   "id": "5c30da78",
   "metadata": {},
   "outputs": [
    {
     "data": {
      "text/plain": [
       "Density Matrix/Detection Operator\n",
       "rho0: Thermal\n",
       "detect[0]: 1Hz\n",
       "detect[1]: 13Cz\n",
       "Current time is 500000000.000 microseconds\n",
       "50000 time points have been recorded\n",
       "\n",
       "<SLEEPY.Rho.Rho object at 0x7fd6b89fcac8>"
      ]
     },
     "execution_count": 4,
     "metadata": {},
     "output_type": "execute_result"
    }
   ],
   "source": [
    "ex0=sl.ExpSys(v0H=600,Nucs=['13C','1H'],vr=0,LF=True,pwdavg=sl.PowderAvg()[0])\n",
    "ex0.set_inter('dipole',i0=0,i1=1,delta=sl.Tools.dipole_coupling(.209,'1H','13C'))\n",
    "ex1=ex0.copy()\n",
    "ex1.set_inter('dipole',i0=0,i1=1,delta=sl.Tools.dipole_coupling(.209,'1H','13C'),euler=[0,45*np.pi/180,0])\n",
    "\n",
    "L=sl.Liouvillian(ex0,ex1)\n",
    "L.kex=sl.Tools.twoSite_kex(1e-10)\n",
    "\n",
    "L.add_relax('DynamicThermal')\n",
    "\n",
    "seq=L.Sequence(Dt=1e-2)\n",
    "\n",
    "rho=sl.Rho('Thermal',['1Hz','13Cz'])\n",
    "\n",
    "rho.DetProp(seq,n=50000)"
   ]
  },
  {
   "cell_type": "code",
   "execution_count": 5,
   "id": "44575773",
   "metadata": {},
   "outputs": [
    {
     "data": {
      "text/plain": [
       "<AxesSubplot:xlabel='t / s', ylabel='<Op>'>"
      ]
     },
     "execution_count": 5,
     "metadata": {},
     "output_type": "execute_result"
    },
    {
     "data": {
      "image/png": "[encoded data removed]",
      "text/plain": [
       "<Figure size 432x288 with 1 Axes>"
      ]
     },
     "metadata": {
      "filenames": {
       "image/png": "/Users/albertsmith/Documents/GitHub/SLEEPY_tutorial/JupyterBook/_build/jupyter_execute/Chapter3/Ch3_T1_NOE_5_1.png"
      },
      "needs_background": "light"
     },
     "output_type": "display_data"
    }
   ],
   "source": [
    "rho.plot(axis='s')"
   ]
  },
  {
   "cell_type": "code",
   "execution_count": 6,
   "id": "fba210d0",
   "metadata": {},
   "outputs": [
    {
     "data": {
      "text/plain": [
       "array([-5.52863579e-08-1.03397577e-25j,  1.73017156e-11+3.99182909e-11j,\n",
       "        1.73103754e-11+3.99084585e-11j, -2.52426968e-11-3.47590845e-11j,\n",
       "        1.73088210e-11-3.99182909e-11j,  4.30505240e-08+5.29395592e-23j,\n",
       "        4.27889807e-11+0.00000000e+00j, -1.73076345e-11-3.99209485e-11j,\n",
       "        1.73101047e-11-3.99077299e-11j,  4.27889876e-11-2.27373675e-13j,\n",
       "       -2.21453118e-07-1.05879118e-22j, -1.73159265e-11-3.99253963e-11j,\n",
       "       -2.52426968e-11+3.47593065e-11j, -1.73082659e-11+3.99212330e-11j,\n",
       "       -1.72946102e-11+3.99253963e-11j,  3.19024196e-09-2.06795153e-25j,\n",
       "        5.52863579e-08-5.29395592e-23j, -1.72803993e-11-3.99609235e-11j,\n",
       "       -1.74224489e-11-3.98496375e-11j,  2.52384780e-11+3.47881723e-11j,\n",
       "       -1.72803993e-11+3.99040800e-11j, -4.30505240e-08+0.00000000e+00j,\n",
       "       -4.27889529e-11-5.68434189e-14j,  1.72446293e-11+3.99587100e-11j,\n",
       "       -1.73962476e-11+3.98642647e-11j, -4.27890223e-11+0.00000000e+00j,\n",
       "        2.21453118e-07-2.64697796e-23j,  1.72803993e-11+3.99609235e-11j,\n",
       "        2.51247911e-11-3.46744855e-11j,  1.72451602e-11-3.98663810e-11j,\n",
       "        1.71667125e-11-3.99040800e-11j, -3.19024196e-09-5.29395592e-23j])"
      ]
     },
     "execution_count": 6,
     "metadata": {},
     "output_type": "execute_result"
    }
   ],
   "source": [
    "L[0].L(step=0)@L[0].rho_eq(step=0)"
   ]
  },
  {
   "cell_type": "code",
   "execution_count": 7,
   "id": "5d6fd1c2",
   "metadata": {},
   "outputs": [],
   "source": [
    "U=L.Sequence(Dt=1e-3).U()"
   ]
  },
  {
   "cell_type": "code",
   "execution_count": 8,
   "id": "1eeaff2b",
   "metadata": {},
   "outputs": [],
   "source": [
    "a,b=np.linalg.eig(U[0])"
   ]
  },
  {
   "cell_type": "code",
   "execution_count": 9,
   "id": "5771f22d",
   "metadata": {},
   "outputs": [
    {
     "data": {
      "text/plain": [
       "array([  2.82824145+4.05075103e-12j,   0.34490361-7.24115874e+00j,\n",
       "        -7.35951826-1.60521218e+02j, 242.84484131-1.75620346e+02j,\n",
       "         0.34487406+7.24114162e+00j,   2.8283366 -2.84813664e-12j,\n",
       "         6.39854421-5.30079239e-01j,   1.51370881-2.07158978e+01j,\n",
       "        -7.35957321+1.60521078e+02j,   6.39854296+5.30080510e-01j,\n",
       "         2.82873067-2.38184104e-38j,  11.46708617+2.51856277e+01j,\n",
       "       242.8478832 +1.75624016e+02j,   1.51372275+2.07158488e+01j,\n",
       "        11.46710435-2.51855347e+01j,   2.82839973-2.99606908e-12j,\n",
       "         2.82824145+4.05087260e-12j,   2.28750054-1.36564594e-01j,\n",
       "        -7.20813418-3.27831321e-01j,   2.05594667-2.52863006e-01j,\n",
       "         2.28750052+1.36566661e-01j,   2.8283366 -2.84821775e-12j,\n",
       "        15.6280337 +2.07423972e+00j,   1.53317388-4.23065754e-02j,\n",
       "        -7.20813232+3.27832494e-01j,  15.62801471-2.07423660e+00j,\n",
       "         2.82873067+6.16459918e-18j,   4.70979768+4.74875690e-01j,\n",
       "         2.05594523+2.52863689e-01j,   1.53317381+4.23035165e-02j,\n",
       "         4.70979507-4.74873002e-01j,   2.82839973-2.99609514e-12j])"
      ]
     },
     "execution_count": 9,
     "metadata": {},
     "output_type": "execute_result"
    }
   ],
   "source": [
    "b[:,14]/L.rho_eq(step=0)"
   ]
  },
  {
   "cell_type": "code",
   "execution_count": null,
   "id": "880f3b1e",
   "metadata": {},
   "outputs": [],
   "source": []
  }
 ],
 "metadata": {
  "kernelspec": {
   "display_name": "Python 3",
   "language": "python",
   "name": "python3"
  },
  "language_info": {
   "codemirror_mode": {
    "name": "ipython",
    "version": 3
   },
   "file_extension": ".py",
   "mimetype": "text/x-python",
   "name": "python",
   "nbconvert_exporter": "python",
   "pygments_lexer": "ipython3",
   "version": "3.7.3"
  }
 },
 "nbformat": 4,
 "nbformat_minor": 5
}