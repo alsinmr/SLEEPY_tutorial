{
 "cells": [
  {
   "cell_type": "markdown",
   "id": "f8aa4fa1",
   "metadata": {},
   "source": [
    "# <font  color = \"#0093AF\">$T_1$ and NOE</font>"
   ]
  },
  {
   "cell_type": "markdown",
   "id": "a3e028c0",
   "metadata": {},
   "source": [
    "<a href=\"https://githubtocolab.com/alsinmr/SLEEPY_tutorial/blob/main/ColabNotebooks/Chapter3/Ch3_T1_NOE.ipynb\" target=\"_blank\"><img src=\"https://colab.research.google.com/assets/colab-badge.svg\"></a>"
   ]
  },
  {
   "cell_type": "markdown",
   "id": "58f5c650",
   "metadata": {},
   "source": [
    "SLEEPY can simulate $T_1$ relaxation due to exchange dynamics, but requires being run in the lab frame. Modulation of a CSA will yield relaxation of one spin, whereas modulation of a dipole coupling will also bring about a polarization transfer between the spins (Nuclear Overhauser Effect)."
   ]
  },
  {
   "cell_type": "code",
   "execution_count": 2,
   "id": "11f82007",
   "metadata": {},
   "outputs": [],
   "source": [
    "import SLEEPY as sl\n",
    "import numpy as np\n",
    "import matplotlib.pyplot as plt"
   ]
  },
  {
   "cell_type": "code",
   "execution_count": 3,
   "id": "592a432f",
   "metadata": {},
   "outputs": [
    {
     "data": {
      "text/plain": [
       "Density Matrix/Detection Operator\n",
       "rho0: Thermal\n",
       "detect[0]: 13Cz\n",
       "Current time is 10000000.000 microseconds\n",
       "1000 time points have been recorded\n",
       "\n",
       "<SLEEPY.Rho.Rho object at 0x7f9f1885ab00>"
      ]
     },
     "execution_count": 3,
     "metadata": {},
     "output_type": "execute_result"
    }
   ],
   "source": [
    "ex0=sl.ExpSys(v0H=600,Nucs='13C',vr=0,LF=True,pwdavg=sl.PowderAvg())\n",
    "ex0.set_inter('CSA',i=0,delta=200)\n",
    "ex1=ex0.copy()\n",
    "ex1.set_inter('CSA',i=0,delta=200,euler=[0,45*np.pi/180,0])\n",
    "\n",
    "L=sl.Liouvillian(ex0,ex1)\n",
    "L.kex=sl.Tools.twoSite_kex(1e-10)\n",
    "\n",
    "seq=L.Sequence(Dt=1e-2)\n",
    "\n",
    "rho=sl.Rho('Thermal','13Cz')\n",
    "\n",
    "rho.DetProp(seq,n=1000)"
   ]
  },
  {
   "cell_type": "code",
   "execution_count": 4,
   "id": "f82d8069",
   "metadata": {},
   "outputs": [
    {
     "data": {
      "text/plain": [
       "<AxesSubplot:xlabel='t / ms', ylabel='<$^{13}C_z$>'>"
      ]
     },
     "execution_count": 4,
     "metadata": {},
     "output_type": "execute_result"
    },
    {
     "data": {
      "image/png": "[encoded data removed]",
      "text/plain": [
       "<Figure size 432x288 with 1 Axes>"
      ]
     },
     "metadata": {
      "needs_background": "light"
     },
     "output_type": "display_data"
    }
   ],
   "source": [
    "rho.plot()"
   ]
  },
  {
   "cell_type": "code",
   "execution_count": 10,
   "id": "5c30da78",
   "metadata": {},
   "outputs": [
    {
     "data": {
      "text/plain": [
       "Density Matrix/Detection Operator\n",
       "rho0: Thermal\n",
       "detect[0]: 1Hz\n",
       "detect[1]: 13Cz\n",
       "Current time is 500000000.000 microseconds\n",
       "50000 time points have been recorded\n",
       "\n",
       "<SLEEPY.Rho.Rho object at 0x7f9ec8bd2438>"
      ]
     },
     "execution_count": 10,
     "metadata": {},
     "output_type": "execute_result"
    }
   ],
   "source": [
    "ex0=sl.ExpSys(v0H=600,Nucs=['13C','1H'],vr=0,LF=True,pwdavg=sl.PowderAvg()[10])\n",
    "ex0.set_inter('dipole',i0=0,i1=1,delta=sl.Tools.dipole_coupling(.109,'1H','13C'))\n",
    "ex1=ex0.copy()\n",
    "ex1.set_inter('dipole',i0=0,i1=1,delta=sl.Tools.dipole_coupling(.109,'1H','13C'),euler=[0,45*np.pi/180,0])\n",
    "\n",
    "L=sl.Liouvillian(ex0,ex1)\n",
    "L.kex=sl.Tools.twoSite_kex(1e-9)\n",
    "\n",
    "L.add_relax('DynamicThermal')\n",
    "\n",
    "seq=L.Sequence(Dt=1e-4)\n",
    "U=seq.U()**100\n",
    "\n",
    "rho=sl.Rho('Thermal',['1Hz','13Cz'])\n",
    "# L.Udelta('1H',np.pi)*rho\n",
    "\n",
    "rho.DetProp(U,n=50000)"
   ]
  },
  {
   "cell_type": "code",
   "execution_count": 11,
   "id": "44575773",
   "metadata": {},
   "outputs": [
    {
     "data": {
      "text/plain": [
       "<AxesSubplot:xlabel='t / s', ylabel='<Op>'>"
      ]
     },
     "execution_count": 11,
     "metadata": {},
     "output_type": "execute_result"
    },
    {
     "data": {
      "image/png": "[encoded data removed]",
      "text/plain": [
       "<Figure size 432x288 with 1 Axes>"
      ]
     },
     "metadata": {
      "needs_background": "light"
     },
     "output_type": "display_data"
    }
   ],
   "source": [
    "rho.plot(axis='s')"
   ]
  },
  {
   "cell_type": "code",
   "execution_count": 12,
   "id": "8870368b",
   "metadata": {},
   "outputs": [
    {
     "data": {
      "text/plain": [
       "(4.831451995963613e-05+1.108187085972349e-12j)"
      ]
     },
     "execution_count": 12,
     "metadata": {},
     "output_type": "execute_result"
    }
   ],
   "source": [
    "rho._detect[0]@((np.linalg.pinv(L[0].L(0))@L[0].L(0))@L.rho_eq(sub1=True))"
   ]
  },
  {
   "cell_type": "code",
   "execution_count": 15,
   "id": "973be357",
   "metadata": {},
   "outputs": [],
   "source": [
    "n=np.argmax(U._eig[0][0].real)\n",
    "v=U._eig[0][1]\n",
    "vi=np.linalg.pinv(v)\n",
    "mat=np.atleast_2d(v[:,n]).T@np.atleast_2d(vi[n])\n",
    "# mat=np.atleast_2d(vi[n]).T@np.atleast_2d(v[:,n])"
   ]
  },
  {
   "cell_type": "code",
   "execution_count": 16,
   "id": "966568d5",
   "metadata": {},
   "outputs": [
    {
     "data": {
      "text/plain": [
       "(4.8556788146192353e-05+3.7950953443146093e-13j)"
      ]
     },
     "execution_count": 16,
     "metadata": {},
     "output_type": "execute_result"
    }
   ],
   "source": [
    "(rho._detect[0]@(mat@rho._rho0[0]))"
   ]
  },
  {
   "cell_type": "code",
   "execution_count": 43,
   "id": "ea001f30",
   "metadata": {},
   "outputs": [
    {
     "data": {
      "text/plain": [
       "array([1.21512887e-05, 4.83145275e-05])"
      ]
     },
     "execution_count": 43,
     "metadata": {},
     "output_type": "execute_result"
    }
   ],
   "source": [
    "ex0.Peq"
   ]
  },
  {
   "cell_type": "code",
   "execution_count": 44,
   "id": "28a82683",
   "metadata": {},
   "outputs": [
    {
     "data": {
      "text/plain": [
       "16"
      ]
     },
     "execution_count": 44,
     "metadata": {},
     "output_type": "execute_result"
    }
   ],
   "source": [
    "(np.abs(U._eig[0][0])>1e-10).sum()"
   ]
  },
  {
   "cell_type": "code",
   "execution_count": 45,
   "id": "bae257ec",
   "metadata": {},
   "outputs": [
    {
     "data": {
      "text/plain": [
       "array([-0.87317894+4.69546101e-01j, -0.87317895-4.69546105e-01j,\n",
       "       -0.72939939-6.71483801e-01j, -0.7293994 +6.71483806e-01j,\n",
       "       -0.79821696+5.88017246e-01j,  0.99151681-1.08674541e-01j,\n",
       "       -0.81682276+5.61885199e-01j,  0.98720425-1.40655962e-01j,\n",
       "       -0.79821696-5.88017246e-01j, -0.81682277-5.61885202e-01j,\n",
       "        0.99151681+1.08674547e-01j,  0.98720424+1.40655956e-01j,\n",
       "        1.        +1.87033891e-15j,  0.99983054-5.41378598e-16j,\n",
       "        0.99500008-1.91883320e-15j,  0.99444054+4.55627374e-15j,\n",
       "        0.        +0.00000000e+00j, -0.        -0.00000000e+00j,\n",
       "        0.        +0.00000000e+00j,  0.        +0.00000000e+00j,\n",
       "        0.        -0.00000000e+00j,  0.        -0.00000000e+00j,\n",
       "        0.        +0.00000000e+00j,  0.        +0.00000000e+00j,\n",
       "        0.        +0.00000000e+00j, -0.        -0.00000000e+00j,\n",
       "        0.        +0.00000000e+00j,  0.        +0.00000000e+00j,\n",
       "       -0.        +0.00000000e+00j, -0.        -0.00000000e+00j,\n",
       "        0.        -0.00000000e+00j, -0.        +0.00000000e+00j])"
      ]
     },
     "execution_count": 45,
     "metadata": {},
     "output_type": "execute_result"
    }
   ],
   "source": [
    "U._eig[0][0]"
   ]
  },
  {
   "cell_type": "code",
   "execution_count": 48,
   "id": "49a7fbe2",
   "metadata": {},
   "outputs": [
    {
     "data": {
      "text/plain": [
       "(1.000000004668621+1.8703389132142916e-15j)"
      ]
     },
     "execution_count": 48,
     "metadata": {},
     "output_type": "execute_result"
    }
   ],
   "source": [
    "U._eig[0][0][12]"
   ]
  },
  {
   "cell_type": "code",
   "execution_count": null,
   "id": "e956f207",
   "metadata": {},
   "outputs": [],
   "source": []
  }
 ],
 "metadata": {
  "kernelspec": {
   "display_name": "Python 3",
   "language": "python",
   "name": "python3"
  },
  "language_info": {
   "codemirror_mode": {
    "name": "ipython",
    "version": 3
   },
   "file_extension": ".py",
   "mimetype": "text/x-python",
   "name": "python",
   "nbconvert_exporter": "python",
   "pygments_lexer": "ipython3",
   "version": "3.8.8"
  }
 },
 "nbformat": 4,
 "nbformat_minor": 5
}