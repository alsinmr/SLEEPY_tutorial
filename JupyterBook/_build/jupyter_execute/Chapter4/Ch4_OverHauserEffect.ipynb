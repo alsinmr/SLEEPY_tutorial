{
 "cells": [
  {
   "cell_type": "markdown",
   "id": "0a42eceb",
   "metadata": {},
   "source": [
    "<a href=\"https://githubtocolab.com/alsinmr/SLEEPY_tutorial/blob/main/DNP/OverHauserEffect.ipynb\"><img src=\"https://colab.research.google.com/assets/colab-badge.svg\" ></a>"
   ]
  },
  {
   "cell_type": "markdown",
   "id": "759eab0e",
   "metadata": {},
   "source": [
    "<a href=\"https://githubtocolab.com/alsinmr/SLEEPY_tutorial/blob/main/ColabNotebooks/Chapter4/Ch4_OverHauserEffect.ipynb\" target=\"_blank\"><img src=\"https://colab.research.google.com/assets/colab-badge.svg\"></a>"
   ]
  },
  {
   "cell_type": "markdown",
   "id": "f6085941",
   "metadata": {},
   "source": [
    "[Open in Google Colab](https://githubtocolab.com/alsinmr/SLEEPY_tutorial/blob/main/DNP/OverHauserEffect.ipynb)"
   ]
  },
  {
   "cell_type": "markdown",
   "id": "d43ba51b",
   "metadata": {},
   "source": [
    "# <font  color = \"#0093AF\"> Overhauser Effect"
   ]
  },
  {
   "cell_type": "markdown",
   "id": "3bcfb85d",
   "metadata": {},
   "source": [
    "The Overhauser effect is the original DNP experiment, demonstrated on a conducting metal, and commonly used in solution-state DNP. However, it is also possible to obtain the Overhauser effect from non-conducting electrons such as in Trityl or BDPA. In this case, the effect comes from either modulation of the isotropic or dipolar part of the Hyperfine coupling"
   ]
  },
  {
   "cell_type": "code",
   "execution_count": 1,
   "id": "a7ce07d7",
   "metadata": {},
   "outputs": [],
   "source": [
    "import sys\n",
    "if 'google.colab' in sys.modules:\n",
    "    !git clone https://github.com/alsinmr/SLEEPY.git\n",
    "else:\n",
    "    sys.path.append('/Users/albertsmith/Documents/GitHub.nosync/')\n",
    "    sys.path.append('/Users/albertsmith/Documents/GitHub/')\n",
    "import SLEEPY as sl\n",
    "from SLEEPY.LFrf import LFrf\n",
    "import numpy as np\n",
    "import matplotlib.pyplot as plt"
   ]
  },
  {
   "cell_type": "markdown",
   "id": "99cdb00c",
   "metadata": {},
   "source": [
    "## Example 1: Modulation of the Isotropic Hyperfine (J)"
   ]
  },
  {
   "cell_type": "markdown",
   "id": "ce4c7e6b",
   "metadata": {},
   "source": [
    "In the first example, we include a scalar and dipolar component to the coupling. However, we only modulate the scalar part. This is achieved by adding different \"Aiso\" to ex0 and ex1. The two Hamiltonians are then coupled together with the exchange matrix produced by `sl.Tools.twoSite_kex`, where `tc` specifies the correlation time resulting from the exchange matrix.\n",
    "\n",
    "Increasing the change between `Aiso` and `Aiso1` will accelerate the transfer. Modifying `tc` will also change the rate, although the current value (1 ps) is nearly optimum."
   ]
  },
  {
   "cell_type": "code",
   "execution_count": 5,
   "id": "f55a5009",
   "metadata": {},
   "outputs": [
    {
     "name": "stderr",
     "output_type": "stream",
     "text": [
      "/Users/albertsmith/Documents/GitHub/SLEEPY/Rho.py:1264: UserWarning: Evolution time is more than 12 orders of magnitude different than largest Liouvillian term:\n",
      "Numerical error possible\n",
      "  warnings.warn('Evolution time is more than 12 orders of magnitude different than largest Liouvillian term:\\nNumerical error possible')\n",
      "/Users/albertsmith/Documents/GitHub/SLEEPY/Rho.py:1264: UserWarning: Evolution time is more than 12 orders of magnitude different than largest Liouvillian term:\n",
      "Numerical error possible\n",
      "  warnings.warn('Evolution time is more than 12 orders of magnitude different than largest Liouvillian term:\\nNumerical error possible')\n"
     ]
    },
    {
     "data": {
      "text/plain": [
       "<AxesSubplot:xlabel='t / s', ylabel='<Op>'>"
      ]
     },
     "execution_count": 5,
     "metadata": {},
     "output_type": "execute_result"
    },
    {
     "data": {
      "image/png": "[encoded data removed]",
      "text/plain": [
       "<Figure size 432x288 with 1 Axes>"
      ]
     },
     "metadata": {
      "filenames": {
       "image/png": "/Users/albertsmith/Documents/GitHub/SLEEPY_tutorial/JupyterBook/_build/jupyter_execute/Chapter4/Ch4_OverHauserEffect_8_2.png"
      },
      "needs_background": "light"
     },
     "output_type": "display_data"
    }
   ],
   "source": [
    "ex0=sl.ExpSys(v0H=212,Nucs=['1H','e'],LF=True,vr=5000,n_gamma=30)\n",
    "ex0.set_inter('g',i=1,gxx=2.0027,gyy=2.0031,gzz=2.0034)\n",
    "Adip=[-1e6,-1e6,2e6]\n",
    "Aiso0=.75e6\n",
    "ex0.set_inter('hyperfine',i0=0,i1=1,Axx=Adip[0]+Aiso0,Ayy=Adip[1]+Aiso0,Azz=Adip[2]+Aiso0)\n",
    "ex1=ex0.copy()\n",
    "Aiso1=.25e6\n",
    "ex1.set_inter('hyperfine',i0=0,i1=1,Axx=Adip[0]+Aiso1,Ayy=Adip[1]+Aiso1,Azz=Adip[2]+Aiso1)\n",
    "\n",
    "L=sl.Liouvillian(ex0,ex1)\n",
    "L.kex=sl.Tools.twoSite_kex(tc=1e-12)\n",
    "\n",
    "seq=L.Sequence()\n",
    "\n",
    "rho=sl.Rho('ez',['1Hz','ez'])\n",
    "\n",
    "rho.DetProp(seq,n=20000)\n",
    "\n",
    "rho.plot(axis='s')"
   ]
  },
  {
   "cell_type": "markdown",
   "id": "c55dccbc",
   "metadata": {},
   "source": [
    "## Example 2: Reorientation of the Dipolar Hyperfine"
   ]
  },
  {
   "cell_type": "code",
   "execution_count": 6,
   "id": "f741c892",
   "metadata": {},
   "outputs": [
    {
     "name": "stderr",
     "output_type": "stream",
     "text": [
      "/Users/albertsmith/Documents/GitHub/SLEEPY/Rho.py:1264: UserWarning: Evolution time is more than 12 orders of magnitude different than largest Liouvillian term:\n",
      "Numerical error possible\n",
      "  warnings.warn('Evolution time is more than 12 orders of magnitude different than largest Liouvillian term:\\nNumerical error possible')\n",
      "/Users/albertsmith/Documents/GitHub/SLEEPY/Rho.py:1264: UserWarning: Evolution time is more than 12 orders of magnitude different than largest Liouvillian term:\n",
      "Numerical error possible\n",
      "  warnings.warn('Evolution time is more than 12 orders of magnitude different than largest Liouvillian term:\\nNumerical error possible')\n"
     ]
    },
    {
     "data": {
      "text/plain": [
       "<AxesSubplot:xlabel='t / s', ylabel='<Op>'>"
      ]
     },
     "execution_count": 6,
     "metadata": {},
     "output_type": "execute_result"
    },
    {
     "data": {
      "image/png": "[encoded data removed]",
      "text/plain": [
       "<Figure size 432x288 with 1 Axes>"
      ]
     },
     "metadata": {
      "filenames": {
       "image/png": "/Users/albertsmith/Documents/GitHub/SLEEPY_tutorial/JupyterBook/_build/jupyter_execute/Chapter4/Ch4_OverHauserEffect_10_2.png"
      },
      "needs_background": "light"
     },
     "output_type": "display_data"
    }
   ],
   "source": [
    "ex1.set_inter('hyperfine',i0=0,i1=1,Axx=Adip[0]+Aiso0,Ayy=Adip[1]+Aiso0,Azz=Adip[2]+Aiso0,euler=[0,np.pi/4,0])\n",
    "\n",
    "L=sl.Liouvillian(ex0,ex1)\n",
    "L.kex=sl.Tools.twoSite_kex(tc=1e-12)\n",
    "\n",
    "seq=L.Sequence()\n",
    "\n",
    "rho=sl.Rho('ez',['1Hz','ez'])\n",
    "\n",
    "rho.DetProp(seq,n=20000)\n",
    "\n",
    "rho.plot(axis='s')"
   ]
  },
  {
   "cell_type": "markdown",
   "id": "ac943fef",
   "metadata": {},
   "source": [
    "We see sharp contrasts between the two Overhauser effect mechanisms. When the scalar coupling is modulated, the total magnetization is conserved: it is simply transferred between the electron and nucleus until the magnetization is equilibrated. On the other hand, reorientation of the dipolar component both transfers magnetization between electron and nucleus, but also gradually destroys the total magnetization. We also notice that the sign of the transfer changes. We can also simulate both mechanisms simultaneously (we reduce the size of the dipolar modulation to make the two effects occur on a similar timescale)."
   ]
  },
  {
   "cell_type": "code",
   "execution_count": 7,
   "id": "57e27d0f",
   "metadata": {},
   "outputs": [
    {
     "name": "stderr",
     "output_type": "stream",
     "text": [
      "/Users/albertsmith/Documents/GitHub/SLEEPY/Rho.py:1264: UserWarning: Evolution time is more than 12 orders of magnitude different than largest Liouvillian term:\n",
      "Numerical error possible\n",
      "  warnings.warn('Evolution time is more than 12 orders of magnitude different than largest Liouvillian term:\\nNumerical error possible')\n",
      "/Users/albertsmith/Documents/GitHub/SLEEPY/Rho.py:1264: UserWarning: Evolution time is more than 12 orders of magnitude different than largest Liouvillian term:\n",
      "Numerical error possible\n",
      "  warnings.warn('Evolution time is more than 12 orders of magnitude different than largest Liouvillian term:\\nNumerical error possible')\n"
     ]
    },
    {
     "data": {
      "text/plain": [
       "<AxesSubplot:xlabel='t / s', ylabel='<Op>'>"
      ]
     },
     "execution_count": 7,
     "metadata": {},
     "output_type": "execute_result"
    },
    {
     "data": {
      "image/png": "[encoded data removed]",
      "text/plain": [
       "<Figure size 432x288 with 1 Axes>"
      ]
     },
     "metadata": {
      "filenames": {
       "image/png": "/Users/albertsmith/Documents/GitHub/SLEEPY_tutorial/JupyterBook/_build/jupyter_execute/Chapter4/Ch4_OverHauserEffect_12_2.png"
      },
      "needs_background": "light"
     },
     "output_type": "display_data"
    }
   ],
   "source": [
    "ex1.set_inter('hyperfine',i0=0,i1=1,Axx=Adip[0]+Aiso1,Ayy=Adip[1]+Aiso1,Azz=Adip[2]+Aiso1,euler=[0,np.pi/16,0])\n",
    "\n",
    "L=sl.Liouvillian(ex0,ex1)\n",
    "L.kex=sl.Tools.twoSite_kex(tc=1e-12)\n",
    "\n",
    "seq=L.Sequence()\n",
    "\n",
    "rho=sl.Rho('ez',['1Hz','ez'])\n",
    "rho.DetProp(seq,n=20000)\n",
    "rho.plot(axis='s')"
   ]
  },
  {
   "cell_type": "markdown",
   "id": "c130a7c7",
   "metadata": {},
   "source": [
    "Then, the sign of the transfer turns positive, indicating the scalar mechanism, but the dipolar mechanism is also present and gradually destroys the magnetization. Note that in the real experiment, we would have a *much* faster electron relaxation, which would effectively decouple it from the $^1$H relaxation. However, if the electron is saturated, then during it's recovery, the $^1$H would become polarized. We demonstrate this effect next."
   ]
  },
  {
   "cell_type": "markdown",
   "id": "2b714fec",
   "metadata": {},
   "source": [
    "## Example 3: Overhauser Effect buildup with Saturating field"
   ]
  },
  {
   "cell_type": "markdown",
   "id": "4855c576",
   "metadata": {},
   "source": [
    "This last calculation requires a few special features of SLEEPY, because the Overhauser effect only occurs in the lab frame, so we must also irradiate the electron in the lab frame. It also requires recovery to thermal equilibrium, which is implemented differently under dynamic conditions than if using explicit $T_1$ (non-Lindblad implementation).\n",
    "\n",
    "Should be considered experimental at the moment, although the approach certainly appears to work. I will first do the calculation with just one powder orientation to see if we can calculate the enhancment from the rate constants as usually expected."
   ]
  },
  {
   "cell_type": "code",
   "execution_count": 8,
   "id": "35d10854",
   "metadata": {
    "scrolled": false
   },
   "outputs": [
    {
     "name": "stdout",
     "output_type": "stream",
     "text": [
      "LF calculation: |██████████████████████████████| 100% complete\n",
      "Completed\n"
     ]
    },
    {
     "name": "stderr",
     "output_type": "stream",
     "text": [
      "/Users/albertsmith/Documents/GitHub/SLEEPY/Rho.py:1264: UserWarning: Evolution time is more than 12 orders of magnitude different than largest Liouvillian term:\n",
      "Numerical error possible\n",
      "  warnings.warn('Evolution time is more than 12 orders of magnitude different than largest Liouvillian term:\\nNumerical error possible')\n",
      "/Users/albertsmith/Documents/GitHub/SLEEPY/Rho.py:1264: UserWarning: Evolution time is more than 12 orders of magnitude different than largest Liouvillian term:\n",
      "Numerical error possible\n",
      "  warnings.warn('Evolution time is more than 12 orders of magnitude different than largest Liouvillian term:\\nNumerical error possible')\n"
     ]
    },
    {
     "data": {
      "text/plain": [
       "<AxesSubplot:xlabel='t / s', ylabel='<Op>'>"
      ]
     },
     "execution_count": 8,
     "metadata": {},
     "output_type": "execute_result"
    },
    {
     "data": {
      "image/png": "[encoded data removed]",
      "text/plain": [
       "<Figure size 432x288 with 1 Axes>"
      ]
     },
     "metadata": {
      "filenames": {
       "image/png": "/Users/albertsmith/Documents/GitHub/SLEEPY_tutorial/JupyterBook/_build/jupyter_execute/Chapter4/Ch4_OverHauserEffect_16_3.png"
      },
      "needs_background": "light"
     },
     "output_type": "display_data"
    }
   ],
   "source": [
    "ex0=sl.ExpSys(v0H=212,Nucs=['1H','e'],LF=True,vr=5000,n_gamma=30,pwdavg=sl.PowderAvg(q=2)[10],T_K=80)\n",
    "ex0.set_inter('g',i=1,gxx=2.0027,gyy=2.0031,gzz=2.0034)\n",
    "Adip=[-1e6,-1e6,2e6]\n",
    "Aiso0=.75e6\n",
    "ex0.set_inter('hyperfine',i0=0,i1=1,Axx=Adip[0]+Aiso0,Ayy=Adip[1]+Aiso0,Azz=Adip[2]+Aiso0)\n",
    "ex1=ex0.copy()\n",
    "Aiso1=.25e6\n",
    "ex1.set_inter('hyperfine',i0=0,i1=1,Axx=Adip[0]+Aiso1,Ayy=Adip[1]+Aiso1,Azz=Adip[2]+Aiso1,euler=[0,np.pi/8,0])\n",
    "\n",
    "L=sl.Liouvillian(ex0,ex1)\n",
    "L.kex=sl.Tools.twoSite_kex(tc=1e-12)\n",
    "L.add_relax('DynamicThermal')\n",
    "\n",
    "gavg=(2.0027+2.0031+2.0034)/3\n",
    "ge=sl.Constants['ge']\n",
    "\n",
    "seq=L.Sequence().add_channel('e',v1=5e6,voff=ex0.v0[1]*(gavg-ge)/ge)  #10 MHz irradiating field\n",
    "\n",
    "U=LFrf(seq).U()\n",
    "\n",
    "rho=sl.Rho('Thermal',['ez','1Hz'])\n",
    "\n",
    "rho.DetProp(U,n=20000)\n",
    "\n",
    "rho.plot(axis='s')"
   ]
  },
  {
   "cell_type": "code",
   "execution_count": 9,
   "id": "26bef58e",
   "metadata": {},
   "outputs": [
    {
     "name": "stdout",
     "output_type": "stream",
     "text": [
      "Enhancement: -89.1\n"
     ]
    }
   ],
   "source": [
    "print(f'Enhancement: {rho.I[1][-1].real/ex0.Peq[0]:.1f}')"
   ]
  },
  {
   "cell_type": "markdown",
   "id": "97d3067e",
   "metadata": {},
   "source": [
    "Now, we attempt to extract the $^1$H T$_1$ and transfer rate, $\\Gamma_{IS}$, and use these rates to predict the enhancement and compare to our result"
   ]
  },
  {
   "cell_type": "code",
   "execution_count": 10,
   "id": "2641b947",
   "metadata": {},
   "outputs": [
    {
     "name": "stdout",
     "output_type": "stream",
     "text": [
      "Predicted Enhancement : -90.5\n"
     ]
    }
   ],
   "source": [
    "L.clear_relax()\n",
    "\n",
    "U=L.U()\n",
    "\n",
    "rho=sl.Rho('1Hz','1Hz')\n",
    "rho.DetProp(U,n=200)\n",
    "\n",
    "R1H=(rho.I[0][0]-rho.I[0][1]).real/rho.t_axis[1]\n",
    "\n",
    "rho=sl.Rho('ez','1Hz')\n",
    "rho.DetProp(U,n=200)\n",
    "\n",
    "Gamma=-rho.I[0][1].real/rho.t_axis[1]\n",
    "\n",
    "print(f'Predicted Enhancement : {Gamma/R1H*sl.Tools.NucInfo(\"e\")/sl.Tools.NucInfo(\"1H\"):.1f}')"
   ]
  },
  {
   "cell_type": "markdown",
   "id": "1522db68",
   "metadata": {},
   "source": [
    "Indeed, the enhancment is well-predicted from rate constants, suggesting also that the simulation is correctly constructed. Finally, we re-run the simulation with a powder average (and also a more realistic power level)."
   ]
  },
  {
   "cell_type": "code",
   "execution_count": 11,
   "id": "48a3c734",
   "metadata": {},
   "outputs": [
    {
     "name": "stdout",
     "output_type": "stream",
     "text": [
      "LF calculation: |██████████████████████████████| 100% complete\n",
      "Completed\n"
     ]
    },
    {
     "name": "stderr",
     "output_type": "stream",
     "text": [
      "/Users/albertsmith/Documents/GitHub/SLEEPY/Rho.py:1264: UserWarning: Evolution time is more than 12 orders of magnitude different than largest Liouvillian term:\n",
      "Numerical error possible\n",
      "  warnings.warn('Evolution time is more than 12 orders of magnitude different than largest Liouvillian term:\\nNumerical error possible')\n",
      "/Users/albertsmith/Documents/GitHub/SLEEPY/Rho.py:1264: UserWarning: Evolution time is more than 12 orders of magnitude different than largest Liouvillian term:\n",
      "Numerical error possible\n",
      "  warnings.warn('Evolution time is more than 12 orders of magnitude different than largest Liouvillian term:\\nNumerical error possible')\n"
     ]
    },
    {
     "data": {
      "text/plain": [
       "<AxesSubplot:xlabel='t / s', ylabel='<Op>'>"
      ]
     },
     "execution_count": 11,
     "metadata": {},
     "output_type": "execute_result"
    },
    {
     "data": {
      "image/png": "[encoded data removed]",
      "text/plain": [
       "<Figure size 432x288 with 1 Axes>"
      ]
     },
     "metadata": {
      "filenames": {
       "image/png": "/Users/albertsmith/Documents/GitHub/SLEEPY_tutorial/JupyterBook/_build/jupyter_execute/Chapter4/Ch4_OverHauserEffect_21_3.png"
      },
      "needs_background": "light"
     },
     "output_type": "display_data"
    }
   ],
   "source": [
    "ex0=sl.ExpSys(v0H=212,Nucs=['1H','e'],LF=True,vr=5000,n_gamma=30,T_K=80,pwdavg=sl.PowderAvg(q=2))\n",
    "ex0.set_inter('g',i=1,gxx=2.0027,gyy=2.0031,gzz=2.0034)\n",
    "Adip=[-1e6,-1e6,2e6]\n",
    "Aiso0=.75e6\n",
    "ex0.set_inter('hyperfine',i0=0,i1=1,Axx=Adip[0]+Aiso0,Ayy=Adip[1]+Aiso0,Azz=Adip[2]+Aiso0)\n",
    "ex1=ex0.copy()\n",
    "Aiso1=.25e6\n",
    "ex1.set_inter('hyperfine',i0=0,i1=1,Axx=Adip[0]+Aiso1,Ayy=Adip[1]+Aiso1,Azz=Adip[2]+Aiso1,euler=[0,np.pi/8,0])\n",
    "\n",
    "L=sl.Liouvillian(ex0,ex1)\n",
    "L.kex=sl.Tools.twoSite_kex(tc=1e-12)\n",
    "L.add_relax('DynamicThermal')\n",
    "\n",
    "gavg=(2.0027+2.0031+2.0034)/3\n",
    "ge=sl.Constants['ge']\n",
    "\n",
    "seq=L.Sequence().add_channel('e',v1=5e6,voff=ex0.v0[1]*(gavg-ge)/ge)  #1 MHz irradiating field\n",
    "\n",
    "U=LFrf(seq).U()\n",
    "\n",
    "rho=sl.Rho('Thermal',['1Hz','ez'])\n",
    "\n",
    "rho.DetProp(U,n=20000)\n",
    "\n",
    "rho.plot(axis='s')"
   ]
  },
  {
   "cell_type": "code",
   "execution_count": 12,
   "id": "b3c80728",
   "metadata": {},
   "outputs": [
    {
     "name": "stdout",
     "output_type": "stream",
     "text": [
      "Enhancement: -91.8\n"
     ]
    }
   ],
   "source": [
    "print(f'Enhancement: {rho.I[0][-1].real/ex0.Peq[0]:.1f}')"
   ]
  },
  {
   "cell_type": "code",
   "execution_count": 13,
   "id": "41bca24f",
   "metadata": {},
   "outputs": [
    {
     "name": "stdout",
     "output_type": "stream",
     "text": [
      "Predicted Enhancement : -93.0\n"
     ]
    }
   ],
   "source": [
    "L.clear_relax()\n",
    "\n",
    "U=L.U()\n",
    "\n",
    "rho=sl.Rho('1Hz','1Hz')\n",
    "rho.DetProp(U,n=200)\n",
    "\n",
    "R1H=(rho.I[0][0]-rho.I[0][1]).real/rho.t_axis[1]\n",
    "\n",
    "rho=sl.Rho('ez','1Hz')\n",
    "rho.DetProp(U,n=200)\n",
    "\n",
    "Gamma=-rho.I[0][1].real/rho.t_axis[1]\n",
    "\n",
    "print(f'Predicted Enhancement : {Gamma/R1H*sl.Tools.NucInfo(\"e\")/sl.Tools.NucInfo(\"1H\"):.1f}')"
   ]
  },
  {
   "cell_type": "code",
   "execution_count": null,
   "id": "c9d06e6c",
   "metadata": {},
   "outputs": [],
   "source": []
  }
 ],
 "metadata": {
  "kernelspec": {
   "display_name": "Python 3",
   "language": "python",
   "name": "python3"
  },
  "language_info": {
   "codemirror_mode": {
    "name": "ipython",
    "version": 3
   },
   "file_extension": ".py",
   "mimetype": "text/x-python",
   "name": "python",
   "nbconvert_exporter": "python",
   "pygments_lexer": "ipython3",
   "version": "3.7.3"
  }
 },
 "nbformat": 4,
 "nbformat_minor": 5
}