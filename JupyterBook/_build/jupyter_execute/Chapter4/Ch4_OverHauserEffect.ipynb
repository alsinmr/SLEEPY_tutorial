{
 "cells": [
  {
   "cell_type": "markdown",
   "id": "d43ba51b",
   "metadata": {},
   "source": [
    "# <font  color = \"#0093AF\"> Overhauser Effect"
   ]
  },
  {
   "cell_type": "markdown",
   "id": "4ed63ad8",
   "metadata": {},
   "source": [
    "<a href=\"https://githubtocolab.com/alsinmr/SLEEPY_tutorial/blob/main/ColabNotebooks/Chapter4/Ch4_OverhauserEffect.ipynb\" target=\"_blank\"><img src=\"https://colab.research.google.com/assets/colab-badge.svg\"></a>"
   ]
  },
  {
   "cell_type": "markdown",
   "id": "3bcfb85d",
   "metadata": {},
   "source": [
    "The Overhauser effect is the original DNP experiment,$^1$ demonstrated on a conducting metal,$^2$ and often used in solution-state DNP. However, it is also possible to obtain the Overhauser effect from non-conducting electrons such as in Trityl or BDPA. In this case, the effect comes from either modulation of the isotropic or dipolar part of the Hyperfine coupling. Here, we introduce these modulations, and see the effect they have on the transfer of polarization between the electron and the nucleus.\n",
    "\n",
    "[1] A.W. Overhauser. *[Phys. Rev.](https://doi.org/10.1103/PhysRev.92.411)*, **1953**, 92, 411-415\n",
    "\n",
    "[2] T.R. Carver, C.P. Schlichter. *[Phys. Rev.](https://doi.org/10.1103/PhysRev.92.212.2)*, **1953**, 92, 212-213."
   ]
  },
  {
   "cell_type": "markdown",
   "id": "6a84054e",
   "metadata": {},
   "source": [
    "## Setup"
   ]
  },
  {
   "cell_type": "code",
   "execution_count": 0,
   "id": "fb15f1dc",
   "metadata": {},
   "outputs": [],
   "source": [
    "# SETUP SLEEPY"
   ]
  },
  {
   "cell_type": "code",
   "execution_count": 3,
   "id": "ae210290",
   "metadata": {},
   "outputs": [],
   "source": [
    "import SLEEPY as sl\n",
    "from SLEEPY.LFrf import LFrf\n",
    "import numpy as np\n",
    "import matplotlib.pyplot as plt"
   ]
  },
  {
   "cell_type": "markdown",
   "id": "99cdb00c",
   "metadata": {},
   "source": [
    "## Example 1: Modulation of the Isotropic Hyperfine (J)"
   ]
  },
  {
   "cell_type": "markdown",
   "id": "ce4c7e6b",
   "metadata": {},
   "source": [
    "In the first example, we include a scalar and dipolar component to the coupling. However, we only modulate the scalar part. This is achieved by adding different \"Aiso\" to ex0 and ex1. The two Hamiltonians are then coupled together with the exchange matrix produced by `sl.Tools.twoSite_kex`, where `tc` specifies the correlation time resulting from the exchange matrix.\n",
    "\n",
    "Increasing the change between `Aiso` and `Aiso1` will accelerate the transfer. Modifying `tc` will also change the rate, although the current value (1 ps) is nearly optimum for fast transfer.\n",
    "\n",
    "Note that for the Overhauser effect, we require the full set of non-secular interactions in the lab frame, not just the pseudosecular terms tilting the nucleus that are required for cross-effect and solid-effect. Therefore, all spins are calculated in the lab frame."
   ]
  },
  {
   "cell_type": "markdown",
   "id": "a88defad",
   "metadata": {},
   "source": [
    "### Build the system"
   ]
  },
  {
   "cell_type": "code",
   "execution_count": 17,
   "id": "f55a5009",
   "metadata": {},
   "outputs": [],
   "source": [
    "ex0=sl.ExpSys(v0H=212,Nucs=['1H','e'],LF=True,vr=5000,n_gamma=30)\n",
    "ex0.set_inter('g',i=1,gxx=2.0027,gyy=2.0031,gzz=2.0034)\n",
    "Adip=[-1e6,-1e6,2e6]\n",
    "Aiso0=.75e6\n",
    "ex0.set_inter('hyperfine',i0=0,i1=1,Axx=Adip[0]+Aiso0,Ayy=Adip[1]+Aiso0,Azz=Adip[2]+Aiso0)\n",
    "ex1=ex0.copy()\n",
    "Aiso1=.25e6\n",
    "ex1.set_inter('hyperfine',i0=0,i1=1,Axx=Adip[0]+Aiso1,Ayy=Adip[1]+Aiso1,Azz=Adip[2]+Aiso1)\n",
    "\n",
    "L=sl.Liouvillian(ex0,ex1)\n",
    "L.kex=sl.Tools.twoSite_kex(tc=1e-12)"
   ]
  },
  {
   "cell_type": "markdown",
   "id": "044bc1e5",
   "metadata": {},
   "source": [
    "### Propagate and plot"
   ]
  },
  {
   "cell_type": "code",
   "execution_count": 8,
   "id": "85637fe2",
   "metadata": {},
   "outputs": [
    {
     "data": {
      "text/plain": [
       "<AxesSubplot:xlabel='t / s', ylabel='<Op>'>"
      ]
     },
     "execution_count": 8,
     "metadata": {},
     "output_type": "execute_result"
    },
    {
     "data": {
      "image/png": "[encoded data removed]",
      "text/plain": [
       "<Figure size 432x288 with 1 Axes>"
      ]
     },
     "metadata": {
      "filenames": {
       "image/png": "/Users/albertsmith/Documents/GitHub/SLEEPY_tutorial/JupyterBook/_build/jupyter_execute/Chapter4/Ch4_OverhauserEffect_11_1.png"
      },
      "needs_background": "light"
     },
     "output_type": "display_data"
    }
   ],
   "source": [
    "seq=L.Sequence()\n",
    "rho=sl.Rho('ez',['1Hz','ez'])\n",
    "rho.DetProp(seq,n=20000)\n",
    "rho.plot(axis='s')"
   ]
  },
  {
   "cell_type": "markdown",
   "id": "4ea020d5",
   "metadata": {},
   "source": [
    "We observe that the relaxation is a pure transfer from modulation of the isotropic part of the hyperfine coupling. No magnetization is lost."
   ]
  },
  {
   "cell_type": "markdown",
   "id": "c55dccbc",
   "metadata": {},
   "source": [
    "## Example 2: Reorientation of the Dipolar Hyperfine\n",
    "In the second example, we leave the isotropic component fixed, and reorient the dipolar component of the hyperfine coupling."
   ]
  },
  {
   "cell_type": "markdown",
   "id": "0754782a",
   "metadata": {},
   "source": [
    "### Edit the interactions"
   ]
  },
  {
   "cell_type": "code",
   "execution_count": 19,
   "id": "65cff567",
   "metadata": {},
   "outputs": [],
   "source": [
    "ex1.set_inter('hyperfine',i0=0,i1=1,\n",
    "              Axx=Adip[0]+Aiso0,Ayy=Adip[1]+Aiso0,Azz=Adip[2]+Aiso0,\n",
    "              euler=[0,np.pi/4,0])\n",
    "\n",
    "L=sl.Liouvillian(ex0,ex1)\n",
    "L.kex=sl.Tools.twoSite_kex(tc=1e-12)"
   ]
  },
  {
   "cell_type": "markdown",
   "id": "902eae74",
   "metadata": {},
   "source": [
    "### Propagate and plot"
   ]
  },
  {
   "cell_type": "code",
   "execution_count": 20,
   "id": "f741c892",
   "metadata": {},
   "outputs": [
    {
     "data": {
      "text/plain": [
       "<AxesSubplot:xlabel='t / s', ylabel='<Op>'>"
      ]
     },
     "execution_count": 20,
     "metadata": {},
     "output_type": "execute_result"
    },
    {
     "data": {
      "image/png": "[encoded data removed]",
      "text/plain": [
       "<Figure size 432x288 with 1 Axes>"
      ]
     },
     "metadata": {
      "filenames": {
       "image/png": "/Users/albertsmith/Documents/GitHub/SLEEPY_tutorial/JupyterBook/_build/jupyter_execute/Chapter4/Ch4_OverhauserEffect_17_1.png"
      },
      "needs_background": "light"
     },
     "output_type": "display_data"
    }
   ],
   "source": [
    "seq=L.Sequence()\n",
    "rho=sl.Rho('ez',['1Hz','ez'])\n",
    "rho.DetProp(seq,n=20000)\n",
    "rho.plot(axis='s')"
   ]
  },
  {
   "cell_type": "markdown",
   "id": "ac943fef",
   "metadata": {},
   "source": [
    "We see sharp contrasts between the two Overhauser effect mechanisms. When the scalar coupling is modulated, the total magnetization is conserved: it is simply transferred between the electron and nucleus until the magnetization is equilibrated. On the other hand, reorientation of the dipolar component both transfers magnetization between electron and nucleus, but also gradually destroys the total magnetization. We also notice that the sign of the transfer changes. We can simulate both mechanisms simultaneously (we reduce the size of the dipolar modulation to make the two effects occur on a similar timescale)."
   ]
  },
  {
   "cell_type": "code",
   "execution_count": 21,
   "id": "57e27d0f",
   "metadata": {},
   "outputs": [
    {
     "data": {
      "text/plain": [
       "<AxesSubplot:xlabel='t / s', ylabel='<Op>'>"
      ]
     },
     "execution_count": 21,
     "metadata": {},
     "output_type": "execute_result"
    },
    {
     "data": {
      "image/png": "[encoded data removed]",
      "text/plain": [
       "<Figure size 432x288 with 1 Axes>"
      ]
     },
     "metadata": {
      "filenames": {
       "image/png": "/Users/albertsmith/Documents/GitHub/SLEEPY_tutorial/JupyterBook/_build/jupyter_execute/Chapter4/Ch4_OverhauserEffect_19_1.png"
      },
      "needs_background": "light"
     },
     "output_type": "display_data"
    }
   ],
   "source": [
    "ex1.set_inter('hyperfine',i0=0,i1=1,\n",
    "              Axx=Adip[0]+Aiso1,Ayy=Adip[1]+Aiso1,Azz=Adip[2]+Aiso1,\n",
    "              euler=[0,np.pi/16,0])\n",
    "L=sl.Liouvillian(ex0,ex1)\n",
    "L.kex=sl.Tools.twoSite_kex(tc=1e-12)\n",
    "\n",
    "seq=L.Sequence()\n",
    "rho=sl.Rho('ez',['1Hz','ez'])\n",
    "rho.DetProp(seq,n=20000)\n",
    "rho.plot(axis='s')"
   ]
  },
  {
   "cell_type": "markdown",
   "id": "c130a7c7",
   "metadata": {},
   "source": [
    "Then, the sign of the transfer turns positive, indicating the scalar mechanism, but the dipolar mechanism is also present and gradually destroys the magnetization. Note that in the real experiment, we would have a *much* faster electron relaxation, which would effectively decouple it from the $^1$H relaxation, and provide a constant source of polarization to transfer to many $^1$H. However, if the electron is saturated, then during its recovery, the $^1$H would become polarized. We demonstrate this effect next."
   ]
  },
  {
   "cell_type": "markdown",
   "id": "2b714fec",
   "metadata": {},
   "source": [
    "## Example 3: Overhauser Effect buildup with Saturating field"
   ]
  },
  {
   "cell_type": "markdown",
   "id": "4855c576",
   "metadata": {},
   "source": [
    "This last calculation requires a few special features of SLEEPY, because the Overhauser effect only occurs in the lab frame, so we must also irradiate the electron in the lab frame. It also requires recovery to thermal equilibrium, which is implemented differently under dynamic conditions than if using explicit $T_1$ (i.e. here we use a non-Lindblad implementation).\n",
    "\n",
    "Some caution should be taken with the 'DynamicThermal' method (see [$T_1$ tests](../Chapter2/Ch2_T1_limits.ipynb)). We check here first that thermal equilibrium is obtained correctly for this system, before we apply microwave irradiation to the electron."
   ]
  },
  {
   "cell_type": "markdown",
   "id": "a895cf05",
   "metadata": {},
   "source": [
    "### Build the system"
   ]
  },
  {
   "cell_type": "code",
   "execution_count": 30,
   "id": "14f4c9c0",
   "metadata": {},
   "outputs": [],
   "source": [
    "ex0=sl.ExpSys(v0H=212,Nucs=['1H','e'],LF=True,vr=5000,n_gamma=30,pwdavg=sl.PowderAvg(q=2)[10],T_K=80)\n",
    "ex0.set_inter('g',i=1,gxx=2.0027,gyy=2.0031,gzz=2.0034)\n",
    "Adip=[-1e6,-1e6,2e6]\n",
    "Aiso0=.75e6\n",
    "ex0.set_inter('hyperfine',i0=0,i1=1,Axx=Adip[0]+Aiso0,Ayy=Adip[1]+Aiso0,Azz=Adip[2]+Aiso0)\n",
    "ex1=ex0.copy()\n",
    "Aiso1=.25e6\n",
    "ex1.set_inter('hyperfine',i0=0,i1=1,Axx=Adip[0]+Aiso1,Ayy=Adip[1]+Aiso1,Azz=Adip[2]+Aiso1,euler=[0,np.pi/8,0])\n",
    "\n",
    "L=sl.Liouvillian(ex0,ex1)\n",
    "L.kex=sl.Tools.twoSite_kex(tc=1e-12)\n",
    "L.add_relax('DynamicThermal')\n",
    "\n",
    "gavg=(2.0027+2.0031+2.0034)/3\n",
    "ge=sl.Constants['ge']"
   ]
  },
  {
   "cell_type": "markdown",
   "id": "fa9d3b4d",
   "metadata": {},
   "source": [
    "### Propagate without microwaves\n",
    "We start without magnetization in the system and allow it to evolve to thermal equilibrium. We mark the expected thermal polarization of the electron and nucleus with dashed lines on the plot."
   ]
  },
  {
   "cell_type": "code",
   "execution_count": 31,
   "id": "200c6352",
   "metadata": {},
   "outputs": [
    {
     "data": {
      "text/plain": [
       "[<matplotlib.lines.Line2D at 0x7fec2c1456a0>]"
      ]
     },
     "execution_count": 31,
     "metadata": {},
     "output_type": "execute_result"
    },
    {
     "data": {
      "image/png": "[encoded data removed]",
      "text/plain": [
       "<Figure size 432x288 with 1 Axes>"
      ]
     },
     "metadata": {
      "filenames": {
       "image/png": "/Users/albertsmith/Documents/GitHub/SLEEPY_tutorial/JupyterBook/_build/jupyter_execute/Chapter4/Ch4_OverhauserEffect_26_1.png"
      },
      "needs_background": "light"
     },
     "output_type": "display_data"
    }
   ],
   "source": [
    "seq=L.Sequence()\n",
    "rho=sl.Rho('zero',['ez','1Hz'])\n",
    "rho.DetProp(seq,n=20000)\n",
    "ax=rho.plot(axis='s')\n",
    "ax.plot(rho.t_axis[[0,-1]],np.ones(2)*ex0.Peq[0],color='black',linestyle=':')\n",
    "ax.plot(rho.t_axis[[0,-1]],np.ones(2)*ex0.Peq[1],color='grey',linestyle='--')"
   ]
  },
  {
   "cell_type": "markdown",
   "id": "8df2dba7",
   "metadata": {},
   "source": [
    "We get good performance here from the 'DynamicThermal' method. Now we observe the Overhauser effect enhancement by irradiating the electron such that it saturates, leading to enhancement on the $^1$H."
   ]
  },
  {
   "cell_type": "markdown",
   "id": "fd6a3cc4",
   "metadata": {},
   "source": [
    "### Lab frame irradiation"
   ]
  },
  {
   "cell_type": "code",
   "execution_count": 34,
   "id": "4792e6db",
   "metadata": {},
   "outputs": [
    {
     "name": "stdout",
     "output_type": "stream",
     "text": [
      "LF calculation: |██████████████████████████████| 100% complete\n",
      "Completed\n"
     ]
    }
   ],
   "source": [
    "# Note that we have to be careful to get the electron on-resonance\n",
    "seq=L.Sequence().add_channel('e',v1=5e6,voff=ex0.v0[1]*(gavg-ge)/ge)  #5 MHz irradiating field\n",
    "U=LFrf(seq).U()"
   ]
  },
  {
   "cell_type": "markdown",
   "id": "dc0d1f61",
   "metadata": {},
   "source": [
    "### Propagate and plot"
   ]
  },
  {
   "cell_type": "code",
   "execution_count": 35,
   "id": "35d10854",
   "metadata": {
    "scrolled": false
   },
   "outputs": [
    {
     "data": {
      "text/plain": [
       "<AxesSubplot:xlabel='t / s', ylabel='<Op>'>"
      ]
     },
     "execution_count": 35,
     "metadata": {},
     "output_type": "execute_result"
    },
    {
     "data": {
      "image/png": "[encoded data removed]",
      "text/plain": [
       "<Figure size 432x288 with 1 Axes>"
      ]
     },
     "metadata": {
      "filenames": {
       "image/png": "/Users/albertsmith/Documents/GitHub/SLEEPY_tutorial/JupyterBook/_build/jupyter_execute/Chapter4/Ch4_OverhauserEffect_31_1.png"
      },
      "needs_background": "light"
     },
     "output_type": "display_data"
    }
   ],
   "source": [
    "rho=sl.Rho('Thermal',['ez','1Hz'])\n",
    "# This extracts the final polarization\n",
    "# normalize to thermal polarization\n",
    "e=(U**np.inf*rho)().I[1,0].real/ex0.Peq[0]\n",
    "\n",
    "# Clear, run the buildup\n",
    "rho.clear()\n",
    "rho.DetProp(U,n=20000)\n",
    "rho.plot(axis='s')"
   ]
  },
  {
   "cell_type": "code",
   "execution_count": 36,
   "id": "26bef58e",
   "metadata": {},
   "outputs": [
    {
     "name": "stdout",
     "output_type": "stream",
     "text": [
      "Enhancement: -89\n"
     ]
    }
   ],
   "source": [
    "print(f'Enhancement: {e:.0f}')"
   ]
  },
  {
   "cell_type": "markdown",
   "id": "97d3067e",
   "metadata": {},
   "source": [
    "Now, we attempt to extract the $^1$H T$_1$ and transfer rate, $\\Gamma_{IS}$, and use these rates to predict the enhancement and compare to our result"
   ]
  },
  {
   "cell_type": "markdown",
   "id": "ac71bd60",
   "metadata": {},
   "source": [
    "### Predict enhancement from rate constants"
   ]
  },
  {
   "cell_type": "code",
   "execution_count": 37,
   "id": "2641b947",
   "metadata": {},
   "outputs": [
    {
     "name": "stdout",
     "output_type": "stream",
     "text": [
      "Predicted Enhancement : -90.5\n"
     ]
    }
   ],
   "source": [
    "L.clear_relax()\n",
    "\n",
    "U=L.U()\n",
    "\n",
    "rho=sl.Rho('1Hz','1Hz')\n",
    "rho.DetProp(U,n=200)\n",
    "\n",
    "R1H=(rho.I[0][0]-rho.I[0][1]).real/rho.t_axis[1]\n",
    "\n",
    "rho=sl.Rho('ez','1Hz')\n",
    "rho.DetProp(U,n=200)\n",
    "\n",
    "Gamma=-rho.I[0][1].real/rho.t_axis[1]\n",
    "\n",
    "print(f'Predicted Enhancement : {Gamma/R1H*sl.Tools.NucInfo(\"e\")/sl.Tools.NucInfo(\"1H\"):.1f}')"
   ]
  },
  {
   "cell_type": "markdown",
   "id": "1522db68",
   "metadata": {},
   "source": [
    "We confirm that the nuclear enhancement can be predicted from the nuclear $T_1$ (`R1H`) and the electron-nuclear cross relaxation rate (`Gamma`)."
   ]
  },
  {
   "cell_type": "markdown",
   "id": "dd227a5e",
   "metadata": {},
   "source": [
    "### Include powder average"
   ]
  },
  {
   "cell_type": "code",
   "execution_count": 44,
   "id": "48a3c734",
   "metadata": {},
   "outputs": [
    {
     "name": "stdout",
     "output_type": "stream",
     "text": [
      "LF calculation: |██████████████████████████████| 100% complete\n",
      "Completed\n"
     ]
    },
    {
     "data": {
      "text/plain": [
       "<AxesSubplot:xlabel='t / s', ylabel='<Op>'>"
      ]
     },
     "execution_count": 44,
     "metadata": {},
     "output_type": "execute_result"
    },
    {
     "data": {
      "image/png": "[encoded data removed]",
      "text/plain": [
       "<Figure size 432x288 with 1 Axes>"
      ]
     },
     "metadata": {
      "filenames": {
       "image/png": "/Users/albertsmith/Documents/GitHub/SLEEPY_tutorial/JupyterBook/_build/jupyter_execute/Chapter4/Ch4_OverhauserEffect_38_2.png"
      },
      "needs_background": "light"
     },
     "output_type": "display_data"
    }
   ],
   "source": [
    "ex0=sl.ExpSys(v0H=212,Nucs=['1H','e'],LF=True,vr=5000,n_gamma=30,T_K=80,pwdavg=2)\n",
    "ex0.set_inter('g',i=1,gxx=2.0027,gyy=2.0031,gzz=2.0034)\n",
    "Adip=[-1e6,-1e6,2e6]\n",
    "Aiso0=.75e6\n",
    "ex0.set_inter('hyperfine',i0=0,i1=1,Axx=Adip[0]+Aiso0,Ayy=Adip[1]+Aiso0,Azz=Adip[2]+Aiso0)\n",
    "ex1=ex0.copy()\n",
    "Aiso1=.25e6\n",
    "ex1.set_inter('hyperfine',i0=0,i1=1,Axx=Adip[0]+Aiso1,Ayy=Adip[1]+Aiso1,Azz=Adip[2]+Aiso1,euler=[0,np.pi/8,0])\n",
    "\n",
    "L=sl.Liouvillian(ex0,ex1)\n",
    "L.kex=sl.Tools.twoSite_kex(tc=1e-12)\n",
    "L.add_relax('DynamicThermal')\n",
    "\n",
    "gavg=(2.0027+2.0031+2.0034)/3\n",
    "ge=sl.Constants['ge']\n",
    "\n",
    "seq=L.Sequence().add_channel('e',v1=5e6,voff=ex0.v0[1]*(gavg-ge)/ge)  #1 MHz irradiating field\n",
    "\n",
    "U=LFrf(seq).U()\n",
    "\n",
    "rho=sl.Rho('Thermal',['ez','1Hz'])\n",
    "\n",
    "rho.DetProp(U,n=20000)\n",
    "\n",
    "rho.plot(axis='s')"
   ]
  },
  {
   "cell_type": "code",
   "execution_count": 45,
   "id": "b3c80728",
   "metadata": {},
   "outputs": [
    {
     "name": "stdout",
     "output_type": "stream",
     "text": [
      "Enhancement: -91.9\n"
     ]
    }
   ],
   "source": [
    "print(f'Enhancement: {rho.I[1][-1].real/ex0.Peq[0]:.1f}')"
   ]
  },
  {
   "cell_type": "markdown",
   "id": "2a598404",
   "metadata": {},
   "source": [
    "### Predicted enhancement"
   ]
  },
  {
   "cell_type": "code",
   "execution_count": 46,
   "id": "41bca24f",
   "metadata": {},
   "outputs": [
    {
     "name": "stdout",
     "output_type": "stream",
     "text": [
      "Predicted Enhancement : -93.0\n"
     ]
    }
   ],
   "source": [
    "L.clear_relax()\n",
    "\n",
    "U=L.U()\n",
    "\n",
    "rho=sl.Rho('1Hz','1Hz')\n",
    "rho.DetProp(U,n=200)\n",
    "\n",
    "R1H=(rho.I[0][0]-rho.I[0][1]).real/rho.t_axis[1]\n",
    "\n",
    "rho=sl.Rho('ez','1Hz')\n",
    "rho.DetProp(U,n=200)\n",
    "\n",
    "Gamma=-rho.I[0][1].real/rho.t_axis[1]\n",
    "\n",
    "print(f'Predicted Enhancement : {Gamma/R1H*sl.Tools.NucInfo(\"e\")/sl.Tools.NucInfo(\"1H\"):.1f}')"
   ]
  },
  {
   "cell_type": "markdown",
   "id": "befea271",
   "metadata": {},
   "source": [
    "Note that small deviations from the expected enhancement arise from incomplete saturation of the electron."
   ]
  },
  {
   "cell_type": "code",
   "execution_count": null,
   "id": "9f97ec83",
   "metadata": {},
   "outputs": [],
   "source": []
  }
 ],
 "metadata": {
  "kernelspec": {
   "display_name": "Python 3",
   "language": "python",
   "name": "python3"
  },
  "language_info": {
   "codemirror_mode": {
    "name": "ipython",
    "version": 3
   },
   "file_extension": ".py",
   "mimetype": "text/x-python",
   "name": "python",
   "nbconvert_exporter": "python",
   "pygments_lexer": "ipython3",
   "version": "3.7.3"
  }
 },
 "nbformat": 4,
 "nbformat_minor": 5
}