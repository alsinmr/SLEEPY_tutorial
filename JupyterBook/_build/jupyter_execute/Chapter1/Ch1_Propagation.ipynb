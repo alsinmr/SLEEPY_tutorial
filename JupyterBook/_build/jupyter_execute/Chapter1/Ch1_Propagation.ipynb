{
 "cells": [
  {
   "cell_type": "markdown",
   "id": "bd8d3700",
   "metadata": {},
   "source": [
    "# <font  color = \"#0093AF\"> Propagators and Sequences"
   ]
  },
  {
   "cell_type": "markdown",
   "id": "759eab0e",
   "metadata": {},
   "source": [
    "<a href=\"https://githubtocolab.com/alsinmr/SLEEPY_tutorial/blob/main/ColabNotebooks/Chapter1/Ch1_Propagation.ipynb\" target=\"_blank\"><img src=\"https://colab.research.google.com/assets/colab-badge.svg\"></a>"
   ]
  },
  {
   "cell_type": "markdown",
   "id": "e16e2faf",
   "metadata": {},
   "source": [
    "Propagators are responsible for moving the density matrix, $\\hat{\\rho}(t)$ forward in time in magnetic resonance simulations. For a constant Liouvillian, the propagator, $\\hat{\\hat{U}}(t,t+\\Delta t)$ is given by\n",
    "\n",
    "$$\n",
    "\\begin{equation}\n",
    "\\hat{\\hat{U}}(t,t+\\Delta t)=\\exp(\\hat{\\hat{L}}(t)\\Delta t)\n",
    "\\end{equation}\n",
    "$$\n",
    "\n",
    "such that\n",
    "\n",
    "$$\n",
    "\\begin{equation}\n",
    "\\hat{\\rho}(t+\\Delta t)=\\hat{\\hat{U}}(t,t+\\Delta t)\\hat{\\rho}(t)\n",
    "\\end{equation}\n",
    "$$\n",
    "\n",
    "Of course, the Liouvillian is often not constant, either due to rotor spinning or a pulse sequence. In this case, the propagator is constructed as a product of piecewise constant propagators.\n",
    "\n",
    "$$\n",
    "\\begin{equation}\n",
    "U(t_0,t_n)=U(t_{n-1},t_{n})*U(t_{n-2},t_{n-1)})...U(t_1,t_2)*U(t_0,t_1)\n",
    "\\end{equation}\n",
    "$$\n",
    "\n",
    "SLEEPY handles the construction of the propagator for a time-dependent Liouvillian from propagators generated from piecewise-constant Liouvillians internally. Here, we start without pulses, where time-dependence arises only from rotor spinning."
   ]
  },
  {
   "cell_type": "markdown",
   "id": "3ef4a5a0",
   "metadata": {},
   "source": [
    "## Setup"
   ]
  },
  {
   "cell_type": "code",
   "execution_count": 0,
   "id": "759eab0f",
   "metadata": {},
   "outputs": [],
   "source": [
    "# SETUP pyDR\n",
    "import os\n",
    "os.chdir('../..')"
   ]
  },
  {
   "cell_type": "code",
   "execution_count": 2,
   "id": "acab298f",
   "metadata": {},
   "outputs": [],
   "source": [
    "import SLEEPY as sl\n",
    "import numpy as np"
   ]
  },
  {
   "cell_type": "markdown",
   "id": "064b6b04",
   "metadata": {},
   "source": [
    "## Build the system"
   ]
  },
  {
   "cell_type": "code",
   "execution_count": 3,
   "id": "417021b6",
   "metadata": {},
   "outputs": [],
   "source": [
    "ex=sl.ExpSys(v0H=600,Nucs=['1H','13C'],vr=60000) \n",
    "ex.set_inter('dipole',i0=0,i1=1,delta=44000).set_inter('CSA',i=1,delta=100,eta=1).\\\n",
    "    set_inter('CS',i=0,ppm=10) #Add a dipole, CSA to 13C, and CS to 1H\n",
    "\n",
    "ex1=ex.copy() #Copy the above\n",
    "ex1.set_inter('dipole',i0=0,i1=1,delta=44000,euler=[0,30*np.pi/180,0])\n",
    "\n",
    "L=sl.Liouvillian(ex,ex1,kex=sl.Tools.twoSite_kex(1e-5)) #Here, we produce the exchange matrix with twoSite_kex"
   ]
  },
  {
   "cell_type": "markdown",
   "id": "bf5afda8",
   "metadata": {},
   "source": [
    "## Propagators without pulses"
   ]
  },
  {
   "cell_type": "markdown",
   "id": "10a1ec45",
   "metadata": {},
   "source": [
    "We first generate the default propagator from the Liouvillian. These propagators do not have contributions from applied radio-frequency fields."
   ]
  },
  {
   "cell_type": "code",
   "execution_count": 4,
   "id": "846674a7",
   "metadata": {},
   "outputs": [],
   "source": [
    "U=L.U()"
   ]
  },
  {
   "cell_type": "markdown",
   "id": "fba7a182",
   "metadata": {},
   "source": [
    "U has a few key features: it has a starting time relative to the rotor period (t0), a length (Dt), and a final time (tf), calculated from t0 and Dt. If unspecified when creating the propagator, the length is one rotor period (L.taur), since this helps make computational speed faster. Defining Dt will override this length. If spinning is not included, then Dt must be specified since the rotor period is no longer defined (note that even if spinning is specified in ex, if no anisotropic interactions are defined, then the rotor period becomes undefined and Dt must be specified).\n",
    "\n",
    "Unless we are not spinning, it is important that when multiplying propagators, that the end of the propagator to the right (the first to be applied in time) ends when the propagator to the left starts. That is, to calculate \n",
    "```\n",
    "U1*U0\n",
    "```\n",
    "we require that `U0.tf%U0.taur==U1.t0` (% is the modulo operator, so this is the same point in the rotor period, although it is ok if U0.tf is multiple rotor periods after U1.t0, as long as they are equal modulo taur. Note that 'taur' is available in most SLEEPY objects, although defaults to None (has no value) if spinning is not included.\n",
    "\n",
    "t0 may also be specified when a propagator is created, but if omitted, then t0 is set to ex.current_time (or L.expsys.current_time). ex.current_time is updated whenever a propagator is created, to match the time at the end of that propagator. Then, if propagators are created in the order in which they will be applied, they will always be created with the correct t0. Note that `ex.reset_prop_time` or `L.reset_prop_time` can be used to change the time at which the next propagator will be created.\n",
    "\n",
    "A density matrix also has a time associated with it, and to multiply\n",
    "```\n",
    "U*rho\n",
    "```\n",
    "we require, similarly, that `U.t0==rho.t%rho.taur`\n",
    "\n",
    "\n",
    "\n",
    "For example, we generate two propagators, and see how their initial times are defined."
   ]
  },
  {
   "cell_type": "code",
   "execution_count": 6,
   "id": "5a61a900",
   "metadata": {},
   "outputs": [
    {
     "name": "stdout",
     "output_type": "stream",
     "text": [
      "U0: t0=0.000 us, tf=5.556 us, Dt=5.556\n",
      "U1: t0=5.556 us, tf=16.667 us, Dt=11.111\n"
     ]
    }
   ],
   "source": [
    "L.reset_prop_time()\n",
    "U0=L.U(Dt=L.taur/3)\n",
    "U1=L.U(Dt=L.taur*2/3)\n",
    "print(f'U0: t0={U0.t0*1e6:.3f} us, tf={U0.tf*1e6:.3f} us, Dt={U0.Dt*1e6:.3f}')\n",
    "print(f'U1: t0={U1.t0*1e6:.3f} us, tf={U1.tf*1e6:.3f} us, Dt={U1.Dt*1e6:.3f}')"
   ]
  },
  {
   "cell_type": "markdown",
   "id": "7227355a",
   "metadata": {},
   "source": [
    "Note that while the first propagator has t0=0, the second starts at 5.556 $\\mu$s, when the previous propagator ended. This happens because when U0 was created, ex.current_time was updated to match the end of U0. Then, we can easily take their product without have problems with mis-matched starting and ending times. When we do so, we get a propagator with length of one rotor period. Note that t0 of the new propagator is not 16.667 μs, which corresponds to the end of U1, but rather 0. This is because t0 is always return as its modulus with respect to the rotor period , where 16.667 μs is the rotor period length."
   ]
  },
  {
   "cell_type": "code",
   "execution_count": 7,
   "id": "0a047c9c",
   "metadata": {},
   "outputs": [
    {
     "data": {
      "text/plain": [
       "Propagator with length of 16.667 microseconds (t0=0.000,tf=16.667)\n",
       "Constructed from the following Liouvillian:\n",
       "\tLiouvillian under the following conditions:\n",
       "\t\t2-spin system (1H,13C)\n",
       "\t\tB0 = 14.092 T (600.000 MHz 1H frequency)\n",
       "\t\trotor angle = 54.736 degrees\n",
       "\t\trotor frequency = 60.0 kHz\n",
       "\t\tTemperature = 298 K\n",
       "\t\tPowder Average: JCP59 with 99 angles\n",
       "\t\n",
       "\tThe individual Hamiltonians have the following interactions\n",
       "\t\tHamiltonian #0\n",
       "\t\t\tdipole between spins 0,1 with arguments:\n",
       "\t\t\t\t(delta=44000.00)\n",
       "\t\t\tCSA on spin 1 with arguments: (delta=100.00,eta=1.00)\n",
       "\t\t\tCS on spin 0 with arguments: (ppm=10.00)\n",
       "\t\t\n",
       "\t\tHamiltonian #1\n",
       "\t\t\tCSA on spin 1 with arguments: (delta=100.00,eta=1.00)\n",
       "\t\t\tCS on spin 0 with arguments: (ppm=10.00)\n",
       "\t\t\tdipole between spins 0,1 with arguments:\n",
       "\t\t\t\t(delta=44000.00,euler=[0.00,30.00,0.00])\n",
       "\t\t\n",
       "\t\t\n",
       "\tHamiltonians are coupled by exchange matrix:\n",
       "\t\tarray([[-50000.,  50000.],\n",
       "\t\t       [ 50000., -50000.]])\n",
       "\t\n",
       "<SLEEPY.Propagator.Propagator object at 0x7fe4e0ffddc0>"
      ]
     },
     "execution_count": 7,
     "metadata": {},
     "output_type": "execute_result"
    }
   ],
   "source": [
    "U1*U0"
   ]
  },
  {
   "cell_type": "markdown",
   "id": "76ca7021",
   "metadata": {},
   "source": [
    "Note that if we multiply U0 by itself, we get a warning, since the end of U0 is not the same time as the beginning of U0 (relative to the rotor period)"
   ]
  },
  {
   "cell_type": "code",
   "execution_count": 8,
   "id": "3c075ac1",
   "metadata": {},
   "outputs": [
    {
     "name": "stderr",
     "output_type": "stream",
     "text": [
      "/Users/albertsmith/Documents/GitHub.nosync/SLEEPY/Propagator.py:241: UserWarning: \n",
      "First propagator ends at 5.555555555555556e-06 but second propagator starts at 0.0\n",
      "  warnings.warn(f'\\nFirst propagator ends at {U.tf%self.taur} but second propagator starts at {self.t0%U.taur}')\n"
     ]
    }
   ],
   "source": [
    "_=U0*U0"
   ]
  },
  {
   "cell_type": "markdown",
   "id": "f597cf5a",
   "metadata": {},
   "source": [
    "As with the Hamiltonian and Liouvillian, propagators can also be plotted:"
   ]
  },
  {
   "cell_type": "code",
   "execution_count": 9,
   "id": "fe362e51",
   "metadata": {},
   "outputs": [
    {
     "data": {
      "text/plain": [
       "<AxesSubplot:>"
      ]
     },
     "execution_count": 9,
     "metadata": {},
     "output_type": "execute_result"
    },
    {
     "data": {
      "image/png": "[encoded data removed]",
      "text/plain": [
       "<Figure size 432x288 with 2 Axes>"
      ]
     },
     "metadata": {
      "filenames": {
       "image/png": "/Users/albertsmith/Documents/GitHub/SLEEPY_tutorial/JupyterBook/_build/jupyter_execute/Chapter1/Ch1_Propagation_18_1.png"
      },
      "needs_background": "light"
     },
     "output_type": "display_data"
    }
   ],
   "source": [
    "U0.plot(mode='abs')"
   ]
  },
  {
   "cell_type": "markdown",
   "id": "f060c5bb",
   "metadata": {},
   "source": [
    "### Special propagators"
   ]
  },
  {
   "cell_type": "markdown",
   "id": "7d5604e6",
   "metadata": {},
   "source": [
    "The Liouvillian can also produce propagators for $\\delta$-pulses (i.e. pulses with zero length) and an identity propagator. Both types have zero length, and they can be multiplied with propagators ending at any time (they do acquire an initial time, but this is not checked when multiplying these types of propagators). The identity propagator does not have any effect on other propagators or density matrices, but is occasionally useful as a kind of propagator pre-allocation."
   ]
  },
  {
   "cell_type": "code",
   "execution_count": 10,
   "id": "ddee0cee",
   "metadata": {},
   "outputs": [
    {
     "data": {
      "text/plain": [
       "<AxesSubplot:>"
      ]
     },
     "execution_count": 10,
     "metadata": {},
     "output_type": "execute_result"
    },
    {
     "data": {
      "image/png": "[encoded data removed]",
      "text/plain": [
       "<Figure size 432x288 with 2 Axes>"
      ]
     },
     "metadata": {
      "filenames": {
       "image/png": "/Users/albertsmith/Documents/GitHub/SLEEPY_tutorial/JupyterBook/_build/jupyter_execute/Chapter1/Ch1_Propagation_21_1.png"
      },
      "needs_background": "light"
     },
     "output_type": "display_data"
    }
   ],
   "source": [
    "Ueye=L.Ueye()\n",
    "Ueye.plot(mode='re')"
   ]
  },
  {
   "cell_type": "markdown",
   "id": "785f3282",
   "metadata": {},
   "source": [
    "A $\\delta$-pulse propagator needs to be provided with a channel ('13C','1H', etc.) or a spin-index (0,1,2). The spin-index will apply the pulse just to one spin, even if there are other spins of the same nucleus type. While this is unphysical, it can be useful for creating selective pulses without requiring a full simulation of a complex pulse shape.\n",
    "\n",
    "The default flip angle for the $\\delta$-pulse is a $\\pi$-pulse with an 'x' phase, but adjusting phi (flip angle) and phase, any $\\delta$-pulse may be obtained."
   ]
  },
  {
   "cell_type": "code",
   "execution_count": 16,
   "id": "bf0cf7dc",
   "metadata": {},
   "outputs": [
    {
     "data": {
      "text/plain": [
       "<AxesSubplot:>"
      ]
     },
     "execution_count": 16,
     "metadata": {},
     "output_type": "execute_result"
    },
    {
     "data": {
      "image/png": "[encoded data removed]",
      "text/plain": [
       "<Figure size 432x288 with 2 Axes>"
      ]
     },
     "metadata": {
      "filenames": {
       "image/png": "/Users/albertsmith/Documents/GitHub/SLEEPY_tutorial/JupyterBook/_build/jupyter_execute/Chapter1/Ch1_Propagation_23_1.png"
      },
      "needs_background": "light"
     },
     "output_type": "display_data"
    }
   ],
   "source": [
    "Ud=L.Udelta('13C',phi=np.pi/2,phase=np.pi/2)  #pi/2 y-pulse on 13C\n",
    "Ud.plot(mode='re')"
   ]
  },
  {
   "cell_type": "markdown",
   "id": "a6e7333c",
   "metadata": {},
   "source": [
    "## Sequences"
   ]
  },
  {
   "cell_type": "markdown",
   "id": "9b300033",
   "metadata": {},
   "source": [
    "Of course, we would also like to be able to apply pulses within propagators. This is achieved with the sequence object, which is also generated from the Liouvillian. \n",
    "\n",
    "Sequences can be used to create propagators, although in some cases, propagators are only calculated internally within rho (next chapter) when used with a sequence.\n",
    "\n",
    "We initialize a sequence by calling L.Sequence(). Usually, when we add channels to the sequence, we define a time-axis while doing so, which will then define the length of the sequence. However, it is possible to use the sequence to just define the amplitude (and optionally phase) of a continuously applied field (or even just a delay). In this case, under spinning, the sequence length then becomes one rotor period by default. If no spinning is used, then this case requires initializing the sequency with a length (`Dt=1e-3` would, for example, make a 1 ms sequence).\n",
    "\n",
    "Once a sequence is defined, we add channels to it. Channels may be added the usual way, by specifying the nucleus, but they may also be added to a specific spin by index."
   ]
  },
  {
   "cell_type": "code",
   "execution_count": 13,
   "id": "1358cbac",
   "metadata": {},
   "outputs": [],
   "source": [
    "seq=L.Sequence()"
   ]
  },
  {
   "cell_type": "markdown",
   "id": "56d7d835",
   "metadata": {},
   "source": [
    "We start with a sequence that has no time axis, just a constant field applied to $^{13}$C, applied in the *y*-direction. We use `seq.plot()` to visualize the result."
   ]
  },
  {
   "cell_type": "code",
   "execution_count": 14,
   "id": "13dfd4e9",
   "metadata": {},
   "outputs": [
    {
     "data": {
      "text/plain": [
       "[<AxesSubplot:ylabel='$v_1$ / kHz'>,\n",
       " <AxesSubplot:xlabel='t / $\\\\mu$s', ylabel='$v_1$ / kHz'>]"
      ]
     },
     "execution_count": 14,
     "metadata": {},
     "output_type": "execute_result"
    },
    {
     "data": {
      "image/png": "[encoded data removed]",
      "text/plain": [
       "<Figure size 432x288 with 2 Axes>"
      ]
     },
     "metadata": {
      "filenames": {
       "image/png": "/Users/albertsmith/Documents/GitHub/SLEEPY_tutorial/JupyterBook/_build/jupyter_execute/Chapter1/Ch1_Propagation_28_1.png"
      },
      "needs_background": "light"
     },
     "output_type": "display_data"
    }
   ],
   "source": [
    "seq.add_channel('13C',v1=25000,phase=np.pi/2)\n",
    "seq.plot()"
   ]
  },
  {
   "cell_type": "markdown",
   "id": "5f7c8c01",
   "metadata": {},
   "source": [
    "Alternatively, we may use pulses. We may overwrite the existing channels, or just create a new sequence (here we overwrite the $^{13}$C channel by calling it without any arguments (the default for v1 is 0). Note that the 'add_channel' function returns the sequence, so we can string together multiple calls to seq."
   ]
  },
  {
   "cell_type": "code",
   "execution_count": 15,
   "id": "16c79c59",
   "metadata": {},
   "outputs": [
    {
     "data": {
      "text/plain": [
       "[<AxesSubplot:ylabel='$v_1$ / kHz'>,\n",
       " <AxesSubplot:xlabel='t / $\\\\mu$s', ylabel='$v_1$ / kHz'>]"
      ]
     },
     "execution_count": 15,
     "metadata": {},
     "output_type": "execute_result"
    },
    {
     "data": {
      "image/png": "[encoded data removed]",
      "text/plain": [
       "<Figure size 432x288 with 2 Axes>"
      ]
     },
     "metadata": {
      "filenames": {
       "image/png": "/Users/albertsmith/Documents/GitHub/SLEEPY_tutorial/JupyterBook/_build/jupyter_execute/Chapter1/Ch1_Propagation_30_1.png"
      },
      "needs_background": "light"
     },
     "output_type": "display_data"
    }
   ],
   "source": [
    "v1=150000\n",
    "tpi=1/v1/2\n",
    "t=[0,L.taur/2-tpi,L.taur/2,L.taur-tpi,L.taur]\n",
    "seq.add_channel('13C').add_channel('1H',t=t,v1=[0,v1,0,v1]).plot()"
   ]
  },
  {
   "cell_type": "markdown",
   "id": "69c87563",
   "metadata": {},
   "source": [
    "Note that this setup lets us easily create shaped pulses by just providing a time axis and a time-dependent amplitude. "
   ]
  },
  {
   "cell_type": "markdown",
   "id": "1b523df9",
   "metadata": {},
   "source": [
    "### Generating propagators from sequences\n",
    "A propagator is generated from a sequence by calling `seq.U()`. By default, the resulting propagator will have t0 at ex.current_time, and Dt will be the length of the sequence (seq.Dt). However, both t0 and Dt may be user defined when calling seq.U. Additionally, t0_seq may also be defined. This results in a propagator that starts partway through the sequence. Note that for a cyclic sequence (cyclic is the default sequence type, and can be changed by calling `L.Sequence(cyclic=False)`), t0_seq defaults to the end of the last call to the sequence, but otherwise defaults to 0. Then, we can interupt a sequence, for example, for detection, without having to actively re-synchronize it. \n",
    "\n",
    "We can observe this behavior below. We start with a 5 μs sequence, such that no $^1$H pulses are applied (the first pulse above starts at 5 μs). We obtain a propagator without off-diagonal terms in the imaginary part except due to exchange, since the system only has a heteronuclear dipole coupling."
   ]
  },
  {
   "cell_type": "code",
   "execution_count": 16,
   "id": "5fcbca2b",
   "metadata": {},
   "outputs": [
    {
     "data": {
      "text/plain": [
       "<AxesSubplot:>"
      ]
     },
     "execution_count": 16,
     "metadata": {},
     "output_type": "execute_result"
    },
    {
     "data": {
      "image/png": "[encoded data removed]",
      "text/plain": [
       "<Figure size 432x288 with 2 Axes>"
      ]
     },
     "metadata": {
      "filenames": {
       "image/png": "/Users/albertsmith/Documents/GitHub/SLEEPY_tutorial/JupyterBook/_build/jupyter_execute/Chapter1/Ch1_Propagation_33_1.png"
      },
      "needs_background": "light"
     },
     "output_type": "display_data"
    }
   ],
   "source": [
    "U0=seq.U(Dt=5e-6)\n",
    "U0.plot()"
   ]
  },
  {
   "cell_type": "markdown",
   "id": "ba8ebd86",
   "metadata": {},
   "source": [
    "However, now if we generate another 5 μs sequence, we obtain a very different propagator, because both t0 and t0_seq have been set forward by 5 μs. Now the propagator contains a $\\pi$-pulse on $^1$H. We can check t0_seq before and after generating U1 to see how this works."
   ]
  },
  {
   "cell_type": "code",
   "execution_count": 17,
   "id": "082d9e3f",
   "metadata": {},
   "outputs": [
    {
     "name": "stdout",
     "output_type": "stream",
     "text": [
      "Before: 5.00 microseconds\n",
      "After: 10.00 microseconds\n"
     ]
    },
    {
     "data": {
      "text/plain": [
       "<AxesSubplot:>"
      ]
     },
     "execution_count": 17,
     "metadata": {},
     "output_type": "execute_result"
    },
    {
     "data": {
      "image/png": "[encoded data removed]",
      "text/plain": [
       "<Figure size 432x288 with 2 Axes>"
      ]
     },
     "metadata": {
      "filenames": {
       "image/png": "/Users/albertsmith/Documents/GitHub/SLEEPY_tutorial/JupyterBook/_build/jupyter_execute/Chapter1/Ch1_Propagation_35_2.png"
      },
      "needs_background": "light"
     },
     "output_type": "display_data"
    }
   ],
   "source": [
    "print(f'Before: {seq.t0_seq*1e6:.2f} microseconds')\n",
    "U1=seq.U(Dt=5e-6)\n",
    "print(f'After: {seq.t0_seq*1e6:.2f} microseconds')\n",
    "U1.plot()"
   ]
  },
  {
   "cell_type": "markdown",
   "id": "c0025edb",
   "metadata": {},
   "source": [
    "We complete the sequence, and do one more check of t0_seq, which should now be set back to 0. We also check that multiplying all the propagators together works, since they were generated one after another to cover a rotor cycle."
   ]
  },
  {
   "cell_type": "code",
   "execution_count": 18,
   "id": "5b9cf096",
   "metadata": {},
   "outputs": [
    {
     "name": "stdout",
     "output_type": "stream",
     "text": [
      "0.0\n"
     ]
    }
   ],
   "source": [
    "U2=seq.U(Dt=seq.Dt-U0.Dt-U1.Dt)\n",
    "print(seq.t0_seq)"
   ]
  },
  {
   "cell_type": "code",
   "execution_count": 19,
   "id": "62a5423c",
   "metadata": {},
   "outputs": [
    {
     "data": {
      "text/plain": [
       "Propagator with length of 16.667 microseconds (t0=0.000,tf=16.667)\n",
       "Constructed from the following Liouvillian:\n",
       "\tLiouvillian under the following conditions:\n",
       "\t\t2-spin system (1H,13C)\n",
       "\t\tB0 = 14.092 T (600.000 MHz 1H frequency)\n",
       "\t\trotor angle = 54.736 degrees\n",
       "\t\trotor frequency = 60.0 kHz\n",
       "\t\tTemperature = 298 K\n",
       "\t\tPowder Average: JCP59 with 99 angles\n",
       "\t\n",
       "\tThe individual Hamiltonians have the following interactions\n",
       "\t\tHamiltonian #0\n",
       "\t\t\tdipole between spins 0,1 with arguments:\n",
       "\t\t\t\t(delta=44000.00)\n",
       "\t\t\tCSA on spin 1 with arguments: (delta=100.00,eta=1.00)\n",
       "\t\t\tCS on spin 0 with arguments: (ppm=10.00)\n",
       "\t\t\n",
       "\t\tHamiltonian #1\n",
       "\t\t\tCSA on spin 1 with arguments: (delta=100.00,eta=1.00)\n",
       "\t\t\tCS on spin 0 with arguments: (ppm=10.00)\n",
       "\t\t\tdipole between spins 0,1 with arguments:\n",
       "\t\t\t\t(delta=44000.00,euler=[0.00,30.00,0.00])\n",
       "\t\t\n",
       "\t\t\n",
       "\tHamiltonians are coupled by exchange matrix:\n",
       "\t\tarray([[-50000.,  50000.],\n",
       "\t\t       [ 50000., -50000.]])\n",
       "\t\n",
       "<SLEEPY.Propagator.Propagator object at 0x7fe4e0b31be0>"
      ]
     },
     "execution_count": 19,
     "metadata": {},
     "output_type": "execute_result"
    }
   ],
   "source": [
    "U2*U1*U0"
   ]
  },
  {
   "cell_type": "markdown",
   "id": "dc7163c3",
   "metadata": {},
   "source": [
    "We will later see that sequences can be a powerful tool for performing more complicated calculations. For example, if we want to calculate spinning sidebands, we need to interupt the rotor period to detect (detecting once a rotor period folds all sidebands back onto the main peak). However, we would have to then generate propagators for different parts of the rotor period and multiply them many times, always in the right sequence. While not impossible to code, it is somewhat tedious, and the calculations are somewhat slow. On the other hand, the rho.DetProp function, which will be introduced in the next section, may be combined with a sequence (possibly an empty one), to perform this operation in the eigenbases of the propagators to rapidly obtain a spectrum. This power comes from the flexibility of sequences, as compared to propagators, which are only valid starting always at the same point in the rotor period."
   ]
  },
  {
   "cell_type": "code",
   "execution_count": null,
   "id": "d9c04dca",
   "metadata": {},
   "outputs": [],
   "source": []
  }
 ],
 "metadata": {
  "kernelspec": {
   "display_name": "Python 3",
   "language": "python",
   "name": "python3"
  },
  "language_info": {
   "codemirror_mode": {
    "name": "ipython",
    "version": 3
   },
   "file_extension": ".py",
   "mimetype": "text/x-python",
   "name": "python",
   "nbconvert_exporter": "python",
   "pygments_lexer": "ipython3",
   "version": "3.8.8"
  }
 },
 "nbformat": 4,
 "nbformat_minor": 5
}