{
 "cells": [
  {
   "cell_type": "markdown",
   "id": "85b01b75",
   "metadata": {},
   "source": [
    "# <font  color = \"#0093AF\"> Experimental Settings and Spin-System Definition"
   ]
  },
  {
   "cell_type": "code",
   "execution_count": 1,
   "id": "f024e7dc",
   "metadata": {},
   "outputs": [],
   "source": [
    "import os\n",
    "os.chdir('../../../')\n",
    "import SLEEPY as sl"
   ]
  },
  {
   "cell_type": "code",
   "execution_count": null,
   "id": "bc395827",
   "metadata": {},
   "outputs": [],
   "source": []
  }
 ],
 "metadata": {
  "kernelspec": {
   "display_name": "Python 3",
   "language": "python",
   "name": "python3"
  },
  "language_info": {
   "codemirror_mode": {
    "name": "ipython",
    "version": 3
   },
   "file_extension": ".py",
   "mimetype": "text/x-python",
   "name": "python",
   "nbconvert_exporter": "python",
   "pygments_lexer": "ipython3",
   "version": "3.7.3"
  }
 },
 "nbformat": 4,
 "nbformat_minor": 5
}
