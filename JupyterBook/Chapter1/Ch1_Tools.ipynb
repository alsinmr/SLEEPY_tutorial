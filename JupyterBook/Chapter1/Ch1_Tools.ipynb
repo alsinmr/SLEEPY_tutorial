{
 "cells": [

{
   "cell_type": "markdown",
   "id": "517484d2",
   "metadata": {},
   "source": [
    "# <font  color = \"#0093AF\">Defaults, Constants, and Tools</font>"
   ]
},
{
     "cell_type": "markdown",
     "metadata": {},
     "source": [
      "<a href=\"https://githubtocolab.com/alsinmr/SLEEPY_tutorial/blob/main/ColabNotebooks/Chapter1/Ch1_Tools.ipynb\" target=\"_blank\"><img src=\"https://colab.research.google.com/assets/colab-badge.svg\"></a>"
     
            ]
},
{
   "cell_type": "markdown",
   "id": "40408507",
   "metadata": {},
   "source": [
    "SLEEPY relies on a few default settings, numerical constants, and includes a toolbox. These are all found in the main SLEEPY module:\n",
    "```\n",
    "sl.Defaults     #Python dictionary containing defaults\n",
    "sl.Constants    #Python dictionary containing constants\n",
    "sl.Tools        #Python sub-module containing tools\n",
    "```\n",
    "\n",
    "We summarize the contents of these here."
   ]
},
{
   "cell_type": "markdown",
   "id": "2f4a5243",
   "metadata": {},
   "source": [
    "## Setup"
   ]
}
,
    {
     "cell_type": "code",
     "execution_count": 0,
     "metadata": {"tags": [
        "remove-cell"
    ]},
     "outputs": [],
     "source": [
      "# SETUP SLEEPY\n",
      "import sys\n",
      "if 'google.colab' in sys.modules:\n",
      "  !pip install sleepy-nmr"
     ]
    },
{
   "cell_type": "code",
   "execution_count": 2,
   "id": "3608d837",
   "metadata": {},
   "outputs": [],
   "source": [
    "import SLEEPY as sl\n",
    "import numpy as np\n",
    "import matplotlib.pyplot as plt"
   ]
},
{
   "cell_type": "markdown",
   "id": "1ae7faab",
   "metadata": {},
   "source": [
    "## Defaults\n",
    "\n",
    "* `rtype`,`ctype`: Default numpy data types for real and complex data\n",
    "    - We do not recommend changing these. Numpy does not support higher precision data types for all calculations, and lower precision data types do not result in significant speed up in calculations (although should reduce memory usage).\n",
    "    \n",
    "* `parallel`,`ncores`: Flag to activate parallel processing over the powder average and the number of cores to use\n",
    "    - Parallel processing is not always beneficial, because the implemented linear algebra libraries in the BLAS and LAPACK libraries are already fairly optimized for parallel calculations, whereas Python's parallelism introduces communication overhead (this can be system-dependent). Use ncores where SLEEPY should not use all cores available.\n",
    "    \n",
    "* `verbose`: Activates text outputs from SLEEPY.\n",
    "    - Especially where one loops over many simulations, the text outputs can get annoying and can be turned off here.\n",
    "    \n",
    "* `zoom`: Create plots with sliders for zooming in on the various axes. \n",
    "    - By default, off unless running in Google Colab or MyBinder, but can be turned on for any Jupyter-like Notebook. Note that in Colab, this setting will restrict post-editing of the figure axis. For locally-run Jupyter Notebooks, a nice alternative to `zoom` is to run `%matplotlib notebook` in a cell, which activates zoomable plots with the cursor (no sliders). However, for many other notebook implementations, `%matplotlib notebook` will break matplotlib outputs (for example, in Binder or Colab).\n",
    "    \n",
    "* `Colab`,`Binder`: Each of these flags is set to True if running in Colab or Binder, respectively. \n",
    "    - These will changing 'zoom' behavior and the dark-mode coloring. Note that when Colab is in dark mode when SLEEPY is imported, SLEEPY will also switch into to dark mode. This can be turned on and off with `sl.set_dark(True/False)`"
   ]
},
{
   "cell_type": "code",
   "execution_count": 3,
   "id": "f62082a7",
   "metadata": {},
   "outputs": [
    {
     "data": {
      "text/plain": [
       "{'rtype': numpy.float64,\n",
       " 'ctype': numpy.complex128,\n",
       " 'parallel': False,\n",
       " 'cache': True,\n",
       " 'ncores': None,\n",
       " 'verbose': True,\n",
       " 'zoom': False,\n",
       " 'Colab': False,\n",
       " 'Binder': False}"
      ]
     },
     "execution_count": 3,
     "metadata": {},
     "output_type": "execute_result"
    }
   ],
   "source": [
    "sl.Defaults"
   ]
},
{
   "cell_type": "markdown",
   "id": "8c687600",
   "metadata": {},
   "source": [
    "# Constants"
   ]
},
{
   "cell_type": "markdown",
   "id": "04402974",
   "metadata": {},
   "source": [
    "SLEEPY loads a few physical constants for calculations. \n",
    "\n",
    "* $h$ = $6.62607015\\times10^{-34}$ J$\\cdot$s: Planck constant\n",
    "* $k_B$ = $1.380649\\times10^{-23}$ J/K: Boltzmann constant\n",
    "* $\\mu_B$ = $-13996244936.072704$ Hz/T: Bohr magneton\n",
    "* $g_e$ = $2.00231930436092$ : Free electron g-factor (unitless)\n",
    "* $\\mu_n$ = $7622593.158495312$ Hz/T: Nuclear magneton\n",
    "* $\\mu_0$ = $1.256637\\times10^{-6}$ T$^2\\cdot$m$^3$/J: Vacuum Permeability\n",
    "\n",
    "The Planck constant ($h$) is used to calculate energy from frequencies, and the Boltzmann constant ($k_B)$ is used with these energies to calculate equilibrium density matrices. The Bohr magneton ($\\mu_B$) is used with the free electron g-factor ($g_e$) to calculate the electron Gyromagnetic ratio. This is in turn used as reference for the electron carrier frequency. The nuclear magneton ($\\mu_n$) is used for calculating the nuclear gyromagnetic ratios from their g-factors. $\\mu_0$ is used for calculating dipole couplings.\n",
    "\n",
    "These constants can be user-adjusted. Note that adjusting $\\mu_n$ after loading SLEEPY will *not* affect the nuclear gyromagnetic ratios because these are calculated when SLEEPY loads. However, adjusting $g_e$ will change the electron gyromagnetic ratio and in turn, change the electron carrier frequency (resulting in shifting the middle of electron spectra, and re-defining offsets for applied microwave fields). Adjustments to $h$ and $k_B$ will affect thermal equilibrium calculations, and adjusting $\\mu_0$ will change dipole coupling calculations."
   ]
},
{
   "cell_type": "code",
   "execution_count": 4,
   "id": "0cd34d18",
   "metadata": {},
   "outputs": [
    {
     "data": {
      "text/plain": [
       "{'h': 6.62607015e-34,\n",
       " 'kB': 1.380649e-23,\n",
       " 'mub': -13996244936.072704,\n",
       " 'ge': 2.0023193043609235,\n",
       " 'mun': 7622593.158495312,\n",
       " 'mu0': 1.256637e-06}"
      ]
     },
     "execution_count": 4,
     "metadata": {},
     "output_type": "execute_result"
    }
   ],
   "source": [
    "sl.Constants"
   ]
},
{
   "cell_type": "markdown",
   "id": "1085d32e",
   "metadata": {},
   "source": [
    "## Tools"
   ]
},
{
   "cell_type": "markdown",
   "id": "5c531c32",
   "metadata": {},
   "source": [
    "SLEEPY has a variety of tools for help setting up simulations or obtaining general useful information. These are discussed here."
   ]
},
{
   "cell_type": "markdown",
   "id": "79361075",
   "metadata": {},
   "source": [
    "### NucInfo\n",
    "`sl.Tools.NucInfo` provides information about nuclei. It may be indexed (`NucInfo[...]`) with the name of a nucleus, or called as a function. Using the chemical symbol without mass number will return all isotopes of that element. Calling by default returns the gyromagnetic ratio in Hz/T. One may also set `info=...` and request 'gyro', 'mass', 'spin', 'abund', or 'all', which returns a dictionary with all values. For calls (`NucInfo(...)`), if only the chemical symbol is provided ('H', 'N','U', etc.), then it will try to guess the desired nucleus (priority: spin 1/2, non-zero spin, abundance, so 'H'->'1H', 'C'->'13C', 'U'->'235U')."
   ]
},
{
   "cell_type": "code",
   "execution_count": 5,
   "id": "47344f2a",
   "metadata": {},
   "outputs": [
    {
     "data": {
      "text/plain": [
       "42577478.05321166"
      ]
     },
     "execution_count": 5,
     "metadata": {},
     "output_type": "execute_result"
    }
   ],
   "source": [
    "sl.Tools.NucInfo('H')  #Returns 1H gyroratio "
   ]
},
{
   "cell_type": "code",
   "execution_count": 6,
   "id": "e9f15ee3",
   "metadata": {},
   "outputs": [
    {
     "data": {
      "text/plain": [
       "{'Nuc': 'C',\n",
       " 'mass': 13.0,\n",
       " 'spin': 0.5,\n",
       " 'gyro': 10708398.762252755,\n",
       " 'abundance': 0.010700000000000001}"
      ]
     },
     "execution_count": 6,
     "metadata": {},
     "output_type": "execute_result"
    }
   ],
   "source": [
    "sl.Tools.NucInfo('13C',info='all')  #Returns all info about 13C"
   ]
},
{
   "cell_type": "code",
   "execution_count": 7,
   "id": "8ad5e5b0",
   "metadata": {},
   "outputs": [
    {
     "data": {
      "text/plain": [
       "                     0\n",
       "Nuc                  N\n",
       "mass              15.0\n",
       "spin               0.5\n",
       "gyro        -4317266.6\n",
       "abundance      0.00368\n",
       "\n",
       "[1 experiments with 5 parameters]"
      ]
     },
     "execution_count": 7,
     "metadata": {},
     "output_type": "execute_result"
    }
   ],
   "source": [
    "sl.Tools.NucInfo['15N']  #Returns all info about 15N (exact match required)"
   ]
},
{
   "cell_type": "code",
   "execution_count": 8,
   "id": "a36d984e",
   "metadata": {},
   "outputs": [
    {
     "data": {
      "text/plain": [
       "                     0           1           2\n",
       "Nuc                  O           O           O\n",
       "mass              16.0        17.0        18.0\n",
       "spin               0.0         2.5         0.0\n",
       "gyro               0.0  -5774236.2         0.0\n",
       "abundance   0.99757000  0.00037999  0.00204999\n",
       "\n",
       "[3 experiments with 5 parameters]"
      ]
     },
     "execution_count": 8,
     "metadata": {},
     "output_type": "execute_result"
    }
   ],
   "source": [
    "sl.Tools.NucInfo['O'] #Returns all types of Oxygen"
   ]
},
{
   "cell_type": "markdown",
   "id": "04f22089",
   "metadata": {},
   "source": [
    "### dipole_coupling\n",
    "Calculates the dipole coupling between two nuclei (or electron). Input is the distance between the nuclei in Angstroms and the names of the two nuclei. Output is the *anisotropy* (`delta`) of the dipole coupling in Hz, which is twice as large as some other definitions of the dipole. If using this function, the output value should be assigned to `delta` when adding a dipole coupling to a system (assign `D` if using half this value for the `dipole` interaction).\n",
    "\n",
    "e.g.:\n",
    "```\n",
    "ex.set_inter('dipole',i0=0,i1=1,delta=sl.Tools.dipole_coupling(.102,'15N','1H'))\n",
    "```"
   ]
},
{
   "cell_type": "code",
   "execution_count": 9,
   "id": "43689ce1",
   "metadata": {},
   "outputs": [
    {
     "data": {
      "text/plain": [
       "46656.37350022942"
      ]
     },
     "execution_count": 9,
     "metadata": {},
     "output_type": "execute_result"
    }
   ],
   "source": [
    "sl.Tools.dipole_coupling(.109,'1H','13C')"
   ]
},
{
   "cell_type": "markdown",
   "id": "9dd7a288",
   "metadata": {},
   "source": [
    "### Exchange matrices\n",
    "Sleepy calculates a number of different exchange matrices. One provides a correlation time to define these matrices. This correlation time is the inverse of the non-zero eigenvalue (or inverse of the mean of the non-zero eigenvalues). This effective correlation time is the correct value to be applied, for example, for model-free calculations. For a 2-site exchange, for example, $\\tau_c=1/(k_{12}+k_{21})$.\n",
    "\n",
    "* `twoSite_kex`: Two-site exchange with correlation time and optionally populations as input. \n",
    "\n",
    "\n",
    "* `nSite_sym`: Returns an exchange matrix over $n$-sites, where all sites are equally populated, and all exchange rate constants are the same. Input is the number of sites and the correlation time. Note that while there are $n-1$ non-zero eigenvalues to this matrix, all eigenvalues are the same.\n",
    "\n",
    "\n",
    "* `fourSite_sym`: Same as above, but specifically for four sites. Usually paired with tetrahedral hopping.\n",
    "\n",
    "\n",
    "* `tumbling`: Takes either a 3-site or 4-site symmetric hop, or a \"repulsion\" powder average, and calculates an exchange matrix to mimic tumbling. The rates are adjusted so that the mean non-zero eigenvalue matches the input correlation time. Also returns Euler angles (usually, not directly used by the user; rather use `sl.Tools.SetupTumbling`, see below). Number of angles is determined by an integer quality factor, `q`. Tumbling does not currently include an average around the $\\gamma$-angle.\n",
    "\n",
    "\n",
    "\n",
    "[1] G. Lipari, A. Szabo. [J. Am. Chem. Soc.](https://doi.org/10.1021/ja00381a010), **1982**, 104, 4559-4579."
   ]
},
{
   "cell_type": "code",
   "execution_count": 10,
   "id": "0d1835a5",
   "metadata": {},
   "outputs": [
    {
     "name": "stdout",
     "output_type": "stream",
     "text": [
      "[[-250.  750.]\n",
      " [ 250. -750.]]\n"
     ]
    }
   ],
   "source": [
    "print(sl.Tools.twoSite_kex(tc=1e-3,p1=.75))  #Two-site, asymmetric exchange"
   ]
},
{
   "cell_type": "code",
   "execution_count": 11,
   "id": "f74deaf1",
   "metadata": {},
   "outputs": [
    {
     "name": "stdout",
     "output_type": "stream",
     "text": [
      "[[-800.  200.  200.  200.  200.]\n",
      " [ 200. -800.  200.  200.  200.]\n",
      " [ 200.  200. -800.  200.  200.]\n",
      " [ 200.  200.  200. -800.  200.]\n",
      " [ 200.  200.  200.  200. -800.]]\n"
     ]
    }
   ],
   "source": [
    "print(sl.Tools.nSite_sym(n=5,tc=1e-3))    #Five-site, symmetric exchange"
   ]
},
{
   "cell_type": "code",
   "execution_count": 12,
   "id": "19f48811",
   "metadata": {},
   "outputs": [
    {
     "name": "stdout",
     "output_type": "stream",
     "text": [
      "-768.1  180.7    0.0  173.4  173.2  119.8    0.0    0.0    0.0  121.0\n",
      " 180.7 -752.9    0.0    0.0    0.0  180.9   28.9  180.3    0.0  182.2\n",
      "   0.0    0.0 -753.7  181.6  180.9    0.0  180.8   28.9  181.5    0.0\n",
      " 173.4    0.0  181.6 -769.3  120.0    0.0  121.3    0.0    0.0  173.1\n",
      " 173.2    0.0  180.9  120.0 -768.4  173.7    0.0    0.0  120.5    0.0\n",
      " 119.8  180.9    0.0    0.0  173.7 -768.1    0.0  120.2  173.4    0.0\n",
      "   0.0   28.9  180.8  121.3    0.0    0.0 -797.5  173.3  119.7  173.4\n",
      "   0.0  180.3   28.9    0.0    0.0  120.2  173.3 -796.5  173.6  120.2\n",
      "   0.0    0.0  181.5    0.0  120.5  173.4  119.7  173.6 -768.8    0.0\n",
      " 121.0  182.2    0.0  173.1    0.0    0.0  173.4  120.2    0.0 -769.9\n"
     ]
    }
   ],
   "source": [
    "kex,euler=sl.Tools.tumbling(q=2,tc=1e-3)\n",
    "for k in kex:\n",
    "    print(' '.join([f'{k0:6.1f}' for k0 in k]))"
   ]
},
{
   "cell_type": "markdown",
   "id": "d632794e",
   "metadata": {},
   "source": [
    "Note that the eigenvalues of the above matrix are not all identical, but span a fairly small range where the amplitude is significant, making it a good approximation for tumbling. The inverse of the weighted average of the eigenvalues matches the input correlation time (use `kex2A` to verify)"
   ]
},
{
   "cell_type": "markdown",
   "id": "cfc2c4ad",
   "metadata": {},
   "source": [
    "### Back-calculating the correlation function"
   ]
},
{
   "cell_type": "markdown",
   "id": "133a07ca",
   "metadata": {},
   "source": [
    "SLEEPY provides several tools to help obtain correlation functions from motion. For example, `kex2A` will calculate the order parameter (`S2`), populations (`peq`), correlation times(`tc`), and weights of the correlation times (`A`) resulting from a given exchange matrix and the corresponding set of euler angles. From `S2`, `tc`, and `A`, it is possible to calculate the correlation function, according to:\n",
    "\n",
    "$$\n",
    "\\begin{equation}\n",
    "C(t)=S^2+(1-S^2)\\sum_i{A_i\\exp(-t/\\tau_i)}\n",
    "\\end{equation}\n",
    "$$\n",
    "\n",
    "For example, we can obtain the correlation function via the following code (make sure you pick a sensible time axis for the given correlation time). Note that `sl.Tools.pars2Ct` will also do this calculation for you (including picking a good time axis if not provided).\n",
    "\n",
    "We plot the result, and also a monoexponential correlation time with the same mean rate constant."
   ]
},
{
   "cell_type": "code",
   "execution_count": 13,
   "id": "f3c8c31e",
   "metadata": {},
   "outputs": [
    {
     "data": {
      "image/png": "[encoded data removed]",
      "text/plain": [
       "<Figure size 432x288 with 1 Axes>"
      ]
     },
     "metadata": {
      "needs_background": "light"
     },
     "output_type": "display_data"
    }
   ],
   "source": [
    "S2,peq,tc,A=sl.Tools.kex2A(kex,euler)\n",
    "t=np.linspace(0,5e-3,200)\n",
    "Ct=S2+(1-S2)*np.sum([A0*np.exp(-t/tc0) for A0,tc0 in zip(A,tc)],axis=0)\n",
    "\n",
    "kavg=(1/tc*A).sum()\n",
    "\n",
    "ax=plt.subplots()[1]\n",
    "ax.plot(t*1e3,Ct)\n",
    "ax.plot(t*1e3,S2+(1-S2)*np.exp(-t*kavg),color='black',linestyle=':')\n",
    "ax.legend(('C(t)','MonoExponential'))\n",
    "ax.set_xlabel('t / ms')\n",
    "_=ax.set_ylabel('C(t)')"
   ]
},
{
   "cell_type": "code",
   "execution_count": 14,
   "id": "d7d7e80a",
   "metadata": {},
   "outputs": [
    {
     "name": "stdout",
     "output_type": "stream",
     "text": [
      "S2 = 0.00023\n"
     ]
    }
   ],
   "source": [
    "print(f'S2 = {S2:.5f}')"
   ]
},
{
   "cell_type": "markdown",
   "id": "d9be5f9f",
   "metadata": {},
   "source": [
    "As we see, the model for tumbling yields a very nearly monoexponential correlation function, with an order parameter of nearly zero. We later use our tumbling model for predicting dynamics effects in solution.\n",
    "\n",
    "Note that the tumbling model will effect tensors differently if they are not initially pointing along the *z*-axis. The simplest way to deal with this is to always set the Euler angles to zero, but some simulations require multiple tensors with different Euler angles. In this case, it may be useful to check the correlation function and Euler angles for each tensor separately. Then, we may use `sl.Tools.L2A`, which will extract parameters for the correlation function for all anisotropic interactions in the Liouvillian. We build a system with two non-parallel interactions and demonstrate below (note we use a tool from the next section to perform the setup)."
   ]
},
{
   "cell_type": "code",
   "execution_count": 15,
   "id": "7a25bbde",
   "metadata": {},
   "outputs": [
    {
     "data": {
      "image/png": "[encoded data removed]",
      "text/plain": [
       "<Figure size 432x288 with 1 Axes>"
      ]
     },
     "metadata": {
      "needs_background": "light"
     },
     "output_type": "display_data"
    }
   ],
   "source": [
    "ex=sl.ExpSys(v0H=600,Nucs=['1H','15N'],vr=0,pwdavg='alpha0beta0')\n",
    "ex.set_inter('dipole',i0=0,i1=1,delta=-22950,euler_d=[0,0,0])\n",
    "ex.set_inter('CSA',i=0,delta=113,euler_d=[0,23,0])\n",
    "\n",
    "L=sl.Tools.SetupTumbling(ex,tc=1e-9,q=2)\n",
    "\n",
    "S2,peq,tc,A=sl.Tools.L2A(L)\n",
    "\n",
    "t=np.linspace(0,5e-9,200)\n",
    "_,Ct_dip=sl.Tools.pars2Ct(S2[0],tc[0],A[0],t=t)\n",
    "_,Ct_CSA=sl.Tools.pars2Ct(S2[1],tc[1],A[1],t=t)\n",
    "\n",
    "ax=plt.subplots()[1]\n",
    "ax.plot(t*1e9,Ct_dip)\n",
    "ax.plot(t*1e9,Ct_CSA)\n",
    "ax.plot(t*1e9,np.exp(-t/1e-9),color='black',linestyle=':')\n",
    "_=ax.legend((r'dipole ($\\beta$=0$^\\circ$)',r'CSA ($\\beta$=23$^\\circ$)',r'Monoexponential ($\\tau_c$= 1 ns)'))"
   ]
},
{
   "cell_type": "code",
   "execution_count": 16,
   "id": "1c88a3b8",
   "metadata": {},
   "outputs": [
    {
     "name": "stdout",
     "output_type": "stream",
     "text": [
      "S2 for dipole: 0.0002\n",
      "S2 for CSA: 0.0088\n"
     ]
    }
   ],
   "source": [
    "print(f'S2 for dipole: {S2[0]:.4f}')\n",
    "print(f'S2 for CSA: {S2[1]:.4f}')"
   ]
},
{
   "cell_type": "markdown",
   "id": "5f7ef205",
   "metadata": {},
   "source": [
    "Then, for the second interaction, the performance is not as good, but will often be sufficient for approximating various dynamics effects resulting from tumbling. In particular, the order parameter performance is quite good, but the effective correlation time is longer than the input value.\n",
    "\n",
    "Note that once we have the parameters of our correlation function, we can use the `sl.Tools.pars2Ct` function to obtain the correlation function itself. We may also use the `sl.Tools.L2Ct` function to go directly from the Liouvillian to correlation functions for each interaction in the Liouvillian."
   ]
},
{
   "cell_type": "markdown",
   "id": "220ea575",
   "metadata": {},
   "source": [
    "### Exchange setup tools"
   ]
},
{
   "cell_type": "markdown",
   "id": "5d1bf9c7",
   "metadata": {},
   "source": [
    "SLEEPY has three tools for setting up orientational exchange simulations, which handles both construction of an exchange matrix, and construction of the spin-systems in exchange starting from a reference system (`ExpSys`). These tools can return the Liouvillian directly, or return the `ExpSys` list (`ex_list`) and exchange matrix (`kex`). \n",
    "\n",
    "The three tools are :\n",
    "* `Setup3siteSym`: Three site hopping around a given axis. Provide the reference `ExpSys`, the correlation time (`tc`), and the opening angle of hopping (`phi`). Note that the resulting order parameter is $S^2=(-1/2+3/2\\cos^2(\\phi))^2$\n",
    "\n",
    "\n",
    "* `SetupTetraHop`: Hopping on a tetrahedral grid. Provide the reference `ExpSys`, the correlation time (`tc`), and the number of sites to use (`n`, for example, a methyl group hops around 3 of 4 tetrahedral sites.\n",
    "\n",
    "\n",
    "* `SetupTumbling`: Approximately isotropic hopping around a repulsion powder average to mimic tumbling. Provide the reference `ExpSys`, the correlation time (`tc`), and a quality factor, `q`. Note that `q=0` hops among the *x*-, *y*-, and *z*-axes, and `q=1` hops on a tetrahedral geometry. `q=2-12` hops on the repulsion powder averages (with 10, 20, 66, 100, 144, 168, 256, 320, 678, and 2000 elements).\n",
    "\n",
    "The `sl.Tools.SetupTumbling` function was applied above. The output of these functions can always be plugged into `sl.Tools.L2A` followed by `sl.Tools.pars2Ct` or into `sl.Tools.L2Ct`, which performs both steps, to evaluate how well the tumbling model performs."
   ]
},
{
   "cell_type": "code",
   "execution_count": 17,
   "id": "9eccce3f",
   "metadata": {},
   "outputs": [],
   "source": [
    "ex=sl.ExpSys(v0H=600,Nucs=['1H','13C'],vr=0,pwdavg='alpha0beta0')\n",
    "ex.set_inter('dipole',i0=0,i1=1,delta=sl.Tools.dipole_coupling(.109,'1H','13C'))\n",
    "L=sl.Tools.SetupTetraHop(ex,tc=1e-9)"
   ]
},
{
   "cell_type": "code",
   "execution_count": 18,
   "id": "5622d14e",
   "metadata": {},
   "outputs": [
    {
     "data": {
      "image/png": "[encoded data removed]",
      "text/plain": [
       "<Figure size 432x288 with 1 Axes>"
      ]
     },
     "metadata": {
      "needs_background": "light"
     },
     "output_type": "display_data"
    }
   ],
   "source": [
    "t,Ct=sl.Tools.L2Ct(L)\n",
    "\n",
    "kavg=-(Ct[0][1]-Ct[0][0])/t[1]\n",
    "\n",
    "ax=plt.subplots()[1]\n",
    "ax.plot(t*1e3,Ct[0])\n",
    "ax.plot(t*1e3,np.exp(-t*kavg),color='black',linestyle=':')\n",
    "ax.legend(('C(t)','MonoExponential'))\n",
    "ax.set_xlabel('t / ms')\n",
    "_=ax.set_ylabel('C(t)')"
   ]
},
{
   "cell_type": "markdown",
   "id": "2db73e4b",
   "metadata": {},
   "source": [
    "Then, `L` is derived from the interactions in `ex`, but exchanges over 4 different sets of Euler angles (for tetrahedral hopping). The exchange matrix can be viewed as follows:"
   ]
},
{
   "cell_type": "code",
   "execution_count": 19,
   "id": "92956676",
   "metadata": {},
   "outputs": [
    {
     "data": {
      "image/png": "[encoded data removed]",
      "text/plain": [
       "<Figure size 432x288 with 2 Axes>"
      ]
     },
     "metadata": {
      "needs_background": "light"
     },
     "output_type": "display_data"
    }
   ],
   "source": [
    "_=L.plot(what='kex',mode='re')"
   ]
},
{
   "cell_type": "markdown",
   "id": "31fc3c78",
   "metadata": {},
   "source": [
    "## Two-dimensional acquisition\n",
    "SLEEPY has a tool, the `TwoD_Builder`, which allows acquisition of two-dimensional experiments. The user needs to provide an initial density matrix, `rho` (may already be propagated with propagators or sequences), sequences for the indirect (`seq_in`) and direct dimension acquisition (`seq_dir)`, and sequences to convert from the *x*-component of the indirect dimension (`seq_trX`) and from the *y*-component of the indirect dimension (`seq_trY`) to the direct dimension. Further details may be found in Chapter 2, [EXSY](../Chapter2/Ch2_EXSY.ipynb)."
   ]
}
],
 "metadata": {
  "kernelspec": {
   "display_name": "Python 3",
   "language": "python",
   "name": "python3"
  },
  "language_info": {
   "codemirror_mode": {
    "name": "ipython",
    "version": 3
   },
   "file_extension": ".py",
   "mimetype": "text/x-python",
   "name": "python",
   "nbconvert_exporter": "python",
   "pygments_lexer": "ipython3",
   "version": "3.7.3"
  }
 },
 "nbformat": 4,
 "nbformat_minor": 5
}
