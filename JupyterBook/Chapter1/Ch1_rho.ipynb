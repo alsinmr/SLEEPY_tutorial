{
 "cells": [
  {
   "cell_type": "markdown",
   "id": "efa4a621",
   "metadata": {},
   "source": [
    "# <font  color = \"#0093AF\"> The Density Matrix"
   ]
  },
  {
   "cell_type": "markdown",
   "id": "1dba0754",
   "metadata": {},
   "source": [
    "The final core object of the SLEEPY module is the density matrix object, Rho ($\\hat{\\rho})$. Rho is initialized with an initial state of the spin-system. It also contains the detection operator or operators, which must also be specified at initialization. Rho also stores the signal resulting from detection operations, and contains functions for plotting the resulting 1D time-domain and frequency-domain signals."
   ]
  },
  {
   "cell_type": "markdown",
   "id": "6a308694",
   "metadata": {},
   "source": [
    "## Setup"
   ]
  },
  {
   "cell_type": "code",
   "execution_count": 1,
   "id": "e58baa5d",
   "metadata": {},
   "outputs": [],
   "source": [
    "import os\n",
    "os.chdir('../../../')\n",
    "import SLEEPY as sl\n",
    "import numpy as np"
   ]
  },
  {
   "cell_type": "code",
   "execution_count": 3,
   "id": "f4f881f4",
   "metadata": {},
   "outputs": [],
   "source": [
    "# Generate an experimental system and a Liouvillian\n",
    "ex=sl.ExpSys(v0H=600,Nucs=['1H','13C'],vr=5000,n_gamma=30,pwdavg=2)\n",
    "ex.set_inter('dipole',i0=0,i1=1,delta=44000).set_inter('CSA',i=1,delta=100,eta=1).\\\n",
    "    set_inter('CS',i=0,ppm=10) #Add a dipole, CSA to 13C, and CS to 1H\n",
    "\n",
    "ex1=ex.copy() #Copy the above\n",
    "ex1.set_inter('dipole',i0=0,i1=1,delta=44000,euler=[0,30*np.pi/180,0])\n",
    "\n",
    "L=sl.Liouvillian(ex,ex1,kex=sl.Tools.twoSite_kex(3e-6)) #Here, we produce the exchange matrix with twoSite_kex"
   ]
  },
  {
   "cell_type": "markdown",
   "id": "e2263064",
   "metadata": {},
   "source": [
    "## Initialize rho"
   ]
  },
  {
   "cell_type": "code",
   "execution_count": 4,
   "id": "c87b5770",
   "metadata": {},
   "outputs": [],
   "source": [
    "# rho must be initialized with rho0, and one or more detection operators. \n",
    "#If multiple detection operators are provided, then multiple signals are stored\n",
    "rho=sl.Rho(rho0='1Hx',detect=['1Hx','13Cx'])"
   ]
  },
  {
   "cell_type": "markdown",
   "id": "2a5ac3d1",
   "metadata": {},
   "source": [
    "Usually, the initial density matrix and detection operators are specified by a nucleus and a direction (x,y,z,+(p),-(m),α(alpha), or β(beta)). However, we may alternatively specify a specific spin ('S1x', for example). 'Thermal' may be specified as the initial density matrix, which will then be calculated for the rotor-averaged Hamiltonian at the experimental temperature (ex.T_K). Operators may also be scaled (2*13Cp, for example). \n",
    "\n",
    "Finally, the user may also input their own initial density matrix and detection operators as matrices. Any arbitrary matrix of the appropriate dimension (`ex.Op.Mult.prod()xex.Op.Mult.prod()`) can be input. However, the most straightforward way to build these is from the spin matrices, which are stored in ex.Op (see [ExpSys](Chapter1/Ch1_expsys) for more details). For example, if we want to initialize in a double quantum coherence between spins 0 and 1, we could construct:\n",
    "\n",
    "```\n",
    "Op=ex.Op\n",
    "rho=sl.Rho(rho0=Op[0].p@Op[1].p+Op[0].m@Op[1].m,detect='S0p')\n",
    "```\n",
    "Note that the spin operators are simply numpy matrices, for which `@` is required for correct matrix multiplication, whereas `*` provides elementwise multiplication, which is not correct for our purposes."
   ]
  },
  {
   "cell_type": "markdown",
   "id": "f5957c33",
   "metadata": {},
   "source": [
    "## Detection with rho"
   ]
  },
  {
   "cell_type": "markdown",
   "id": "bb853072",
   "metadata": {},
   "source": [
    "rho already contains the detection matrix or matrices required for detection. Then, detection is performed simply by calling rho\n",
    "```\n",
    "rho()\n",
    "```\n",
    "When executed, this will store the product of the currect propagator with the detection operator or operators, into the matrix rho.I. This matrix is always 2D, with the first dimension corresponding to the detectors (so, there may only be one element in the first dimension), and the second dimension corresponding to the detection calls. When rho is called, it will also store the current time of the propagator, which is determined by the sum of times from all propagators which rho was multiplied with up until that point (`rho.t_axis`). For systems with a powder average, rho also contains rho.Ipwd, which is a 3D matrix where the first dimension runs down the powder average, the second down the detection operators, and the third down the detection calls."
   ]
  },
  {
   "cell_type": "markdown",
   "id": "671e8564",
   "metadata": {},
   "source": [
    "## Interaction of rho with propagators and sequences"
   ]
  },
  {
   "cell_type": "markdown",
   "id": "30401db3",
   "metadata": {},
   "source": [
    "rho works more or less like one would expect with a propagator: we can just multiply rho by the propagator to propagate rho forward in time. We'll set up a cross-polarization sequence as example."
   ]
  },
  {
   "cell_type": "code",
   "execution_count": 47,
   "id": "f4b35d02",
   "metadata": {},
   "outputs": [
    {
     "data": {
      "image/png": "[encoded data removed]",
      "text/plain": [
       "<Figure size 432x288 with 2 Axes>"
      ]
     },
     "metadata": {
      "needs_background": "light"
     },
     "output_type": "display_data"
    }
   ],
   "source": [
    "seq=L.Sequence(Dt=1e-3)\n",
    "seq.add_channel('13C',v1=25000)\n",
    "t=L.dt*np.arange(30*5) #L.dt=L.taur/ex.n_gamma, 150 steps is 5 rotor periods (1 ms)\n",
    "seq.add_channel('1H',t=t,v1=30000+np.linspace(-1,1,len(t))*5000) #ramp cp \n",
    "seq.plot()\n",
    "U=seq.U()"
   ]
  },
  {
   "cell_type": "markdown",
   "id": "c4a0a550",
   "metadata": {},
   "source": [
    "Note, U isn't actually calculated until it's need, so the above step is fast, but below is much slower. \n",
    "\n",
    "Take care with the order of operations below. Function calls precede mathematical operations, so that the call to rho inside the parenthesis is the first step executed, followed by multiplication of rho by U, and then another detecton is executed outside of the parenthesis. That is\n",
    "```\n",
    "(U*rho())()\n",
    "```\n",
    "is equivalent to\n",
    "```\n",
    "rho()\n",
    "U*rho\n",
    "rho()\n",
    "```"
   ]
  },
  {
   "cell_type": "code",
   "execution_count": 48,
   "id": "eaff7edf",
   "metadata": {},
   "outputs": [
    {
     "data": {
      "text/plain": [
       "Density Matrix/Detection Operator\n",
       "rho0: 1Hx\n",
       "detect[0]: 1Hx\n",
       "detect[1]: 13Cx\n",
       "Current time is 1200.000 microseconds\n",
       "2 time points have been recorded\n",
       "\n",
       "<SLEEPY.Rho.Rho object at 0x7fa749daadc0>"
      ]
     },
     "execution_count": 48,
     "metadata": {},
     "output_type": "execute_result"
    }
   ],
   "source": [
    "(U*rho())()"
   ]
  },
  {
   "cell_type": "markdown",
   "id": "3d39b87c",
   "metadata": {},
   "source": [
    "Now we can check rho.I before and after CP."
   ]
  },
  {
   "cell_type": "code",
   "execution_count": 49,
   "id": "5e3c2ed6",
   "metadata": {},
   "outputs": [
    {
     "name": "stdout",
     "output_type": "stream",
     "text": [
      "1Hx : 1.00+0.00j, (0.25-2.1e-17j)\n",
      "13Cx : 0.00+0.00j, (0.25-1.2e-17j)\n"
     ]
    }
   ],
   "source": [
    "print(f'1Hx : {rho.I[0][0]:.2f}, {rho.I[0][1]:.2}')\n",
    "print(f'13Cx : {rho.I[1][0]:.2f}, {rho.I[1][1]:.2}')"
   ]
  },
  {
   "cell_type": "markdown",
   "id": "72cd9915",
   "metadata": {},
   "source": [
    "We may also multiply the sequence by rho. First, we fully clear rho, to go back to the initial conditions. When multiply a sequence by rho, the sequence uses its default length (seq.Dt) to produce a propagator, which is what actually gets multiplied by rho. This takes a little less code, but if the resulting propagator is discarded in this approach, so cannot be reused (depending on the pulse program, this may or may not matter to the user)."
   ]
  },
  {
   "cell_type": "code",
   "execution_count": 50,
   "id": "bfb87f85",
   "metadata": {},
   "outputs": [
    {
     "name": "stdout",
     "output_type": "stream",
     "text": [
      "1Hx : 1.00+0.00j, (0.25-2.1e-17j)\n",
      "13Cx : 0.00+0.00j, (0.25-7.1e-18j)\n"
     ]
    }
   ],
   "source": [
    "rho.clear()\n",
    "(seq*rho())()\n",
    "print(f'1Hx : {rho.I[0][0]:.2f}, {rho.I[0][1]:.2}')\n",
    "print(f'13Cx : {rho.I[1][0]:.2f}, {rho.I[1][1]:.2}')"
   ]
  },
  {
   "cell_type": "markdown",
   "id": "b2c4c707",
   "metadata": {},
   "source": [
    "## clear vs. reset"
   ]
  },
  {
   "cell_type": "markdown",
   "id": "5488f014",
   "metadata": {},
   "source": [
    "In the previous calculation, we cleared rho. This function takes rho back to its initial state (that is, as if it were just created). We also have the option to reset rho. This will bring the density matrix back to its initial state (rho0), but retain all the time points already stored in rho. Some pulse sequences, for example REDOR, DIPSHIFT, etc., require reseting rho to acquire the next time point, rather than just multiplying by the sequence or propagator again.\n",
    "\n",
    "```\n",
    "rho.clear() #Takes rho back to its inital state\n",
    "rho.reset() #Resets the density matrix in rho back to rho0, but retains data in rho\n",
    "```\n",
    "Note that constant time experiments, where some terms evolve, but the total length of the experiment remains fixed, will result in rho.t_axis always having the same value. In this case, rho will not be able to determine the frequency axis of the Fourier transformed data. "
   ]
  },
  {
   "cell_type": "markdown",
   "id": "8eb763b6",
   "metadata": {},
   "source": [
    "# Detect and Propagate (rho.DetProp)"
   ]
  },
  {
   "cell_type": "markdown",
   "id": "2c87d289",
   "metadata": {},
   "source": [
    "In the above example, we get the magnetization before and after a ramped-CP step. However, it would be nice to also see what occurs during the CP. We could in principle do this by manually generating propagators over multiple steps through the sequence, and detecting in between, but we may also do this with the DetProp function and the sequence.\n",
    "\n",
    "With DetProp, we provide a sequence or propagator and the number of times to first detect followed by a propagation step (n). We may also break up a sequence into parts, in this example, the number of steps is the number of steps per sequence (n_per_seq), so we only go through the sequence once. Note, if a propagator is provided instead of a sequence, then we cannot use n_per_seq.\n",
    "\n",
    "Note that we choose 150 steps to match with the number of time points in the sequence."
   ]
  },
  {
   "cell_type": "code",
   "execution_count": 51,
   "id": "1a5bb22b",
   "metadata": {},
   "outputs": [
    {
     "name": "stdout",
     "output_type": "stream",
     "text": [
      "Prop: 150 steps per every 5 rotor periods\n"
     ]
    },
    {
     "data": {
      "text/plain": [
       "Density Matrix/Detection Operator\n",
       "rho0: 1Hx\n",
       "detect[0]: 1Hx\n",
       "detect[1]: 13Cx\n",
       "Current time is 1000.000 microseconds\n",
       "150 time points have been recorded\n",
       "\n",
       "<SLEEPY.Rho.Rho object at 0x7fa749daadc0>"
      ]
     },
     "execution_count": 51,
     "metadata": {},
     "output_type": "execute_result"
    }
   ],
   "source": [
    "rho.clear()\n",
    "rho.DetProp(seq,n=150,n_per_seq=150)"
   ]
  },
  {
   "cell_type": "code",
   "execution_count": 52,
   "id": "b7c2d651",
   "metadata": {},
   "outputs": [
    {
     "data": {
      "text/plain": [
       "<AxesSubplot:xlabel='t / ms', ylabel='<Op>'>"
      ]
     },
     "execution_count": 52,
     "metadata": {},
     "output_type": "execute_result"
    },
    {
     "data": {
      "image/png": "[encoded data removed]",
      "text/plain": [
       "<Figure size 432x288 with 1 Axes>"
      ]
     },
     "metadata": {
      "needs_background": "light"
     },
     "output_type": "display_data"
    }
   ],
   "source": [
    "rho.plot()"
   ]
  },
  {
   "cell_type": "markdown",
   "id": "1e6ea83f",
   "metadata": {},
   "source": [
    "Another good application of this approach is to simulate spinning sidebands. We use a blank sequence in this case."
   ]
  },
  {
   "cell_type": "code",
   "execution_count": 7,
   "id": "1f6d6005",
   "metadata": {},
   "outputs": [
    {
     "name": "stdout",
     "output_type": "stream",
     "text": [
      "State-space reduction: 32->4\n",
      "Prop: 20 steps per every 1 rotor period\n"
     ]
    },
    {
     "data": {
      "text/plain": [
       "Density Matrix/Detection Operator\n",
       "rho0: 13Cx\n",
       "detect[0]: 13Cp\n",
       "Current time is 200000.000 microseconds\n",
       "20000 time points have been recorded\n",
       "\n",
       "<SLEEPY.Rho.Rho object at 0x7f794869d160>"
      ]
     },
     "execution_count": 7,
     "metadata": {},
     "output_type": "execute_result"
    }
   ],
   "source": [
    "rho=sl.Rho(rho0='13Cx',detect='13Cp')\n",
    "seq=L.Sequence(cyclic=True).add_channel('13C',t=[0,L.taur/2,L.taur],v1=0)  #Default sequence with length taur\n",
    "rho.DetProp(seq,n=20000,n_per_seq=20)\n",
    "#8 steps per sequence gives us a spectral with 8 times the rotor frequency"
   ]
  },
  {
   "cell_type": "code",
   "execution_count": 8,
   "id": "d382ba31",
   "metadata": {},
   "outputs": [
    {
     "data": {
      "text/plain": [
       "<AxesSubplot:xlabel='$\\\\nu$ / Hz', ylabel='I / a.u.'>"
      ]
     },
     "execution_count": 8,
     "metadata": {},
     "output_type": "execute_result"
    },
    {
     "data": {
      "image/png": "[encoded data removed]",
      "text/plain": [
       "<Figure size 432x288 with 1 Axes>"
      ]
     },
     "metadata": {
      "needs_background": "light"
     },
     "output_type": "display_data"
    }
   ],
   "source": [
    "rho.plot(FT=True,apodize=False)"
   ]
  },
  {
   "cell_type": "markdown",
   "id": "b77fa09d",
   "metadata": {},
   "source": [
    "Aside from reducing coding, DetProp has also executed a few computational speedups. First, it has identified that only 4 of the 32 spin-states would actually be accessed in this simulation, so it reduces the size of the matrix being propagated significantly. Second, it has performed the propagation in the eigenbasis. Note that because we have 20 steps per rotor period, 20 different eigenbases have been used, each corresponding to a different starting point in the rotor period. That is, we take 20 steps through the first rotor period. However, starting from each of those 20 steps, we then take rotor-period length steps, which can be propagated in the eigenbasis, vastly accelerating the computation time through the 20000 total timesteps (or 1000 steps per each starting point in the rotor period."
   ]
  },
  {
   "cell_type": "markdown",
   "id": "428cb7ce",
   "metadata": {},
   "source": [
    "A final note: rho automatically returns a Fourier transformed signal, rho.FT. If rho.apodize=False, then this signal will only be zero-filled, otherwise it will also be apodized. rho.apod_pars contains information on the window function and parameters, following Bruker Topspin convention. The 'SI' parameter is set by default to None in rho.apod_pars, and will be internally set to twice the number of time domain signals. LB is also None and defaults to 5/ac"
   ]
  },
  {
   "cell_type": "code",
   "execution_count": 9,
   "id": "73757f3d",
   "metadata": {},
   "outputs": [
    {
     "data": {
      "text/plain": [
       "{'WDW': 'em', 'LB': None, 'SSB': 2, 'GB': 15, 'ZF': None}"
      ]
     },
     "execution_count": 9,
     "metadata": {},
     "output_type": "execute_result"
    }
   ],
   "source": [
    "rho.apod_pars"
   ]
  },
  {
   "cell_type": "code",
   "execution_count": null,
   "id": "62d1dc6d",
   "metadata": {},
   "outputs": [],
   "source": []
  }
 ],
 "metadata": {
  "kernelspec": {
   "display_name": "Python 3",
   "language": "python",
   "name": "python3"
  },
  "language_info": {
   "codemirror_mode": {
    "name": "ipython",
    "version": 3
   },
   "file_extension": ".py",
   "mimetype": "text/x-python",
   "name": "python",
   "nbconvert_exporter": "python",
   "pygments_lexer": "ipython3",
   "version": "3.8.8"
  }
 },
 "nbformat": 4,
 "nbformat_minor": 5
}
