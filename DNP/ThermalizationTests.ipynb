{
 "cells": [
  {
   "cell_type": "markdown",
   "id": "4ea00b5a",
   "metadata": {},
   "source": [
    "# Thermalization tests"
   ]
  },
  {
   "cell_type": "markdown",
   "id": "ffacdc6e",
   "metadata": {},
   "source": [
    "We use the cross effect as an example case to test if thermalization works the way we think it should"
   ]
  },
  {
   "cell_type": "code",
   "execution_count": 1,
   "id": "b980d81c",
   "metadata": {},
   "outputs": [],
   "source": [
    "import sys\n",
    "sys.path.append('/Users/albertsmith/Documents/GitHub.nosync/')\n",
    "sys.path.append('/Users/albertsmith/Documents/GitHub/')\n",
    "import SLEEPY as sl\n",
    "import numpy as np\n",
    "import matplotlib.pyplot as plt\n",
    "sl.Defaults['parallel']=False\n",
    "sl.Defaults['ctype']=np.complex256\n",
    "from scipy.linalg import expm"
   ]
  },
  {
   "cell_type": "markdown",
   "id": "aad0b947",
   "metadata": {},
   "source": [
    "## Does the Liouville matrix times the equilibrium density matrix yield zeros?"
   ]
  },
  {
   "cell_type": "code",
   "execution_count": 2,
   "id": "4e00a1c5",
   "metadata": {},
   "outputs": [],
   "source": [
    "ex=sl.ExpSys(v0H=250,Nucs=['e-','e-','1H'],LF=True,vr=5000,T_K=80,\n",
    "             pwdavg=sl.PowderAvg(q=2)[10],rotor_angle=np.arccos(np.sqrt(1/3)))\n",
    "ex.set_inter('hyperfine',i0=1,i1=2,Axx=-1000000,Ayy=-1000000,Azz=2000000,euler=[0,0,0])\n",
    "ex.set_inter('hyperfine',i0=0,i1=2,Axx=-1000000,Ayy=-1000000,Azz=2000000,euler=[0,np.pi/2,0])\n",
    "ex.set_inter('g',i=0,gxx=2.0022,gyy=2.0059,gzz=2.0098,euler=[0,0,0])\n",
    "ex.set_inter('g',i=1,gxx=2.0022,gyy=2.0059,gzz=2.0098,euler=[0,np.pi/2,0])\n",
    "ex.set_inter('dipole',i0=0,i1=1,delta=sl.Tools.dipole_coupling(1.33,'e-','e-'),euler=[0,77*np.pi/180,0])\n",
    "\n",
    "Dt=1e-3 if ex.vr==0 else None\n",
    "\n",
    "L=ex.Liouvillian()"
   ]
  },
  {
   "cell_type": "code",
   "execution_count": 3,
   "id": "37cd011e",
   "metadata": {},
   "outputs": [
    {
     "data": {
      "text/plain": [
       "2.172302815871449289e-08"
      ]
     },
     "execution_count": 3,
     "metadata": {},
     "output_type": "execute_result"
    }
   ],
   "source": [
    "np.abs(L[0].L(10)@L.rho_eq(step=10)).max()"
   ]
  },
  {
   "cell_type": "markdown",
   "id": "1e1779a0",
   "metadata": {},
   "source": [
    "The Liouvillian times the equilibrium density operator yields zero if no relaxation is present, regardless of the form of the Hamiltonian. Since the density matrix is just $\\exp(-\\hbar H/(kT))$, this makes sense that it should always commute with the Hamiltonian."
   ]
  },
  {
   "cell_type": "markdown",
   "id": "2cbb7730",
   "metadata": {},
   "source": [
    "### Aside, does the Liouville matrix with the reshaped Hamiltonian (and powers of it) yield zeros?"
   ]
  },
  {
   "cell_type": "code",
   "execution_count": 4,
   "id": "7171c60b",
   "metadata": {},
   "outputs": [
    {
     "name": "stdout",
     "output_type": "stream",
     "text": [
      "0.00000\n",
      "0.00000\n",
      "0.00195\n",
      "96.53334\n",
      "1048808.88739\n",
      "1.3262125920777248942e-07\n",
      "1.8682575844424177057e-07\n",
      "6.16177845795091975e-08\n",
      "4.7219691921619284585e-08\n",
      "1.0573549596376120559e-08\n"
     ]
    }
   ],
   "source": [
    "ex=sl.ExpSys(v0H=250,Nucs=['e-','e-','1H'],LF=False,vr=5000,T_K=80,\n",
    "             pwdavg=sl.PowderAvg(q=2)[10],rotor_angle=np.arccos(np.sqrt(1/3)))\n",
    "ex.set_inter('hyperfine',i0=1,i1=2,Axx=-1000000,Ayy=-1000000,Azz=2000000,euler=[0,0,0])\n",
    "ex.set_inter('hyperfine',i0=0,i1=2,Axx=-1000000,Ayy=-1000000,Azz=2000000,euler=[0,np.pi/2,0])\n",
    "ex.set_inter('g',i=0,gxx=2.0022,gyy=2.0059,gzz=2.0098,euler=[0,0,0])\n",
    "ex.set_inter('g',i=1,gxx=2.0022,gyy=2.0059,gzz=2.0098,euler=[0,np.pi/2,0])\n",
    "ex.set_inter('dipole',i0=0,i1=1,delta=sl.Tools.dipole_coupling(1.33,'e-','e-'),euler=[0,77*np.pi/180,0])\n",
    "\n",
    "Dt=1e-3 if ex.vr==0 else None\n",
    "\n",
    "L=ex.Liouvillian()\n",
    "step=0\n",
    "H=L[0].H[0]\n",
    "\n",
    "H0=H.H(step)/10000\n",
    "Hp=np.eye(H0.shape[0])\n",
    "for k in range(5):\n",
    "    print(f'{np.abs(L[0].L(step)@Hp.reshape(64)).max():.5f}')\n",
    "    Hp=H0@Hp\n",
    "\n",
    "    \n",
    "rho_eq=[]\n",
    "for T in [.05,.1,1,10,100]:\n",
    "    ex=sl.ExpSys(v0H=250,Nucs=['e-','e-','1H'],LF=True,vr=5000,T_K=T,\n",
    "                 pwdavg=sl.PowderAvg(q=2)[10],rotor_angle=np.arccos(np.sqrt(1/3)))\n",
    "    ex.set_inter('hyperfine',i0=1,i1=2,Axx=-1000000,Ayy=-1000000,Azz=2000000,euler=[0,0,0])\n",
    "    ex.set_inter('hyperfine',i0=0,i1=2,Axx=-1000000,Ayy=-1000000,Azz=2000000,euler=[0,np.pi/2,0])\n",
    "    ex.set_inter('g',i=0,gxx=2.0022,gyy=2.0059,gzz=2.0098,euler=[0,0,0])\n",
    "    ex.set_inter('g',i=1,gxx=2.0022,gyy=2.0059,gzz=2.0098,euler=[0,np.pi/2,0])\n",
    "    ex.set_inter('dipole',i0=0,i1=1,delta=sl.Tools.dipole_coupling(1.33,'e-','e-'),euler=[0,77*np.pi/180,0])\n",
    "\n",
    "    Dt=1e-3 if ex.vr==0 else None\n",
    "\n",
    "    L=ex.Liouvillian()\n",
    "    step=5\n",
    "    print(np.abs(L[0].L(step)@L[0].rho_eq(step=step)).max())\n",
    "    rho_eq.append(L[0].rho_eq(step=step))\n",
    "    \n",
    "#     print(rho_eq[0]/rho_eq[-1])"
   ]
  },
  {
   "cell_type": "markdown",
   "id": "cf56a996",
   "metadata": {},
   "source": [
    "A point that has always bothered me: how is it that we can change the temperature, thus changing the equilibrium density operator, and still have it be an eigenvector of the Liouvillian?\n",
    "\n",
    "$$\n",
    "\\rho_{eq}=\\exp(\\hbar H/(kT))=1+\\hbar H/(kT)+\\dfrac12(\\hbar H/(kT))^2+...\n",
    "$$\n",
    "\n",
    "This can be rewritten in the eigenbasis of $H$, such that $H=VDV^\\dagger$\n",
    "\n",
    "$$\n",
    "\\rho_{eq}=\\exp(\\hbar H/(kT))=V(1+\\hbar D/(kT)+\\dfrac12(\\hbar D/(kT))^2+...)V^\\dagger\n",
    "$$\n",
    "\n",
    "$$\n",
    "\\rho_{eq}=\\sum\\limits_{i=1}^n{|\\phi_n\\rangle\\langle\\phi_n|(1+\\hbar\\lambda_n/(kT)+\\dfrac12(\\hbar\\lambda_n/(kT))^2+...)}\n",
    "$$\n",
    "\n",
    "The rewrite allows us to see that $\\rho_{eq}$ can be constructed out of a basis set of $n$ matrices, rather than $n^2$ matrices, as required for any arbitrary matrix.\n",
    "\n",
    "Then, this corresponds with $n$ Eigenvalues of the Liouvillian, for example, take our 8x8 Hamiltonian's Liouvillian from above:"
   ]
  },
  {
   "cell_type": "code",
   "execution_count": 10,
   "id": "b8bf7c5d",
   "metadata": {},
   "outputs": [
    {
     "data": {
      "text/plain": [
       "array([4.80637358e-10, 1.21058679e-08, 4.84756190e-07, 8.93958326e-05,\n",
       "       1.16074416e-04, 1.33731654e-04, 1.59801807e-04, 2.10612967e-04,\n",
       "       1.31779223e+09, 1.31779223e+09, 1.56387392e+09, 1.56387392e+09,\n",
       "       1.56871363e+09, 1.56871363e+09, 1.57288463e+09, 1.57288463e+09,\n",
       "       1.57773829e+09, 1.57773829e+09, 2.88166615e+09, 2.88166615e+09,\n",
       "       2.89553052e+09, 2.89553052e+09, 4.45940444e+09, 4.45940444e+09,\n",
       "       1.03272409e+12, 1.03272409e+12, 1.03286612e+12, 1.03286612e+12,\n",
       "       1.03429280e+12, 1.03429280e+12, 1.03430183e+12, 1.03430183e+12,\n",
       "       1.03443000e+12, 1.03443000e+12, 1.03443901e+12, 1.03443901e+12,\n",
       "       1.03561962e+12, 1.03561962e+12, 1.03574779e+12, 1.03574779e+12,\n",
       "       1.03587054e+12, 1.03587054e+12, 1.03600288e+12, 1.03600288e+12,\n",
       "       1.03718349e+12, 1.03718349e+12, 1.03718833e+12, 1.03718833e+12,\n",
       "       1.03732068e+12, 1.03732068e+12, 1.03732553e+12, 1.03732553e+12,\n",
       "       1.03875221e+12, 1.03875221e+12, 1.03889841e+12, 1.03889841e+12,\n",
       "       2.07004962e+12, 2.07004962e+12, 2.07161833e+12, 2.07161833e+12,\n",
       "       2.07162250e+12, 2.07162250e+12, 2.07319121e+12, 2.07319121e+12])"
      ]
     },
     "execution_count": 10,
     "metadata": {},
     "output_type": "execute_result"
    }
   ],
   "source": [
    "np.sort(np.abs(np.linalg.eig(L[0].L(0))[0]))"
   ]
  },
  {
   "cell_type": "markdown",
   "id": "b08ee601",
   "metadata": {},
   "source": [
    "### Continuing: what happens when we have relaxation?"
   ]
  },
  {
   "cell_type": "code",
   "execution_count": 2,
   "id": "24043842",
   "metadata": {},
   "outputs": [],
   "source": [
    "ex=sl.ExpSys(v0H=250,Nucs=['e-','e-','1H'],LF=False,vr=0,T_K=80,\n",
    "             pwdavg=sl.PowderAvg(q=2)[10],rotor_angle=np.arccos(np.sqrt(1/3)))\n",
    "ex.set_inter('hyperfine',i0=1,i1=2,Axx=-1000000,Ayy=-1000000,Azz=2000000,euler=[0,0,0])\n",
    "ex.set_inter('hyperfine',i0=0,i1=2,Axx=-1000000,Ayy=-1000000,Azz=2000000,euler=[0,np.pi/2,0])\n",
    "ex.set_inter('g',i=0,gxx=2.0022,gyy=2.0059,gzz=2.0098,euler=[0,0,0])\n",
    "ex.set_inter('g',i=1,gxx=2.0022,gyy=2.0059,gzz=2.0098,euler=[0,np.pi/2,0])\n",
    "\n",
    "Dt=1e-3 if ex.vr==0 else None\n",
    "\n",
    "L=ex.Liouvillian()\n",
    "L.add_relax('T2',i=0,T2=5e-6)\n",
    "L.add_relax('T2',i=1,T2=5e-6)\n",
    "L.add_relax('T1',i=0,T1=250e-6)\n",
    "L.add_relax('T1',i=1,T1=250e-6)\n",
    "L.add_relax('T2',i=2,T2=5e-3)\n",
    "L.add_relax('T1',i=2,T1=3)\n",
    "_=L.add_relax('recovery')"
   ]
  },
  {
   "cell_type": "code",
   "execution_count": 3,
   "id": "c1c0724c",
   "metadata": {},
   "outputs": [
    {
     "data": {
      "text/plain": [
       "5.551115123125782702e-17"
      ]
     },
     "execution_count": 3,
     "metadata": {},
     "output_type": "execute_result"
    }
   ],
   "source": [
    "np.abs(L[0].L(10)@L.rho_eq()).max()"
   ]
  },
  {
   "cell_type": "code",
   "execution_count": 4,
   "id": "3b459e17",
   "metadata": {},
   "outputs": [
    {
     "data": {
      "text/plain": [
       "<AxesSubplot:>"
      ]
     },
     "execution_count": 4,
     "metadata": {},
     "output_type": "execute_result"
    },
    {
     "data": {
      "image/png": "[encoded data removed]",
      "text/plain": [
       "<Figure size 432x288 with 1 Axes>"
      ]
     },
     "metadata": {
      "needs_background": "light"
     },
     "output_type": "display_data"
    }
   ],
   "source": [
    "L.H[0].plot(mode='spy')"
   ]
  },
  {
   "cell_type": "markdown",
   "id": "82868d41",
   "metadata": {},
   "source": [
    "Likewise, if we have a diagonal Hamiltonian and no spinning, the equilibrium density operator also yields zero with the Liouvillian. "
   ]
  },
  {
   "cell_type": "code",
   "execution_count": 5,
   "id": "d6864a44",
   "metadata": {},
   "outputs": [],
   "source": [
    "ex=sl.ExpSys(v0H=250,Nucs=['e-','e-','1H'],LF=False,vr=5000,T_K=80,\n",
    "             pwdavg=sl.PowderAvg(q=2)[10],rotor_angle=np.arccos(np.sqrt(1/3)))\n",
    "ex.set_inter('hyperfine',i0=1,i1=2,Axx=-1000000,Ayy=-1000000,Azz=2000000,euler=[0,0,0])\n",
    "ex.set_inter('hyperfine',i0=0,i1=2,Axx=-1000000,Ayy=-1000000,Azz=2000000,euler=[0,np.pi/2,0])\n",
    "ex.set_inter('g',i=0,gxx=2.0022,gyy=2.0059,gzz=2.0098,euler=[0,0,0])\n",
    "ex.set_inter('g',i=1,gxx=2.0022,gyy=2.0059,gzz=2.0098,euler=[0,np.pi/2,0])\n",
    "\n",
    "Dt=1e-3 if ex.vr==0 else None\n",
    "\n",
    "L=ex.Liouvillian()\n",
    "L.add_relax('T2',i=0,T2=5e-6)\n",
    "L.add_relax('T2',i=1,T2=5e-6)\n",
    "L.add_relax('T1',i=0,T1=250e-6)\n",
    "L.add_relax('T1',i=1,T1=250e-6)\n",
    "L.add_relax('T2',i=2,T2=5e-3)\n",
    "L.add_relax('T1',i=2,T1=3)\n",
    "_=L.add_relax('recovery')\n"
   ]
  },
  {
   "cell_type": "code",
   "execution_count": 6,
   "id": "a943aa1e",
   "metadata": {},
   "outputs": [
    {
     "data": {
      "text/plain": [
       "5.551115123125782702e-17"
      ]
     },
     "execution_count": 6,
     "metadata": {},
     "output_type": "execute_result"
    }
   ],
   "source": [
    "np.abs(L[0].L(0)@L.rho_eq()).max()"
   ]
  },
  {
   "cell_type": "code",
   "execution_count": 7,
   "id": "03f10d1c",
   "metadata": {},
   "outputs": [
    {
     "data": {
      "text/plain": [
       "0.068951688013723672066"
      ]
     },
     "execution_count": 7,
     "metadata": {},
     "output_type": "execute_result"
    }
   ],
   "source": [
    "np.abs(L[0].L(0)@L.rho_eq(step=0)).max()"
   ]
  },
  {
   "cell_type": "markdown",
   "id": "9596bfb7",
   "metadata": {},
   "source": [
    "On the other hand, if we start to spin, then the thermal equilibrium is modulated throughout the rotor period. The thermalization matrix is adjusted to yield the mean thermal equilibrium (\"step\" is omitted). Then, the first calculation yields zero. If we go to a particular step (step=0), then we no longer get zero. So, thermalization yields the correct mean value, but not the correct value at individual steps in the rotor period."
   ]
  },
  {
   "cell_type": "code",
   "execution_count": 3,
   "id": "255e094b",
   "metadata": {},
   "outputs": [],
   "source": [
    "ex=sl.ExpSys(v0H=250,Nucs=['e-','e-','1H'],LF=False,vr=5000,T_K=80,\n",
    "             pwdavg=sl.PowderAvg(q=2)[10],rotor_angle=np.arccos(np.sqrt(1/3)))\n",
    "ex.set_inter('hyperfine',i0=1,i1=2,Axx=-1000000,Ayy=-1000000,Azz=2000000,euler=[0,0,0])\n",
    "ex.set_inter('hyperfine',i0=0,i1=2,Axx=-1000000,Ayy=-1000000,Azz=2000000,euler=[0,np.pi/2,0])\n",
    "ex.set_inter('g',i=0,gxx=2.0022,gyy=2.0059,gzz=2.0098,euler=[0,0,0])\n",
    "ex.set_inter('g',i=1,gxx=2.0022,gyy=2.0059,gzz=2.0098,euler=[0,np.pi/2,0])\n",
    "# ex.set_inter('dipole',i0=0,i1=1,delta=sl.Tools.dipole_coupling(1.33,'e-','e-'),euler=[0,77*np.pi/180,0])\n",
    "\n",
    "Dt=1e-3 if ex.vr==0 else None\n",
    "\n",
    "L=ex.Liouvillian()\n",
    "L.add_relax('T2',i=0,T2=5e-6)\n",
    "L.add_relax('T2',i=1,T2=5e-6)\n",
    "L.add_relax('T1',i=0,T1=250e-6)\n",
    "L.add_relax('T1',i=1,T1=250e-6)\n",
    "L.add_relax('T2',i=2,T2=5e-3)\n",
    "L.add_relax('T1',i=2,T1=3)\n",
    "_=L.add_relax('Thermal')"
   ]
  },
  {
   "cell_type": "code",
   "execution_count": 4,
   "id": "366d98c2",
   "metadata": {},
   "outputs": [
    {
     "data": {
      "text/plain": [
       "6.1048388588271179233e-14"
      ]
     },
     "execution_count": 4,
     "metadata": {},
     "output_type": "execute_result"
    }
   ],
   "source": [
    "np.abs(L[0].L(0)@L[0].rho_eq(step=0)).max()"
   ]
  },
  {
   "cell_type": "code",
   "execution_count": 5,
   "id": "487a6007",
   "metadata": {},
   "outputs": [
    {
     "data": {
      "text/plain": [
       "1.0783041142264560631e-13"
      ]
     },
     "execution_count": 5,
     "metadata": {},
     "output_type": "execute_result"
    }
   ],
   "source": [
    "np.abs(L[0].L(10)@L[0].rho_eq(step=10)).max()"
   ]
  },
  {
   "cell_type": "code",
   "execution_count": 6,
   "id": "20fb9b25",
   "metadata": {},
   "outputs": [
    {
     "data": {
      "text/plain": [
       "0.0129807746377792743164"
      ]
     },
     "execution_count": 6,
     "metadata": {},
     "output_type": "execute_result"
    }
   ],
   "source": [
    "np.abs(L[0].L(0)@L[0].rho_eq(step=10)).max()"
   ]
  },
  {
   "cell_type": "markdown",
   "id": "46e28b74",
   "metadata": {},
   "source": [
    "A different thermalization routine ('Thermal' instead of 'recovery'), on the other hand, gets the correct thermal equilibrium at all steps in the rotor period. It obviously doesn't work if we mis-match the equilibrium step with the Liouvillian step. This method, however, poses some challenges for our Parallel Manager, so it is often not actually being used. "
   ]
  },
  {
   "cell_type": "code",
   "execution_count": 7,
   "id": "126a4321",
   "metadata": {},
   "outputs": [],
   "source": [
    "ex=sl.ExpSys(v0H=250,Nucs=['e-','e-','1H'],LF=True,vr=5000,T_K=80,\n",
    "             pwdavg=sl.PowderAvg(q=2)[10],rotor_angle=np.arccos(np.sqrt(1/3)))\n",
    "ex.set_inter('hyperfine',i0=1,i1=2,Axx=-1000000,Ayy=-1000000,Azz=2000000,euler=[0,0,0])\n",
    "ex.set_inter('hyperfine',i0=0,i1=2,Axx=-1000000,Ayy=-1000000,Azz=2000000,euler=[0,np.pi/2,0])\n",
    "ex.set_inter('g',i=0,gxx=2.0022,gyy=2.0059,gzz=2.0098,euler=[0,0,0])\n",
    "ex.set_inter('g',i=1,gxx=2.0022,gyy=2.0059,gzz=2.0098,euler=[0,np.pi/2,0])\n",
    "ex.set_inter('dipole',i0=0,i1=1,delta=sl.Tools.dipole_coupling(1.33,'e-','e-'),euler=[0,77*np.pi/180,0])\n",
    "\n",
    "Dt=1e-3 if ex.vr==0 else None\n",
    "\n",
    "L=ex.Liouvillian()\n",
    "L.add_relax('T2',i=0,T2=5e-6)\n",
    "L.add_relax('T2',i=1,T2=5e-6)\n",
    "L.add_relax('T1',i=0,T1=250e-6)\n",
    "L.add_relax('T1',i=1,T1=250e-6)\n",
    "L.add_relax('T2',i=2,T2=5e-3)\n",
    "L.add_relax('T1',i=2,T1=3)\n",
    "_=L.add_relax('recovery')"
   ]
  },
  {
   "cell_type": "code",
   "execution_count": 8,
   "id": "f6075111",
   "metadata": {},
   "outputs": [
    {
     "data": {
      "text/plain": [
       "1.4762677062825854247"
      ]
     },
     "execution_count": 8,
     "metadata": {},
     "output_type": "execute_result"
    }
   ],
   "source": [
    "np.abs(L[0].L(0)@L[0].rho_eq(step=0)).max()"
   ]
  },
  {
   "cell_type": "code",
   "execution_count": 9,
   "id": "03313f10",
   "metadata": {},
   "outputs": [
    {
     "data": {
      "text/plain": [
       "<AxesSubplot:>"
      ]
     },
     "execution_count": 9,
     "metadata": {},
     "output_type": "execute_result"
    },
    {
     "data": {
      "image/png": "[encoded data removed]",
      "text/plain": [
       "<Figure size 432x288 with 1 Axes>"
      ]
     },
     "metadata": {
      "needs_background": "light"
     },
     "output_type": "display_data"
    }
   ],
   "source": [
    "L.H[0].plot(mode='spy')"
   ]
  },
  {
   "cell_type": "markdown",
   "id": "e18d4fea",
   "metadata": {},
   "source": [
    "Neither method works correctly if the Hamiltonian is not diagonal. This is because our relaxation is implemented assuming a near-diagonal Hamiltonian, whereas the true relaxation behavior should occur for the eigenstates of the Hamiltonian. "
   ]
  },
  {
   "cell_type": "code",
   "execution_count": 12,
   "id": "fd4bd21c",
   "metadata": {},
   "outputs": [],
   "source": [
    "ex=sl.ExpSys(v0H=250,Nucs=['e-','e-','1H'],LF=True,vr=5000,T_K=80,\n",
    "             pwdavg=sl.PowderAvg(q=2)[10],rotor_angle=np.arccos(np.sqrt(1/3)))\n",
    "ex.set_inter('hyperfine',i0=1,i1=2,Axx=-1000000,Ayy=-1000000,Azz=2000000,euler=[0,0,0])\n",
    "ex.set_inter('hyperfine',i0=0,i1=2,Axx=-1000000,Ayy=-1000000,Azz=2000000,euler=[0,np.pi/2,0])\n",
    "ex.set_inter('g',i=0,gxx=2.0022,gyy=2.0059,gzz=2.0098,euler=[0,0,0])\n",
    "ex.set_inter('g',i=1,gxx=2.0022,gyy=2.0059,gzz=2.0098,euler=[0,np.pi/2,0])\n",
    "ex.set_inter('dipole',i0=0,i1=1,delta=sl.Tools.dipole_coupling(1.33,'e-','e-'),euler=[0,77*np.pi/180,0])\n",
    "\n",
    "Dt=1e-3 if ex.vr==0 else None\n",
    "\n",
    "L=ex.Liouvillian()\n",
    "L.add_relax('T2',i=0,T2=5e-6)\n",
    "L.add_relax('T2',i=1,T2=5e-6)\n",
    "L.add_relax('T1',i=0,T1=250e-6)\n",
    "L.add_relax('T1',i=1,T1=250e-6)\n",
    "L.add_relax('T2',i=2,T2=5e-3)\n",
    "_=L.add_relax('T1',i=2,T1=3)\n",
    "_=L.add_relax('Thermal')"
   ]
  },
  {
   "cell_type": "code",
   "execution_count": 13,
   "id": "3d9d4531",
   "metadata": {},
   "outputs": [
    {
     "data": {
      "text/plain": [
       "1.4726787460715317974"
      ]
     },
     "execution_count": 13,
     "metadata": {},
     "output_type": "execute_result"
    }
   ],
   "source": [
    "np.abs(L[0].L(0)@L[0].rho_eq(step=0)).max()"
   ]
  },
  {
   "cell_type": "markdown",
   "id": "adf025af",
   "metadata": {},
   "source": [
    "Removing thermalization entirely also does not help (it is curiously, worse)"
   ]
  },
  {
   "cell_type": "code",
   "execution_count": 14,
   "id": "b9381cb4",
   "metadata": {},
   "outputs": [],
   "source": [
    "ex=sl.ExpSys(v0H=250,Nucs=['e-','e-','1H'],LF=True,vr=0,T_K=80,\n",
    "             pwdavg=sl.PowderAvg(q=2)[10],rotor_angle=np.arccos(np.sqrt(1/3)))\n",
    "ex.set_inter('hyperfine',i0=1,i1=2,Axx=-1000000,Ayy=-1000000,Azz=2000000,euler=[0,0,0])\n",
    "ex.set_inter('hyperfine',i0=0,i1=2,Axx=-1000000,Ayy=-1000000,Azz=2000000,euler=[0,np.pi/2,0])\n",
    "ex.set_inter('g',i=0,gxx=2.0022,gyy=2.0059,gzz=2.0098,euler=[0,0,0])\n",
    "ex.set_inter('g',i=1,gxx=2.0022,gyy=2.0059,gzz=2.0098,euler=[0,np.pi/2,0])\n",
    "ex.set_inter('dipole',i0=0,i1=1,delta=sl.Tools.dipole_coupling(1.33,'e-','e-'),euler=[0,77*np.pi/180,0])\n",
    "\n",
    "Dt=1e-3 if ex.vr==0 else None\n",
    "\n",
    "L=ex.Liouvillian()\n",
    "L.add_relax('T2',i=0,T2=5e-6)\n",
    "L.add_relax('T2',i=1,T2=5e-6)\n",
    "L.add_relax('T1',i=0,T1=250e-6)\n",
    "L.add_relax('T1',i=1,T1=250e-6)\n",
    "L.add_relax('T2',i=2,T2=5e-3)\n",
    "_=L.add_relax('T1',i=2,T1=3)\n",
    "_=L.add_relax('Thermal')"
   ]
  },
  {
   "cell_type": "code",
   "execution_count": 121,
   "id": "96cb5604",
   "metadata": {},
   "outputs": [
    {
     "data": {
      "text/plain": [
       "1.6358597191546238"
      ]
     },
     "execution_count": 121,
     "metadata": {},
     "output_type": "execute_result"
    }
   ],
   "source": [
    "np.abs(L[0].L(0)@L[0].rho_eq(step=0)).max()"
   ]
  },
  {
   "cell_type": "markdown",
   "id": "1b67f616",
   "metadata": {},
   "source": [
    "The situation from above does not improve by going back to a static Hamiltonian."
   ]
  },
  {
   "cell_type": "markdown",
   "id": "3b60767d",
   "metadata": {},
   "source": [
    "## Eigenvalues of the propagator\n",
    "The next question is under what conditions do the eigenvalues of the propagator exceed 1, which in general should not occur."
   ]
  },
  {
   "cell_type": "code",
   "execution_count": 3,
   "id": "60377190",
   "metadata": {},
   "outputs": [],
   "source": [
    "ex=sl.ExpSys(v0H=250,Nucs=['e-','e-','1H'],LF=False,vr=0,T_K=80,\n",
    "             pwdavg=sl.PowderAvg(q=2)[10],rotor_angle=np.arccos(np.sqrt(1/3)))\n",
    "ex.set_inter('hyperfine',i0=1,i1=2,Axx=-1000000,Ayy=-1000000,Azz=2000000,euler=[0,0,0])\n",
    "ex.set_inter('hyperfine',i0=0,i1=2,Axx=-1000000,Ayy=-1000000,Azz=2000000,euler=[0,np.pi/2,0])\n",
    "ex.set_inter('g',i=0,gxx=2.0022,gyy=2.0059,gzz=2.0098,euler=[0,0,0])\n",
    "ex.set_inter('g',i=1,gxx=2.0022,gyy=2.0059,gzz=2.0098,euler=[0,np.pi/2,0])\n",
    "ex.set_inter('dipole',i0=0,i1=1,delta=sl.Tools.dipole_coupling(1.33,'e-','e-'),euler=[0,77*np.pi/180,0])\n",
    "\n",
    "Dt=1e-3 if ex.vr==0 else None\n",
    "\n",
    "L=ex.Liouvillian()\n",
    "L.add_relax('T2',i=0,T2=5e-6)\n",
    "L.add_relax('T2',i=1,T2=5e-6)\n",
    "L.add_relax('T1',i=0,T1=250e-6)\n",
    "L.add_relax('T1',i=1,T1=250e-6)\n",
    "L.add_relax('T2',i=2,T2=5e-3)\n",
    "L.add_relax('T1',i=2,T1=3)\n",
    "_=L.add_relax('recovery')"
   ]
  },
  {
   "cell_type": "code",
   "execution_count": 4,
   "id": "8833c293",
   "metadata": {},
   "outputs": [
    {
     "data": {
      "text/plain": [
       "0.9999999999921652"
      ]
     },
     "execution_count": 4,
     "metadata": {},
     "output_type": "execute_result"
    }
   ],
   "source": [
    "np.real(np.linalg.eig(L.U(Dt,calc_now=True)[0])[0]).max()"
   ]
  },
  {
   "cell_type": "markdown",
   "id": "93868a24",
   "metadata": {},
   "source": [
    "For the static case, we have no problem with the eigenvalues of the propagator"
   ]
  },
  {
   "cell_type": "code",
   "execution_count": 5,
   "id": "6238d710",
   "metadata": {},
   "outputs": [],
   "source": [
    "ex=sl.ExpSys(v0H=250,Nucs=['e-','e-','1H'],LF=False,vr=5000,T_K=80,\n",
    "             pwdavg=sl.PowderAvg(q=2)[10],rotor_angle=np.arccos(np.sqrt(1/3)))\n",
    "ex.set_inter('hyperfine',i0=1,i1=2,Axx=-1000000,Ayy=-1000000,Azz=2000000,euler=[0,0,0])\n",
    "ex.set_inter('hyperfine',i0=0,i1=2,Axx=-1000000,Ayy=-1000000,Azz=2000000,euler=[0,np.pi/2,0])\n",
    "ex.set_inter('g',i=0,gxx=2.0022,gyy=2.0059,gzz=2.0098,euler=[0,0,0])\n",
    "ex.set_inter('g',i=1,gxx=2.0022,gyy=2.0059,gzz=2.0098,euler=[0,np.pi/2,0])\n",
    "ex.set_inter('dipole',i0=0,i1=1,delta=sl.Tools.dipole_coupling(1.33,'e-','e-'),euler=[0,77*np.pi/180,0])\n",
    "\n",
    "Dt=1e-3 if ex.vr==0 else None\n",
    "\n",
    "L=ex.Liouvillian()\n",
    "L.add_relax('T2',i=0,T2=5e-6)\n",
    "L.add_relax('T2',i=1,T2=5e-6)\n",
    "L.add_relax('T1',i=0,T1=250e-6)\n",
    "L.add_relax('T1',i=1,T1=250e-6)\n",
    "L.add_relax('T2',i=2,T2=5e-3)\n",
    "L.add_relax('T1',i=2,T1=3)\n",
    "_=L.add_relax('recovery')"
   ]
  },
  {
   "cell_type": "code",
   "execution_count": 6,
   "id": "652e55a3",
   "metadata": {},
   "outputs": [
    {
     "data": {
      "text/plain": [
       "1.000000000002578"
      ]
     },
     "execution_count": 6,
     "metadata": {},
     "output_type": "execute_result"
    }
   ],
   "source": [
    "np.real(np.linalg.eig(L.U(Dt)[0])[0]).max()"
   ]
  },
  {
   "cell_type": "markdown",
   "id": "71f90c31",
   "metadata": {},
   "source": [
    "In the rotating frame, we seem to not have any problem getting eigenvalues less than/equal to 1."
   ]
  },
  {
   "cell_type": "code",
   "execution_count": 7,
   "id": "6b11f552",
   "metadata": {},
   "outputs": [],
   "source": [
    "ex=sl.ExpSys(v0H=250,Nucs=['e-','e-','1H'],LF=True,vr=5000,T_K=80,\n",
    "             pwdavg=sl.PowderAvg(q=2)[10],rotor_angle=np.arccos(np.sqrt(1/3)))\n",
    "ex.set_inter('hyperfine',i0=1,i1=2,Axx=-1000000,Ayy=-1000000,Azz=2000000,euler=[0,0,0])\n",
    "ex.set_inter('hyperfine',i0=0,i1=2,Axx=-1000000,Ayy=-1000000,Azz=2000000,euler=[0,np.pi/2,0])\n",
    "ex.set_inter('g',i=0,gxx=2.0022,gyy=2.0059,gzz=2.0098,euler=[0,0,0])\n",
    "ex.set_inter('g',i=1,gxx=2.0022,gyy=2.0059,gzz=2.0098,euler=[0,np.pi/2,0])\n",
    "ex.set_inter('dipole',i0=0,i1=1,delta=sl.Tools.dipole_coupling(1.33,'e-','e-'),euler=[0,77*np.pi/180,0])\n",
    "\n",
    "Dt=1e-3 if ex.vr==0 else None\n",
    "\n",
    "L=ex.Liouvillian()\n",
    "L.add_relax('T2',i=0,T2=5e-6)\n",
    "L.add_relax('T2',i=1,T2=5e-6)\n",
    "L.add_relax('T1',i=0,T1=250e-6)\n",
    "L.add_relax('T1',i=1,T1=250e-6)\n",
    "L.add_relax('T2',i=2,T2=5e-3)\n",
    "L.add_relax('T1',i=2,T1=3)\n",
    "_=L.add_relax('recovery')"
   ]
  },
  {
   "cell_type": "code",
   "execution_count": 8,
   "id": "abee2b4a",
   "metadata": {},
   "outputs": [
    {
     "data": {
      "text/plain": [
       "6.40660622888703"
      ]
     },
     "execution_count": 8,
     "metadata": {},
     "output_type": "execute_result"
    }
   ],
   "source": [
    "np.real(np.linalg.eig(L.U(Dt)[0])[0]).max()"
   ]
  },
  {
   "cell_type": "markdown",
   "id": "3a3d9a89",
   "metadata": {},
   "source": [
    "In the lab frame, however, we no longer get eigenvalues of 1"
   ]
  },
  {
   "cell_type": "code",
   "execution_count": 9,
   "id": "79505c9e",
   "metadata": {},
   "outputs": [],
   "source": [
    "ex=sl.ExpSys(v0H=250,Nucs=['e-','e-','1H'],LF=True,vr=0,T_K=80,\n",
    "             pwdavg=sl.PowderAvg(q=2)[10],rotor_angle=np.arccos(np.sqrt(1/3)))\n",
    "ex.set_inter('hyperfine',i0=1,i1=2,Axx=-1000000,Ayy=-1000000,Azz=2000000,euler=[0,0,0])\n",
    "ex.set_inter('hyperfine',i0=0,i1=2,Axx=-1000000,Ayy=-1000000,Azz=2000000,euler=[0,np.pi/2,0])\n",
    "ex.set_inter('g',i=0,gxx=2.0022,gyy=2.0059,gzz=2.0098,euler=[0,0,0])\n",
    "ex.set_inter('g',i=1,gxx=2.0022,gyy=2.0059,gzz=2.0098,euler=[0,np.pi/2,0])\n",
    "ex.set_inter('dipole',i0=0,i1=1,delta=sl.Tools.dipole_coupling(1.33,'e-','e-'),euler=[0,77*np.pi/180,0])\n",
    "\n",
    "Dt=1e-3 if ex.vr==0 else None\n",
    "\n",
    "L=ex.Liouvillian()\n",
    "L.add_relax('T2',i=0,T2=5e-6)\n",
    "L.add_relax('T2',i=1,T2=5e-6)\n",
    "L.add_relax('T1',i=0,T1=250e-6)\n",
    "L.add_relax('T1',i=1,T1=250e-6)\n",
    "L.add_relax('T2',i=2,T2=5e-3)\n",
    "L.add_relax('T1',i=2,T1=3)\n",
    "_=L.add_relax('recovery')"
   ]
  },
  {
   "cell_type": "code",
   "execution_count": 10,
   "id": "59013a23",
   "metadata": {},
   "outputs": [
    {
     "data": {
      "text/plain": [
       "1.000000050672564"
      ]
     },
     "execution_count": 10,
     "metadata": {},
     "output_type": "execute_result"
    }
   ],
   "source": [
    "np.real(np.linalg.eig(L.U(Dt)[0])[0]).max()"
   ]
  },
  {
   "cell_type": "markdown",
   "id": "77dda04c",
   "metadata": {},
   "source": [
    "Going to the static case also appears to repair the problem"
   ]
  },
  {
   "cell_type": "code",
   "execution_count": 11,
   "id": "66f58482",
   "metadata": {},
   "outputs": [],
   "source": [
    "ex=sl.ExpSys(v0H=250,Nucs=['e-','e-','1H'],LF=True,vr=5000,T_K=80,\n",
    "             pwdavg=sl.PowderAvg(q=2)[10],rotor_angle=np.arccos(np.sqrt(1/3)))\n",
    "ex.set_inter('hyperfine',i0=1,i1=2,Axx=-1000000,Ayy=-1000000,Azz=2000000,euler=[0,0,0])\n",
    "ex.set_inter('hyperfine',i0=0,i1=2,Axx=-1000000,Ayy=-1000000,Azz=2000000,euler=[0,np.pi/2,0])\n",
    "ex.set_inter('g',i=0,gxx=2.0022,gyy=2.0059,gzz=2.0098,euler=[0,0,0])\n",
    "ex.set_inter('g',i=1,gxx=2.0022,gyy=2.0059,gzz=2.0098,euler=[0,np.pi/2,0])\n",
    "ex.set_inter('dipole',i0=0,i1=1,delta=sl.Tools.dipole_coupling(1.33,'e-','e-'),euler=[0,77*np.pi/180,0])\n",
    "\n",
    "Dt=1e-3 if ex.vr==0 else None\n",
    "\n",
    "L=ex.Liouvillian()\n",
    "L.add_relax('T2',i=0,T2=5e-6)\n",
    "L.add_relax('T2',i=1,T2=5e-6)\n",
    "L.add_relax('T1',i=0,T1=250e-6)\n",
    "L.add_relax('T1',i=1,T1=250e-6)\n",
    "L.add_relax('T2',i=2,T2=5e-3)\n",
    "_=L.add_relax('T1',i=2,T1=3)\n",
    "_=L.add_relax('Thermal')"
   ]
  },
  {
   "cell_type": "code",
   "execution_count": 12,
   "id": "1a124883",
   "metadata": {},
   "outputs": [
    {
     "data": {
      "text/plain": [
       "0.9999999985667922"
      ]
     },
     "execution_count": 12,
     "metadata": {},
     "output_type": "execute_result"
    }
   ],
   "source": [
    "np.real(np.linalg.eig(L.U(Dt)[0])[0]).max()"
   ]
  },
  {
   "cell_type": "markdown",
   "id": "5a83996c",
   "metadata": {},
   "source": [
    "Using the \"Thermal\" option puts eigenvalues back to 1 or less. I'm not convinced this is fixing it. I think maybe Thermal just isn't running."
   ]
  },
  {
   "cell_type": "code",
   "execution_count": 13,
   "id": "7c22d48c",
   "metadata": {},
   "outputs": [
    {
     "data": {
      "text/plain": [
       "0.9999999985667922"
      ]
     },
     "execution_count": 13,
     "metadata": {},
     "output_type": "execute_result"
    }
   ],
   "source": [
    "from scipy.linalg import expm\n",
    "dt=L.dt\n",
    "U=L.Ueye()[0]\n",
    "for k in range(ex.n_gamma):dd\n",
    "    U=expm(L[0].L(k)*dt)@U\n",
    "np.real(np.linalg.eig(U)[0]).max()"
   ]
  },
  {
   "cell_type": "markdown",
   "id": "9e69e11f",
   "metadata": {},
   "source": [
    "Here, Thermal is really being used, and indeed it works"
   ]
  },
  {
   "cell_type": "markdown",
   "id": "9e630d0c",
   "metadata": {},
   "source": [
    "## Is \"Thermal\" really running?"
   ]
  },
  {
   "cell_type": "code",
   "execution_count": 15,
   "id": "5bc5d7c3",
   "metadata": {
    "scrolled": false
   },
   "outputs": [
    {
     "name": "stdout",
     "output_type": "stream",
     "text": [
      "State-space reduction: 64->8\n"
     ]
    },
    {
     "data": {
      "text/plain": [
       "<AxesSubplot:xlabel='t / s', ylabel='<$^{1}H_z$>'>"
      ]
     },
     "execution_count": 15,
     "metadata": {},
     "output_type": "execute_result"
    },
    {
     "data": {
      "image/png": "[encoded data removed]",
      "text/plain": [
       "<Figure size 432x288 with 1 Axes>"
      ]
     },
     "metadata": {
      "needs_background": "light"
     },
     "output_type": "display_data"
    }
   ],
   "source": [
    "ex=sl.ExpSys(v0H=250,Nucs=['e-','e-','1H'],LF=False,vr=5000,T_K=80,\n",
    "             pwdavg=sl.PowderAvg(q=2)[10],rotor_angle=np.arccos(np.sqrt(1/3)))\n",
    "# ex.set_inter('hyperfine',i0=1,i1=2,Axx=-1000000,Ayy=-1000000,Azz=2000000,euler=[0,0,0])\n",
    "# ex.set_inter('hyperfine',i0=0,i1=2,Axx=-1000000,Ayy=-1000000,Azz=2000000,euler=[0,np.pi/2,0])\n",
    "ex.set_inter('g',i=0,gxx=2.0022,gyy=2.0059,gzz=2.0098,euler=[0,0,0])\n",
    "ex.set_inter('g',i=1,gxx=2.0022,gyy=2.0059,gzz=2.0098,euler=[0,np.pi/2,0])\n",
    "# ex.set_inter('dipole',i0=0,i1=1,delta=sl.Tools.dipole_coupling(1.33,'e-','e-'),euler=[0,77*np.pi/180,0])\n",
    "\n",
    "Dt=1e-3 if ex.vr==0 else None\n",
    "\n",
    "L=ex.Liouvillian()\n",
    "L.add_relax('T2',i=0,T2=5e-6)\n",
    "L.add_relax('T2',i=1,T2=5e-6)\n",
    "L.add_relax('T1',i=0,T1=250e-6)\n",
    "L.add_relax('T1',i=1,T1=250e-6)\n",
    "L.add_relax('T2',i=2,T2=5e-3)\n",
    "L.add_relax('T1',i=2,T1=3)\n",
    "L.add_relax('Thermal')\n",
    "    \n",
    "seq=L.Sequence()\n",
    "rho=sl.Rho('zero','1Hz')\n",
    "rho.DetProp(seq,n=100000)\n",
    "rho.plot(axis='s')"
   ]
  },
  {
   "cell_type": "markdown",
   "id": "ef35c5b7",
   "metadata": {},
   "source": [
    "I'm pretty sure Lthermal is somehow only being applied part of the time. So we need to fix that. Still, when it is applied correctly, it seems to correct the eigenvalues"
   ]
  },
  {
   "cell_type": "code",
   "execution_count": null,
   "id": "81df35a0",
   "metadata": {},
   "outputs": [],
   "source": []
  }
 ],
 "metadata": {
  "kernelspec": {
   "display_name": "Python 3",
   "language": "python",
   "name": "python3"
  },
  "language_info": {
   "codemirror_mode": {
    "name": "ipython",
    "version": 3
   },
   "file_extension": ".py",
   "mimetype": "text/x-python",
   "name": "python",
   "nbconvert_exporter": "python",
   "pygments_lexer": "ipython3",
   "version": "3.8.8"
  }
 },
 "nbformat": 4,
 "nbformat_minor": 5
}
