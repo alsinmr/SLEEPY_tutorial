{
 "cells": [
  {
   "cell_type": "markdown",
   "id": "4ea00b5a",
   "metadata": {},
   "source": [
    "# Thermalization tests"
   ]
  },
  {
   "cell_type": "markdown",
   "id": "ffacdc6e",
   "metadata": {},
   "source": [
    "We use the cross effect as an example case to test if thermalization works the way we think it should"
   ]
  },
  {
   "cell_type": "code",
   "execution_count": 44,
   "id": "b980d81c",
   "metadata": {},
   "outputs": [],
   "source": [
    "import sys\n",
    "sys.path.append('/Users/albertsmith/Documents/GitHub.nosync/')\n",
    "sys.path.append('/Users/albertsmith/Documents/GitHub/')\n",
    "import SLEEPY as sl\n",
    "import numpy as np\n",
    "import matplotlib.pyplot as plt\n",
    "sl.Defaults['parallel']=False"
   ]
  },
  {
   "cell_type": "markdown",
   "id": "aad0b947",
   "metadata": {},
   "source": [
    "## Does the Liouville matrix times the equilibrium density matrix yield zeros?"
   ]
  },
  {
   "cell_type": "code",
   "execution_count": 2,
   "id": "4e00a1c5",
   "metadata": {},
   "outputs": [],
   "source": [
    "ex=sl.ExpSys(v0H=250,Nucs=['e-','e-','1H'],LF=True,vr=5000,T_K=80,\n",
    "             pwdavg=sl.PowderAvg(q=2)[10],rotor_angle=np.arccos(np.sqrt(1/3)))\n",
    "ex.set_inter('hyperfine',i0=1,i1=2,Axx=-1000000,Ayy=-1000000,Azz=2000000,euler=[0,0,0])\n",
    "ex.set_inter('hyperfine',i0=0,i1=2,Axx=-1000000,Ayy=-1000000,Azz=2000000,euler=[0,np.pi/2,0])\n",
    "ex.set_inter('g',i=0,gxx=2.0022,gyy=2.0059,gzz=2.0098,euler=[0,0,0])\n",
    "ex.set_inter('g',i=1,gxx=2.0022,gyy=2.0059,gzz=2.0098,euler=[0,np.pi/2,0])\n",
    "ex.set_inter('dipole',i0=0,i1=1,delta=sl.Tools.dipole_coupling(1.33,'e-','e-'),euler=[0,77*np.pi/180,0])\n",
    "\n",
    "Dt=1e-3 if ex.vr==0 else None\n",
    "\n",
    "L=ex.Liouvillian()\n",
    "# L.add_relax('T2',i=0,T2=5e-6)\n",
    "# L.add_relax('T2',i=1,T2=5e-6)\n",
    "# L.add_relax('T1',i=0,T1=250e-6)\n",
    "# L.add_relax('T1',i=1,T1=250e-6)\n",
    "# L.add_relax('T2',i=2,T2=5e-3)\n",
    "# L.add_relax('T1',i=2,T1=3)\n",
    "# _=L.add_relax('recovery')\n"
   ]
  },
  {
   "cell_type": "code",
   "execution_count": 3,
   "id": "37cd011e",
   "metadata": {},
   "outputs": [
    {
     "data": {
      "text/plain": [
       "3.093551656379175e-08"
      ]
     },
     "execution_count": 3,
     "metadata": {},
     "output_type": "execute_result"
    }
   ],
   "source": [
    "np.abs(L[0].L(0)@L.rho_eq(step=0)).max()"
   ]
  },
  {
   "cell_type": "markdown",
   "id": "97a69860",
   "metadata": {},
   "source": [
    "The Liouvillian times the equilibrium density operator yields zero if no relaxation is present, regardless of the form of the Hamiltonian. Since the density matrix is just $\\exp(-\\hbar H/(kT))$, this makes sense that it should always commute with the Hamiltonian."
   ]
  },
  {
   "cell_type": "code",
   "execution_count": 4,
   "id": "24043842",
   "metadata": {},
   "outputs": [],
   "source": [
    "ex=sl.ExpSys(v0H=250,Nucs=['e-','e-','1H'],LF=False,vr=0,T_K=80,\n",
    "             pwdavg=sl.PowderAvg(q=2)[10],rotor_angle=np.arccos(np.sqrt(1/3)))\n",
    "ex.set_inter('hyperfine',i0=1,i1=2,Axx=-1000000,Ayy=-1000000,Azz=2000000,euler=[0,0,0])\n",
    "ex.set_inter('hyperfine',i0=0,i1=2,Axx=-1000000,Ayy=-1000000,Azz=2000000,euler=[0,np.pi/2,0])\n",
    "ex.set_inter('g',i=0,gxx=2.0022,gyy=2.0059,gzz=2.0098,euler=[0,0,0])\n",
    "ex.set_inter('g',i=1,gxx=2.0022,gyy=2.0059,gzz=2.0098,euler=[0,np.pi/2,0])\n",
    "# ex.set_inter('dipole',i0=0,i1=1,delta=sl.Tools.dipole_coupling(1.33,'e-','e-'),euler=[0,77*np.pi/180,0])\n",
    "\n",
    "Dt=1e-3 if ex.vr==0 else None\n",
    "\n",
    "L=ex.Liouvillian()\n",
    "L.add_relax('T2',i=0,T2=5e-6)\n",
    "L.add_relax('T2',i=1,T2=5e-6)\n",
    "L.add_relax('T1',i=0,T1=250e-6)\n",
    "L.add_relax('T1',i=1,T1=250e-6)\n",
    "L.add_relax('T2',i=2,T2=5e-3)\n",
    "L.add_relax('T1',i=2,T1=3)\n",
    "_=L.add_relax('recovery')\n"
   ]
  },
  {
   "cell_type": "code",
   "execution_count": 5,
   "id": "c1c0724c",
   "metadata": {},
   "outputs": [
    {
     "data": {
      "text/plain": [
       "6.13467610044438e-14"
      ]
     },
     "execution_count": 5,
     "metadata": {},
     "output_type": "execute_result"
    }
   ],
   "source": [
    "np.abs(L[0].L(0)@L.rho_eq()).max()"
   ]
  },
  {
   "cell_type": "code",
   "execution_count": 6,
   "id": "3b459e17",
   "metadata": {},
   "outputs": [
    {
     "data": {
      "text/plain": [
       "<AxesSubplot:>"
      ]
     },
     "execution_count": 6,
     "metadata": {},
     "output_type": "execute_result"
    },
    {
     "data": {
      "image/png": "[encoded data removed]",
      "text/plain": [
       "<Figure size 432x288 with 1 Axes>"
      ]
     },
     "metadata": {
      "needs_background": "light"
     },
     "output_type": "display_data"
    }
   ],
   "source": [
    "L.H[0].plot(mode='spy')"
   ]
  },
  {
   "cell_type": "markdown",
   "id": "82868d41",
   "metadata": {},
   "source": [
    "Likewise, if we have a diagonal Hamiltonian and no spinning, the equilibrium density operator also yields zero with the Liouvillian. "
   ]
  },
  {
   "cell_type": "code",
   "execution_count": 7,
   "id": "d6864a44",
   "metadata": {},
   "outputs": [],
   "source": [
    "ex=sl.ExpSys(v0H=250,Nucs=['e-','e-','1H'],LF=False,vr=5000,T_K=80,\n",
    "             pwdavg=sl.PowderAvg(q=2)[10],rotor_angle=np.arccos(np.sqrt(1/3)))\n",
    "ex.set_inter('hyperfine',i0=1,i1=2,Axx=-1000000,Ayy=-1000000,Azz=2000000,euler=[0,0,0])\n",
    "ex.set_inter('hyperfine',i0=0,i1=2,Axx=-1000000,Ayy=-1000000,Azz=2000000,euler=[0,np.pi/2,0])\n",
    "ex.set_inter('g',i=0,gxx=2.0022,gyy=2.0059,gzz=2.0098,euler=[0,0,0])\n",
    "ex.set_inter('g',i=1,gxx=2.0022,gyy=2.0059,gzz=2.0098,euler=[0,np.pi/2,0])\n",
    "# ex.set_inter('dipole',i0=0,i1=1,delta=sl.Tools.dipole_coupling(1.33,'e-','e-'),euler=[0,77*np.pi/180,0])\n",
    "\n",
    "Dt=1e-3 if ex.vr==0 else None\n",
    "\n",
    "L=ex.Liouvillian()\n",
    "L.add_relax('T2',i=0,T2=5e-6)\n",
    "L.add_relax('T2',i=1,T2=5e-6)\n",
    "L.add_relax('T1',i=0,T1=250e-6)\n",
    "L.add_relax('T1',i=1,T1=250e-6)\n",
    "L.add_relax('T2',i=2,T2=5e-3)\n",
    "L.add_relax('T1',i=2,T1=3)\n",
    "_=L.add_relax('recovery')\n"
   ]
  },
  {
   "cell_type": "code",
   "execution_count": 8,
   "id": "a943aa1e",
   "metadata": {},
   "outputs": [
    {
     "data": {
      "text/plain": [
       "1.1381173781188636e-13"
      ]
     },
     "execution_count": 8,
     "metadata": {},
     "output_type": "execute_result"
    }
   ],
   "source": [
    "np.abs(L[0].L(0)@L.rho_eq()).max()"
   ]
  },
  {
   "cell_type": "code",
   "execution_count": 9,
   "id": "03f10d1c",
   "metadata": {},
   "outputs": [
    {
     "data": {
      "text/plain": [
       "0.03696432564016303"
      ]
     },
     "execution_count": 9,
     "metadata": {},
     "output_type": "execute_result"
    }
   ],
   "source": [
    "np.abs(L[0].L(0)@L.rho_eq(step=0)).max()"
   ]
  },
  {
   "cell_type": "markdown",
   "id": "9596bfb7",
   "metadata": {},
   "source": [
    "On the other hand, if we start to spin, then the thermal equilibrium is modulated throughout the rotor period. The thermalization matrix is adjusted to yield the mean thermal equilibrium (\"step\" is omitted). Then, the first calculation yields zero. If we go to a particular step (step=0), then we no longer get zero. So, thermalization yields the correct mean value, but not the correct value at individual steps in the rotor period."
   ]
  },
  {
   "cell_type": "code",
   "execution_count": 10,
   "id": "255e094b",
   "metadata": {},
   "outputs": [],
   "source": [
    "ex=sl.ExpSys(v0H=250,Nucs=['e-','e-','1H'],LF=False,vr=5000,T_K=80,\n",
    "             pwdavg=sl.PowderAvg(q=2)[10],rotor_angle=np.arccos(np.sqrt(1/3)))\n",
    "ex.set_inter('hyperfine',i0=1,i1=2,Axx=-1000000,Ayy=-1000000,Azz=2000000,euler=[0,0,0])\n",
    "ex.set_inter('hyperfine',i0=0,i1=2,Axx=-1000000,Ayy=-1000000,Azz=2000000,euler=[0,np.pi/2,0])\n",
    "ex.set_inter('g',i=0,gxx=2.0022,gyy=2.0059,gzz=2.0098,euler=[0,0,0])\n",
    "ex.set_inter('g',i=1,gxx=2.0022,gyy=2.0059,gzz=2.0098,euler=[0,np.pi/2,0])\n",
    "# ex.set_inter('dipole',i0=0,i1=1,delta=sl.Tools.dipole_coupling(1.33,'e-','e-'),euler=[0,77*np.pi/180,0])\n",
    "\n",
    "Dt=1e-3 if ex.vr==0 else None\n",
    "\n",
    "L=ex.Liouvillian()\n",
    "L.add_relax('T2',i=0,T2=5e-6)\n",
    "L.add_relax('T2',i=1,T2=5e-6)\n",
    "L.add_relax('T1',i=0,T1=250e-6)\n",
    "L.add_relax('T1',i=1,T1=250e-6)\n",
    "L.add_relax('T2',i=2,T2=5e-3)\n",
    "L.add_relax('T1',i=2,T1=3)\n",
    "_=L.add_relax('Thermal')"
   ]
  },
  {
   "cell_type": "code",
   "execution_count": 11,
   "id": "366d98c2",
   "metadata": {},
   "outputs": [
    {
     "data": {
      "text/plain": [
       "6.13467610044438e-14"
      ]
     },
     "execution_count": 11,
     "metadata": {},
     "output_type": "execute_result"
    }
   ],
   "source": [
    "np.abs(L[0].L(0)@L[0].rho_eq(step=0)).max()"
   ]
  },
  {
   "cell_type": "code",
   "execution_count": 12,
   "id": "487a6007",
   "metadata": {},
   "outputs": [
    {
     "data": {
      "text/plain": [
       "1.1418643808269735e-13"
      ]
     },
     "execution_count": 12,
     "metadata": {},
     "output_type": "execute_result"
    }
   ],
   "source": [
    "np.abs(L[0].L(10)@L[0].rho_eq(step=10)).max()"
   ]
  },
  {
   "cell_type": "code",
   "execution_count": 13,
   "id": "20fb9b25",
   "metadata": {},
   "outputs": [
    {
     "data": {
      "text/plain": [
       "0.012556005816343346"
      ]
     },
     "execution_count": 13,
     "metadata": {},
     "output_type": "execute_result"
    }
   ],
   "source": [
    "np.abs(L[0].L(0)@L[0].rho_eq(step=10)).max()"
   ]
  },
  {
   "cell_type": "markdown",
   "id": "46e28b74",
   "metadata": {},
   "source": [
    "A different thermalization routine ('Thermal' instead of 'recovery'), on the other hand, gets the correct thermal equilibrium at all steps in the rotor period. This method, however, poses some challenges for our Parallel Manager, so it is often not actually being used. "
   ]
  },
  {
   "cell_type": "code",
   "execution_count": 14,
   "id": "126a4321",
   "metadata": {},
   "outputs": [],
   "source": [
    "ex=sl.ExpSys(v0H=250,Nucs=['e-','e-','1H'],LF=False,vr=5000,T_K=80,\n",
    "             pwdavg=sl.PowderAvg(q=2)[10],rotor_angle=np.arccos(np.sqrt(1/3)))\n",
    "ex.set_inter('hyperfine',i0=1,i1=2,Axx=-1000000,Ayy=-1000000,Azz=2000000,euler=[0,0,0])\n",
    "ex.set_inter('hyperfine',i0=0,i1=2,Axx=-1000000,Ayy=-1000000,Azz=2000000,euler=[0,np.pi/2,0])\n",
    "ex.set_inter('g',i=0,gxx=2.0022,gyy=2.0059,gzz=2.0098,euler=[0,0,0])\n",
    "ex.set_inter('g',i=1,gxx=2.0022,gyy=2.0059,gzz=2.0098,euler=[0,np.pi/2,0])\n",
    "ex.set_inter('dipole',i0=0,i1=1,delta=sl.Tools.dipole_coupling(1.33,'e-','e-'),euler=[0,77*np.pi/180,0])\n",
    "\n",
    "Dt=1e-3 if ex.vr==0 else None\n",
    "\n",
    "L=ex.Liouvillian()\n",
    "L.add_relax('T2',i=0,T2=5e-6)\n",
    "L.add_relax('T2',i=1,T2=5e-6)\n",
    "L.add_relax('T1',i=0,T1=250e-6)\n",
    "L.add_relax('T1',i=1,T1=250e-6)\n",
    "L.add_relax('T2',i=2,T2=5e-3)\n",
    "L.add_relax('T1',i=2,T1=3)\n",
    "_=L.add_relax('Thermal')"
   ]
  },
  {
   "cell_type": "code",
   "execution_count": 15,
   "id": "f6075111",
   "metadata": {},
   "outputs": [
    {
     "data": {
      "text/plain": [
       "0.1654842966109148"
      ]
     },
     "execution_count": 15,
     "metadata": {},
     "output_type": "execute_result"
    }
   ],
   "source": [
    "np.abs(L[0].L(10)@L[0].rho_eq(step=10)).max()"
   ]
  },
  {
   "cell_type": "code",
   "execution_count": 16,
   "id": "03313f10",
   "metadata": {},
   "outputs": [
    {
     "data": {
      "text/plain": [
       "<AxesSubplot:>"
      ]
     },
     "execution_count": 16,
     "metadata": {},
     "output_type": "execute_result"
    },
    {
     "data": {
      "image/png": "[encoded data removed]",
      "text/plain": [
       "<Figure size 432x288 with 2 Axes>"
      ]
     },
     "metadata": {
      "needs_background": "light"
     },
     "output_type": "display_data"
    }
   ],
   "source": [
    "L.H[0].plot()"
   ]
  },
  {
   "cell_type": "markdown",
   "id": "e18d4fea",
   "metadata": {},
   "source": [
    "Neither method works correctly if the Hamiltonian is not diagonal. This is because our relaxation is implemented assuming a near-diagonal Hamiltonian, whereas the true relaxation behavior should occur for the Eigenstates of the Hamiltonian. "
   ]
  },
  {
   "cell_type": "code",
   "execution_count": 17,
   "id": "b9381cb4",
   "metadata": {},
   "outputs": [],
   "source": [
    "ex=sl.ExpSys(v0H=250,Nucs=['e-','e-','1H'],LF=False,vr=0,T_K=80,\n",
    "             pwdavg=sl.PowderAvg(q=2)[10],rotor_angle=np.arccos(np.sqrt(1/3)))\n",
    "ex.set_inter('hyperfine',i0=1,i1=2,Axx=-1000000,Ayy=-1000000,Azz=2000000,euler=[0,0,0])\n",
    "ex.set_inter('hyperfine',i0=0,i1=2,Axx=-1000000,Ayy=-1000000,Azz=2000000,euler=[0,np.pi/2,0])\n",
    "ex.set_inter('g',i=0,gxx=2.0022,gyy=2.0059,gzz=2.0098,euler=[0,0,0])\n",
    "ex.set_inter('g',i=1,gxx=2.0022,gyy=2.0059,gzz=2.0098,euler=[0,np.pi/2,0])\n",
    "ex.set_inter('dipole',i0=0,i1=1,delta=sl.Tools.dipole_coupling(1.33,'e-','e-'),euler=[0,77*np.pi/180,0])\n",
    "\n",
    "Dt=1e-3 if ex.vr==0 else None\n",
    "\n",
    "L=ex.Liouvillian()\n",
    "L.add_relax('T2',i=0,T2=5e-6)\n",
    "L.add_relax('T2',i=1,T2=5e-6)\n",
    "L.add_relax('T1',i=0,T1=250e-6)\n",
    "L.add_relax('T1',i=1,T1=250e-6)\n",
    "L.add_relax('T2',i=2,T2=5e-3)\n",
    "L.add_relax('T1',i=2,T1=3)\n",
    "_=L.add_relax('Thermal')"
   ]
  },
  {
   "cell_type": "code",
   "execution_count": 18,
   "id": "96cb5604",
   "metadata": {},
   "outputs": [
    {
     "data": {
      "text/plain": [
       "0.1633465514466467"
      ]
     },
     "execution_count": 18,
     "metadata": {},
     "output_type": "execute_result"
    }
   ],
   "source": [
    "np.abs(L[0].L(10)@L[0].rho_eq(step=10)).max()"
   ]
  },
  {
   "cell_type": "markdown",
   "id": "1b67f616",
   "metadata": {},
   "source": [
    "The situation from above does not improve by going back to a static Hamiltonian."
   ]
  },
  {
   "cell_type": "markdown",
   "id": "3b60767d",
   "metadata": {},
   "source": [
    "## Eigenvalues of the propagator\n",
    "The next question is under what conditions do the eigenvalues of the propagator exceed 1, which in general should not occur."
   ]
  },
  {
   "cell_type": "code",
   "execution_count": 19,
   "id": "60377190",
   "metadata": {},
   "outputs": [],
   "source": [
    "ex=sl.ExpSys(v0H=250,Nucs=['e-','e-','1H'],LF=False,vr=0,T_K=80,\n",
    "             pwdavg=sl.PowderAvg(q=2)[10],rotor_angle=np.arccos(np.sqrt(1/3)))\n",
    "ex.set_inter('hyperfine',i0=1,i1=2,Axx=-1000000,Ayy=-1000000,Azz=2000000,euler=[0,0,0])\n",
    "ex.set_inter('hyperfine',i0=0,i1=2,Axx=-1000000,Ayy=-1000000,Azz=2000000,euler=[0,np.pi/2,0])\n",
    "ex.set_inter('g',i=0,gxx=2.0022,gyy=2.0059,gzz=2.0098,euler=[0,0,0])\n",
    "ex.set_inter('g',i=1,gxx=2.0022,gyy=2.0059,gzz=2.0098,euler=[0,np.pi/2,0])\n",
    "ex.set_inter('dipole',i0=0,i1=1,delta=sl.Tools.dipole_coupling(1.33,'e-','e-'),euler=[0,77*np.pi/180,0])\n",
    "\n",
    "Dt=1e-3 if ex.vr==0 else None\n",
    "\n",
    "L=ex.Liouvillian()\n",
    "L.add_relax('T2',i=0,T2=5e-6)\n",
    "L.add_relax('T2',i=1,T2=5e-6)\n",
    "L.add_relax('T1',i=0,T1=250e-6)\n",
    "L.add_relax('T1',i=1,T1=250e-6)\n",
    "L.add_relax('T2',i=2,T2=5e-3)\n",
    "L.add_relax('T1',i=2,T1=3)\n",
    "_=L.add_relax('recovery')"
   ]
  },
  {
   "cell_type": "code",
   "execution_count": 20,
   "id": "8833c293",
   "metadata": {},
   "outputs": [
    {
     "data": {
      "text/plain": [
       "1.000000000005279"
      ]
     },
     "execution_count": 20,
     "metadata": {},
     "output_type": "execute_result"
    }
   ],
   "source": [
    "np.real(np.linalg.eig(L.U(Dt)[0])[0]).max()"
   ]
  },
  {
   "cell_type": "markdown",
   "id": "93868a24",
   "metadata": {},
   "source": [
    "For the static case, we have no problem with the eigenvalues of the propagator"
   ]
  },
  {
   "cell_type": "code",
   "execution_count": 21,
   "id": "6238d710",
   "metadata": {},
   "outputs": [],
   "source": [
    "ex=sl.ExpSys(v0H=250,Nucs=['e-','e-','1H'],LF=False,vr=5000,T_K=80,\n",
    "             pwdavg=sl.PowderAvg(q=2)[10],rotor_angle=np.arccos(np.sqrt(1/3)))\n",
    "ex.set_inter('hyperfine',i0=1,i1=2,Axx=-1000000,Ayy=-1000000,Azz=2000000,euler=[0,0,0])\n",
    "ex.set_inter('hyperfine',i0=0,i1=2,Axx=-1000000,Ayy=-1000000,Azz=2000000,euler=[0,np.pi/2,0])\n",
    "ex.set_inter('g',i=0,gxx=2.0022,gyy=2.0059,gzz=2.0098,euler=[0,0,0])\n",
    "ex.set_inter('g',i=1,gxx=2.0022,gyy=2.0059,gzz=2.0098,euler=[0,np.pi/2,0])\n",
    "ex.set_inter('dipole',i0=0,i1=1,delta=sl.Tools.dipole_coupling(1.33,'e-','e-'),euler=[0,77*np.pi/180,0])\n",
    "\n",
    "Dt=1e-3 if ex.vr==0 else None\n",
    "\n",
    "L=ex.Liouvillian()\n",
    "L.add_relax('T2',i=0,T2=5e-6)\n",
    "L.add_relax('T2',i=1,T2=5e-6)\n",
    "L.add_relax('T1',i=0,T1=250e-6)\n",
    "L.add_relax('T1',i=1,T1=250e-6)\n",
    "L.add_relax('T2',i=2,T2=5e-3)\n",
    "L.add_relax('T1',i=2,T1=3)\n",
    "_=L.add_relax('recovery')"
   ]
  },
  {
   "cell_type": "code",
   "execution_count": 22,
   "id": "652e55a3",
   "metadata": {},
   "outputs": [
    {
     "data": {
      "text/plain": [
       "1.000000000001215"
      ]
     },
     "execution_count": 22,
     "metadata": {},
     "output_type": "execute_result"
    }
   ],
   "source": [
    "np.real(np.linalg.eig(L.U(Dt)[0])[0]).max()"
   ]
  },
  {
   "cell_type": "markdown",
   "id": "71f90c31",
   "metadata": {},
   "source": [
    "In the rotating frame, we seem to not have any problem getting eigenvalues less than/equal to 1."
   ]
  },
  {
   "cell_type": "code",
   "execution_count": 23,
   "id": "6b11f552",
   "metadata": {},
   "outputs": [],
   "source": [
    "ex=sl.ExpSys(v0H=250,Nucs=['e-','e-','1H'],LF=True,vr=5000,T_K=80,\n",
    "             pwdavg=sl.PowderAvg(q=2)[10],rotor_angle=np.arccos(np.sqrt(1/3)))\n",
    "ex.set_inter('hyperfine',i0=1,i1=2,Axx=-1000000,Ayy=-1000000,Azz=2000000,euler=[0,0,0])\n",
    "ex.set_inter('hyperfine',i0=0,i1=2,Axx=-1000000,Ayy=-1000000,Azz=2000000,euler=[0,np.pi/2,0])\n",
    "ex.set_inter('g',i=0,gxx=2.0022,gyy=2.0059,gzz=2.0098,euler=[0,0,0])\n",
    "ex.set_inter('g',i=1,gxx=2.0022,gyy=2.0059,gzz=2.0098,euler=[0,np.pi/2,0])\n",
    "ex.set_inter('dipole',i0=0,i1=1,delta=sl.Tools.dipole_coupling(1.33,'e-','e-'),euler=[0,77*np.pi/180,0])\n",
    "\n",
    "Dt=1e-3 if ex.vr==0 else None\n",
    "\n",
    "L=ex.Liouvillian()\n",
    "L.add_relax('T2',i=0,T2=5e-6)\n",
    "L.add_relax('T2',i=1,T2=5e-6)\n",
    "L.add_relax('T1',i=0,T1=250e-6)\n",
    "L.add_relax('T1',i=1,T1=250e-6)\n",
    "L.add_relax('T2',i=2,T2=5e-3)\n",
    "L.add_relax('T1',i=2,T1=3)\n",
    "_=L.add_relax('recovery')"
   ]
  },
  {
   "cell_type": "code",
   "execution_count": 24,
   "id": "abee2b4a",
   "metadata": {},
   "outputs": [
    {
     "data": {
      "text/plain": [
       "6.406606240301283"
      ]
     },
     "execution_count": 24,
     "metadata": {},
     "output_type": "execute_result"
    }
   ],
   "source": [
    "np.real(np.linalg.eig(L.U(Dt)[0])[0]).max()"
   ]
  },
  {
   "cell_type": "markdown",
   "id": "3a3d9a89",
   "metadata": {},
   "source": [
    "In the lab frame, however, we no longer get eigenvalues of 1"
   ]
  },
  {
   "cell_type": "code",
   "execution_count": 25,
   "id": "66f58482",
   "metadata": {},
   "outputs": [],
   "source": [
    "ex=sl.ExpSys(v0H=250,Nucs=['e-','e-','1H'],LF=True,vr=5000,T_K=80,\n",
    "             pwdavg=sl.PowderAvg(q=2)[10],rotor_angle=np.arccos(np.sqrt(1/3)))\n",
    "ex.set_inter('hyperfine',i0=1,i1=2,Axx=-1000000,Ayy=-1000000,Azz=2000000,euler=[0,0,0])\n",
    "ex.set_inter('hyperfine',i0=0,i1=2,Axx=-1000000,Ayy=-1000000,Azz=2000000,euler=[0,np.pi/2,0])\n",
    "ex.set_inter('g',i=0,gxx=2.0022,gyy=2.0059,gzz=2.0098,euler=[0,0,0])\n",
    "ex.set_inter('g',i=1,gxx=2.0022,gyy=2.0059,gzz=2.0098,euler=[0,np.pi/2,0])\n",
    "ex.set_inter('dipole',i0=0,i1=1,delta=sl.Tools.dipole_coupling(1.33,'e-','e-'),euler=[0,77*np.pi/180,0])\n",
    "\n",
    "Dt=1e-3 if ex.vr==0 else None\n",
    "\n",
    "L=ex.Liouvillian()\n",
    "L.add_relax('T2',i=0,T2=5e-6)\n",
    "L.add_relax('T2',i=1,T2=5e-6)\n",
    "L.add_relax('T1',i=0,T1=250e-6)\n",
    "L.add_relax('T1',i=1,T1=250e-6)\n",
    "L.add_relax('T2',i=2,T2=5e-3)\n",
    "L.add_relax('T1',i=2,T1=3)\n",
    "_=L.add_relax('Thermal')"
   ]
  },
  {
   "cell_type": "code",
   "execution_count": 26,
   "id": "1a124883",
   "metadata": {},
   "outputs": [
    {
     "data": {
      "text/plain": [
       "0.9999999990129852"
      ]
     },
     "execution_count": 26,
     "metadata": {},
     "output_type": "execute_result"
    }
   ],
   "source": [
    "np.real(np.linalg.eig(L.U(Dt)[0])[0]).max()"
   ]
  },
  {
   "cell_type": "markdown",
   "id": "5a83996c",
   "metadata": {},
   "source": [
    "Using the \"Thermal\" option puts eigenvalues back to 1 or less"
   ]
  },
  {
   "cell_type": "markdown",
   "id": "9e630d0c",
   "metadata": {},
   "source": [
    "## Is \"Thermal\" really running?"
   ]
  },
  {
   "cell_type": "code",
   "execution_count": 42,
   "id": "5bc5d7c3",
   "metadata": {},
   "outputs": [
    {
     "data": {
      "text/plain": [
       "<AxesSubplot:xlabel='t / s', ylabel='<$^{1}H_z$>'>"
      ]
     },
     "execution_count": 42,
     "metadata": {},
     "output_type": "execute_result"
    },
    {
     "data": {
      "image/png": "[encoded data removed]",
      "text/plain": [
       "<Figure size 432x288 with 1 Axes>"
      ]
     },
     "metadata": {
      "needs_background": "light"
     },
     "output_type": "display_data"
    }
   ],
   "source": [
    "ex=sl.ExpSys(v0H=250,Nucs=['e-','e-','1H'],LF=False,vr=5000,T_K=80,\n",
    "             pwdavg=sl.PowderAvg(q=2)[10],rotor_angle=np.arccos(np.sqrt(1/3)))\n",
    "# ex.set_inter('hyperfine',i0=1,i1=2,Axx=-1000000,Ayy=-1000000,Azz=2000000,euler=[0,0,0])\n",
    "# ex.set_inter('hyperfine',i0=0,i1=2,Axx=-1000000,Ayy=-1000000,Azz=2000000,euler=[0,np.pi/2,0])\n",
    "ex.set_inter('g',i=0,gxx=2.0022,gyy=2.0059,gzz=2.0098,euler=[0,0,0])\n",
    "ex.set_inter('g',i=1,gxx=2.0022,gyy=2.0059,gzz=2.0098,euler=[0,np.pi/2,0])\n",
    "# ex.set_inter('dipole',i0=0,i1=1,delta=sl.Tools.dipole_coupling(1.33,'e-','e-'),euler=[0,77*np.pi/180,0])\n",
    "\n",
    "Dt=1e-3 if ex.vr==0 else None\n",
    "\n",
    "L=ex.Liouvillian()\n",
    "L.add_relax('T2',i=0,T2=5e-6)\n",
    "L.add_relax('T2',i=1,T2=5e-6)\n",
    "L.add_relax('T1',i=0,T1=250e-6)\n",
    "L.add_relax('T1',i=1,T1=250e-6)\n",
    "L.add_relax('T2',i=2,T2=5e-3)\n",
    "L.add_relax('T1',i=2,T1=3)\n",
    "L.add_relax('Thermal')\n",
    "\n",
    "U=L.U()\n",
    "\n",
    "rho=sl.Rho('zero','1Hz')\n",
    "rho.DetProp(U,n=100000)\n",
    "rho.plot(axis='s')"
   ]
  },
  {
   "cell_type": "markdown",
   "id": "ef35c5b7",
   "metadata": {},
   "source": [
    "It appears to be running here, but is yielding incorrect equilibrium values"
   ]
  },
  {
   "cell_type": "code",
   "execution_count": 49,
   "id": "71d70aae",
   "metadata": {},
   "outputs": [
    {
     "data": {
      "text/plain": [
       "<AxesSubplot:xlabel='t / s', ylabel='<$^{1}H_z$>'>"
      ]
     },
     "execution_count": 49,
     "metadata": {},
     "output_type": "execute_result"
    },
    {
     "data": {
      "image/png": "[encoded data removed]",
      "text/plain": [
       "<Figure size 432x288 with 1 Axes>"
      ]
     },
     "metadata": {
      "needs_background": "light"
     },
     "output_type": "display_data"
    }
   ],
   "source": [
    "sl.Defaults['parallel']=True\n",
    "ex=sl.ExpSys(v0H=250,Nucs=['e-','e-','1H'],LF=False,vr=5000,T_K=80,\n",
    "             pwdavg=sl.PowderAvg(q=2)[10],rotor_angle=np.arccos(np.sqrt(1/3)))\n",
    "# ex.set_inter('hyperfine',i0=1,i1=2,Axx=-1000000,Ayy=-1000000,Azz=2000000,euler=[0,0,0])\n",
    "# ex.set_inter('hyperfine',i0=0,i1=2,Axx=-1000000,Ayy=-1000000,Azz=2000000,euler=[0,np.pi/2,0])\n",
    "ex.set_inter('g',i=0,gxx=2.0022,gyy=2.0059,gzz=2.0098,euler=[0,0,0])\n",
    "ex.set_inter('g',i=1,gxx=2.0022,gyy=2.0059,gzz=2.0098,euler=[0,np.pi/2,0])\n",
    "# ex.set_inter('dipole',i0=0,i1=1,delta=sl.Tools.dipole_coupling(1.33,'e-','e-'),euler=[0,77*np.pi/180,0])\n",
    "\n",
    "Dt=1e-3 if ex.vr==0 else None\n",
    "\n",
    "L=ex.Liouvillian()\n",
    "L.add_relax('T2',i=0,T2=5e-6)\n",
    "L.add_relax('T2',i=1,T2=5e-6)\n",
    "L.add_relax('T1',i=0,T1=250e-6)\n",
    "L.add_relax('T1',i=1,T1=250e-6)\n",
    "L.add_relax('T2',i=2,T2=5e-3)\n",
    "L.add_relax('T1',i=2,T1=3)\n",
    "L.add_relax('Thermal')\n",
    "\n",
    "U=L.U()\n",
    "\n",
    "rho=sl.Rho('zero','1Hz')\n",
    "rho.DetProp(U,n=100000)\n",
    "rho.plot(axis='s')"
   ]
  },
  {
   "cell_type": "code",
   "execution_count": 51,
   "id": "8557abc0",
   "metadata": {},
   "outputs": [
    {
     "name": "stdout",
     "output_type": "stream",
     "text": [
      "State-space reduction: 64->8\n"
     ]
    },
    {
     "data": {
      "text/plain": [
       "<AxesSubplot:xlabel='t / s', ylabel='<$^{1}H_z$>'>"
      ]
     },
     "execution_count": 51,
     "metadata": {},
     "output_type": "execute_result"
    },
    {
     "data": {
      "image/png": "[encoded data removed]",
      "text/plain": [
       "<Figure size 432x288 with 1 Axes>"
      ]
     },
     "metadata": {
      "needs_background": "light"
     },
     "output_type": "display_data"
    }
   ],
   "source": [
    "seq=L.Sequence()\n",
    "rho=sl.Rho('zero','1Hz')\n",
    "rho.DetProp(seq,n=100000)\n",
    "rho.plot(axis='s')"
   ]
  },
  {
   "cell_type": "markdown",
   "id": "54483fe3",
   "metadata": {},
   "source": [
    "For some reaons, the equilibrium values are even more wrong with sequence. It's all a bit strange, because I thought Lthermal might not be accesible under these conditions so that we would have no recovery at all"
   ]
  },
  {
   "cell_type": "code",
   "execution_count": null,
   "id": "09b350a3",
   "metadata": {},
   "outputs": [],
   "source": []
  }
 ],
 "metadata": {
  "kernelspec": {
   "display_name": "Python 3",
   "language": "python",
   "name": "python3"
  },
  "language_info": {
   "codemirror_mode": {
    "name": "ipython",
    "version": 3
   },
   "file_extension": ".py",
   "mimetype": "text/x-python",
   "name": "python",
   "nbconvert_exporter": "python",
   "pygments_lexer": "ipython3",
   "version": "3.7.3"
  }
 },
 "nbformat": 4,
 "nbformat_minor": 5
}
