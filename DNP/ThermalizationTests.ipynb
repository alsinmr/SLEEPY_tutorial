{
 "cells": [
  {
   "cell_type": "markdown",
   "id": "4ea00b5a",
   "metadata": {},
   "source": [
    "# Thermalization tests"
   ]
  },
  {
   "cell_type": "markdown",
   "id": "ffacdc6e",
   "metadata": {},
   "source": [
    "We use the cross effect as an example case to test if thermalization works the way we think it should"
   ]
  },
  {
   "cell_type": "code",
   "execution_count": 1,
   "id": "b980d81c",
   "metadata": {},
   "outputs": [],
   "source": [
    "import sys\n",
    "sys.path.append('/Users/albertsmith/Documents/GitHub.nosync/')\n",
    "sys.path.append('/Users/albertsmith/Documents/GitHub/')\n",
    "import SLEEPY as sl\n",
    "import numpy as np\n",
    "import matplotlib.pyplot as plt\n",
    "sl.Defaults['parallel']=False"
   ]
  },
  {
   "cell_type": "markdown",
   "id": "aad0b947",
   "metadata": {},
   "source": [
    "## Does the Liouville matrix times the equilibrium density matrix yield zeros?"
   ]
  },
  {
   "cell_type": "code",
   "execution_count": 73,
   "id": "4e00a1c5",
   "metadata": {},
   "outputs": [],
   "source": [
    "ex=sl.ExpSys(v0H=250,Nucs=['e-','e-','1H'],LF=True,vr=5000,T_K=80,\n",
    "             pwdavg=sl.PowderAvg(q=2)[10],rotor_angle=np.arccos(np.sqrt(1/3)))\n",
    "ex.set_inter('hyperfine',i0=1,i1=2,Axx=-1000000,Ayy=-1000000,Azz=2000000,euler=[0,0,0])\n",
    "ex.set_inter('hyperfine',i0=0,i1=2,Axx=-1000000,Ayy=-1000000,Azz=2000000,euler=[0,np.pi/2,0])\n",
    "ex.set_inter('g',i=0,gxx=2.0022,gyy=2.0059,gzz=2.0098,euler=[0,0,0])\n",
    "ex.set_inter('g',i=1,gxx=2.0022,gyy=2.0059,gzz=2.0098,euler=[0,np.pi/2,0])\n",
    "ex.set_inter('dipole',i0=0,i1=1,delta=sl.Tools.dipole_coupling(1.33,'e-','e-'),euler=[0,77*np.pi/180,0])\n",
    "\n",
    "Dt=1e-3 if ex.vr==0 else None\n",
    "\n",
    "L=ex.Liouvillian()"
   ]
  },
  {
   "cell_type": "code",
   "execution_count": 74,
   "id": "37cd011e",
   "metadata": {},
   "outputs": [
    {
     "data": {
      "text/plain": [
       "1.5036577659083505e-08"
      ]
     },
     "execution_count": 74,
     "metadata": {},
     "output_type": "execute_result"
    }
   ],
   "source": [
    "np.abs(L[0].L(10)@L.rho_eq(step=10)).max()"
   ]
  },
  {
   "cell_type": "markdown",
   "id": "97a69860",
   "metadata": {},
   "source": [
    "The Liouvillian times the equilibrium density operator yields zero if no relaxation is present, regardless of the form of the Hamiltonian. Since the density matrix is just $\\exp(-\\hbar H/(kT))$, this makes sense that it should always commute with the Hamiltonian."
   ]
  },
  {
   "cell_type": "code",
   "execution_count": 77,
   "id": "24043842",
   "metadata": {},
   "outputs": [],
   "source": [
    "ex=sl.ExpSys(v0H=250,Nucs=['e-','e-','1H'],LF=False,vr=0,T_K=80,\n",
    "             pwdavg=sl.PowderAvg(q=2)[10],rotor_angle=np.arccos(np.sqrt(1/3)))\n",
    "ex.set_inter('hyperfine',i0=1,i1=2,Axx=-1000000,Ayy=-1000000,Azz=2000000,euler=[0,0,0])\n",
    "ex.set_inter('hyperfine',i0=0,i1=2,Axx=-1000000,Ayy=-1000000,Azz=2000000,euler=[0,np.pi/2,0])\n",
    "ex.set_inter('g',i=0,gxx=2.0022,gyy=2.0059,gzz=2.0098,euler=[0,0,0])\n",
    "ex.set_inter('g',i=1,gxx=2.0022,gyy=2.0059,gzz=2.0098,euler=[0,np.pi/2,0])\n",
    "\n",
    "Dt=1e-3 if ex.vr==0 else None\n",
    "\n",
    "L=ex.Liouvillian()\n",
    "L.add_relax('T2',i=0,T2=5e-6)\n",
    "L.add_relax('T2',i=1,T2=5e-6)\n",
    "L.add_relax('T1',i=0,T1=250e-6)\n",
    "L.add_relax('T1',i=1,T1=250e-6)\n",
    "L.add_relax('T2',i=2,T2=5e-3)\n",
    "L.add_relax('T1',i=2,T1=3)\n",
    "_=L.add_relax('recovery')"
   ]
  },
  {
   "cell_type": "code",
   "execution_count": 78,
   "id": "c1c0724c",
   "metadata": {},
   "outputs": [
    {
     "data": {
      "text/plain": [
       "5.684341886080802e-14"
      ]
     },
     "execution_count": 78,
     "metadata": {},
     "output_type": "execute_result"
    }
   ],
   "source": [
    "np.abs(L[0].L(10)@L.rho_eq()).max()"
   ]
  },
  {
   "cell_type": "code",
   "execution_count": 79,
   "id": "3b459e17",
   "metadata": {},
   "outputs": [
    {
     "data": {
      "text/plain": [
       "<AxesSubplot:>"
      ]
     },
     "execution_count": 79,
     "metadata": {},
     "output_type": "execute_result"
    },
    {
     "data": {
      "image/png": "[encoded data removed]",
      "text/plain": [
       "<Figure size 432x288 with 1 Axes>"
      ]
     },
     "metadata": {
      "needs_background": "light"
     },
     "output_type": "display_data"
    }
   ],
   "source": [
    "L.H[0].plot(mode='spy')"
   ]
  },
  {
   "cell_type": "markdown",
   "id": "82868d41",
   "metadata": {},
   "source": [
    "Likewise, if we have a diagonal Hamiltonian and no spinning, the equilibrium density operator also yields zero with the Liouvillian. "
   ]
  },
  {
   "cell_type": "code",
   "execution_count": 83,
   "id": "d6864a44",
   "metadata": {},
   "outputs": [],
   "source": [
    "ex=sl.ExpSys(v0H=250,Nucs=['e-','e-','1H'],LF=False,vr=5000,T_K=80,\n",
    "             pwdavg=sl.PowderAvg(q=2)[10],rotor_angle=np.arccos(np.sqrt(1/3)))\n",
    "ex.set_inter('hyperfine',i0=1,i1=2,Axx=-1000000,Ayy=-1000000,Azz=2000000,euler=[0,0,0])\n",
    "ex.set_inter('hyperfine',i0=0,i1=2,Axx=-1000000,Ayy=-1000000,Azz=2000000,euler=[0,np.pi/2,0])\n",
    "ex.set_inter('g',i=0,gxx=2.0022,gyy=2.0059,gzz=2.0098,euler=[0,0,0])\n",
    "ex.set_inter('g',i=1,gxx=2.0022,gyy=2.0059,gzz=2.0098,euler=[0,np.pi/2,0])\n",
    "\n",
    "Dt=1e-3 if ex.vr==0 else None\n",
    "\n",
    "L=ex.Liouvillian()\n",
    "L.add_relax('T2',i=0,T2=5e-6)\n",
    "L.add_relax('T2',i=1,T2=5e-6)\n",
    "L.add_relax('T1',i=0,T1=250e-6)\n",
    "L.add_relax('T1',i=1,T1=250e-6)\n",
    "L.add_relax('T2',i=2,T2=5e-3)\n",
    "L.add_relax('T1',i=2,T1=3)\n",
    "_=L.add_relax('recovery')\n"
   ]
  },
  {
   "cell_type": "code",
   "execution_count": 87,
   "id": "a943aa1e",
   "metadata": {},
   "outputs": [
    {
     "data": {
      "text/plain": [
       "1.1381173781188636e-13"
      ]
     },
     "execution_count": 87,
     "metadata": {},
     "output_type": "execute_result"
    }
   ],
   "source": [
    "np.abs(L[0].L(0)@L.rho_eq()).max()"
   ]
  },
  {
   "cell_type": "code",
   "execution_count": 88,
   "id": "03f10d1c",
   "metadata": {},
   "outputs": [
    {
     "data": {
      "text/plain": [
       "0.03696432564021279"
      ]
     },
     "execution_count": 88,
     "metadata": {},
     "output_type": "execute_result"
    }
   ],
   "source": [
    "np.abs(L[0].L(0)@L.rho_eq(step=0)).max()"
   ]
  },
  {
   "cell_type": "markdown",
   "id": "9596bfb7",
   "metadata": {},
   "source": [
    "On the other hand, if we start to spin, then the thermal equilibrium is modulated throughout the rotor period. The thermalization matrix is adjusted to yield the mean thermal equilibrium (\"step\" is omitted). Then, the first calculation yields zero. If we go to a particular step (step=0), then we no longer get zero. So, thermalization yields the correct mean value, but not the correct value at individual steps in the rotor period."
   ]
  },
  {
   "cell_type": "code",
   "execution_count": 89,
   "id": "255e094b",
   "metadata": {},
   "outputs": [],
   "source": [
    "ex=sl.ExpSys(v0H=250,Nucs=['e-','e-','1H'],LF=False,vr=5000,T_K=80,\n",
    "             pwdavg=sl.PowderAvg(q=2)[10],rotor_angle=np.arccos(np.sqrt(1/3)))\n",
    "ex.set_inter('hyperfine',i0=1,i1=2,Axx=-1000000,Ayy=-1000000,Azz=2000000,euler=[0,0,0])\n",
    "ex.set_inter('hyperfine',i0=0,i1=2,Axx=-1000000,Ayy=-1000000,Azz=2000000,euler=[0,np.pi/2,0])\n",
    "ex.set_inter('g',i=0,gxx=2.0022,gyy=2.0059,gzz=2.0098,euler=[0,0,0])\n",
    "ex.set_inter('g',i=1,gxx=2.0022,gyy=2.0059,gzz=2.0098,euler=[0,np.pi/2,0])\n",
    "# ex.set_inter('dipole',i0=0,i1=1,delta=sl.Tools.dipole_coupling(1.33,'e-','e-'),euler=[0,77*np.pi/180,0])\n",
    "\n",
    "Dt=1e-3 if ex.vr==0 else None\n",
    "\n",
    "L=ex.Liouvillian()\n",
    "L.add_relax('T2',i=0,T2=5e-6)\n",
    "L.add_relax('T2',i=1,T2=5e-6)\n",
    "L.add_relax('T1',i=0,T1=250e-6)\n",
    "L.add_relax('T1',i=1,T1=250e-6)\n",
    "L.add_relax('T2',i=2,T2=5e-3)\n",
    "L.add_relax('T1',i=2,T1=3)\n",
    "_=L.add_relax('Thermal')"
   ]
  },
  {
   "cell_type": "code",
   "execution_count": 90,
   "id": "366d98c2",
   "metadata": {},
   "outputs": [
    {
     "data": {
      "text/plain": [
       "5.684341886080802e-14"
      ]
     },
     "execution_count": 90,
     "metadata": {},
     "output_type": "execute_result"
    }
   ],
   "source": [
    "np.abs(L[0].L(0)@L[0].rho_eq(step=0)).max()"
   ]
  },
  {
   "cell_type": "code",
   "execution_count": 91,
   "id": "487a6007",
   "metadata": {},
   "outputs": [
    {
     "data": {
      "text/plain": [
       "5.684341886080802e-14"
      ]
     },
     "execution_count": 91,
     "metadata": {},
     "output_type": "execute_result"
    }
   ],
   "source": [
    "np.abs(L[0].L(10)@L[0].rho_eq(step=10)).max()"
   ]
  },
  {
   "cell_type": "code",
   "execution_count": 92,
   "id": "20fb9b25",
   "metadata": {},
   "outputs": [
    {
     "data": {
      "text/plain": [
       "0.01255600581635008"
      ]
     },
     "execution_count": 92,
     "metadata": {},
     "output_type": "execute_result"
    }
   ],
   "source": [
    "np.abs(L[0].L(0)@L[0].rho_eq(step=10)).max()"
   ]
  },
  {
   "cell_type": "markdown",
   "id": "46e28b74",
   "metadata": {},
   "source": [
    "A different thermalization routine ('Thermal' instead of 'recovery'), on the other hand, gets the correct thermal equilibrium at all steps in the rotor period. It obviously doesn't work if we mis-match the equilibrium step with the Liouvillian step. This method, however, poses some challenges for our Parallel Manager, so it is often not actually being used. "
   ]
  },
  {
   "cell_type": "code",
   "execution_count": 93,
   "id": "126a4321",
   "metadata": {},
   "outputs": [],
   "source": [
    "ex=sl.ExpSys(v0H=250,Nucs=['e-','e-','1H'],LF=True,vr=5000,T_K=80,\n",
    "             pwdavg=sl.PowderAvg(q=2)[10],rotor_angle=np.arccos(np.sqrt(1/3)))\n",
    "ex.set_inter('hyperfine',i0=1,i1=2,Axx=-1000000,Ayy=-1000000,Azz=2000000,euler=[0,0,0])\n",
    "ex.set_inter('hyperfine',i0=0,i1=2,Axx=-1000000,Ayy=-1000000,Azz=2000000,euler=[0,np.pi/2,0])\n",
    "ex.set_inter('g',i=0,gxx=2.0022,gyy=2.0059,gzz=2.0098,euler=[0,0,0])\n",
    "ex.set_inter('g',i=1,gxx=2.0022,gyy=2.0059,gzz=2.0098,euler=[0,np.pi/2,0])\n",
    "ex.set_inter('dipole',i0=0,i1=1,delta=sl.Tools.dipole_coupling(1.33,'e-','e-'),euler=[0,77*np.pi/180,0])\n",
    "\n",
    "Dt=1e-3 if ex.vr==0 else None\n",
    "\n",
    "L=ex.Liouvillian()\n",
    "L.add_relax('T2',i=0,T2=5e-6)\n",
    "L.add_relax('T2',i=1,T2=5e-6)\n",
    "L.add_relax('T1',i=0,T1=250e-6)\n",
    "L.add_relax('T1',i=1,T1=250e-6)\n",
    "L.add_relax('T2',i=2,T2=5e-3)\n",
    "L.add_relax('T1',i=2,T1=3)\n",
    "_=L.add_relax('recovery')"
   ]
  },
  {
   "cell_type": "code",
   "execution_count": 96,
   "id": "f6075111",
   "metadata": {},
   "outputs": [
    {
     "data": {
      "text/plain": [
       "1.6375807221057088"
      ]
     },
     "execution_count": 96,
     "metadata": {},
     "output_type": "execute_result"
    }
   ],
   "source": [
    "np.abs(L[0].L(0)@L[0].rho_eq(step=0)).max()"
   ]
  },
  {
   "cell_type": "code",
   "execution_count": 55,
   "id": "03313f10",
   "metadata": {},
   "outputs": [
    {
     "data": {
      "text/plain": [
       "<AxesSubplot:>"
      ]
     },
     "execution_count": 55,
     "metadata": {},
     "output_type": "execute_result"
    },
    {
     "data": {
      "image/png": "[encoded data removed]",
      "text/plain": [
       "<Figure size 432x288 with 1 Axes>"
      ]
     },
     "metadata": {
      "needs_background": "light"
     },
     "output_type": "display_data"
    }
   ],
   "source": [
    "L.H[0].plot(mode='spy')"
   ]
  },
  {
   "cell_type": "markdown",
   "id": "e18d4fea",
   "metadata": {},
   "source": [
    "Neither method works correctly if the Hamiltonian is not diagonal. This is because our relaxation is implemented assuming a near-diagonal Hamiltonian, whereas the true relaxation behavior should occur for the eigenstates of the Hamiltonian. "
   ]
  },
  {
   "cell_type": "code",
   "execution_count": 118,
   "id": "fd4bd21c",
   "metadata": {},
   "outputs": [],
   "source": [
    "ex=sl.ExpSys(v0H=250,Nucs=['e-','e-','1H'],LF=True,vr=5000,T_K=80,\n",
    "             pwdavg=sl.PowderAvg(q=2)[10],rotor_angle=np.arccos(np.sqrt(1/3)))\n",
    "ex.set_inter('hyperfine',i0=1,i1=2,Axx=-1000000,Ayy=-1000000,Azz=2000000,euler=[0,0,0])\n",
    "ex.set_inter('hyperfine',i0=0,i1=2,Axx=-1000000,Ayy=-1000000,Azz=2000000,euler=[0,np.pi/2,0])\n",
    "ex.set_inter('g',i=0,gxx=2.0022,gyy=2.0059,gzz=2.0098,euler=[0,0,0])\n",
    "ex.set_inter('g',i=1,gxx=2.0022,gyy=2.0059,gzz=2.0098,euler=[0,np.pi/2,0])\n",
    "ex.set_inter('dipole',i0=0,i1=1,delta=sl.Tools.dipole_coupling(1.33,'e-','e-'),euler=[0,77*np.pi/180,0])\n",
    "\n",
    "Dt=1e-3 if ex.vr==0 else None\n",
    "\n",
    "L=ex.Liouvillian()\n",
    "L.add_relax('T2',i=0,T2=5e-6)\n",
    "L.add_relax('T2',i=1,T2=5e-6)\n",
    "L.add_relax('T1',i=0,T1=250e-6)\n",
    "L.add_relax('T1',i=1,T1=250e-6)\n",
    "L.add_relax('T2',i=2,T2=5e-3)\n",
    "_=L.add_relax('T1',i=2,T1=3)\n",
    "# _=L.add_relax('Thermal')"
   ]
  },
  {
   "cell_type": "code",
   "execution_count": 119,
   "id": "3d9d4531",
   "metadata": {},
   "outputs": [
    {
     "data": {
      "text/plain": [
       "51.88289016987437"
      ]
     },
     "execution_count": 119,
     "metadata": {},
     "output_type": "execute_result"
    }
   ],
   "source": [
    "np.abs(L[0].L(0)@L[0].rho_eq(step=0)).max()"
   ]
  },
  {
   "cell_type": "markdown",
   "id": "adf025af",
   "metadata": {},
   "source": [
    "Removing thermalization entirely also does not help (it is curiously, worse)"
   ]
  },
  {
   "cell_type": "code",
   "execution_count": 120,
   "id": "b9381cb4",
   "metadata": {},
   "outputs": [],
   "source": [
    "ex=sl.ExpSys(v0H=250,Nucs=['e-','e-','1H'],LF=True,vr=0,T_K=80,\n",
    "             pwdavg=sl.PowderAvg(q=2)[10],rotor_angle=np.arccos(np.sqrt(1/3)))\n",
    "ex.set_inter('hyperfine',i0=1,i1=2,Axx=-1000000,Ayy=-1000000,Azz=2000000,euler=[0,0,0])\n",
    "ex.set_inter('hyperfine',i0=0,i1=2,Axx=-1000000,Ayy=-1000000,Azz=2000000,euler=[0,np.pi/2,0])\n",
    "ex.set_inter('g',i=0,gxx=2.0022,gyy=2.0059,gzz=2.0098,euler=[0,0,0])\n",
    "ex.set_inter('g',i=1,gxx=2.0022,gyy=2.0059,gzz=2.0098,euler=[0,np.pi/2,0])\n",
    "ex.set_inter('dipole',i0=0,i1=1,delta=sl.Tools.dipole_coupling(1.33,'e-','e-'),euler=[0,77*np.pi/180,0])\n",
    "\n",
    "Dt=1e-3 if ex.vr==0 else None\n",
    "\n",
    "L=ex.Liouvillian()\n",
    "L.add_relax('T2',i=0,T2=5e-6)\n",
    "L.add_relax('T2',i=1,T2=5e-6)\n",
    "L.add_relax('T1',i=0,T1=250e-6)\n",
    "L.add_relax('T1',i=1,T1=250e-6)\n",
    "L.add_relax('T2',i=2,T2=5e-3)\n",
    "_=L.add_relax('T1',i=2,T1=3)\n",
    "_=L.add_relax('Thermal')"
   ]
  },
  {
   "cell_type": "code",
   "execution_count": 121,
   "id": "96cb5604",
   "metadata": {},
   "outputs": [
    {
     "data": {
      "text/plain": [
       "1.6358597191546238"
      ]
     },
     "execution_count": 121,
     "metadata": {},
     "output_type": "execute_result"
    }
   ],
   "source": [
    "np.abs(L[0].L(0)@L[0].rho_eq(step=0)).max()"
   ]
  },
  {
   "cell_type": "markdown",
   "id": "1b67f616",
   "metadata": {},
   "source": [
    "The situation from above does not improve by going back to a static Hamiltonian."
   ]
  },
  {
   "cell_type": "markdown",
   "id": "3b60767d",
   "metadata": {},
   "source": [
    "## Eigenvalues of the propagator\n",
    "The next question is under what conditions do the eigenvalues of the propagator exceed 1, which in general should not occur."
   ]
  },
  {
   "cell_type": "code",
   "execution_count": 2,
   "id": "60377190",
   "metadata": {},
   "outputs": [],
   "source": [
    "ex=sl.ExpSys(v0H=250,Nucs=['e-','e-','1H'],LF=False,vr=0,T_K=80,\n",
    "             pwdavg=sl.PowderAvg(q=2)[10],rotor_angle=np.arccos(np.sqrt(1/3)))\n",
    "ex.set_inter('hyperfine',i0=1,i1=2,Axx=-1000000,Ayy=-1000000,Azz=2000000,euler=[0,0,0])\n",
    "ex.set_inter('hyperfine',i0=0,i1=2,Axx=-1000000,Ayy=-1000000,Azz=2000000,euler=[0,np.pi/2,0])\n",
    "ex.set_inter('g',i=0,gxx=2.0022,gyy=2.0059,gzz=2.0098,euler=[0,0,0])\n",
    "ex.set_inter('g',i=1,gxx=2.0022,gyy=2.0059,gzz=2.0098,euler=[0,np.pi/2,0])\n",
    "ex.set_inter('dipole',i0=0,i1=1,delta=sl.Tools.dipole_coupling(1.33,'e-','e-'),euler=[0,77*np.pi/180,0])\n",
    "\n",
    "Dt=1e-3 if ex.vr==0 else None\n",
    "\n",
    "L=ex.Liouvillian()\n",
    "L.add_relax('T2',i=0,T2=5e-6)\n",
    "L.add_relax('T2',i=1,T2=5e-6)\n",
    "L.add_relax('T1',i=0,T1=250e-6)\n",
    "L.add_relax('T1',i=1,T1=250e-6)\n",
    "L.add_relax('T2',i=2,T2=5e-3)\n",
    "L.add_relax('T1',i=2,T1=3)\n",
    "_=L.add_relax('recovery')"
   ]
  },
  {
   "cell_type": "code",
   "execution_count": 3,
   "id": "8833c293",
   "metadata": {},
   "outputs": [
    {
     "data": {
      "text/plain": [
       "0.9999999999921652"
      ]
     },
     "execution_count": 3,
     "metadata": {},
     "output_type": "execute_result"
    }
   ],
   "source": [
    "np.real(np.linalg.eig(L.U(Dt,calc_now=True)[0])[0]).max()"
   ]
  },
  {
   "cell_type": "markdown",
   "id": "93868a24",
   "metadata": {},
   "source": [
    "For the static case, we have no problem with the eigenvalues of the propagator"
   ]
  },
  {
   "cell_type": "code",
   "execution_count": 4,
   "id": "6238d710",
   "metadata": {},
   "outputs": [],
   "source": [
    "ex=sl.ExpSys(v0H=250,Nucs=['e-','e-','1H'],LF=False,vr=5000,T_K=80,\n",
    "             pwdavg=sl.PowderAvg(q=2)[10],rotor_angle=np.arccos(np.sqrt(1/3)))\n",
    "ex.set_inter('hyperfine',i0=1,i1=2,Axx=-1000000,Ayy=-1000000,Azz=2000000,euler=[0,0,0])\n",
    "ex.set_inter('hyperfine',i0=0,i1=2,Axx=-1000000,Ayy=-1000000,Azz=2000000,euler=[0,np.pi/2,0])\n",
    "ex.set_inter('g',i=0,gxx=2.0022,gyy=2.0059,gzz=2.0098,euler=[0,0,0])\n",
    "ex.set_inter('g',i=1,gxx=2.0022,gyy=2.0059,gzz=2.0098,euler=[0,np.pi/2,0])\n",
    "ex.set_inter('dipole',i0=0,i1=1,delta=sl.Tools.dipole_coupling(1.33,'e-','e-'),euler=[0,77*np.pi/180,0])\n",
    "\n",
    "Dt=1e-3 if ex.vr==0 else None\n",
    "\n",
    "L=ex.Liouvillian()\n",
    "L.add_relax('T2',i=0,T2=5e-6)\n",
    "L.add_relax('T2',i=1,T2=5e-6)\n",
    "L.add_relax('T1',i=0,T1=250e-6)\n",
    "L.add_relax('T1',i=1,T1=250e-6)\n",
    "L.add_relax('T2',i=2,T2=5e-3)\n",
    "L.add_relax('T1',i=2,T1=3)\n",
    "_=L.add_relax('recovery')"
   ]
  },
  {
   "cell_type": "code",
   "execution_count": 5,
   "id": "652e55a3",
   "metadata": {},
   "outputs": [
    {
     "data": {
      "text/plain": [
       "1.000000000002578"
      ]
     },
     "execution_count": 5,
     "metadata": {},
     "output_type": "execute_result"
    }
   ],
   "source": [
    "np.real(np.linalg.eig(L.U(Dt)[0])[0]).max()"
   ]
  },
  {
   "cell_type": "markdown",
   "id": "71f90c31",
   "metadata": {},
   "source": [
    "In the rotating frame, we seem to not have any problem getting eigenvalues less than/equal to 1."
   ]
  },
  {
   "cell_type": "code",
   "execution_count": 10,
   "id": "6b11f552",
   "metadata": {},
   "outputs": [],
   "source": [
    "ex=sl.ExpSys(v0H=250,Nucs=['e-','e-','1H'],LF=True,vr=5000,T_K=80,\n",
    "             pwdavg=sl.PowderAvg(q=2)[10],rotor_angle=np.arccos(np.sqrt(1/3)))\n",
    "ex.set_inter('hyperfine',i0=1,i1=2,Axx=-1000000,Ayy=-1000000,Azz=2000000,euler=[0,0,0])\n",
    "ex.set_inter('hyperfine',i0=0,i1=2,Axx=-1000000,Ayy=-1000000,Azz=2000000,euler=[0,np.pi/2,0])\n",
    "ex.set_inter('g',i=0,gxx=2.0022,gyy=2.0059,gzz=2.0098,euler=[0,0,0])\n",
    "ex.set_inter('g',i=1,gxx=2.0022,gyy=2.0059,gzz=2.0098,euler=[0,np.pi/2,0])\n",
    "ex.set_inter('dipole',i0=0,i1=1,delta=sl.Tools.dipole_coupling(1.33,'e-','e-'),euler=[0,77*np.pi/180,0])\n",
    "\n",
    "Dt=1e-3 if ex.vr==0 else None\n",
    "\n",
    "L=ex.Liouvillian()\n",
    "L.add_relax('T2',i=0,T2=5e-6)\n",
    "L.add_relax('T2',i=1,T2=5e-6)\n",
    "L.add_relax('T1',i=0,T1=250e-6)\n",
    "L.add_relax('T1',i=1,T1=250e-6)\n",
    "L.add_relax('T2',i=2,T2=5e-3)\n",
    "L.add_relax('T1',i=2,T1=3)\n",
    "_=L.add_relax('recovery')"
   ]
  },
  {
   "cell_type": "code",
   "execution_count": 11,
   "id": "abee2b4a",
   "metadata": {},
   "outputs": [
    {
     "data": {
      "text/plain": [
       "6.40660622888703"
      ]
     },
     "execution_count": 11,
     "metadata": {},
     "output_type": "execute_result"
    }
   ],
   "source": [
    "np.real(np.linalg.eig(L.U(Dt)[0])[0]).max()"
   ]
  },
  {
   "cell_type": "markdown",
   "id": "3a3d9a89",
   "metadata": {},
   "source": [
    "In the lab frame, however, we no longer get eigenvalues of 1"
   ]
  },
  {
   "cell_type": "code",
   "execution_count": 21,
   "id": "79505c9e",
   "metadata": {},
   "outputs": [],
   "source": [
    "ex=sl.ExpSys(v0H=250,Nucs=['e-','e-','1H'],LF=True,vr=0,T_K=80,\n",
    "             pwdavg=sl.PowderAvg(q=2)[10],rotor_angle=np.arccos(np.sqrt(1/3)))\n",
    "ex.set_inter('hyperfine',i0=1,i1=2,Axx=-1000000,Ayy=-1000000,Azz=2000000,euler=[0,0,0])\n",
    "ex.set_inter('hyperfine',i0=0,i1=2,Axx=-1000000,Ayy=-1000000,Azz=2000000,euler=[0,np.pi/2,0])\n",
    "ex.set_inter('g',i=0,gxx=2.0022,gyy=2.0059,gzz=2.0098,euler=[0,0,0])\n",
    "ex.set_inter('g',i=1,gxx=2.0022,gyy=2.0059,gzz=2.0098,euler=[0,np.pi/2,0])\n",
    "ex.set_inter('dipole',i0=0,i1=1,delta=sl.Tools.dipole_coupling(1.33,'e-','e-'),euler=[0,77*np.pi/180,0])\n",
    "\n",
    "Dt=1e-3 if ex.vr==0 else None\n",
    "\n",
    "L=ex.Liouvillian()\n",
    "L.add_relax('T2',i=0,T2=5e-6)\n",
    "L.add_relax('T2',i=1,T2=5e-6)\n",
    "L.add_relax('T1',i=0,T1=250e-6)\n",
    "L.add_relax('T1',i=1,T1=250e-6)\n",
    "L.add_relax('T2',i=2,T2=5e-3)\n",
    "L.add_relax('T1',i=2,T1=3)\n",
    "_=L.add_relax('recovery')"
   ]
  },
  {
   "cell_type": "code",
   "execution_count": 22,
   "id": "59013a23",
   "metadata": {},
   "outputs": [
    {
     "data": {
      "text/plain": [
       "1.000000050672564"
      ]
     },
     "execution_count": 22,
     "metadata": {},
     "output_type": "execute_result"
    }
   ],
   "source": [
    "np.real(np.linalg.eig(L.U(Dt)[0])[0]).max()"
   ]
  },
  {
   "cell_type": "markdown",
   "id": "77dda04c",
   "metadata": {},
   "source": [
    "Going to the static case also appears to repair the problem"
   ]
  },
  {
   "cell_type": "code",
   "execution_count": 78,
   "id": "66f58482",
   "metadata": {},
   "outputs": [],
   "source": [
    "ex=sl.ExpSys(v0H=250,Nucs=['e-','e-','1H'],LF=True,vr=5000,T_K=80,\n",
    "             pwdavg=sl.PowderAvg(q=2)[10],rotor_angle=np.arccos(np.sqrt(1/3)))\n",
    "ex.set_inter('hyperfine',i0=1,i1=2,Axx=-1000000,Ayy=-1000000,Azz=2000000,euler=[0,0,0])\n",
    "ex.set_inter('hyperfine',i0=0,i1=2,Axx=-1000000,Ayy=-1000000,Azz=2000000,euler=[0,np.pi/2,0])\n",
    "ex.set_inter('g',i=0,gxx=2.0022,gyy=2.0059,gzz=2.0098,euler=[0,0,0])\n",
    "ex.set_inter('g',i=1,gxx=2.0022,gyy=2.0059,gzz=2.0098,euler=[0,np.pi/2,0])\n",
    "ex.set_inter('dipole',i0=0,i1=1,delta=sl.Tools.dipole_coupling(1.33,'e-','e-'),euler=[0,77*np.pi/180,0])\n",
    "\n",
    "Dt=1e-3 if ex.vr==0 else None\n",
    "\n",
    "L=ex.Liouvillian()\n",
    "L.add_relax('T2',i=0,T2=5e-6)\n",
    "L.add_relax('T2',i=1,T2=5e-6)\n",
    "L.add_relax('T1',i=0,T1=250e-6)\n",
    "L.add_relax('T1',i=1,T1=250e-6)\n",
    "L.add_relax('T2',i=2,T2=5e-3)\n",
    "_=L.add_relax('T1',i=2,T1=3)\n",
    "_=L.add_relax('Thermal')"
   ]
  },
  {
   "cell_type": "code",
   "execution_count": 79,
   "id": "1a124883",
   "metadata": {},
   "outputs": [
    {
     "data": {
      "text/plain": [
       "0.9999999992192695"
      ]
     },
     "execution_count": 79,
     "metadata": {},
     "output_type": "execute_result"
    }
   ],
   "source": [
    "np.real(np.linalg.eig(L.U(Dt)[0])[0]).max()"
   ]
  },
  {
   "cell_type": "markdown",
   "id": "5a83996c",
   "metadata": {},
   "source": [
    "Using the \"Thermal\" option puts eigenvalues back to 1 or less. I'm not convinced this is fixing it. I think maybe Thermal just isn't running."
   ]
  },
  {
   "cell_type": "code",
   "execution_count": 80,
   "id": "7c22d48c",
   "metadata": {},
   "outputs": [
    {
     "data": {
      "text/plain": [
       "0.9999999985667922"
      ]
     },
     "execution_count": 80,
     "metadata": {},
     "output_type": "execute_result"
    }
   ],
   "source": [
    "from scipy.linalg import expm\n",
    "dt=L.dt\n",
    "U=L.Ueye()[0]\n",
    "for k in range(ex.n_gamma):\n",
    "    U=expm(L[0].L(k)*dt)@U\n",
    "np.real(np.linalg.eig(U)[0]).max()"
   ]
  },
  {
   "cell_type": "markdown",
   "id": "9e69e11f",
   "metadata": {},
   "source": [
    "Here, Thermal is really being used, and indeed it works"
   ]
  },
  {
   "cell_type": "markdown",
   "id": "9e630d0c",
   "metadata": {},
   "source": [
    "## Is \"Thermal\" really running?"
   ]
  },
  {
   "cell_type": "code",
   "execution_count": 63,
   "id": "2d983996",
   "metadata": {},
   "outputs": [],
   "source": [
    "U=L.Ueye()"
   ]
  },
  {
   "cell_type": "code",
   "execution_count": 71,
   "id": "5bc5d7c3",
   "metadata": {},
   "outputs": [
    {
     "data": {
      "text/plain": [
       "<AxesSubplot:xlabel='Acquisition Number', ylabel='<$^{1}H_z$>'>"
      ]
     },
     "execution_count": 71,
     "metadata": {},
     "output_type": "execute_result"
    },
    {
     "data": {
      "image/png": "[encoded data removed]",
      "text/plain": [
       "<Figure size 432x288 with 1 Axes>"
      ]
     },
     "metadata": {
      "needs_background": "light"
     },
     "output_type": "display_data"
    }
   ],
   "source": [
    "ex=sl.ExpSys(v0H=250,Nucs=['e-','e-','1H'],LF=False,vr=5000,T_K=80,\n",
    "             pwdavg=sl.PowderAvg(q=2)[10],rotor_angle=np.arccos(np.sqrt(1/3)))\n",
    "# ex.set_inter('hyperfine',i0=1,i1=2,Axx=-1000000,Ayy=-1000000,Azz=2000000,euler=[0,0,0])\n",
    "# ex.set_inter('hyperfine',i0=0,i1=2,Axx=-1000000,Ayy=-1000000,Azz=2000000,euler=[0,np.pi/2,0])\n",
    "ex.set_inter('g',i=0,gxx=2.0022,gyy=2.0059,gzz=2.0098,euler=[0,0,0])\n",
    "ex.set_inter('g',i=1,gxx=2.0022,gyy=2.0059,gzz=2.0098,euler=[0,np.pi/2,0])\n",
    "# ex.set_inter('dipole',i0=0,i1=1,delta=sl.Tools.dipole_coupling(1.33,'e-','e-'),euler=[0,77*np.pi/180,0])\n",
    "\n",
    "Dt=1e-3 if ex.vr==0 else None\n",
    "\n",
    "L=ex.Liouvillian()\n",
    "L.add_relax('T2',i=0,T2=5e-6)\n",
    "L.add_relax('T2',i=1,T2=5e-6)\n",
    "L.add_relax('T1',i=0,T1=250e-6)\n",
    "L.add_relax('T1',i=1,T1=250e-6)\n",
    "L.add_relax('T2',i=2,T2=5e-3)\n",
    "L.add_relax('T1',i=2,T1=3)\n",
    "L.add_relax('Thermal')\n",
    "\n",
    "\n",
    "dt=L.dt\n",
    "U0=L.Ueye()[0]\n",
    "for k in range(ex.n_gamma):\n",
    "    U0=expm(L[0].L(k)*dt)@U0\n",
    "\n",
    "U=L.Ueye()\n",
    "U.U[0]=U0\n",
    "    \n",
    "    \n",
    "rho=sl.Rho('zero','1Hz')\n",
    "rho.DetProp(U,n=100000)\n",
    "rho.plot(axis='s')"
   ]
  },
  {
   "cell_type": "markdown",
   "id": "ef35c5b7",
   "metadata": {},
   "source": [
    "I'm pretty sure Lthermal is somehow only being applied part of the time. So we need to fix that. Still, when it is applied correctly, it seems to correct the eigenvalues"
   ]
  },
  {
   "cell_type": "code",
   "execution_count": 81,
   "id": "09b350a3",
   "metadata": {},
   "outputs": [
    {
     "data": {
      "text/plain": [
       "array([-4.93179680e-02, -4.93179680e-02,  7.49881729e-05])"
      ]
     },
     "execution_count": 81,
     "metadata": {},
     "output_type": "execute_result"
    }
   ],
   "source": [
    "ex.Peq"
   ]
  },
  {
   "cell_type": "code",
   "execution_count": null,
   "id": "d2e6c30d",
   "metadata": {},
   "outputs": [],
   "source": []
  }
 ],
 "metadata": {
  "kernelspec": {
   "display_name": "Python 3",
   "language": "python",
   "name": "python3"
  },
  "language_info": {
   "codemirror_mode": {
    "name": "ipython",
    "version": 3
   },
   "file_extension": ".py",
   "mimetype": "text/x-python",
   "name": "python",
   "nbconvert_exporter": "python",
   "pygments_lexer": "ipython3",
   "version": "3.8.8"
  }
 },
 "nbformat": 4,
 "nbformat_minor": 5
}
