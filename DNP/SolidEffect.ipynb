{
 "cells": [
  {
   "cell_type": "markdown",
   "id": "5d73b118",
   "metadata": {},
   "source": [
    "# <font color=\"blue\"> DNP 1: Solid Effect </font>"
   ]
  },
  {
   "cell_type": "code",
   "execution_count": 1,
   "id": "d17bc585",
   "metadata": {},
   "outputs": [],
   "source": [
    "import sys\n",
    "sys.path.append('/Users/albertsmith/Documents/GitHub/')\n",
    "sys.path.append('/Users/albertsmith/Documents/GitHub.nosync/')\n",
    "import SLEEPY as sl\n",
    "import numpy as np\n",
    "import matplotlib.pyplot as plt"
   ]
  },
  {
   "cell_type": "code",
   "execution_count": 57,
   "id": "a83f7b96",
   "metadata": {},
   "outputs": [],
   "source": [
    "ex=sl.ExpSys(v0H=600,Nucs=['e','1H'],LF=[False,False],vr=1,T_K=80,pwdavg=sl.PowderAvg(q=2))\n",
    "# ex.set_inter('hyperfine',i0=0,i1=1,Axx=-1000000,Ayy=-1000000,Azz=2000000)\n",
    "ex.set_inter('dipole',i0=0,i1=1,delta=2000000)\n",
    "# ex.set_inter('g',i=0,gxx=2.002,gyy=2.004,gzz=2.008,euler=[0,np.pi/4,0])"
   ]
  },
  {
   "cell_type": "code",
   "execution_count": 58,
   "id": "2a1b637a",
   "metadata": {},
   "outputs": [],
   "source": [
    "L=ex.Liouvillian()"
   ]
  },
  {
   "cell_type": "code",
   "execution_count": 59,
   "id": "6383a546",
   "metadata": {},
   "outputs": [],
   "source": [
    "L.clear_relax()\n",
    "L.add_relax(Type='T2',i=0,T2=.890e-6)\n",
    "L.add_relax(Type='T2',i=1,T2=5e-3)\n",
    "L.add_relax(Type='T1',i=0,T1=1.4e-3)\n",
    "L.add_relax(Type='T1',i=1,T1=20)\n",
    "_=L.add_relax(Type='recovery')"
   ]
  },
  {
   "cell_type": "code",
   "execution_count": 60,
   "id": "e53c249c",
   "metadata": {},
   "outputs": [
    {
     "data": {
      "text/plain": [
       "<SLEEPY.Sequence.Sequence at 0x7fb45042efa0>"
      ]
     },
     "execution_count": 60,
     "metadata": {},
     "output_type": "execute_result"
    }
   ],
   "source": [
    "seq=L.Sequence()\n",
    "seq.add_channel(channel='e-',v1=3e6,voff=600e6)"
   ]
  },
  {
   "cell_type": "code",
   "execution_count": 61,
   "id": "3d4a0eff",
   "metadata": {},
   "outputs": [
    {
     "name": "stderr",
     "output_type": "stream",
     "text": [
      "/Users/albertsmith/Documents/GitHub.nosync/SLEEPY/Propagator.py:210: UserWarning: Power of a propagator should only be used if the propagator length is an integer multiple of rotor periods\n",
      "  warnings.warn('Power of a propagator should only be used if the propagator length is an integer multiple of rotor periods')\n"
     ]
    }
   ],
   "source": [
    "U=seq.U(Dt=1e-5)**10"
   ]
  },
  {
   "cell_type": "code",
   "execution_count": 62,
   "id": "acbabfe3",
   "metadata": {},
   "outputs": [],
   "source": [
    "rho=sl.Rho(rho0='Thermal',detect=['ez','1Hz'])"
   ]
  },
  {
   "cell_type": "code",
   "execution_count": 63,
   "id": "6d75cbac",
   "metadata": {
    "scrolled": true
   },
   "outputs": [
    {
     "name": "stderr",
     "output_type": "stream",
     "text": [
      "/Users/albertsmith/Documents/GitHub.nosync/SLEEPY/Rho.py:555: UserWarning: The propagator length is not an integer multiple of the rotor period\n",
      "  warnings.warn('The propagator length is not an integer multiple of the rotor period')\n"
     ]
    },
    {
     "data": {
      "text/plain": [
       "Density Matrix/Detection Operator\n",
       "rho0: Thermal\n",
       "detect[0]: ez\n",
       "detect[1]: 1Hz\n",
       "Current time is 200000.000 microseconds\n",
       "2000 time points have been recorded\n",
       "\n",
       "<SLEEPY.Rho.Rho object at 0x7fb41807d850>"
      ]
     },
     "execution_count": 63,
     "metadata": {},
     "output_type": "execute_result"
    }
   ],
   "source": [
    "rho.DetProp(U,n=2000)"
   ]
  },
  {
   "cell_type": "code",
   "execution_count": 72,
   "id": "fd221e64",
   "metadata": {},
   "outputs": [
    {
     "data": {
      "image/png": "[encoded data removed]",
      "text/plain": [
       "<Figure size 720x576 with 1 Axes>"
      ]
     },
     "metadata": {
      "needs_background": "light"
     },
     "output_type": "display_data"
    }
   ],
   "source": [
    "ax=rho.plot()\n",
    "ax.figure.set_size_inches([10,8])"
   ]
  },
  {
   "cell_type": "code",
   "execution_count": 65,
   "id": "5094b482",
   "metadata": {},
   "outputs": [],
   "source": [
    "L.rf.add_field('e',v1=3e6,voff=600e6)"
   ]
  },
  {
   "cell_type": "code",
   "execution_count": 68,
   "id": "6068d10b",
   "metadata": {},
   "outputs": [
    {
     "data": {
      "text/plain": [
       "array([ -2244.82425073   +888.78879569j, -20338.69846421-106619.1911503j ,\n",
       "            0.             +0.j        , -20338.69846421+106619.1911503j ,\n",
       "        -2244.82425073   -888.78879569j])"
      ]
     },
     "execution_count": 68,
     "metadata": {},
     "output_type": "execute_result"
    }
   ],
   "source": [
    "L[0].H[0].Hinter[0].A\n",
    "#This should not be yielding a diagonal matrix, I think"
   ]
  },
  {
   "cell_type": "code",
   "execution_count": 69,
   "id": "02a0fe0a",
   "metadata": {},
   "outputs": [],
   "source": [
    "Hi=L.H[0].Hinter[0]"
   ]
  },
  {
   "cell_type": "code",
   "execution_count": 74,
   "id": "7b349f54",
   "metadata": {},
   "outputs": [
    {
     "data": {
      "text/plain": [
       "array([[ 203127.53221747-320077.77419239j,\n",
       "         210293.09569023-331368.89550005j,\n",
       "         133320.48042713-210079.46172304j,\n",
       "          56347.86516404 -88790.02794603j,\n",
       "          14583.90065532 -22980.55024762j],\n",
       "       [-831454.34602244+457095.89481173j,\n",
       "         157534.56655176 -86605.360843j  ,\n",
       "         745461.57287125-409820.96771691j,\n",
       "         587927.00631949-323215.60687391j,\n",
       "         222787.52056006-122478.47587838j],\n",
       "       [ 390535.98593929     +0.j        ,\n",
       "        -552301.2879101      +0.j        ,\n",
       "              0.             +0.j        ,\n",
       "         552301.2879101      +0.j        ,\n",
       "         390535.98593929     +0.j        ],\n",
       "       [ 222787.52056006+122478.47587838j,\n",
       "        -587927.00631949-323215.60687391j,\n",
       "         745461.57287125+409820.96771691j,\n",
       "        -157534.56655176 -86605.360843j  ,\n",
       "        -831454.34602244-457095.89481173j],\n",
       "       [  14583.90065532 +22980.55024762j,\n",
       "         -56347.86516404 -88790.02794603j,\n",
       "         133320.48042713+210079.46172304j,\n",
       "        -210293.09569023-331368.89550005j,\n",
       "         203127.53221747+320077.77419239j]])"
      ]
     },
     "execution_count": 74,
     "metadata": {},
     "output_type": "execute_result"
    }
   ],
   "source": [
    "Hi.rotInter.Afull[10]"
   ]
  }
 ],
 "metadata": {
  "kernelspec": {
   "display_name": "Python 3",
   "language": "python",
   "name": "python3"
  },
  "language_info": {
   "codemirror_mode": {
    "name": "ipython",
    "version": 3
   },
   "file_extension": ".py",
   "mimetype": "text/x-python",
   "name": "python",
   "nbconvert_exporter": "python",
   "pygments_lexer": "ipython3",
   "version": "3.8.8"
  }
 },
 "nbformat": 4,
 "nbformat_minor": 5
}
