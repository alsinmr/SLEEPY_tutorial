{
 "cells": [

{
   "cell_type": "markdown",
   "id": "ee475a2c",
   "metadata": {},
   "source": [
    "# <img src=\"https://raw.githubusercontent.com/alsinmr/SLEEPY_tutorial/033b817f027ebdcd6493a1f42ab9fdec290dbee8/JupyterBook/favicon.png\"  width=40> <font  color = \"#B00000\">Relaxation Options</font>"
   ]
},
{
   "cell_type": "markdown",
   "id": "7897654e",
   "metadata": {},
   "source": [
    "SLEEPY has a variety of options for introducing relaxation to spin-systems. Understanding the differences between these can be important for correctly simulating complex effects. We explain and demonstrate the various options here"
   ]
},
{
     "cell_type": "code",
     "execution_count": 0,
     "metadata": {},
     "outputs": [],
     "source": [
      "# SETUP SLEEPY\n",
      "!git clone https://github.com/alsinmr/SLEEPY.git"
     ]
    },
{
   "cell_type": "markdown",
   "id": "48d671c6",
   "metadata": {},
   "source": [
    "## Setup"
   ]
},
{
   "cell_type": "code",
   "execution_count": null,
   "id": "58663ea4",
   "metadata": {},
   "outputs": [],
   "source": []
}
],
 "metadata": {
  "kernelspec": {
   "display_name": "Python 3",
   "language": "python",
   "name": "python3"
  },
  "language_info": {
   "codemirror_mode": {
    "name": "ipython",
    "version": 3
   },
   "file_extension": ".py",
   "mimetype": "text/x-python",
   "name": "python",
   "nbconvert_exporter": "python",
   "pygments_lexer": "ipython3",
   "version": "3.8.8"
  }
 },
 "nbformat": 4,
 "nbformat_minor": 5
}
