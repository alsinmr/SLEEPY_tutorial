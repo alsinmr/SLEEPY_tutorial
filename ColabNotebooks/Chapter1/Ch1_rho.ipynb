{
 "cells": [

{
   "cell_type": "markdown",
   "id": "0193c039",
   "metadata": {},
   "source": [
    "# <img src=\"https://raw.githubusercontent.com/alsinmr/SLEEPY_tutorial/033b817f027ebdcd6493a1f42ab9fdec290dbee8/JupyterBook/favicon.png\"  width=40> <font  color = \"#0093AF\">The Density Matrix</font>"
   ]
},
{
   "cell_type": "markdown",
   "id": "5599b8e2",
   "metadata": {},
   "source": [
    "The final core object of the SLEEPY module is the density matrix object, `rho=sl.Rho(...)` ($\\hat{\\rho})$. `rho` is initialized with an initial state of the spin-system. It also contains the detection operator or operators, which must also be specified at initialization. `rho` stores the signal resulting from detection operations, and contains functions for plotting the resulting 1D time-domain and frequency-domain signals."
   ]
},
{
   "cell_type": "markdown",
   "id": "a7acfb22",
   "metadata": {},
   "source": [
    "## Setup"
   ]
},
{
     "cell_type": "code",
     "execution_count": 0,
     "metadata": {},
     "outputs": [],
     "source": [
      "# SETUP SLEEPY\n",
      "!git clone https://github.com/alsinmr/SLEEPY.git"
     ]
    },
{
   "cell_type": "code",
   "execution_count": 2,
   "id": "2ad5c1f1",
   "metadata": {},
   "outputs": [],
   "source": [
    "import SLEEPY as sl\n",
    "import numpy as np"
   ]
},
{
   "cell_type": "markdown",
   "id": "8f7d6238",
   "metadata": {},
   "source": [
    "## Build the system"
   ]
},
{
   "cell_type": "code",
   "execution_count": 3,
   "id": "488d26be",
   "metadata": {},
   "outputs": [],
   "source": [
    "# Generate an experimental system and a Liouvillian\n",
    "ex=sl.ExpSys(v0H=600,Nucs=['1H','13C'],vr=5000,n_gamma=30)\n",
    "ex.set_inter('dipole',i0=0,i1=1,delta=44000).set_inter('CSA',i=1,delta=100,eta=1).\\\n",
    "    set_inter('CS',i=0,ppm=10) #Add a dipole, CSA to 13C, and CS to 1H\n",
    "\n",
    "L=ex.Liouvillian()"
   ]
},
{
   "cell_type": "markdown",
   "id": "66808ad5",
   "metadata": {},
   "source": [
    "## Initialize rho"
   ]
},
{
   "cell_type": "markdown",
   "id": "7c3bd6ac",
   "metadata": {},
   "source": [
    "Rho is initialized by calling `sl.Rho(...)` and specifying the initial state of the spin-system and the detection operator or operators."
   ]
},
{
   "cell_type": "code",
   "execution_count": 4,
   "id": "85949e8b",
   "metadata": {},
   "outputs": [],
   "source": [
    "# rho must be initialized with rho0, and one or more detection operators. \n",
    "#If multiple detection operators are provided, then multiple signals are stored\n",
    "rho=sl.Rho(rho0='1Hx',detect=['1Hx','13Cx'])"
   ]
},
{
   "cell_type": "markdown",
   "id": "82619a59",
   "metadata": {},
   "source": [
    "Usually, the initial density matrix and detection operators are specified by a nucleus and a direction (x, y, z, +(p), -(m), α(alpha), or β(beta)). However, we may alternatively specify a specific spin by number (`S1x`, for example). 'Thermal' may be specified as the initial density matrix, which will result in the thermal equilibrium for the spin system being calculated from the rotor-averaged Hamiltonian at the experimental temperature (`ex.T_K`). Operators may also be scaled (e.g. `2*13Cp`) or added (e.g. `1Hx+1Hz`). Multiplication via string entry is not supported (e.g. `1Hx*13Cx`), although such products are possible via explicit entry of the density/detection operator. \n",
    "\n",
    "The user may also input their own initial density matrix and detection operators as matrices. Any arbitrary matrix of the appropriate dimension (`ex.Op.Mult.prod()` x `ex.Op.Mult.prod()`) can be input. The most straightforward way to build this matrix is from the spin matrices, which are stored in ex.Op (see [ExpSys](Ch1_expsys.ipynb) for more details). For example, if we want to initialize and detect a double quantum coherence between spins 0 and 1, we could construct:\n",
    "\n",
    "```\n",
    "Op=ex.Op\n",
    "DQ=Op[0].p@Op[1].p+Op[0].m@Op[1].m\n",
    "rho=sl.Rho(rho0=DQ,detect=DQ)\n",
    "```\n",
    "Note that the spin operators are numpy matrices, for which `@` is required for correct matrix multiplication; `*` performs elementwise multiplication, which is not the correct type of multiplication for spin-matrices."
   ]
},
{
   "cell_type": "markdown",
   "id": "98c33f03",
   "metadata": {},
   "source": [
    "## Detection with rho"
   ]
},
{
   "cell_type": "markdown",
   "id": "a673cb3d",
   "metadata": {},
   "source": [
    "`rho` contains the detection matrix or matrices required for detection. Then, detection is performed simply by calling rho\n",
    "```\n",
    "rho()\n",
    "```\n",
    "When executed, this will store the product of the currect propagator with the detection operator or operators, into the matrix `rho.I`. This matrix is always 2D, with the first dimension corresponding to the detection matrices (so, there may only be one element in the first dimension), and the second dimension corresponding to the detection calls (usually yielding a time-axis). When rho is called, it will also store the current time of the density matrix, which is determined by the sum of the lengths of all propagators which `rho` was multiplied with up until that point (`rho.t_axis`). For systems with a powder average, rho also contains `rho.Ipwd`, which is a 3D matrix where the first dimension runs down the powder average, the second down the detection operators, and the third down the detection calls. Note that `rho.I` and `rho.Ipwd` sorted such that `rho.t_axis` is ascending (if possible)."
   ]
},
{
   "cell_type": "markdown",
   "id": "a45f8839",
   "metadata": {},
   "source": [
    "## Interaction of rho with propagators and sequences"
   ]
},
{
   "cell_type": "markdown",
   "id": "87ae8bd3",
   "metadata": {},
   "source": [
    "`rho` works more or less like one would expect with a propagator: we can just multiply `rho` by the propagator to propagate `rho` forward in time. We'll set up a cross-polarization sequence as example."
   ]
},
{
   "cell_type": "code",
   "execution_count": 5,
   "id": "57c78517",
   "metadata": {},
   "outputs": [
    {
     "data": {
      "image/png": "[encoded data removed]",
      "text/plain": [
       "<Figure size 432x288 with 2 Axes>"
      ]
     },
     "metadata": {
      "needs_background": "light"
     },
     "output_type": "display_data"
    }
   ],
   "source": [
    "seq=L.Sequence()\n",
    "seq.add_channel('13C',v1=25000)\n",
    "t=L.dt*np.arange(30*3+1) #L.dt=L.taur/ex.n_gamma, 90 steps is 3 rotor periods (1 ms)\n",
    "seq.add_channel('1H',t=t,v1=30000+np.linspace(-1,1,len(t))*5000) #ramp cp \n",
    "seq.plot()\n",
    "U=seq.U()"
   ]
},
{
   "cell_type": "markdown",
   "id": "6604fc39",
   "metadata": {},
   "source": [
    "Note, the propagator, `U`, isn't actually calculated until it's needed, so the above step is fast, whereas the calculation below is much slower. \n",
    "\n",
    "Take care with the order of operations below. Function calls precede mathematical operations, so that the call to `rho` inside the parenthesis is the first step executed, followed by multiplication of `rho` by `U`, and then another detecton is executed outside of the parenthesis. That is\n",
    "```\n",
    "(U*rho())()\n",
    "```\n",
    "is equivalent to\n",
    "```\n",
    "rho()\n",
    "U*rho\n",
    "rho()\n",
    "```"
   ]
},
{
   "cell_type": "code",
   "execution_count": 6,
   "id": "c296762e",
   "metadata": {},
   "outputs": [
    {
     "data": {
      "text/plain": [
       "Density Matrix/Detection Operator\n",
       "rho0: 1Hx\n",
       "detect[0]: 1Hx\n",
       "detect[1]: 13Cx\n",
       "Current time is 600.000 microseconds\n",
       "2 time points have been recorded\n",
       "\n",
       "<SLEEPY.Rho.Rho object at 0x7ff370690790>"
      ]
     },
     "execution_count": 6,
     "metadata": {},
     "output_type": "execute_result"
    }
   ],
   "source": [
    "(U*rho())()"
   ]
},
{
   "cell_type": "markdown",
   "id": "2d2d53aa",
   "metadata": {},
   "source": [
    "Now we can check `rho.I` before and after CP."
   ]
},
{
   "cell_type": "code",
   "execution_count": 7,
   "id": "4a477d80",
   "metadata": {},
   "outputs": [
    {
     "name": "stdout",
     "output_type": "stream",
     "text": [
      "1Hx : 1.00, 0.56\n",
      "13Cx : 0.00, 0.31\n"
     ]
    }
   ],
   "source": [
    "print(f'1Hx : {rho.I[0][0].real:.2f}, {rho.I[0][1].real:.2}')\n",
    "print(f'13Cx : {rho.I[1][0].real:.2f}, {rho.I[1][1].real:.2}')"
   ]
},
{
   "cell_type": "markdown",
   "id": "46a93993",
   "metadata": {},
   "source": [
    "We may also multiply the sequence by `rho`. First, we fully clear `rho`, to go back to the initial conditions. When multiplying a sequence by `rho`, the sequence uses its default length (`seq.Dt`) to produce a propagator, which is what actually gets multiplied by `rho`. This takes a little less code, but if the resulting propagator is discarded in this approach, so cannot be reused (which may or may not matter to the user)."
   ]
},
{
   "cell_type": "code",
   "execution_count": 8,
   "id": "5bedccab",
   "metadata": {},
   "outputs": [
    {
     "name": "stdout",
     "output_type": "stream",
     "text": [
      "1Hx : 1.00, 0.56\n",
      "13Cx : 0.00, 0.31\n"
     ]
    }
   ],
   "source": [
    "rho.clear()\n",
    "(seq*rho())()\n",
    "print(f'1Hx : {rho.I[0][0].real:.2f}, {rho.I[0][1].real:.2}')\n",
    "print(f'13Cx : {rho.I[1][0].real:.2f}, {rho.I[1][1].real:.2}')"
   ]
},
{
   "cell_type": "markdown",
   "id": "b49d8e93",
   "metadata": {},
   "source": [
    "## clear vs. reset"
   ]
},
{
   "cell_type": "markdown",
   "id": "fb5c2de8",
   "metadata": {},
   "source": [
    "In the previous calculation, we cleared `rho`. This function takes `rho` back to its initial state (that is, as if it were just created). We also have the option to reset `rho`. This will bring the density matrix back to its initial state (`rho0`), but retain all the time points already stored in `rho`. Some pulse sequences, for example REDOR, DIPSHIFT, etc., require reseting rho to acquire the next time point, rather than just multiplying by the sequence or propagator again.\n",
    "\n",
    "```\n",
    "rho.clear() #Takes rho back to its inital state\n",
    "rho.reset() #Resets the density matrix in rho back to rho0, but retains data in rho\n",
    "```\n",
    "\n",
    "We may also run\n",
    "\n",
    "```\n",
    "rho.clear(data_only=True) #Retains L and matrix reduction\n",
    "```\n",
    "which will keep the Liouvillian in `rho`, and also retain setup of matrix reduction.\n",
    "\n",
    "Note that constant time experiments, where some terms evolve, but the total length of the experiment remains fixed, will result in `rho.t_axis` always having the same value. In this case, `rho` will not be able to determine the frequency axis of the Fourier transformed data. "
   ]
},
{
   "cell_type": "markdown",
   "id": "b0c156eb",
   "metadata": {},
   "source": [
    "# Detect and Propagate (rho.DetProp)"
   ]
},
{
   "cell_type": "markdown",
   "id": "bb65f87b",
   "metadata": {},
   "source": [
    "In the above example, we get the magnetization before and after a ramped-CP step. However, it would be nice to also see what occurs during the CP. We could in principle do this by manually generating propagators over multiple steps through the sequence, and detecting in between, but we may also do this with the `rho.DetProp(...)` function and the sequence.\n",
    "\n",
    "With `rho.DetProp()`, we provide a sequence or propagator and the number of times to detect and propagate (n; note that detection always comes first). We may also break up a sequence into parts, in this example, the number of steps equals the number of steps per sequence (`n_per_seq`), so we only go through the sequence once. Note, if a propagator is provided instead of a sequence, then we cannot use `n_per_seq`.\n",
    "\n",
    "We choose 90 steps to match with the number of time points in the sequence, which should increase the calculation speed."
   ]
},
{
   "cell_type": "code",
   "execution_count": 9,
   "id": "a39c84d0",
   "metadata": {},
   "outputs": [
    {
     "name": "stdout",
     "output_type": "stream",
     "text": [
      "Prop: 90 steps per every 3 rotor periods\n"
     ]
    }
   ],
   "source": [
    "rho.clear()\n",
    "_=rho.DetProp(seq,n=90,n_per_seq=90)"
   ]
},
{
   "cell_type": "code",
   "execution_count": 10,
   "id": "ffc6f50e",
   "metadata": {},
   "outputs": [
    {
     "data": {
      "image/png": "[encoded data removed]",
      "text/plain": [
       "<Figure size 432x288 with 1 Axes>"
      ]
     },
     "metadata": {
      "needs_background": "light"
     },
     "output_type": "display_data"
    }
   ],
   "source": [
    "_=rho.plot()"
   ]
},
{
   "cell_type": "markdown",
   "id": "98ff312d",
   "metadata": {},
   "source": [
    "Another good application of this approach is to simulate spinning sidebands. We use an emtpy sequence in this case (no RF-field applied)."
   ]
},
{
   "cell_type": "code",
   "execution_count": 73,
   "id": "e6e061ff",
   "metadata": {},
   "outputs": [
    {
     "name": "stdout",
     "output_type": "stream",
     "text": [
      "State-space reduction: 16->2\n",
      "Prop: 20 steps per every 1 rotor period\n"
     ]
    }
   ],
   "source": [
    "rho=sl.Rho(rho0='13Cx',detect='13Cp')\n",
    "seq=L.Sequence(cyclic=True).add_channel('13C',t=[0,L.taur/2,L.taur],v1=0)  #Default sequence with length taur\n",
    "_=rho.DetProp(seq,n=20000,n_per_seq=20)\n",
    "#8 steps per sequence gives us a spectral with 8 times the rotor frequency"
   ]
},
{
   "cell_type": "code",
   "execution_count": 74,
   "id": "5b18d342",
   "metadata": {},
   "outputs": [
    {
     "data": {
      "image/png": "[encoded data removed]",
      "text/plain": [
       "<Figure size 432x288 with 1 Axes>"
      ]
     },
     "metadata": {
      "needs_background": "light"
     },
     "output_type": "display_data"
    }
   ],
   "source": [
    "_=rho.plot(FT=True,apodize=False)"
   ]
},
{
   "cell_type": "markdown",
   "id": "24892309",
   "metadata": {},
   "source": [
    "Aside from reducing coding, `rho.DetProp` has also executed a few computational speedups. First, it has identified that only 2 of the 16 spin-states would actually be accessed in this simulation, so it reduces the size of the matrix being propagated significantly. Second, it has performed the propagation in the eigenbasis. Note that because we have 20 steps per rotor period, 20 different eigenbases have been used, each corresponding to a different starting point in the rotor period. That is, we take 20 steps through the first rotor period. However, starting from each of those 20 steps, we then take rotor-period length steps, which can be propagated in the eigenbasis, vastly accelerating the computation time through the 20000 total timesteps (or 1000 steps per each starting point in the rotor period)."
   ]
},
{
   "cell_type": "markdown",
   "id": "ba93d5c2",
   "metadata": {},
   "source": [
    "A final note: `rho` automatically returns a Fourier transformed signal, `rho.FT`. If `rho.apodize=False`, then this signal will only be zero-filled (to twice the original length), otherwise it will also be apodized. `rho.apod_pars` contains information on the window function and parameters, following Bruker Topspin convention. The `SI` parameter is set by default to None in `rho.apod_pars`, and will be internally set to twice the number of time domain signals. `LB` is also None and defaults to 5/(acquisition time$*\\pi$)"
   ]
}
],
 "metadata": {
  "kernelspec": {
   "display_name": "Python 3",
   "language": "python",
   "name": "python3"
  },
  "language_info": {
   "codemirror_mode": {
    "name": "ipython",
    "version": 3
   },
   "file_extension": ".py",
   "mimetype": "text/x-python",
   "name": "python",
   "nbconvert_exporter": "python",
   "pygments_lexer": "ipython3",
   "version": "3.8.8"
  }
 },
 "nbformat": 4,
 "nbformat_minor": 5
}
