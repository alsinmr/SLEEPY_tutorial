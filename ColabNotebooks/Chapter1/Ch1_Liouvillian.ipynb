{
 "cells": [
{
     "cell_type": "markdown",
     "metadata": {},
     "source": [
     "<img src=\"https://raw.githubusercontent.com/alsinmr/SLEEPY_tutorial/033b817f027ebdcd6493a1f42ab9fdec290dbee8/JupyterBook/favicon.png\" alt=\"sleepy eyes\" style=\"width:50px;\">"
     ]
    },
{
   "cell_type": "markdown",
   "id": "d16de19a",
   "metadata": {},
   "source": [
    "# <font  color = \"#0093AF\"> Hamiltonians and Liouvillians"
   ]
},
{
   "cell_type": "markdown",
   "id": "3695adb4",
   "metadata": {},
   "source": [
    "Evolution of the spin-system is determined by the Liouvillian, which consists of one or more Hamiltonians, relaxation terms, and exchange terms. SLEEPY operates in Liouville space, but the Hamiltonians are also calculated and can be accessed by the user."
   ]
},
{
   "cell_type": "markdown",
   "id": "682f5662",
   "metadata": {},
   "source": [
    "## Setup"
   ]
},
{
   "cell_type": "code",
   "execution_count": 3,
   "id": "f385be45",
   "metadata": {},
   "outputs": [],
   "source": [
    "import os\n",
    "os.chdir('../../../')\n",
    "import SLEEPY as sl\n",
    "import numpy as np"
   ]
},
{
   "cell_type": "markdown",
   "id": "85ed7e50",
   "metadata": {},
   "source": [
    "## The Hamiltonian"
   ]
},
{
   "cell_type": "markdown",
   "id": "f891f872",
   "metadata": {},
   "source": [
    "In the previous section, we defined the experimental conditions and the spin-system. The 'ex' object, created with sl.ExpSys, contains all the information required to build the Hamiltonian and Liouvillian (for exchange, we need multiple 'ex' objects).\n",
    "\n",
    "SLEEPY operates in Liouville space, so while the Hamiltonian is in the background, the user will normally create the Liouvillian directly. Still, here we will start with the Hamiltonian and its contents.\n",
    "\n",
    "We start with building 'ex'."
   ]
},
{
   "cell_type": "code",
   "execution_count": 4,
   "id": "1180e8f2",
   "metadata": {},
   "outputs": [],
   "source": [
    "ex=sl.ExpSys(v0H=600,Nucs=['1H','13C'],vr=60000,LF=True)  #For this example, we'll work in the lab frame\n",
    "ex.set_inter('dipole',i0=0,i1=1,delta=44000).set_inter('CSA',i=1,delta=100,eta=1).\\\n",
    "    set_inter('CS',i=0,ppm=10) #Add a dipole, CSA to 13C, and CS to 1H\n",
    "\n",
    "H=ex.Hamiltonian() #Create the Hamiltonian"
   ]
},
{
   "cell_type": "markdown",
   "id": "5629b3b6",
   "metadata": {},
   "source": [
    "To access Hamiltonian matrices, we have to specify which element of the powder average we are interested in, and also what step (up to ex.n_gamma) in the rotor cycle we want. For solution-state simulations, these are still required, but can both be set to zero. For example, for the first element of the powder average, and the first step in the rotor cycle, we use"
   ]
},
{
   "cell_type": "markdown",
   "id": "0f6a92d2",
   "metadata": {},
   "source": [
    "### Access and plot the Hamiltonian"
   ]
},
{
   "cell_type": "code",
   "execution_count": 5,
   "id": "f563cdac",
   "metadata": {},
   "outputs": [
    {
     "data": {
      "text/plain": [
       "array([[ 3.75456344e+08-1.13686838e-13j, -3.65267208e+03-2.63141747e+03j,\n",
       "        -7.91082291e+03-1.66268635e+02j,  1.05759754e+04-4.44765395e+02j],\n",
       "       [-3.65267208e+03+2.63141747e+03j,  2.24549656e+08+1.13686838e-13j,\n",
       "        -4.14676554e+02+3.33066907e-14j,  7.91082291e+03+1.66268635e+02j],\n",
       "       [-7.91082291e+03+1.66268635e+02j, -4.14676554e+02+3.33066907e-14j,\n",
       "        -2.24550485e+08+0.00000000e+00j,  1.21689737e+04-2.29888020e+03j],\n",
       "       [ 1.05759754e+04+4.44765395e+02j,  7.91082291e+03-1.66268635e+02j,\n",
       "         1.21689737e+04+2.29888020e+03j, -3.75455515e+08+0.00000000e+00j]])"
      ]
     },
     "execution_count": 5,
     "metadata": {},
     "output_type": "execute_result"
    }
   ],
   "source": [
    "H[0].H(0)"
   ]
},
{
   "cell_type": "markdown",
   "id": "e35d4c78",
   "metadata": {},
   "source": [
    "Note that we have run the set up in the lab frame, explaining why the Hamiltonian is so dense. In the rotating frame, this will not be the case.\n",
    "\n",
    "We may also visualize the Hamiltonian, using H.plot. Plotting may be performed for a given element of the powder average, or if not specified (but required)"
   ]
},
{
   "cell_type": "code",
   "execution_count": 6,
   "id": "73bd92cc",
   "metadata": {},
   "outputs": [
    {
     "data": {
      "text/plain": [
       "<AxesSubplot:>"
      ]
     },
     "execution_count": 6,
     "metadata": {},
     "output_type": "execute_result"
    },
    {
     "data": {
      "image/png": "[encoded data removed]",
      "text/plain": [
       "<Figure size 432x288 with 2 Axes>"
      ]
     },
     "metadata": {
      "needs_background": "light"
     },
     "output_type": "display_data"
    }
   ],
   "source": [
    "H[5].plot() #Plot the Hamiltonian for the 5th element of the powder average"
   ]
},
{
   "cell_type": "markdown",
   "id": "13079d4f",
   "metadata": {},
   "source": [
    "The full Hamiltonian is built from the 5 rotating components of the Hamiltonian. If we have $n_\\gamma$ steps per rotor period, and we're at the kth step, this is done as follows:\n",
    "\n",
    "$$\n",
    "\\begin{eqnarray}\n",
    "\\phi_k&=&\\exp(2\\pi i k/n_\\gamma) \\nonumber \\\\\n",
    "\\hat{H}_k&=&\\sum\\limits_{n=-2}^2{\\phi_k^{-n}*\\hat{H}_n}\n",
    "\\end{eqnarray}\n",
    "$$\n",
    "\n",
    "The rotating components are obtained via the Hn function, where n (-2,-1,0,1,2) must be provided. For example, for the fifth element of the powder average, if we want the $n=-1$ component, we would call:"
   ]
},
{
   "cell_type": "code",
   "execution_count": 7,
   "id": "90b28306",
   "metadata": {},
   "outputs": [
    {
     "data": {
      "text/plain": [
       "array([[ 2440.46534251-283.23595211j,  1376.77058444 -21.82557404j,\n",
       "          358.90178738 -92.15031666j,  1015.12755055-260.64045519j],\n",
       "       [-1612.17682761+325.06620571j, -2440.46534251+283.23595211j,\n",
       "        -1386.69002213+356.04148304j,  -358.90178738 +92.15031666j],\n",
       "       [-1339.43970543+343.9096637j , -1386.69002213+356.04148304j,\n",
       "         -332.91470175+428.84701397j,   658.96700968+162.47505928j],\n",
       "       [-3788.50759481+972.72342127j,  1339.43970543-343.9096637j ,\n",
       "         1066.70258326-362.75312169j,   332.91470175-428.84701397j]])"
      ]
     },
     "execution_count": 7,
     "metadata": {},
     "output_type": "execute_result"
    }
   ],
   "source": [
    "H[5].Hn(-1)"
   ]
},
{
   "cell_type": "markdown",
   "id": "b2b3307e",
   "metadata": {},
   "source": [
    "This may also be plotted. Note there are different plotting modes: 're','im','abs', 'log', and 'spy', which are real, imaginary, absolute value, log of absolute value, and spy, which is binary, i.e. zero or not zero."
   ]
},
{
   "cell_type": "code",
   "execution_count": 12,
   "id": "66a78888",
   "metadata": {},
   "outputs": [
    {
     "data": {
      "text/plain": [
       "<AxesSubplot:>"
      ]
     },
     "execution_count": 12,
     "metadata": {},
     "output_type": "execute_result"
    },
    {
     "data": {
      "image/png": "[encoded data removed]",
      "text/plain": [
       "<Figure size 432x288 with 2 Axes>"
      ]
     },
     "metadata": {
      "needs_background": "light"
     },
     "output_type": "display_data"
    }
   ],
   "source": [
    "H[5].plot('H-1',mode='re')"
   ]
},
{
   "cell_type": "markdown",
   "id": "524c5831",
   "metadata": {},
   "source": [
    "### Hamiltonians for individual interactions"
   ]
},
{
   "cell_type": "markdown",
   "id": "bfb32279",
   "metadata": {},
   "source": [
    "The rotating components are built up from the rotating components of the individual interactions, where individual interactions are found in a list in H.Hinter. Indexing this list will return a description of the interaction, for example:"
   ]
},
{
   "cell_type": "code",
   "execution_count": 7,
   "id": "7fb8f021",
   "metadata": {},
   "outputs": [
    {
     "data": {
      "text/plain": [
       "Hamiltonian for a single interaction\n",
       "Type: dipole between spins 0 and 1\n",
       "Arguments:\n",
       "\tdelta=44000\n",
       "\teta=0\n",
       "\teuler=[0.00,0.00,0.00]\n",
       "\n",
       "<SLEEPY.HamTypes.Ham1inter object at 0x7fad588ec278>"
      ]
     },
     "execution_count": 7,
     "metadata": {},
     "output_type": "execute_result"
    }
   ],
   "source": [
    "H.Hinter[0]"
   ]
},
{
   "cell_type": "code",
   "execution_count": 8,
   "id": "ccc57124",
   "metadata": {},
   "outputs": [
    {
     "data": {
      "text/plain": [
       "Hamiltonian for a single interaction\n",
       "Type: larmor on spin 1\n",
       "\n",
       "<SLEEPY.HamTypes.Ham1inter object at 0x7fad38503f60>"
      ]
     },
     "execution_count": 8,
     "metadata": {},
     "output_type": "execute_result"
    }
   ],
   "source": [
    "H.Hinter[-1]"
   ]
},
{
   "cell_type": "markdown",
   "id": "8e23b45d",
   "metadata": {},
   "source": [
    "The Hamiltonians are those specified when using ex.set_inter. However, if a spin is specified in the lab frame, then we will also find Hamiltonians that add the Larmor frequency for those spins. As with the full Hamiltonian, we may plot Hamiltonians for the individual interactions."
   ]
},
{
   "cell_type": "code",
   "execution_count": 9,
   "id": "345415d1",
   "metadata": {},
   "outputs": [
    {
     "data": {
      "text/plain": [
       "<AxesSubplot:>"
      ]
     },
     "execution_count": 9,
     "metadata": {},
     "output_type": "execute_result"
    },
    {
     "data": {
      "image/png": "[encoded data removed]",
      "text/plain": [
       "<Figure size 432x288 with 2 Axes>"
      ]
     },
     "metadata": {
      "needs_background": "light"
     },
     "output_type": "display_data"
    }
   ],
   "source": [
    "H.Hinter[0].plot()"
   ]
},
{
   "cell_type": "markdown",
   "id": "e18c349c",
   "metadata": {},
   "source": [
    "## The Liouvillian"
   ]
},
{
   "cell_type": "markdown",
   "id": "326b3633",
   "metadata": {},
   "source": [
    "Coherent components of the Liouvillian are calculated from the Hamiltonian, although we may also add relaxation and exchange processes to the Liouvillian. We may create the Liouvillian without exchange either from the Hamiltonian or the experimental system (ex). "
   ]
},
{
   "cell_type": "code",
   "execution_count": 10,
   "id": "0730928f",
   "metadata": {},
   "outputs": [],
   "source": [
    "L=ex.Liouvillian()  \n",
    "L=sl.Liouvillian(H)  #alternatively"
   ]
},
{
   "cell_type": "markdown",
   "id": "a1d223bc",
   "metadata": {},
   "source": [
    "The coherent Liouvillian is created by calculating\n",
    "\n",
    "$$\n",
    "\\begin{equation}\n",
    "\\hat{\\hat{L}}=i(\\hat{H}\\otimes\\hat{\\mathbf{1}}-\\hat{\\mathbf{1}}\\otimes\\hat{H})\n",
    "\\end{equation}\n",
    "$$\n",
    "\n",
    "$\\hat{\\mathbf{1}}$ is an identity matrix with the same dimensions as $\\hat{H}$. In SLEEPY, we separate the individual components, such that we acquired\n",
    "\n",
    "$$\n",
    "\\begin{equation}\n",
    "\\hat{\\hat{L}}_n=i(\\hat{H}_n\\otimes\\hat{\\mathbf{1}}-\\hat{\\mathbf{1}}\\otimes\\hat{H}_n)\n",
    "\\end{equation}\n",
    "$$"
   ]
},
{
   "cell_type": "markdown",
   "id": "0eef9755",
   "metadata": {},
   "source": [
    "### Access and plot the Liouvillian"
   ]
},
{
   "cell_type": "markdown",
   "id": "97930a06",
   "metadata": {},
   "source": [
    "Access to specific components of the Liouvillian and plotting use the same rules as for the Hamiltonian. For example, to access the 5th element of the powder average, and the $n=1$ component of the coherent Liouvillian, we would use\n",
    "```\n",
    "L[5].Ln(1)\n",
    "```\n",
    "Note that the $n=0$ component contains contributions from relaxation (non-orientation specific) and exchange. To obtain the pure coherent contributions, we use\n",
    "```\n",
    "L[5].Ln_H(1)\n",
    "```\n",
    "The full Liouvillian for a given element of the powder average and step in the rotor period is obtained via:\n",
    "```\n",
    "L[5].L(10)  #5th powder average element, 10th step\n",
    "```\n",
    "We may also plot these matrices, which is particularly helpful since the Liouvillian gets relatively large and numerical display of the full matrix may not be very helpful."
   ]
},
{
   "cell_type": "code",
   "execution_count": 11,
   "id": "a75e2e64",
   "metadata": {},
   "outputs": [
    {
     "data": {
      "text/plain": [
       "<AxesSubplot:>"
      ]
     },
     "execution_count": 11,
     "metadata": {},
     "output_type": "execute_result"
    },
    {
     "data": {
      "image/png": "[encoded data removed]",
      "text/plain": [
       "<Figure size 432x288 with 2 Axes>"
      ]
     },
     "metadata": {
      "needs_background": "light"
     },
     "output_type": "display_data"
    }
   ],
   "source": [
    "L[0].plot()  #Full Liouvillian"
   ]
},
{
   "cell_type": "code",
   "execution_count": 12,
   "id": "e8681610",
   "metadata": {},
   "outputs": [
    {
     "data": {
      "text/plain": [
       "<AxesSubplot:>"
      ]
     },
     "execution_count": 12,
     "metadata": {},
     "output_type": "execute_result"
    },
    {
     "data": {
      "image/png": "[encoded data removed]",
      "text/plain": [
       "<Figure size 432x288 with 2 Axes>"
      ]
     },
     "metadata": {
      "needs_background": "light"
     },
     "output_type": "display_data"
    }
   ],
   "source": [
    "L[0].plot('L-1') #n=-1 component of the coherent Liouvillian"
   ]
},
{
   "cell_type": "markdown",
   "id": "7ab4c6c5",
   "metadata": {},
   "source": [
    "### Adding relaxation"
   ]
},
{
   "cell_type": "markdown",
   "id": "6ba39084",
   "metadata": {},
   "source": [
    "$T_1$ and $T_2$ relaxation are available in SLEEPY, along with \"Spin-Diffusion\" which just introduces signal decay with $T_1=T_2$ (see Ernst et al. for spin-diffusion relaxation operator$^1$). As implemented in SLEEPY, the $T_1$ option *only* decays along $z$, which is unphysical, so it is important to also add some $T_2$ relaxation when using $T_1$. By default, $T_1$ acts along $z$, and $T_2$ along x and y. However, it is possible to specify \"orientation-specific\" (`OS=True`) relaxation, which will adjust $T_1$ relaxation to occur on the eigenstates of a given spin, and $T_2$ acts on coherences between eigenstates of the spin. This option is more computationally expensive. However, for spins that are strongly tilted away from $z$, using the default relaxation will \"mix\" the $T_1$ and $T_2$ behavior, so that $T_1$ may appear much shorter than specified. \n",
    "\n",
    "We may also include recovery of magnetization to thermal equilibrium (noting that in this case, ex.T_K becomes relevant). If orientation-specific relaxation is included, this is specified when the relaxation is added. Otherwise, it is specified after all relaxation is included. Relaxation is removed by running `L.clear_relax()`. If, for example, $T_1$ relaxation is added to a spin twice without clearing the first entry, then the relaxation rates will add together, so it is important not to forget to clear existing relaxation.\n",
    "\n",
    "[1] M. Ernst, H. Zimmerman, B.H. Meier. *[Chem. Phys. Lett.](https://doi.org/10.1016/S0009-2614(99)01423-2)*, **2000**, 317, 581-588."
   ]
},
{
   "cell_type": "code",
   "execution_count": 13,
   "id": "05a7378a",
   "metadata": {},
   "outputs": [],
   "source": [
    "L.clear_relax()\n",
    "L.add_relax('T1',i=0,T1=1)  #Add T1 relaxation to spin 0\n",
    "L.add_relax('T2',i=0,T2=.1) #Add T2 relaxation to spin 0\n",
    "L.add_relax('T1',i=1,T1=5)  #Add T1 relaxation to spin 0\n",
    "L.add_relax('T2',i=1,T2=.5) #Add T2 relaxation to spin 0\n",
    "_=L.add_relax('recovery') #Add recovery to thermal equilibrium"
   ]
},
{
   "cell_type": "markdown",
   "id": "11bc0121",
   "metadata": {},
   "source": [
    "To add orientation-specific relaxation, specify `OS=True`. To include recovery to thermal equilibrium, the $T_1$ require specifying `Thermal=True`."
   ]
},
{
   "cell_type": "code",
   "execution_count": 14,
   "id": "820e0326",
   "metadata": {},
   "outputs": [],
   "source": [
    "L.clear_relax()\n",
    "L.add_relax('T1',i=0,T1=1,OS=True,Thermal=True)  #Add T1 relaxation to spin 0\n",
    "L.add_relax('T2',i=0,T2=.1,OS=True) #Add T2 relaxation to spin 0\n",
    "L.add_relax('T1',i=1,T1=5,OS=True,Thermal=True)  #Add T1 relaxation to spin 0\n",
    "_=L.add_relax('T2',i=1,T2=.5,OS=True) #Add T2 relaxation to spin 0"
   ]
},
{
   "cell_type": "markdown",
   "id": "9194c3f7",
   "metadata": {},
   "source": [
    "We can visualize the result with the plot function."
   ]
},
{
   "cell_type": "code",
   "execution_count": 16,
   "id": "493d7491",
   "metadata": {},
   "outputs": [
    {
     "data": {
      "text/plain": [
       "<AxesSubplot:>"
      ]
     },
     "execution_count": 16,
     "metadata": {},
     "output_type": "execute_result"
    },
    {
     "data": {
      "image/png": "[encoded data removed]",
      "text/plain": [
       "<Figure size 432x288 with 2 Axes>"
      ]
     },
     "metadata": {
      "needs_background": "light"
     },
     "output_type": "display_data"
    }
   ],
   "source": [
    "L.plot('Lrelax',mode='abs')"
   ]
},
{
   "cell_type": "markdown",
   "id": "34532e00",
   "metadata": {},
   "source": [
    "### Exchange"
   ]
},
{
   "cell_type": "markdown",
   "id": "06a80403",
   "metadata": {},
   "source": [
    "Importantly, SLEEPY allows us to simulate magnetic resonance under exchange conditions. This is achieved by defining two or more experimental system objects, with different interaction conditions. In this example, we just change the orientation of the dipole coupling, representing a hopping motion.\n",
    "\n",
    "Since the resulting Liouvillian comes from multiple experimental systems (`ex0,ex1`), we must use sl.Liouvillian, rather than generating it directly from ex."
   ]
},
{
   "cell_type": "code",
   "execution_count": 17,
   "id": "cbcde154",
   "metadata": {},
   "outputs": [],
   "source": [
    "ex1=ex.copy() #We can copy an existing ex, so that to start, all parameters match\n",
    "ex1.set_inter('dipole',i0=0,i1=1,delta=44000,euler=[0,30*np.pi/180,0]) #30 degree hop\n",
    "\n",
    "L=sl.Liouvillian(ex,ex1)"
   ]
},
{
   "cell_type": "markdown",
   "id": "61389e25",
   "metadata": {},
   "source": [
    "We can plot the resulting Liouvillian, to see that it now has larger dimension, corresponding to the two experimental systems that were input."
   ]
},
{
   "cell_type": "code",
   "execution_count": 18,
   "id": "a459d986",
   "metadata": {},
   "outputs": [
    {
     "data": {
      "text/plain": [
       "<AxesSubplot:>"
      ]
     },
     "execution_count": 18,
     "metadata": {},
     "output_type": "execute_result"
    },
    {
     "data": {
      "image/png": "[encoded data removed]",
      "text/plain": [
       "<Figure size 432x288 with 2 Axes>"
      ]
     },
     "metadata": {
      "needs_background": "light"
     },
     "output_type": "display_data"
    }
   ],
   "source": [
    "L.plot()"
   ]
},
{
   "cell_type": "markdown",
   "id": "3f124369",
   "metadata": {},
   "source": [
    "However, on its own, this isn't very useful because the two dipole orientations are not exchanging. For this, we must also include the exchange matrix, of the form:\n",
    "\n",
    "$$\n",
    "\\begin{equation}\n",
    "\\mathbf{K}_{ex}=\n",
    "\\begin{pmatrix}\n",
    "-k_{01}&k_{10} \\\\\n",
    "k_{01}&-k_{10}\n",
    "\\end{pmatrix}\n",
    "\\end{equation}\n",
    "$$\n",
    "\n",
    "Exchange matrices should always be mass conserving, i.e., the columns should sum to 0. Usually, they should also satisfy detailed balance, i.e., $k_{m,n}/k_{n,m}=p_n/p_m$ where $p_n$ are equilibrium populations."
   ]
},
{
   "cell_type": "code",
   "execution_count": 19,
   "id": "e9aecbbb",
   "metadata": {},
   "outputs": [],
   "source": [
    "L.kex=[[-1e3,1e3],[1e3,-1e3]]  #Symmetric exchange between two sites"
   ]
},
{
   "cell_type": "markdown",
   "id": "62c8fea2",
   "metadata": {},
   "source": [
    "A number of tools exist in sl.Tools for building various exchange matrices, and also setting up both the exchange matrix and experimental systems (twoSite_kex,nSite_sym,fourSite_sym,Setup3siteSym,SetupTetraHop).\n",
    "\n",
    "Below, we show the exchange component of the Liouvillian"
   ]
},
{
   "cell_type": "code",
   "execution_count": 20,
   "id": "34251674",
   "metadata": {},
   "outputs": [
    {
     "data": {
      "text/plain": [
       "<AxesSubplot:>"
      ]
     },
     "execution_count": 20,
     "metadata": {},
     "output_type": "execute_result"
    },
    {
     "data": {
      "image/png": "[encoded data removed]",
      "text/plain": [
       "<Figure size 432x288 with 2 Axes>"
      ]
     },
     "metadata": {
      "needs_background": "light"
     },
     "output_type": "display_data"
    }
   ],
   "source": [
    "L.plot('Lex',mode='re')"
   ]
},
{
   "cell_type": "markdown",
   "id": "f31b566f",
   "metadata": {},
   "source": [
    "Finally, we show the total Liouvillian, including exchange."
   ]
},
{
   "cell_type": "code",
   "execution_count": 21,
   "id": "e50b7f1e",
   "metadata": {},
   "outputs": [
    {
     "data": {
      "text/plain": [
       "<AxesSubplot:>"
      ]
     },
     "execution_count": 21,
     "metadata": {},
     "output_type": "execute_result"
    },
    {
     "data": {
      "image/png": "[encoded data removed]",
      "text/plain": [
       "<Figure size 432x288 with 2 Axes>"
      ]
     },
     "metadata": {
      "needs_background": "light"
     },
     "output_type": "display_data"
    }
   ],
   "source": [
    "L.plot()"
   ]
},
{
   "cell_type": "markdown",
   "id": "a8515cf8",
   "metadata": {},
   "source": [
    "In the next section, we discuss the generation of propagators from the Liouvillian."
   ]
},
{
   "cell_type": "code",
   "execution_count": null,
   "id": "00000969",
   "metadata": {},
   "outputs": [],
   "source": []
}
],
 "metadata": {
  "kernelspec": {
   "display_name": "Python 3",
   "language": "python",
   "name": "python3"
  },
  "language_info": {
   "codemirror_mode": {
    "name": "ipython",
    "version": 3
   },
   "file_extension": ".py",
   "mimetype": "text/x-python",
   "name": "python",
   "nbconvert_exporter": "python",
   "pygments_lexer": "ipython3",
   "version": "3.7.3"
  }
 },
 "nbformat": 4,
 "nbformat_minor": 5
}
