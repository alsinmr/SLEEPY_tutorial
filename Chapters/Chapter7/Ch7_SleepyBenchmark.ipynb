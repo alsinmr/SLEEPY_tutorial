{
 "cells": [
  {
   "cell_type": "markdown",
   "id": "de8e8ac5",
   "metadata": {},
   "source": [
    "# <font  color = \"#B00000\">SLEEPY Benchmark</font>"
   ]
  },
  {
   "cell_type": "markdown",
   "id": "ee11d31d",
   "metadata": {},
   "source": [
    "The following notebook is for comparing SLEEPY performance among different systems. We run each simulation with and without parallel usage to determine additionally where parallel processing improves behavior. Plotting is not counted in computational time."
   ]
  },
  {
   "cell_type": "code",
   "execution_count": 1,
   "id": "e96d828a",
   "metadata": {},
   "outputs": [],
   "source": [
    "# SETUP SLEEPY\n",
    "import os\n",
    "os.chdir('../../../')"
   ]
  },
  {
   "cell_type": "code",
   "execution_count": 2,
   "id": "8dc1b315",
   "metadata": {},
   "outputs": [],
   "source": [
    "import SLEEPY as sl\n",
    "from time import time\n",
    "import numpy as np\n",
    "import scipy as sp\n",
    "import matplotlib.pyplot as plt\n",
    "import subprocess\n",
    "import sys"
   ]
  },
  {
   "cell_type": "markdown",
   "id": "8a2cf97e",
   "metadata": {},
   "source": [
    "## Versions"
   ]
  },
  {
   "cell_type": "code",
   "execution_count": 4,
   "id": "e88e1006",
   "metadata": {},
   "outputs": [
    {
     "name": "stdout",
     "output_type": "stream",
     "text": [
      "Python: 3.11.13\n",
      "Numpy: 1.24.3\n",
      "Scipy: 1.10.1\n",
      "Multiprocess: 0.70.15\n",
      "Uses Intel MKL\n"
     ]
    }
   ],
   "source": [
    "print(f'Python: {sys.version.split(\" (\")[0]}')\n",
    "print(f'Numpy: {np.version.version}')\n",
    "print(f'Scipy: {sp.version.version}')\n",
    "try:\n",
    "    result = subprocess.run(['pip','show','multiprocess'], stdout=subprocess.PIPE)\n",
    "    vs=result.stdout.decode().split('Version: ')[1].split('Summary')[0].strip()\n",
    "    print(f'Multiprocess: {vs}')\n",
    "except:\n",
    "    print('Multiprocess is not installed (recommended)')\n",
    "if hasattr(np.__config__,'blas_mkl_info') and 'mkl_rt' in np.__config__.blas_mkl_info['libraries']:\n",
    "    print('Uses Intel MKL')\n",
    "else:\n",
    "    print('Intel MKL not in use (recommended)')"
   ]
  },
  {
   "cell_type": "markdown",
   "id": "a0fe1ced",
   "metadata": {},
   "source": [
    "## Benchmark 1: $R_{1\\rho}$ relaxation"
   ]
  },
  {
   "cell_type": "code",
   "execution_count": 3,
   "id": "c3e1fbf4",
   "metadata": {},
   "outputs": [
    {
     "name": "stdout",
     "output_type": "stream",
     "text": [
      "State-space reduction: 32->16\n",
      "Series time: 210 ms\n",
      "Propagators calculated: 1470, Propagators from cache: 0\n",
      "State-space reduction: 32->16\n",
      "Parallel time: 242 ms\n",
      "Propagators calculated: 1285, Propagators from cache: 0\n"
     ]
    },
    {
     "data": {
      "text/plain": [
       "<Axes: xlabel='t / ms', ylabel='<$^{15}N_x$>'>"
      ]
     },
     "execution_count": 3,
     "metadata": {},
     "output_type": "execute_result"
    },
    {
     "data": {
      "image/png": "[encoded data removed]",
      "text/plain": [
       "<Figure size 640x480 with 1 Axes>"
      ]
     },
     "metadata": {},
     "output_type": "display_data"
    }
   ],
   "source": [
    "sl.Defaults['cache']=True\n",
    "for parallel in [False,True]:\n",
    "    sl.Defaults['parallel']=parallel\n",
    "    t0=time()\n",
    "    ex0=sl.ExpSys(600,Nucs=['15N','1H'],vr=60000,pwdavg=2,n_gamma=30)\n",
    "    ex0.set_inter('dipole',i0=0,i1=1,delta=22000)\n",
    "    ex0.set_inter('CSA',i=0,delta=110,euler=[0,15,0])\n",
    "    ex1=ex0.copy()\n",
    "    ex0.set_inter('dipole',i0=0,i1=1,delta=22000,euler=[0,30,0])\n",
    "    ex0.set_inter('CSA',i=0,delta=110,euler=[[0,15,0],[0,30,0]])\n",
    "    \n",
    "    L=sl.Liouvillian(ex0,ex1,kex=sl.Tools.twoSite_kex(1e-6))\n",
    "    seq=L.Sequence().add_channel('15N',v1=35000)\n",
    "    rho=sl.Rho(rho0='15Nx',detect='15Nx')\n",
    "    rho,seq=rho.ReducedSetup(seq)\n",
    "    rho.DetProp(seq,n=1000)\n",
    "    print(f'{\"Parallel\" if parallel else \"Series\"} time: {(time()-t0)*1e3:.0f} ms')\n",
    "    print(f'Propagators calculated: {rho.L._PropCache.cache_count[0]}, Propagators from cache: {rho.L._PropCache.cache_count[1]}')\n",
    "rho.plot()"
   ]
  },
  {
   "cell_type": "markdown",
   "id": "8054c92a",
   "metadata": {},
   "source": [
    "## Benchmark 2: REDOR"
   ]
  },
  {
   "cell_type": "code",
   "execution_count": 4,
   "id": "0995eddf",
   "metadata": {},
   "outputs": [
    {
     "name": "stdout",
     "output_type": "stream",
     "text": [
      "Series time: 16.7 s\n",
      "Propagators calculated: 13800, Propagators from cache: 45000\n",
      "Parallel time: 25.8 s\n",
      "Propagators calculated: 13791, Propagators from cache: 43582\n"
     ]
    }
   ],
   "source": [
    "sl.Defaults['cache']=True\n",
    "for parallel in [False,True]:\n",
    "    sl.Defaults['parallel']=parallel    \n",
    "    t0=time()\n",
    "    ex0=sl.ExpSys(v0H=600,Nucs=['15N','1H'],vr=60000,pwdavg=sl.PowderAvg('bcr20'),n_gamma=30)\n",
    "    # After varying the powder average and n_gamma\n",
    "    # a beta-average and 30 gamma angles were determined to be sufficient\n",
    "    delta=sl.Tools.dipole_coupling(.102,'15N','1H')\n",
    "    phi=35*np.pi/180\n",
    "\n",
    "    ex0.set_inter('dipole',i0=0,i1=1,delta=delta)\n",
    "    L=sl.Tools.Setup3siteSym(ex0,tc=1e-9,phi=phi)\n",
    "    \n",
    "    v1=120e3 #100 kHz pulse\n",
    "    tp=1/v1/2 #pi/2 pulse length\n",
    "\n",
    "    t=[0,L.taur/2-tp,L.taur/2,L.taur-tp,L.taur]\n",
    "    first=L.Sequence().add_channel('1H',t=t,v1=[0,v1,0,v1],phase=[0,0,0,np.pi/2,0])\n",
    "    t=[0,tp,L.taur/2,L.taur/2+tp,L.taur]\n",
    "    second=L.Sequence().add_channel('1H',t=t,v1=[v1,0,v1,0],phase=[np.pi/2,0,0,0,0])\n",
    "    center=L.Sequence().add_channel('15N',t=[0,L.taur/2-tp/2,L.taur/2+tp/2,L.taur],\n",
    "                                   v1=[0,v1,0])\n",
    "\n",
    "    Ucenter=center.U()\n",
    "    Ufirst=first.U()\n",
    "    Usecond=second.U()\n",
    "\n",
    "    rho=sl.Rho('15Nx','15Nx')\n",
    "    U1=L.Ueye()\n",
    "    U2=L.Ueye()\n",
    "\n",
    "\n",
    "    for k in range(48):\n",
    "        rho.reset()\n",
    "        (U2*Ucenter*U1*rho)()\n",
    "        U1=Ufirst*U1\n",
    "        U2=Usecond*U2\n",
    "    print(f'{\"Parallel\" if parallel else \"Series\"} time: {(time()-t0):.1f} s')\n",
    "    print(f'Propagators calculated: {L._PropCache.cache_count[0]}, Propagators from cache: {L._PropCache.cache_count[1]}')"
   ]
  },
  {
   "cell_type": "code",
   "execution_count": 21,
   "id": "bc36544a",
   "metadata": {},
   "outputs": [
    {
     "data": {
      "text/plain": [
       "<Axes: xlabel='t / ms', ylabel='<$^{15}N_x$>'>"
      ]
     },
     "execution_count": 21,
     "metadata": {},
     "output_type": "execute_result"
    },
    {
     "data": {
      "image/png": "[encoded data removed]",
      "text/plain": [
       "<Figure size 640x480 with 1 Axes>"
      ]
     },
     "metadata": {},
     "output_type": "display_data"
    }
   ],
   "source": [
    "rho.plot()"
   ]
  },
  {
   "cell_type": "markdown",
   "id": "23f94560",
   "metadata": {},
   "source": [
    "## Benchmark 3: Pseudocontact shift under MAS"
   ]
  },
  {
   "cell_type": "code",
   "execution_count": null,
   "id": "3394d965",
   "metadata": {},
   "outputs": [
    {
     "name": "stdout",
     "output_type": "stream",
     "text": [
      "Series time: 17.3 s\n",
      "Propagators calculated: 8970, Propagators from cache: 0\n",
      "Series time after caching: 1.8 s\n",
      "Propagators calculated: 0, Propagators from cache: 8970\n"
     ]
    },
    {
     "name": "stderr",
     "output_type": "stream",
     "text": [
      "Exception ignored in: <function PropCache.__del__ at 0x117e839c0>\n",
      "Traceback (most recent call last):\n",
      "  File \"/Users/albertsmith/Documents/GitHub/SLEEPY/SLEEPY/Propagator.py\", line 718, in __del__\n",
      "    sm.unlink()\n",
      "  File \"/opt/miniconda3/lib/python3.11/site-packages/multiprocess/shared_memory.py\", line 243, in unlink\n",
      "    _posixshmem.shm_unlink(self._name)\n",
      "FileNotFoundError: [Errno 2] No such file or directory: '/psm_c52f9aca'\n",
      "Exception ignored in: <function PropCache.__del__ at 0x117e839c0>\n",
      "Traceback (most recent call last):\n",
      "  File \"/Users/albertsmith/Documents/GitHub/SLEEPY/SLEEPY/Propagator.py\", line 718, in __del__\n",
      "    sm.unlink()\n",
      "  File \"/opt/miniconda3/lib/python3.11/site-packages/multiprocess/shared_memory.py\", line 243, in unlink\n",
      "    _posixshmem.shm_unlink(self._name)\n",
      "FileNotFoundError: [Errno 2] No such file or directory: '/psm_c52f9aca'\n",
      "Exception ignored in: <function PropCache.__del__ at 0x117e839c0>\n",
      "Traceback (most recent call last):\n",
      "  File \"/Users/albertsmith/Documents/GitHub/SLEEPY/SLEEPY/Propagator.py\", line 718, in __del__\n",
      "    sm.unlink()\n",
      "  File \"/opt/miniconda3/lib/python3.11/site-packages/multiprocess/shared_memory.py\", line 243, in unlink\n",
      "    _posixshmem.shm_unlink(self._name)\n",
      "FileNotFoundError: [Errno 2] No such file or directory: '/psm_c52f9aca'\n",
      "Exception ignored in: <function PropCache.__del__ at 0x117e839c0>\n",
      "Traceback (most recent call last):\n",
      "  File \"/Users/albertsmith/Documents/GitHub/SLEEPY/SLEEPY/Propagator.py\", line 718, in __del__\n",
      "    sm.unlink()\n",
      "  File \"/opt/miniconda3/lib/python3.11/site-packages/multiprocess/shared_memory.py\", line 243, in unlink\n",
      "    _posixshmem.shm_unlink(self._name)\n",
      "FileNotFoundError: [Errno 2] No such file or directory: '/psm_c52f9aca'\n",
      "Exception ignored in: <function PropCache.__del__ at 0x117e839c0>\n",
      "Traceback (most recent call last):\n",
      "  File \"/Users/albertsmith/Documents/GitHub/SLEEPY/SLEEPY/Propagator.py\", line 718, in __del__\n",
      "    sm.unlink()\n",
      "  File \"/opt/miniconda3/lib/python3.11/site-packages/multiprocess/shared_memory.py\", line 243, in unlink\n",
      "    _posixshmem.shm_unlink(self._name)\n",
      "FileNotFoundError: [Errno 2] No such file or directory: '/psm_c52f9aca'\n",
      "Exception ignored in: <function PropCache.__del__ at 0x117e839c0>\n",
      "Traceback (most recent call last):\n",
      "  File \"/Users/albertsmith/Documents/GitHub/SLEEPY/SLEEPY/Propagator.py\", line 718, in __del__\n",
      "    sm.unlink()\n",
      "  File \"/opt/miniconda3/lib/python3.11/site-packages/multiprocess/shared_memory.py\", line 243, in unlink\n",
      "    _posixshmem.shm_unlink(self._name)\n",
      "FileNotFoundError: [Errno 2] No such file or directory: '/psm_c52f9aca'\n",
      "Exception ignored in: <function PropCache.__del__ at 0x117e839c0>\n",
      "Traceback (most recent call last):\n",
      "  File \"/Users/albertsmith/Documents/GitHub/SLEEPY/SLEEPY/Propagator.py\", line 718, in __del__\n",
      "    sm.unlink()\n",
      "  File \"/opt/miniconda3/lib/python3.11/site-packages/multiprocess/shared_memory.py\", line 243, in unlink\n",
      "    _posixshmem.shm_unlink(self._name)\n",
      "FileNotFoundError: [Errno 2] No such file or directory: '/psm_c52f9aca'\n",
      "Exception ignored in: <function PropCache.__del__ at 0x117e839c0>\n",
      "Traceback (most recent call last):\n",
      "  File \"/Users/albertsmith/Documents/GitHub/SLEEPY/SLEEPY/Propagator.py\", line 718, in __del__\n",
      "    sm.unlink()\n",
      "  File \"/opt/miniconda3/lib/python3.11/site-packages/multiprocess/shared_memory.py\", line 243, in unlink\n",
      "    _posixshmem.shm_unlink(self._name)\n",
      "FileNotFoundError: [Errno 2] No such file or directory: '/psm_c52f9aca'\n",
      "Exception ignored in: <function PropCache.__del__ at 0x117e839c0>\n",
      "Traceback (most recent call last):\n",
      "  File \"/Users/albertsmith/Documents/GitHub/SLEEPY/SLEEPY/Propagator.py\", line 718, in __del__\n",
      "    sm.unlink()\n",
      "  File \"/opt/miniconda3/lib/python3.11/site-packages/multiprocess/shared_memory.py\", line 243, in unlink\n",
      "    _posixshmem.shm_unlink(self._name)\n",
      "FileNotFoundError: [Errno 2] No such file or directory: '/psm_c52f9aca'\n",
      "Exception ignored in: <function PropCache.__del__ at 0x117e839c0>\n",
      "Traceback (most recent call last):\n",
      "  File \"/Users/albertsmith/Documents/GitHub/SLEEPY/SLEEPY/Propagator.py\", line 718, in __del__\n",
      "    sm.unlink()\n",
      "  File \"/opt/miniconda3/lib/python3.11/site-packages/multiprocess/shared_memory.py\", line 243, in unlink\n",
      "    _posixshmem.shm_unlink(self._name)\n",
      "FileNotFoundError: [Errno 2] No such file or directory: '/psm_c52f9aca'\n",
      "Exception ignored in: <function PropCache.__del__ at 0x117e839c0>\n",
      "Traceback (most recent call last):\n",
      "  File \"/Users/albertsmith/Documents/GitHub/SLEEPY/SLEEPY/Propagator.py\", line 718, in __del__\n",
      "    sm.unlink()\n",
      "  File \"/opt/miniconda3/lib/python3.11/site-packages/multiprocess/shared_memory.py\", line 243, in unlink\n",
      "    _posixshmem.shm_unlink(self._name)\n",
      "FileNotFoundError: [Errno 2] No such file or directory: '/psm_c52f9aca'\n",
      "Exception ignored in: <function PropCache.__del__ at 0x117e839c0>\n",
      "Traceback (most recent call last):\n",
      "  File \"/Users/albertsmith/Documents/GitHub/SLEEPY/SLEEPY/Propagator.py\", line 718, in __del__\n",
      "    sm.unlink()\n",
      "  File \"/opt/miniconda3/lib/python3.11/site-packages/multiprocess/shared_memory.py\", line 243, in unlink\n",
      "    _posixshmem.shm_unlink(self._name)\n",
      "FileNotFoundError: [Errno 2] No such file or directory: '/psm_c52f9aca'\n",
      "Exception ignored in: <function PropCache.__del__ at 0x117e839c0>\n",
      "Traceback (most recent call last):\n",
      "  File \"/Users/albertsmith/Documents/GitHub/SLEEPY/SLEEPY/Propagator.py\", line 718, in __del__\n",
      "    sm.unlink()\n",
      "  File \"/opt/miniconda3/lib/python3.11/site-packages/multiprocess/shared_memory.py\", line 243, in unlink\n",
      "    _posixshmem.shm_unlink(self._name)\n",
      "FileNotFoundError: [Errno 2] No such file or directory: '/psm_c52f9aca'\n",
      "Exception ignored in: <function PropCache.__del__ at 0x117e839c0>\n",
      "Traceback (most recent call last):\n",
      "  File \"/Users/albertsmith/Documents/GitHub/SLEEPY/SLEEPY/Propagator.py\", line 718, in __del__\n",
      "    sm.unlink()\n",
      "  File \"/opt/miniconda3/lib/python3.11/site-packages/multiprocess/shared_memory.py\", line 243, in unlink\n",
      "    _posixshmem.shm_unlink(self._name)\n",
      "FileNotFoundError: [Errno 2] No such file or directory: '/psm_c52f9aca'\n",
      "Exception ignored in: <function PropCache.__del__ at 0x117e839c0>\n",
      "Traceback (most recent call last):\n",
      "  File \"/Users/albertsmith/Documents/GitHub/SLEEPY/SLEEPY/Propagator.py\", line 718, in __del__\n",
      "    sm.unlink()\n",
      "  File \"/opt/miniconda3/lib/python3.11/site-packages/multiprocess/shared_memory.py\", line 243, in unlink\n",
      "    _posixshmem.shm_unlink(self._name)\n",
      "FileNotFoundError: [Errno 2] No such file or directory: '/psm_c52f9aca'\n",
      "Exception ignored in: <function PropCache.__del__ at 0x117e839c0>\n",
      "Traceback (most recent call last):\n",
      "  File \"/Users/albertsmith/Documents/GitHub/SLEEPY/SLEEPY/Propagator.py\", line 718, in __del__\n",
      "    sm.unlink()\n",
      "  File \"/opt/miniconda3/lib/python3.11/site-packages/multiprocess/shared_memory.py\", line 243, in unlink\n",
      "    _posixshmem.shm_unlink(self._name)\n",
      "FileNotFoundError: [Errno 2] No such file or directory: '/psm_c52f9aca'\n",
      "Exception ignored in: <function PropCache.__del__ at 0x117e839c0>\n",
      "Traceback (most recent call last):\n",
      "  File \"/Users/albertsmith/Documents/GitHub/SLEEPY/SLEEPY/Propagator.py\", line 718, in __del__\n",
      "    sm.unlink()\n",
      "  File \"/opt/miniconda3/lib/python3.11/site-packages/multiprocess/shared_memory.py\", line 243, in unlink\n",
      "    _posixshmem.shm_unlink(self._name)\n",
      "FileNotFoundError: [Errno 2] No such file or directory: '/psm_c52f9aca'\n",
      "Exception ignored in: <function PropCache.__del__ at 0x117e839c0>\n",
      "Traceback (most recent call last):\n",
      "  File \"/Users/albertsmith/Documents/GitHub/SLEEPY/SLEEPY/Propagator.py\", line 718, in __del__\n",
      "    sm.unlink()\n",
      "  File \"/opt/miniconda3/lib/python3.11/site-packages/multiprocess/shared_memory.py\", line 243, in unlink\n",
      "    _posixshmem.shm_unlink(self._name)\n",
      "FileNotFoundError: [Errno 2] No such file or directory: '/psm_c52f9aca'\n",
      "Exception ignored in: <function PropCache.__del__ at 0x117e839c0>\n",
      "Traceback (most recent call last):\n",
      "  File \"/Users/albertsmith/Documents/GitHub/SLEEPY/SLEEPY/Propagator.py\", line 718, in __del__\n",
      "    sm.unlink()\n",
      "  File \"/opt/miniconda3/lib/python3.11/site-packages/multiprocess/shared_memory.py\", line 243, in unlink\n",
      "    _posixshmem.shm_unlink(self._name)\n",
      "FileNotFoundError: [Errno 2] No such file or directory: '/psm_c52f9aca'\n",
      "Exception ignored in: <function PropCache.__del__ at 0x117e839c0>\n",
      "Traceback (most recent call last):\n",
      "  File \"/Users/albertsmith/Documents/GitHub/SLEEPY/SLEEPY/Propagator.py\", line 718, in __del__\n",
      "    sm.unlink()\n",
      "  File \"/opt/miniconda3/lib/python3.11/site-packages/multiprocess/shared_memory.py\", line 243, in unlink\n",
      "    _posixshmem.shm_unlink(self._name)\n",
      "FileNotFoundError: [Errno 2] No such file or directory: '/psm_c52f9aca'\n",
      "Exception ignored in: <function PropCache.__del__ at 0x117e839c0>\n",
      "Traceback (most recent call last):\n",
      "  File \"/Users/albertsmith/Documents/GitHub/SLEEPY/SLEEPY/Propagator.py\", line 718, in __del__\n",
      "    sm.unlink()\n",
      "  File \"/opt/miniconda3/lib/python3.11/site-packages/multiprocess/shared_memory.py\", line 243, in unlink\n",
      "    _posixshmem.shm_unlink(self._name)\n",
      "FileNotFoundError: [Errno 2] No such file or directory: '/psm_c52f9aca'\n",
      "Exception ignored in: <function PropCache.__del__ at 0x117e839c0>\n",
      "Traceback (most recent call last):\n",
      "  File \"/Users/albertsmith/Documents/GitHub/SLEEPY/SLEEPY/Propagator.py\", line 718, in __del__\n",
      "    sm.unlink()\n",
      "  File \"/opt/miniconda3/lib/python3.11/site-packages/multiprocess/shared_memory.py\", line 243, in unlink\n",
      "    _posixshmem.shm_unlink(self._name)\n",
      "FileNotFoundError: [Errno 2] No such file or directory: '/psm_c52f9aca'\n",
      "Exception ignored in: <function PropCache.__del__ at 0x117e839c0>\n",
      "Traceback (most recent call last):\n",
      "  File \"/Users/albertsmith/Documents/GitHub/SLEEPY/SLEEPY/Propagator.py\", line 718, in __del__\n",
      "    sm.unlink()\n",
      "  File \"/opt/miniconda3/lib/python3.11/site-packages/multiprocess/shared_memory.py\", line 243, in unlink\n",
      "    _posixshmem.shm_unlink(self._name)\n",
      "FileNotFoundError: [Errno 2] No such file or directory: '/psm_c52f9aca'\n"
     ]
    }
   ],
   "source": [
    "sl.Defaults['cache']=True\n",
    "for parallel in [False,True]:\n",
    "    sl.Defaults['cache']=True\n",
    "    sl.Defaults['parallel']=parallel\n",
    "    t0=time()\n",
    "    delta=sl.Tools.dipole_coupling(1,'e-','13C')    #10 Angstroms from electron\n",
    "    ex=sl.ExpSys(v0H=600,Nucs=['13C','e-'],vr=6000,LF=True,T_K=200,pwdavg=6,n_gamma=30)  #Electron-nuclear system\n",
    "    ex.set_inter('hyperfine',i0=0,i1=1,Axx=-delta/2,Ayy=-delta/2,Azz=delta)\n",
    "    ex.set_inter('g',i=1,gxx=1,gyy=1,gzz=4)\n",
    "    \n",
    "    L=sl.Liouvillian(ex)        #Generate a Liouvillian\n",
    "    \n",
    "    L.add_relax('T1',i=1,T1=2e-8,OS=True,Thermal=True)  \n",
    "    L.add_relax('T2',i=1,T2=2e-8,OS=True)\n",
    "    \n",
    "    seq=L.Sequence() #Generate an empty sequence\n",
    "    \n",
    "    rho200=sl.Rho('13Cx','13Cp')  #Generate initial state, detection operator\n",
    "    _=rho200.DetProp(seq,n=8000,n_per_seq=1) #Propagate the system\n",
    "    \n",
    "    rho200.downmix()\n",
    "    \n",
    "    \n",
    "    print(f'{\"Parallel\" if parallel else \"Series\"} time: {(time()-t0):.1f} s')\n",
    "    print(f'Propagators calculated: {L._PropCache.cache_count[0]}, Propagators from cache: {L._PropCache.cache_count[1]}')\n",
    "    L._PropCache.cache_count[:]=0\n",
    "\n",
    "    t0=time()\n",
    "    rho200.clear().DetProp(seq,n=8000,n_per_seq=1).downmix()\n",
    "    print(f'{\"Parallel\" if parallel else \"Series\"} time after caching: {(time()-t0):.1f} s')\n",
    "    print(f'Propagators calculated: {L._PropCache.cache_count[0]}, Propagators from cache: {L._PropCache.cache_count[1]}')"
   ]
  },
  {
   "cell_type": "code",
   "execution_count": 6,
   "id": "630b0396",
   "metadata": {},
   "outputs": [
    {
     "data": {
      "image/png": "[encoded data removed]",
      "text/plain": [
       "<Figure size 640x480 with 1 Axes>"
      ]
     },
     "metadata": {},
     "output_type": "display_data"
    }
   ],
   "source": [
    "ax=rho200.plot(FT=True,color='maroon') #Plot the results into the same axis\n",
    "ax.set_xlim([1,-.5])\n",
    "ax.set_yticklabels('')\n",
    "_=ax.set_xticks([-1,-.5,0,.5,1])"
   ]
  },
  {
   "cell_type": "markdown",
   "id": "cada361d",
   "metadata": {},
   "source": [
    "## Benchmark 4: Water hopping (4/5/6-spin simulation)"
   ]
  },
  {
   "cell_type": "code",
   "execution_count": 7,
   "id": "a9726365",
   "metadata": {},
   "outputs": [
    {
     "name": "stdout",
     "output_type": "stream",
     "text": [
      "0.1\n",
      "0.1\n",
      "State-space reduction: 256->80\n",
      "Series time: 3.8 s\n",
      "Propagators calculated: 4900, Propagators from cache: 0\n",
      "Series time after caching: 0.7 s\n",
      "Propagators calculated: 0, Propagators from cache: 4900\n",
      "0.0\n",
      "0.1\n",
      "State-space reduction: 256->80\n",
      "Parallel time: 4.4 s\n",
      "Propagators calculated: 4778, Propagators from cache: 0\n",
      "Parallel time after caching: 1.0 s\n",
      "Propagators calculated: 0, Propagators from cache: 4260\n"
     ]
    }
   ],
   "source": [
    "n=3 #Number of 1H (number of spins is n+1)\n",
    "sl.Defaults['cache']=True\n",
    "for parallel in [False,True]:\n",
    "    sl.Defaults['parallel']=parallel\n",
    "    t0=time()\n",
    "\n",
    "    # CH couplings\n",
    "    delta=np.array([4606.92351485, 1797.74007351, 3013.38969601, 1109.64922884,\n",
    "       2016.55071255,  985.46533497])\n",
    "    beta=np.array([1.52269289, 1.32442461, 1.72911212, 2.00710785, 0.79886871,\n",
    "       2.50129217])\n",
    "    gamma=np.array([ 0.90747836,  1.24462096, -1.94198315, -2.26840075, -0.28942014,\n",
    "       -0.97775707])\n",
    "\n",
    "    # HH couplings\n",
    "    deltaHH=np.array([[240240.30545617,  61146.36447292,   1970.3813349 ,\n",
    "          1155.61145146,   6094.10132617,   1985.91135194],\n",
    "       [ 61146.36447292, 240240.30545617,   1794.04721071,\n",
    "          1006.48333044,   5846.61932559,   2152.90241365],\n",
    "       [  1970.3813349 ,   1794.04721071, 240240.30545617,\n",
    "         61145.15653655,   2294.80686596,   7166.863992  ],\n",
    "       [  1155.61145146,   1006.48333044,  61145.15653655,\n",
    "        240240.30545617,   2580.00271199,   6890.73630547],\n",
    "       [  6094.10132617,   5846.61932559,   2294.80686596,\n",
    "          2580.00271199, 240240.30545617,  61343.71356863],\n",
    "       [  1985.91135194,   2152.90241365,   7166.863992  ,\n",
    "          6890.73630547,  61343.71356863, 240240.30545617]])\n",
    "    betaHH=np.array([[1.57079633, 2.42558372, 1.29852807, 1.13067005, 2.41964498, 2.4303553 ],\n",
    "       [0.71600894, 1.57079633, 1.05488134, 0.9288108 , 1.97712181, 2.13051745],\n",
    "       [1.84306458, 2.08671132, 1.57079633, 0.71601651, 0.67347314, 0.68760657],\n",
    "       [2.0109226 , 2.21278185, 2.42557615, 1.57079633, 0.98826407, 1.16112572],\n",
    "       [0.72194768, 1.16447084, 2.46811952, 2.15332858, 1.57079633, 2.42864234],\n",
    "       [0.71123735, 1.01107521, 2.45398609, 1.98046694, 0.71295032, 1.57079633]])\n",
    "    gammaHH=np.array([[ 0.00000000e+00, -1.04923238e+00,  1.05757029e+00,\n",
    "8.88208378e-01,  1.51992907e+00,  1.40024175e+00],\n",
    "       [ 2.09236028e+00,  0.00000000e+00, -1.14726745e+00,\n",
    "        -9.56226609e-01,  1.69785967e+00,  1.56297278e+00],\n",
    "       [-2.08402236e+00,  1.99432521e+00,  0.00000000e+00,\n",
    "        -2.04361472e-03, -2.43231532e+00, -2.64270770e+00],\n",
    "       [-2.25338428e+00,  2.18536604e+00,  3.13954904e+00,\n",
    "         0.00000000e+00, -2.61192428e+00, -2.80947505e+00],\n",
    "       [-1.62166358e+00, -1.44373298e+00,  7.09277331e-01,\n",
    "         5.29668373e-01,  0.00000000e+00,  1.13672151e+00],\n",
    "       [-1.74135091e+00, -1.57861987e+00,  4.98884952e-01,\n",
    "         3.32117606e-01, -2.00487114e+00,  0.00000000e+00]])\n",
    "\n",
    "    # 13C CSA\n",
    "    deltaCSA=15.983465288047174\n",
    "    etaCSA=-0.10233422812456781\n",
    "    alphaCSA=-1.1674898472001762\n",
    "    betaCSA=0.914512792179852\n",
    "    gammaCSA=-1.312316331380307\n",
    "\n",
    "    # 1H CS/CSA\n",
    "    HCS=np.array([22.99922011, 24.97644825, 24.97644846, 22.99921996, 24.52192647, 23.98644806])\n",
    "\n",
    "    deltaHCSA=np.array([17.60332199, 15.80323671, 15.97227992, 18.56681946, 16.48042676, 16.77075626])\n",
    "    etaHCSA=np.array([-0.10418638, -0.10503486, -0.08225994, -0.14162113, -0.18843222, -0.11487855])\n",
    "    alphaHCSA=np.array([-2.12485296, -2.14137643,  0.91297352, -0.55202972,  2.27784746, -0.91270437])\n",
    "    betaHCSA=np.array([0.93737428, 2.23403156, 2.228757  , 2.17804567, 2.26820148, 0.96358604])\n",
    "    gammaHCSA=np.array([ 1.25827576, -0.2144375 , -2.31668105,  2.28178711,  0.17926152, -1.23977268])\n",
    "\n",
    "    ex=sl.ExpSys(v0H=400,Nucs=['13C',*['1H' for _ in range(n)]],vr=5000,pwdavg=sl.PowderAvg(q=2))\n",
    "    ex.set_inter('CSA',i=0,delta=deltaCSA,eta=etaCSA,euler=[alphaCSA,betaCSA,gammaCSA])\n",
    "    for k in range(n):\n",
    "        ex.set_inter('dipole',i0=0,i1=k+1,delta=delta[k],euler=[0,beta[k],gamma[k]])\n",
    "        ex.set_inter('CSA',i=k+1,delta=deltaHCSA[k],euler=[alphaHCSA[k],betaHCSA[k],gammaHCSA[k]])\n",
    "        ex.set_inter('CS',i=k+1,ppm=HCS[k])\n",
    "        for m in range(k+1,n):\n",
    "            ex.set_inter('dipole',i0=k+1,i1=m+1,delta=deltaHH[k,m],euler=[0,betaHH[k,m],gammaHH[k,m]])\n",
    "\n",
    "    L=ex.Liouvillian()\n",
    "\n",
    "    L.add_SpinEx(i=[1,2],tc=1e-4)\n",
    "    if n>3:\n",
    "        L.add_SpinEx(i=[3,4],tc=1e-4)\n",
    "    print(f'{(time()-t0):.1f}')\n",
    "    for i in range(n):\n",
    "        L.add_relax(Type='SpinDiffusion',i=i+1,k=0)\n",
    "    print(f'{(time()-t0):.1f}')\n",
    "    seq=L.Sequence().add_channel('13C',v1=22000)\n",
    "\n",
    "    rho=sl.Rho(rho0='13Cx',detect='13Cx')\n",
    "    rho,seq=rho.ReducedSetup(seq)\n",
    "    rho.DetProp(seq,n=500)\n",
    "\n",
    "    print(f'{\"Parallel\" if parallel else \"Series\"} time: {(time()-t0):.1f} s')\n",
    "    print(f'Propagators calculated: {rho.L._PropCache.cache_count[0]}, Propagators from cache: {rho.L._PropCache.cache_count[1]}')\n",
    "    rho.L._PropCache.cache_count[:]=0\n",
    "    t0=time()\n",
    "    rho.DetProp(seq,n=500)\n",
    "    print(f'{\"Parallel\" if parallel else \"Series\"} time after caching: {(time()-t0):.1f} s')\n",
    "    print(f'Propagators calculated: {rho.L._PropCache.cache_count[0]}, Propagators from cache: {rho.L._PropCache.cache_count[1]}')"
   ]
  },
  {
   "cell_type": "code",
   "execution_count": 8,
   "id": "e7db1763-7fc8-46e0-ab57-447c0c2ceeac",
   "metadata": {},
   "outputs": [
    {
     "data": {
      "text/plain": [
       "<Axes: xlabel='t / ms', ylabel='<$^{13}C_x$>'>"
      ]
     },
     "execution_count": 8,
     "metadata": {},
     "output_type": "execute_result"
    },
    {
     "data": {
      "image/png": "[encoded data removed]",
      "text/plain": [
       "<Figure size 640x480 with 1 Axes>"
      ]
     },
     "metadata": {},
     "output_type": "display_data"
    }
   ],
   "source": [
    "rho.plot()"
   ]
  },
  {
   "cell_type": "code",
   "execution_count": null,
   "id": "91c53a01-a147-454f-908d-0e42702d0192",
   "metadata": {},
   "outputs": [],
   "source": []
  }
 ],
 "metadata": {
  "kernelspec": {
   "display_name": "Python 3 (ipykernel)",
   "language": "python",
   "name": "python3"
  },
  "language_info": {
   "codemirror_mode": {
    "name": "ipython",
    "version": 3
   },
   "file_extension": ".py",
   "mimetype": "text/x-python",
   "name": "python",
   "nbconvert_exporter": "python",
   "pygments_lexer": "ipython3",
   "version": "3.11.13"
  }
 },
 "nbformat": 4,
 "nbformat_minor": 5
}
