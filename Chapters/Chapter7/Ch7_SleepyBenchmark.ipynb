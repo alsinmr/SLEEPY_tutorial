{
 "cells": [
  {
   "cell_type": "markdown",
   "id": "de8e8ac5",
   "metadata": {},
   "source": [
    "# <font  color = \"#B00000\">SLEEPY Benchmark</font>"
   ]
  },
  {
   "cell_type": "markdown",
   "id": "ee11d31d",
   "metadata": {},
   "source": [
    "The following notebook is for comparing SLEEPY performance among different systems. We run each simulation with and without parallel usage to determine additionally where parallel processing improves behavior. Plotting is not counted in computational time."
   ]
  },
  {
   "cell_type": "code",
   "execution_count": 1,
   "id": "e96d828a",
   "metadata": {},
   "outputs": [],
   "source": [
    "# SETUP SLEEPY\n",
    "import os\n",
    "os.chdir('../../../')\n",
    "import SLEEPY as sl\n",
    "from time import time\n",
    "import numpy as np"
   ]
  },
  {
   "cell_type": "code",
   "execution_count": 2,
   "id": "8dc1b315",
   "metadata": {},
   "outputs": [],
   "source": [
    "\n",
    "import scipy as sp\n",
    "import multiprocessing as mp\n",
    "import matplotlib.pyplot as plt\n",
    "import subprocess\n",
    "import sys"
   ]
  },
  {
   "cell_type": "markdown",
   "id": "8a2cf97e",
   "metadata": {},
   "source": [
    "## Versions"
   ]
  },
  {
   "cell_type": "code",
   "execution_count": 3,
   "id": "e88e1006",
   "metadata": {},
   "outputs": [
    {
     "name": "stdout",
     "output_type": "stream",
     "text": [
      "Python: 3.7.3\n",
      "Numpy: 1.19.2\n",
      "Scipy: 1.5.2\n",
      "Multiprocessing: 0.70.11.1\n"
     ]
    }
   ],
   "source": [
    "print(f'Python: {sys.version.split(\" (\")[0]}')\n",
    "print(f'Numpy: {np.version.version}')\n",
    "print(f'Scipy: {sp.version.version}')\n",
    "result = subprocess.run(['pip','show','multiprocess'], stdout=subprocess.PIPE)\n",
    "vs=result.stdout.decode().split('Version: ')[1].split('Summary')[0].strip()\n",
    "print(f'Multiprocessing: {vs}')"
   ]
  },
  {
   "cell_type": "markdown",
   "id": "a0fe1ced",
   "metadata": {},
   "source": [
    "## Benchmark 1: $R_{1\\rho}$ relaxation"
   ]
  },
  {
   "cell_type": "code",
   "execution_count": 3,
   "id": "c3e1fbf4",
   "metadata": {},
   "outputs": [
    {
     "name": "stdout",
     "output_type": "stream",
     "text": [
      "State-space reduction: 32->16\n",
      "Series time: 506 ms\n",
      "State-space reduction: 32->16\n",
      "Parallel time: 300 ms\n"
     ]
    },
    {
     "data": {
      "text/plain": [
       "<AxesSubplot:xlabel='t / ms', ylabel='<$^{15}N_x$>'>"
      ]
     },
     "execution_count": 3,
     "metadata": {},
     "output_type": "execute_result"
    },
    {
     "data": {
      "image/png": "[encoded data removed]",
      "text/plain": [
       "<Figure size 432x288 with 1 Axes>"
      ]
     },
     "metadata": {
      "needs_background": "light"
     },
     "output_type": "display_data"
    }
   ],
   "source": [
    "sl.Defaults['cache']=True\n",
    "for parallel in [False,True]:\n",
    "    sl.Defaults['parallel']=parallel\n",
    "    t0=time()\n",
    "    ex0=sl.ExpSys(600,Nucs=['15N','1H'],vr=60000,pwdavg=2,n_gamma=30)\n",
    "    ex0.set_inter('dipole',i0=0,i1=1,delta=22000)\n",
    "    ex0.set_inter('CSA',i=0,delta=110,euler=[0,15,0])\n",
    "    ex1=ex0.copy()\n",
    "    ex0.set_inter('dipole',i0=0,i1=1,delta=22000,euler=[0,30,0])\n",
    "    ex0.set_inter('CSA',i=0,delta=110,euler=[[0,15,0],[0,30,0]])\n",
    "    \n",
    "    L=sl.Liouvillian(ex0,ex1,kex=sl.Tools.twoSite_kex(1e-6))\n",
    "    seq=L.Sequence().add_channel('15N',v1=35000)\n",
    "    rho=sl.Rho(rho0='15Nx',detect='15Nx')\n",
    "    rho.DetProp(seq,n=1000)\n",
    "    print(f'{\"Parallel\" if parallel else \"Series\"} time: {(time()-t0)*1e3:.0f} ms')\n",
    "rho.plot()"
   ]
  },
  {
   "cell_type": "markdown",
   "id": "8054c92a",
   "metadata": {},
   "source": [
    "## Benchmark 2: REDOR"
   ]
  },
  {
   "cell_type": "code",
   "execution_count": 2,
   "id": "0995eddf",
   "metadata": {},
   "outputs": [
    {
     "name": "stdout",
     "output_type": "stream",
     "text": [
      "Series time: 27.5 s\n",
      "Parallel time: 59.9 s\n"
     ]
    }
   ],
   "source": [
    "sl.Defaults['cache']=True\n",
    "for parallel in [False,True]:\n",
    "    sl.Defaults['parallel']=parallel    \n",
    "    t0=time()\n",
    "    ex0=sl.ExpSys(v0H=600,Nucs=['15N','1H'],vr=60000,pwdavg=sl.PowderAvg('bcr20'),n_gamma=30)\n",
    "    # After varying the powder average and n_gamma\n",
    "    # a beta-average and 30 gamma angles were determined to be sufficient\n",
    "    delta=sl.Tools.dipole_coupling(.102,'15N','1H')\n",
    "    phi=35*np.pi/180\n",
    "\n",
    "    ex0.set_inter('dipole',i0=0,i1=1,delta=delta)\n",
    "    L=sl.Tools.Setup3siteSym(ex0,tc=1e-9,phi=phi)\n",
    "    \n",
    "    v1=120e3 #100 kHz pulse\n",
    "    tp=1/v1/2 #pi/2 pulse length\n",
    "\n",
    "    t=[0,L.taur/2-tp,L.taur/2,L.taur-tp,L.taur]\n",
    "    first=L.Sequence().add_channel('1H',t=t,v1=[0,v1,0,v1],phase=[0,0,0,np.pi/2,0])\n",
    "    t=[0,tp,L.taur/2,L.taur/2+tp,L.taur]\n",
    "    second=L.Sequence().add_channel('1H',t=t,v1=[v1,0,v1,0],phase=[np.pi/2,0,0,0,0])\n",
    "    center=L.Sequence().add_channel('15N',t=[0,L.taur/2-tp/2,L.taur/2+tp/2,L.taur],\n",
    "                                   v1=[0,v1,0])\n",
    "\n",
    "    Ucenter=center.U()\n",
    "    Ufirst=first.U()\n",
    "    Usecond=second.U()\n",
    "\n",
    "    rho=sl.Rho('15Nx','15Nx')\n",
    "    U1=L.Ueye()\n",
    "    U2=L.Ueye()\n",
    "\n",
    "\n",
    "    for k in range(48):\n",
    "        rho.reset()\n",
    "        (U2*Ucenter*U1*rho)()\n",
    "        U1=Ufirst*U1\n",
    "        U2=Usecond*U2\n",
    "    print(f'{\"Parallel\" if parallel else \"Series\"} time: {(time()-t0):.1f} s')"
   ]
  },
  {
   "cell_type": "code",
   "execution_count": 10,
   "id": "bc36544a",
   "metadata": {},
   "outputs": [
    {
     "data": {
      "text/plain": [
       "<AxesSubplot:xlabel='t / ms', ylabel='<$^{15}N_x$>'>"
      ]
     },
     "execution_count": 10,
     "metadata": {},
     "output_type": "execute_result"
    },
    {
     "data": {
      "image/png": "[encoded data removed]",
      "text/plain": [
       "<Figure size 432x288 with 1 Axes>"
      ]
     },
     "metadata": {
      "needs_background": "light"
     },
     "output_type": "display_data"
    }
   ],
   "source": [
    "rho.plot()"
   ]
  },
  {
   "cell_type": "markdown",
   "id": "23f94560",
   "metadata": {},
   "source": [
    "## Benchmark 3: Pseudocontact shift under MAS"
   ]
  },
  {
   "cell_type": "code",
   "execution_count": 4,
   "id": "3394d965",
   "metadata": {},
   "outputs": [
    {
     "name": "stdout",
     "output_type": "stream",
     "text": [
      "Series time: 20.5 s\n"
     ]
    }
   ],
   "source": [
    "sl.Defaults['cache']=True\n",
    "sl.Defaults['parallel']=False    \n",
    "t0=time()\n",
    "delta=sl.Tools.dipole_coupling(1,'e-','13C')    #10 Angstroms from electron\n",
    "ex=sl.ExpSys(v0H=600,Nucs=['13C','e-'],vr=6000,LF=True,T_K=200,pwdavg=6,n_gamma=30)  #Electron-nuclear system\n",
    "ex.set_inter('hyperfine',i0=0,i1=1,Axx=-delta/2,Ayy=-delta/2,Azz=delta)\n",
    "ex.set_inter('g',i=1,gxx=1,gyy=1,gzz=4)\n",
    "\n",
    "L=sl.Liouvillian(ex)        #Generate a Liouvillian\n",
    "\n",
    "L.add_relax('T1',i=1,T1=2e-8,OS=True,Thermal=True)  \n",
    "L.add_relax('T2',i=1,T2=2e-8,OS=True)\n",
    "\n",
    "seq=L.Sequence() #Generate an empty sequence\n",
    "\n",
    "rho200=sl.Rho('13Cx','13Cp')  #Generate initial state, detection operator\n",
    "_=rho200.DetProp(seq,n=8000,n_per_seq=1) #Propagate the system\n",
    "\n",
    "rho200.downmix()\n",
    "\n",
    "\n",
    "print(f'Series time: {(time()-t0):.1f} s')"
   ]
  },
  {
   "cell_type": "code",
   "execution_count": 6,
   "id": "3ae6a5a4",
   "metadata": {},
   "outputs": [
    {
     "data": {
      "text/plain": [
       "(16, 16)"
      ]
     },
     "execution_count": 6,
     "metadata": {},
     "output_type": "execute_result"
    }
   ],
   "source": [
    "L.shape"
   ]
  },
  {
   "cell_type": "code",
   "execution_count": 11,
   "id": "630b0396",
   "metadata": {},
   "outputs": [
    {
     "data": {
      "text/plain": [
       "[<matplotlib.axis.XTick at 0x7fad506b7080>,\n",
       " <matplotlib.axis.XTick at 0x7fadbaf47a58>,\n",
       " <matplotlib.axis.XTick at 0x7fadbaf476a0>,\n",
       " <matplotlib.axis.XTick at 0x7fad506e07b8>,\n",
       " <matplotlib.axis.XTick at 0x7fad506d9748>]"
      ]
     },
     "execution_count": 11,
     "metadata": {},
     "output_type": "execute_result"
    },
    {
     "data": {
      "image/png": "[encoded data removed]",
      "text/plain": [
       "<Figure size 432x288 with 1 Axes>"
      ]
     },
     "metadata": {
      "needs_background": "light"
     },
     "output_type": "display_data"
    }
   ],
   "source": [
    "ax=rho200.plot(FT=True,color='maroon') #Plot the results into the same axis\n",
    "_=ax.set_xlim([1,-.5])\n",
    "ax.set_yticklabels('')\n",
    "ax.set_xticks([-1,-.5,0,.5,1])"
   ]
  },
  {
   "cell_type": "code",
   "execution_count": 12,
   "id": "294f340a",
   "metadata": {},
   "outputs": [
    {
     "name": "stdout",
     "output_type": "stream",
     "text": [
      "(16, 16)\n"
     ]
    }
   ],
   "source": [
    "print(L.shape)"
   ]
  },
  {
   "cell_type": "markdown",
   "id": "cada361d",
   "metadata": {},
   "source": [
    "## Benchmark 4: Water hopping (5/6-spin simulation)"
   ]
  },
  {
   "cell_type": "code",
   "execution_count": 3,
   "id": "a9726365",
   "metadata": {},
   "outputs": [
    {
     "name": "stdout",
     "output_type": "stream",
     "text": [
      "69.1\n",
      "104.4\n",
      "State-space reduction: 4096->1008\n"
     ]
    },
    {
     "name": "stderr",
     "output_type": "stream",
     "text": [
      "Process ForkPoolWorker-10:\n",
      "Process ForkPoolWorker-4:\n",
      "Traceback (most recent call last):\n",
      "Process ForkPoolWorker-2:\n",
      "  File \"/Users/albertsmith/anaconda3/lib/python3.7/multiprocessing/process.py\", line 297, in _bootstrap\n",
      "    self.run()\n",
      "  File \"/Users/albertsmith/anaconda3/lib/python3.7/multiprocessing/process.py\", line 99, in run\n",
      "    self._target(*self._args, **self._kwargs)\n",
      "  File \"/Users/albertsmith/anaconda3/lib/python3.7/multiprocessing/pool.py\", line 121, in worker\n",
      "    result = (True, func(*args, **kwds))\n",
      "Process ForkPoolWorker-9:\n",
      "  File \"/Users/albertsmith/anaconda3/lib/python3.7/multiprocessing/pool.py\", line 44, in mapstar\n",
      "    return list(map(*args))\n",
      "  File \"/Users/albertsmith/Documents/GitHub/SLEEPY/SLEEPY/Para.py\", line 216, in prop\n",
      "    U0=expm(L*dt)\n",
      "  File \"/Users/albertsmith/anaconda3/lib/python3.7/site-packages/scipy/linalg/matfuncs.py\", line 255, in expm\n",
      "    return scipy.sparse.linalg.expm(A)\n",
      "Traceback (most recent call last):\n",
      "  File \"/Users/albertsmith/anaconda3/lib/python3.7/site-packages/scipy/sparse/linalg/matfuncs.py\", line 592, in expm\n",
      "    return _expm(A, use_exact_onenorm='auto')\n",
      "Traceback (most recent call last):\n",
      "  File \"/Users/albertsmith/anaconda3/lib/python3.7/site-packages/scipy/sparse/linalg/matfuncs.py\", line 657, in _expm\n",
      "    if eta_3 < 2.097847961257068e+000 and _ell(h.A, 9) == 0:\n",
      "  File \"/Users/albertsmith/anaconda3/lib/python3.7/site-packages/scipy/sparse/linalg/matfuncs.py\", line 851, in _ell\n",
      "    A_abs_onenorm = _onenorm_matrix_power_nnm(abs(A), 2*m + 1)\n",
      "  File \"/Users/albertsmith/anaconda3/lib/python3.7/multiprocessing/process.py\", line 297, in _bootstrap\n",
      "    self.run()\n",
      "  File \"/Users/albertsmith/anaconda3/lib/python3.7/site-packages/scipy/sparse/linalg/matfuncs.py\", line 111, in _onenorm_matrix_power_nnm\n",
      "    v = M.dot(v)\n",
      "  File \"/Users/albertsmith/anaconda3/lib/python3.7/multiprocessing/process.py\", line 297, in _bootstrap\n",
      "    self.run()\n",
      "KeyboardInterrupt\n",
      "Traceback (most recent call last):\n",
      "  File \"/Users/albertsmith/anaconda3/lib/python3.7/multiprocessing/process.py\", line 99, in run\n",
      "    self._target(*self._args, **self._kwargs)\n",
      "  File \"/Users/albertsmith/anaconda3/lib/python3.7/multiprocessing/process.py\", line 99, in run\n",
      "    self._target(*self._args, **self._kwargs)\n",
      "  File \"/Users/albertsmith/anaconda3/lib/python3.7/multiprocessing/pool.py\", line 121, in worker\n",
      "    result = (True, func(*args, **kwds))\n",
      "  File \"/Users/albertsmith/anaconda3/lib/python3.7/multiprocessing/process.py\", line 297, in _bootstrap\n",
      "    self.run()\n",
      "  File \"/Users/albertsmith/anaconda3/lib/python3.7/multiprocessing/pool.py\", line 121, in worker\n",
      "    result = (True, func(*args, **kwds))\n",
      "Process ForkPoolWorker-12:\n",
      "  File \"/Users/albertsmith/anaconda3/lib/python3.7/multiprocessing/pool.py\", line 44, in mapstar\n",
      "    return list(map(*args))\n",
      "  File \"/Users/albertsmith/anaconda3/lib/python3.7/multiprocessing/process.py\", line 99, in run\n",
      "    self._target(*self._args, **self._kwargs)\n",
      "  File \"/Users/albertsmith/anaconda3/lib/python3.7/multiprocessing/pool.py\", line 44, in mapstar\n",
      "    return list(map(*args))\n",
      "  File \"/Users/albertsmith/Documents/GitHub/SLEEPY/SLEEPY/Para.py\", line 216, in prop\n",
      "    U0=expm(L*dt)\n",
      "  File \"/Users/albertsmith/Documents/GitHub/SLEEPY/SLEEPY/Para.py\", line 216, in prop\n",
      "    U0=expm(L*dt)\n",
      "  File \"/Users/albertsmith/anaconda3/lib/python3.7/multiprocessing/pool.py\", line 121, in worker\n",
      "    result = (True, func(*args, **kwds))\n",
      "  File \"/Users/albertsmith/anaconda3/lib/python3.7/site-packages/scipy/linalg/matfuncs.py\", line 255, in expm\n",
      "    return scipy.sparse.linalg.expm(A)\n",
      "  File \"/Users/albertsmith/anaconda3/lib/python3.7/multiprocessing/pool.py\", line 44, in mapstar\n",
      "    return list(map(*args))\n",
      "  File \"/Users/albertsmith/anaconda3/lib/python3.7/site-packages/scipy/linalg/matfuncs.py\", line 255, in expm\n",
      "    return scipy.sparse.linalg.expm(A)\n",
      "  File \"/Users/albertsmith/anaconda3/lib/python3.7/site-packages/scipy/sparse/linalg/matfuncs.py\", line 592, in expm\n",
      "    return _expm(A, use_exact_onenorm='auto')\n",
      "Process ForkPoolWorker-6:\n",
      "  File \"/Users/albertsmith/Documents/GitHub/SLEEPY/SLEEPY/Para.py\", line 216, in prop\n",
      "    U0=expm(L*dt)\n",
      "  File \"/Users/albertsmith/anaconda3/lib/python3.7/site-packages/scipy/sparse/linalg/matfuncs.py\", line 592, in expm\n",
      "    return _expm(A, use_exact_onenorm='auto')\n",
      "  File \"/Users/albertsmith/anaconda3/lib/python3.7/site-packages/scipy/sparse/linalg/matfuncs.py\", line 655, in _expm\n",
      "    U, V = h.pade7()\n",
      "  File \"/Users/albertsmith/anaconda3/lib/python3.7/site-packages/scipy/linalg/matfuncs.py\", line 255, in expm\n",
      "    return scipy.sparse.linalg.expm(A)\n",
      "  File \"/Users/albertsmith/anaconda3/lib/python3.7/site-packages/scipy/sparse/linalg/matfuncs.py\", line 655, in _expm\n",
      "    U, V = h.pade7()\n",
      "  File \"/Users/albertsmith/anaconda3/lib/python3.7/site-packages/scipy/sparse/linalg/matfuncs.py\", line 508, in pade7\n",
      "    b[7]*self.A6 + b[5]*self.A4 + b[3]*self.A2 + b[1]*self.ident,\n",
      "  File \"/Users/albertsmith/anaconda3/lib/python3.7/site-packages/scipy/sparse/linalg/matfuncs.py\", line 592, in expm\n",
      "    return _expm(A, use_exact_onenorm='auto')\n",
      "  File \"/Users/albertsmith/anaconda3/lib/python3.7/site-packages/scipy/sparse/linalg/matfuncs.py\", line 508, in pade7\n",
      "    b[7]*self.A6 + b[5]*self.A4 + b[3]*self.A2 + b[1]*self.ident,\n",
      "KeyboardInterrupt\n",
      "  File \"/Users/albertsmith/anaconda3/lib/python3.7/site-packages/scipy/sparse/linalg/matfuncs.py\", line 655, in _expm\n",
      "    U, V = h.pade7()\n",
      "Traceback (most recent call last):\n",
      "KeyboardInterrupt\n",
      "  File \"/Users/albertsmith/anaconda3/lib/python3.7/site-packages/scipy/sparse/linalg/matfuncs.py\", line 508, in pade7\n",
      "    b[7]*self.A6 + b[5]*self.A4 + b[3]*self.A2 + b[1]*self.ident,\n",
      "  File \"/Users/albertsmith/anaconda3/lib/python3.7/multiprocessing/process.py\", line 297, in _bootstrap\n",
      "    self.run()\n",
      "KeyboardInterrupt\n",
      "Traceback (most recent call last):\n",
      "  File \"/Users/albertsmith/anaconda3/lib/python3.7/multiprocessing/process.py\", line 99, in run\n",
      "    self._target(*self._args, **self._kwargs)\n",
      "  File \"/Users/albertsmith/anaconda3/lib/python3.7/multiprocessing/process.py\", line 297, in _bootstrap\n",
      "    self.run()\n",
      "  File \"/Users/albertsmith/anaconda3/lib/python3.7/multiprocessing/pool.py\", line 121, in worker\n",
      "    result = (True, func(*args, **kwds))\n",
      "  File \"/Users/albertsmith/anaconda3/lib/python3.7/multiprocessing/process.py\", line 99, in run\n",
      "    self._target(*self._args, **self._kwargs)\n",
      "  File \"/Users/albertsmith/anaconda3/lib/python3.7/multiprocessing/pool.py\", line 44, in mapstar\n",
      "    return list(map(*args))\n",
      "  File \"/Users/albertsmith/anaconda3/lib/python3.7/multiprocessing/pool.py\", line 121, in worker\n",
      "    result = (True, func(*args, **kwds))\n",
      "  File \"/Users/albertsmith/Documents/GitHub/SLEEPY/SLEEPY/Para.py\", line 216, in prop\n",
      "    U0=expm(L*dt)\n",
      "  File \"/Users/albertsmith/anaconda3/lib/python3.7/multiprocessing/pool.py\", line 44, in mapstar\n",
      "    return list(map(*args))\n",
      "  File \"/Users/albertsmith/anaconda3/lib/python3.7/site-packages/scipy/linalg/matfuncs.py\", line 255, in expm\n",
      "    return scipy.sparse.linalg.expm(A)\n",
      "  File \"/Users/albertsmith/anaconda3/lib/python3.7/site-packages/scipy/sparse/linalg/matfuncs.py\", line 592, in expm\n",
      "    return _expm(A, use_exact_onenorm='auto')\n",
      "  File \"/Users/albertsmith/Documents/GitHub/SLEEPY/SLEEPY/Para.py\", line 216, in prop\n",
      "    U0=expm(L*dt)\n",
      "  File \"/Users/albertsmith/anaconda3/lib/python3.7/site-packages/scipy/sparse/linalg/matfuncs.py\", line 655, in _expm\n",
      "    U, V = h.pade7()\n",
      "  File \"/Users/albertsmith/anaconda3/lib/python3.7/site-packages/scipy/linalg/matfuncs.py\", line 255, in expm\n",
      "    return scipy.sparse.linalg.expm(A)\n",
      "  File \"/Users/albertsmith/anaconda3/lib/python3.7/site-packages/scipy/sparse/linalg/matfuncs.py\", line 592, in expm\n",
      "    return _expm(A, use_exact_onenorm='auto')\n",
      "  File \"/Users/albertsmith/anaconda3/lib/python3.7/site-packages/scipy/sparse/linalg/matfuncs.py\", line 508, in pade7\n",
      "    b[7]*self.A6 + b[5]*self.A4 + b[3]*self.A2 + b[1]*self.ident,\n",
      "Process ForkPoolWorker-11:\n",
      "KeyboardInterrupt\n",
      "  File \"/Users/albertsmith/anaconda3/lib/python3.7/site-packages/scipy/sparse/linalg/matfuncs.py\", line 655, in _expm\n",
      "    U, V = h.pade7()\n",
      "  File \"/Users/albertsmith/anaconda3/lib/python3.7/site-packages/scipy/sparse/linalg/matfuncs.py\", line 508, in pade7\n",
      "    b[7]*self.A6 + b[5]*self.A4 + b[3]*self.A2 + b[1]*self.ident,\n"
     ]
    },
    {
     "name": "stderr",
     "output_type": "stream",
     "text": [
      "KeyboardInterrupt\n",
      "Traceback (most recent call last):\n",
      "  File \"/Users/albertsmith/anaconda3/lib/python3.7/multiprocessing/process.py\", line 297, in _bootstrap\n",
      "    self.run()\n",
      "  File \"/Users/albertsmith/anaconda3/lib/python3.7/multiprocessing/process.py\", line 99, in run\n",
      "    self._target(*self._args, **self._kwargs)\n",
      "  File \"/Users/albertsmith/anaconda3/lib/python3.7/multiprocessing/pool.py\", line 121, in worker\n",
      "    result = (True, func(*args, **kwds))\n",
      "  File \"/Users/albertsmith/anaconda3/lib/python3.7/multiprocessing/pool.py\", line 44, in mapstar\n",
      "    return list(map(*args))\n",
      "  File \"/Users/albertsmith/Documents/GitHub/SLEEPY/SLEEPY/Para.py\", line 216, in prop\n",
      "    U0=expm(L*dt)\n",
      "  File \"/Users/albertsmith/anaconda3/lib/python3.7/site-packages/scipy/linalg/matfuncs.py\", line 255, in expm\n",
      "    return scipy.sparse.linalg.expm(A)\n",
      "  File \"/Users/albertsmith/anaconda3/lib/python3.7/site-packages/scipy/sparse/linalg/matfuncs.py\", line 592, in expm\n",
      "    return _expm(A, use_exact_onenorm='auto')\n",
      "  File \"/Users/albertsmith/anaconda3/lib/python3.7/site-packages/scipy/sparse/linalg/matfuncs.py\", line 655, in _expm\n",
      "    U, V = h.pade7()\n",
      "  File \"/Users/albertsmith/anaconda3/lib/python3.7/site-packages/scipy/sparse/linalg/matfuncs.py\", line 508, in pade7\n",
      "    b[7]*self.A6 + b[5]*self.A4 + b[3]*self.A2 + b[1]*self.ident,\n",
      "KeyboardInterrupt\n",
      "Process ForkPoolWorker-8:\n",
      "Traceback (most recent call last):\n",
      "  File \"/Users/albertsmith/anaconda3/lib/python3.7/multiprocessing/process.py\", line 297, in _bootstrap\n",
      "    self.run()\n",
      "Process ForkPoolWorker-7:\n",
      "  File \"/Users/albertsmith/anaconda3/lib/python3.7/multiprocessing/process.py\", line 99, in run\n",
      "    self._target(*self._args, **self._kwargs)\n",
      "  File \"/Users/albertsmith/anaconda3/lib/python3.7/multiprocessing/pool.py\", line 121, in worker\n",
      "    result = (True, func(*args, **kwds))\n",
      "  File \"/Users/albertsmith/anaconda3/lib/python3.7/multiprocessing/pool.py\", line 44, in mapstar\n",
      "    return list(map(*args))\n",
      "  File \"/Users/albertsmith/Documents/GitHub/SLEEPY/SLEEPY/Para.py\", line 216, in prop\n",
      "    U0=expm(L*dt)\n",
      "  File \"/Users/albertsmith/anaconda3/lib/python3.7/site-packages/scipy/linalg/matfuncs.py\", line 255, in expm\n",
      "    return scipy.sparse.linalg.expm(A)\n",
      "Traceback (most recent call last):\n",
      "  File \"/Users/albertsmith/anaconda3/lib/python3.7/site-packages/scipy/sparse/linalg/matfuncs.py\", line 592, in expm\n",
      "    return _expm(A, use_exact_onenorm='auto')\n",
      "  File \"/Users/albertsmith/anaconda3/lib/python3.7/multiprocessing/process.py\", line 297, in _bootstrap\n",
      "    self.run()\n",
      "  File \"/Users/albertsmith/anaconda3/lib/python3.7/site-packages/scipy/sparse/linalg/matfuncs.py\", line 658, in _expm\n",
      "    U, V = h.pade9()\n",
      "  File \"/Users/albertsmith/anaconda3/lib/python3.7/multiprocessing/process.py\", line 99, in run\n",
      "    self._target(*self._args, **self._kwargs)\n",
      "  File \"/Users/albertsmith/anaconda3/lib/python3.7/site-packages/scipy/sparse/linalg/matfuncs.py\", line 518, in pade9\n",
      "    b[3]*self.A2 + b[1]*self.ident),\n",
      "  File \"/Users/albertsmith/anaconda3/lib/python3.7/multiprocessing/pool.py\", line 121, in worker\n",
      "    result = (True, func(*args, **kwds))\n",
      "  File \"/Users/albertsmith/anaconda3/lib/python3.7/site-packages/scipy/sparse/linalg/matfuncs.py\", line 407, in A8\n",
      "    self.A6, self.A2, structure=self.structure)\n",
      "  File \"/Users/albertsmith/anaconda3/lib/python3.7/multiprocessing/pool.py\", line 44, in mapstar\n",
      "    return list(map(*args))\n",
      "  File \"/Users/albertsmith/anaconda3/lib/python3.7/site-packages/scipy/sparse/linalg/matfuncs.py\", line 167, in _smart_matrix_product\n",
      "    out = A.dot(B)\n",
      "  File \"/Users/albertsmith/Documents/GitHub/SLEEPY/SLEEPY/Para.py\", line 216, in prop\n",
      "    U0=expm(L*dt)\n",
      "KeyboardInterrupt\n",
      "Process ForkPoolWorker-5:\n",
      "  File \"/Users/albertsmith/anaconda3/lib/python3.7/site-packages/scipy/linalg/matfuncs.py\", line 255, in expm\n",
      "    return scipy.sparse.linalg.expm(A)\n",
      "  File \"/Users/albertsmith/anaconda3/lib/python3.7/site-packages/scipy/sparse/linalg/matfuncs.py\", line 592, in expm\n",
      "    return _expm(A, use_exact_onenorm='auto')\n",
      "  File \"/Users/albertsmith/anaconda3/lib/python3.7/site-packages/scipy/sparse/linalg/matfuncs.py\", line 655, in _expm\n",
      "    U, V = h.pade7()\n",
      "  File \"/Users/albertsmith/anaconda3/lib/python3.7/site-packages/scipy/sparse/linalg/matfuncs.py\", line 509, in pade7\n",
      "    structure=self.structure)\n",
      "  File \"/Users/albertsmith/anaconda3/lib/python3.7/site-packages/scipy/sparse/linalg/matfuncs.py\", line 167, in _smart_matrix_product\n",
      "    out = A.dot(B)\n",
      "Process ForkPoolWorker-3:\n",
      "Traceback (most recent call last):\n",
      "KeyboardInterrupt\n",
      "Process ForkPoolWorker-1:\n",
      "  File \"/Users/albertsmith/anaconda3/lib/python3.7/multiprocessing/process.py\", line 297, in _bootstrap\n",
      "    self.run()\n",
      "Traceback (most recent call last):\n",
      "Traceback (most recent call last):\n",
      "  File \"/Users/albertsmith/anaconda3/lib/python3.7/multiprocessing/process.py\", line 99, in run\n",
      "    self._target(*self._args, **self._kwargs)\n",
      "  File \"/Users/albertsmith/anaconda3/lib/python3.7/multiprocessing/process.py\", line 297, in _bootstrap\n",
      "    self.run()\n",
      "  File \"/Users/albertsmith/anaconda3/lib/python3.7/multiprocessing/pool.py\", line 121, in worker\n",
      "    result = (True, func(*args, **kwds))\n",
      "  File \"/Users/albertsmith/anaconda3/lib/python3.7/multiprocessing/process.py\", line 297, in _bootstrap\n",
      "    self.run()\n",
      "  File \"/Users/albertsmith/anaconda3/lib/python3.7/multiprocessing/process.py\", line 99, in run\n",
      "    self._target(*self._args, **self._kwargs)\n",
      "  File \"/Users/albertsmith/anaconda3/lib/python3.7/multiprocessing/process.py\", line 99, in run\n",
      "    self._target(*self._args, **self._kwargs)\n",
      "  File \"/Users/albertsmith/anaconda3/lib/python3.7/multiprocessing/pool.py\", line 44, in mapstar\n",
      "    return list(map(*args))\n",
      "  File \"/Users/albertsmith/anaconda3/lib/python3.7/multiprocessing/pool.py\", line 121, in worker\n",
      "    result = (True, func(*args, **kwds))\n",
      "  File \"/Users/albertsmith/anaconda3/lib/python3.7/multiprocessing/pool.py\", line 121, in worker\n",
      "    result = (True, func(*args, **kwds))\n",
      "  File \"/Users/albertsmith/anaconda3/lib/python3.7/multiprocessing/pool.py\", line 44, in mapstar\n",
      "    return list(map(*args))\n",
      "  File \"/Users/albertsmith/anaconda3/lib/python3.7/multiprocessing/pool.py\", line 44, in mapstar\n",
      "    return list(map(*args))\n",
      "  File \"/Users/albertsmith/Documents/GitHub/SLEEPY/SLEEPY/Para.py\", line 216, in prop\n",
      "    U0=expm(L*dt)\n",
      "  File \"/Users/albertsmith/Documents/GitHub/SLEEPY/SLEEPY/Para.py\", line 216, in prop\n",
      "    U0=expm(L*dt)\n",
      "  File \"/Users/albertsmith/Documents/GitHub/SLEEPY/SLEEPY/Para.py\", line 216, in prop\n",
      "    U0=expm(L*dt)\n",
      "  File \"/Users/albertsmith/anaconda3/lib/python3.7/site-packages/scipy/linalg/matfuncs.py\", line 255, in expm\n",
      "    return scipy.sparse.linalg.expm(A)\n",
      "  File \"/Users/albertsmith/anaconda3/lib/python3.7/site-packages/scipy/linalg/matfuncs.py\", line 255, in expm\n",
      "    return scipy.sparse.linalg.expm(A)\n",
      "  File \"/Users/albertsmith/anaconda3/lib/python3.7/site-packages/scipy/linalg/matfuncs.py\", line 255, in expm\n",
      "    return scipy.sparse.linalg.expm(A)\n",
      "  File \"/Users/albertsmith/anaconda3/lib/python3.7/site-packages/scipy/sparse/linalg/matfuncs.py\", line 592, in expm\n",
      "    return _expm(A, use_exact_onenorm='auto')\n",
      "  File \"/Users/albertsmith/anaconda3/lib/python3.7/site-packages/scipy/sparse/linalg/matfuncs.py\", line 592, in expm\n",
      "    return _expm(A, use_exact_onenorm='auto')\n",
      "  File \"/Users/albertsmith/anaconda3/lib/python3.7/site-packages/scipy/sparse/linalg/matfuncs.py\", line 592, in expm\n",
      "    return _expm(A, use_exact_onenorm='auto')\n",
      "  File \"/Users/albertsmith/anaconda3/lib/python3.7/site-packages/scipy/sparse/linalg/matfuncs.py\", line 655, in _expm\n",
      "    U, V = h.pade7()\n",
      "  File \"/Users/albertsmith/anaconda3/lib/python3.7/site-packages/scipy/sparse/linalg/matfuncs.py\", line 655, in _expm\n",
      "    U, V = h.pade7()\n",
      "  File \"/Users/albertsmith/anaconda3/lib/python3.7/site-packages/scipy/sparse/linalg/matfuncs.py\", line 655, in _expm\n",
      "    U, V = h.pade7()\n",
      "  File \"/Users/albertsmith/anaconda3/lib/python3.7/site-packages/scipy/sparse/linalg/matfuncs.py\", line 509, in pade7\n",
      "    structure=self.structure)\n",
      "  File \"/Users/albertsmith/anaconda3/lib/python3.7/site-packages/scipy/sparse/linalg/matfuncs.py\", line 509, in pade7\n",
      "    structure=self.structure)\n",
      "  File \"/Users/albertsmith/anaconda3/lib/python3.7/site-packages/scipy/sparse/linalg/matfuncs.py\", line 167, in _smart_matrix_product\n",
      "    out = A.dot(B)\n"
     ]
    },
    {
     "name": "stderr",
     "output_type": "stream",
     "text": [
      "  File \"/Users/albertsmith/anaconda3/lib/python3.7/site-packages/scipy/sparse/linalg/matfuncs.py\", line 509, in pade7\n",
      "    structure=self.structure)\n",
      "  File \"/Users/albertsmith/anaconda3/lib/python3.7/site-packages/scipy/sparse/linalg/matfuncs.py\", line 167, in _smart_matrix_product\n",
      "    out = A.dot(B)\n",
      "KeyboardInterrupt\n",
      "  File \"/Users/albertsmith/anaconda3/lib/python3.7/site-packages/scipy/sparse/linalg/matfuncs.py\", line 167, in _smart_matrix_product\n",
      "    out = A.dot(B)\n",
      "KeyboardInterrupt\n",
      "KeyboardInterrupt\n"
     ]
    },
    {
     "ename": "KeyboardInterrupt",
     "evalue": "",
     "output_type": "error",
     "traceback": [
      "\u001b[0;31m---------------------------------------------------------------------------\u001b[0m",
      "\u001b[0;31mKeyboardInterrupt\u001b[0m                         Traceback (most recent call last)",
      "\u001b[0;32m<ipython-input-3-3053fe9aa537>\u001b[0m in \u001b[0;36m<module>\u001b[0;34m()\u001b[0m\n\u001b[1;32m     84\u001b[0m     \u001b[0mrho\u001b[0m\u001b[0;34m=\u001b[0m\u001b[0msl\u001b[0m\u001b[0;34m.\u001b[0m\u001b[0mRho\u001b[0m\u001b[0;34m(\u001b[0m\u001b[0mrho0\u001b[0m\u001b[0;34m=\u001b[0m\u001b[0;34m'13Cx'\u001b[0m\u001b[0;34m,\u001b[0m\u001b[0mdetect\u001b[0m\u001b[0;34m=\u001b[0m\u001b[0;34m'13Cx'\u001b[0m\u001b[0;34m)\u001b[0m\u001b[0;34m\u001b[0m\u001b[0;34m\u001b[0m\u001b[0m\n\u001b[1;32m     85\u001b[0m     \u001b[0mrho\u001b[0m\u001b[0;34m,\u001b[0m\u001b[0mseq\u001b[0m\u001b[0;34m=\u001b[0m\u001b[0mrho\u001b[0m\u001b[0;34m.\u001b[0m\u001b[0mReducedSetup\u001b[0m\u001b[0;34m(\u001b[0m\u001b[0mseq\u001b[0m\u001b[0;34m)\u001b[0m\u001b[0;34m\u001b[0m\u001b[0;34m\u001b[0m\u001b[0m\n\u001b[0;32m---> 86\u001b[0;31m     \u001b[0mrho\u001b[0m\u001b[0;34m.\u001b[0m\u001b[0mDetProp\u001b[0m\u001b[0;34m(\u001b[0m\u001b[0mseq\u001b[0m\u001b[0;34m,\u001b[0m\u001b[0mn\u001b[0m\u001b[0;34m=\u001b[0m\u001b[0;36m500\u001b[0m\u001b[0;34m)\u001b[0m\u001b[0;34m\u001b[0m\u001b[0;34m\u001b[0m\u001b[0m\n\u001b[0m\u001b[1;32m     87\u001b[0m \u001b[0;34m\u001b[0m\u001b[0m\n\u001b[1;32m     88\u001b[0m     \u001b[0mprint\u001b[0m\u001b[0;34m(\u001b[0m\u001b[0;34mf'{\"Parallel\" if parallel else \"Series\"} time: {(time()-t0):.1f} s'\u001b[0m\u001b[0;34m)\u001b[0m\u001b[0;34m\u001b[0m\u001b[0;34m\u001b[0m\u001b[0m\n",
      "\u001b[0;32m~/Documents/GitHub/SLEEPY/SLEEPY/Rho.py\u001b[0m in \u001b[0;36mDetProp\u001b[0;34m(self, U, seq, n, n_per_seq)\u001b[0m\n\u001b[1;32m    981\u001b[0m                 \u001b[0;32mif\u001b[0m \u001b[0;34m(\u001b[0m\u001b[0mseq\u001b[0m\u001b[0;34m.\u001b[0m\u001b[0mDt\u001b[0m\u001b[0;34m%\u001b[0m\u001b[0mseq\u001b[0m\u001b[0;34m.\u001b[0m\u001b[0mtaur\u001b[0m\u001b[0;34m<\u001b[0m\u001b[0mtol\u001b[0m \u001b[0;32mor\u001b[0m \u001b[0;34m-\u001b[0m\u001b[0mseq\u001b[0m\u001b[0;34m.\u001b[0m\u001b[0mDt\u001b[0m\u001b[0;34m%\u001b[0m\u001b[0mseq\u001b[0m\u001b[0;34m.\u001b[0m\u001b[0mtaur\u001b[0m\u001b[0;34m<\u001b[0m\u001b[0mtol\u001b[0m\u001b[0;34m)\u001b[0m \u001b[0;32mand\u001b[0m \u001b[0mn_per_seq\u001b[0m\u001b[0;34m==\u001b[0m\u001b[0;36m1\u001b[0m\u001b[0;34m:\u001b[0m\u001b[0;34m\u001b[0m\u001b[0;34m\u001b[0m\u001b[0m\n\u001b[1;32m    982\u001b[0m                     \u001b[0mU\u001b[0m\u001b[0;34m=\u001b[0m\u001b[0mseq\u001b[0m\u001b[0;34m.\u001b[0m\u001b[0mU\u001b[0m\u001b[0;34m(\u001b[0m\u001b[0mt0\u001b[0m\u001b[0;34m=\u001b[0m\u001b[0mself\u001b[0m\u001b[0;34m.\u001b[0m\u001b[0mt\u001b[0m\u001b[0;34m,\u001b[0m\u001b[0mDt\u001b[0m\u001b[0;34m=\u001b[0m\u001b[0mseq\u001b[0m\u001b[0;34m.\u001b[0m\u001b[0mDt\u001b[0m\u001b[0;34m)\u001b[0m  \u001b[0;31m#Just generate the propagator and call with U\u001b[0m\u001b[0;34m\u001b[0m\u001b[0;34m\u001b[0m\u001b[0m\n\u001b[0;32m--> 983\u001b[0;31m                     \u001b[0mself\u001b[0m\u001b[0;34m.\u001b[0m\u001b[0mDetProp\u001b[0m\u001b[0;34m(\u001b[0m\u001b[0mU\u001b[0m\u001b[0;34m=\u001b[0m\u001b[0mU\u001b[0m\u001b[0;34m,\u001b[0m\u001b[0mn\u001b[0m\u001b[0;34m=\u001b[0m\u001b[0mn\u001b[0m\u001b[0;34m)\u001b[0m\u001b[0;34m\u001b[0m\u001b[0;34m\u001b[0m\u001b[0m\n\u001b[0m\u001b[1;32m    984\u001b[0m                     \u001b[0;32mreturn\u001b[0m \u001b[0mself\u001b[0m\u001b[0;34m\u001b[0m\u001b[0;34m\u001b[0m\u001b[0m\n\u001b[1;32m    985\u001b[0m \u001b[0;34m\u001b[0m\u001b[0m\n",
      "\u001b[0;32m~/Documents/GitHub/SLEEPY/SLEEPY/Rho.py\u001b[0m in \u001b[0;36mDetProp\u001b[0;34m(self, U, seq, n, n_per_seq)\u001b[0m\n\u001b[1;32m    955\u001b[0m             \u001b[0;32mif\u001b[0m \u001b[0mn\u001b[0m\u001b[0;34m>=\u001b[0m\u001b[0;36m100\u001b[0m \u001b[0;32mor\u001b[0m \u001b[0mU\u001b[0m\u001b[0;34m.\u001b[0m\u001b[0m_eig\u001b[0m \u001b[0;32mis\u001b[0m \u001b[0;32mnot\u001b[0m \u001b[0;32mNone\u001b[0m\u001b[0;34m:\u001b[0m\u001b[0;34m\u001b[0m\u001b[0;34m\u001b[0m\u001b[0m\n\u001b[1;32m    956\u001b[0m                 \u001b[0mself\u001b[0m\u001b[0;34m(\u001b[0m\u001b[0;34m)\u001b[0m  \u001b[0;31m#This is the initial detection\u001b[0m\u001b[0;34m\u001b[0m\u001b[0;34m\u001b[0m\u001b[0m\n\u001b[0;32m--> 957\u001b[0;31m                 \u001b[0mU\u001b[0m\u001b[0;34m.\u001b[0m\u001b[0meig\u001b[0m\u001b[0;34m(\u001b[0m\u001b[0;34m)\u001b[0m\u001b[0;34m\u001b[0m\u001b[0;34m\u001b[0m\u001b[0m\n\u001b[0m\u001b[1;32m    958\u001b[0m                 \u001b[0;32mfor\u001b[0m \u001b[0mk\u001b[0m\u001b[0;34m,\u001b[0m\u001b[0;34m(\u001b[0m\u001b[0;34m(\u001b[0m\u001b[0md\u001b[0m\u001b[0;34m,\u001b[0m\u001b[0mv\u001b[0m\u001b[0;34m,\u001b[0m\u001b[0mvi\u001b[0m\u001b[0;34m)\u001b[0m\u001b[0;34m,\u001b[0m\u001b[0mrho\u001b[0m\u001b[0;34m)\u001b[0m \u001b[0;32min\u001b[0m \u001b[0menumerate\u001b[0m\u001b[0;34m(\u001b[0m\u001b[0mzip\u001b[0m\u001b[0;34m(\u001b[0m\u001b[0mU\u001b[0m\u001b[0;34m.\u001b[0m\u001b[0m_eig\u001b[0m\u001b[0;34m,\u001b[0m\u001b[0mself\u001b[0m\u001b[0;34m)\u001b[0m\u001b[0;34m)\u001b[0m\u001b[0;34m:\u001b[0m\u001b[0;34m\u001b[0m\u001b[0;34m\u001b[0m\u001b[0m\n\u001b[1;32m    959\u001b[0m                     \u001b[0mrho0\u001b[0m\u001b[0;34m=\u001b[0m\u001b[0mvi\u001b[0m\u001b[0;34m@\u001b[0m\u001b[0mrho\u001b[0m\u001b[0;34m\u001b[0m\u001b[0;34m\u001b[0m\u001b[0m\n",
      "\u001b[0;32m~/Documents/GitHub/SLEEPY/SLEEPY/Propagator.py\u001b[0m in \u001b[0;36meig\u001b[0;34m(self, back_calc)\u001b[0m\n\u001b[1;32m    114\u001b[0m             \u001b[0mself\u001b[0m\u001b[0;34m.\u001b[0m\u001b[0m_eig\u001b[0m\u001b[0;34m=\u001b[0m\u001b[0mlist\u001b[0m\u001b[0;34m(\u001b[0m\u001b[0;34m)\u001b[0m\u001b[0;34m\u001b[0m\u001b[0;34m\u001b[0m\u001b[0m\n\u001b[1;32m    115\u001b[0m             \u001b[0mUnew\u001b[0m\u001b[0;34m=\u001b[0m\u001b[0mlist\u001b[0m\u001b[0;34m(\u001b[0m\u001b[0;34m)\u001b[0m\u001b[0;34m\u001b[0m\u001b[0;34m\u001b[0m\u001b[0m\n\u001b[0;32m--> 116\u001b[0;31m             \u001b[0;32mfor\u001b[0m \u001b[0mk\u001b[0m\u001b[0;34m,\u001b[0m\u001b[0mU\u001b[0m \u001b[0;32min\u001b[0m \u001b[0menumerate\u001b[0m\u001b[0;34m(\u001b[0m\u001b[0mself\u001b[0m\u001b[0;34m)\u001b[0m\u001b[0;34m:\u001b[0m\u001b[0;34m\u001b[0m\u001b[0;34m\u001b[0m\u001b[0m\n\u001b[0m\u001b[1;32m    117\u001b[0m                 \u001b[0md\u001b[0m\u001b[0;34m,\u001b[0m\u001b[0mv\u001b[0m\u001b[0;34m=\u001b[0m\u001b[0mnp\u001b[0m\u001b[0;34m.\u001b[0m\u001b[0mlinalg\u001b[0m\u001b[0;34m.\u001b[0m\u001b[0meig\u001b[0m\u001b[0;34m(\u001b[0m\u001b[0mU\u001b[0m\u001b[0;34m)\u001b[0m\u001b[0;34m\u001b[0m\u001b[0;34m\u001b[0m\u001b[0m\n\u001b[1;32m    118\u001b[0m                 \u001b[0mvi\u001b[0m\u001b[0;34m=\u001b[0m\u001b[0mnp\u001b[0m\u001b[0;34m.\u001b[0m\u001b[0mlinalg\u001b[0m\u001b[0;34m.\u001b[0m\u001b[0mpinv\u001b[0m\u001b[0;34m(\u001b[0m\u001b[0mv\u001b[0m\u001b[0;34m)\u001b[0m\u001b[0;34m\u001b[0m\u001b[0;34m\u001b[0m\u001b[0m\n",
      "\u001b[0;32m~/Documents/GitHub/SLEEPY/SLEEPY/Propagator.py\u001b[0m in \u001b[0;36m__next__\u001b[0;34m(self)\u001b[0m\n\u001b[1;32m    545\u001b[0m             \u001b[0;32mraise\u001b[0m \u001b[0mStopIteration\u001b[0m\u001b[0;34m\u001b[0m\u001b[0;34m\u001b[0m\u001b[0m\n\u001b[1;32m    546\u001b[0m         \u001b[0;32melse\u001b[0m\u001b[0;34m:\u001b[0m\u001b[0;34m\u001b[0m\u001b[0;34m\u001b[0m\u001b[0m\n\u001b[0;32m--> 547\u001b[0;31m             \u001b[0;32mreturn\u001b[0m \u001b[0mself\u001b[0m\u001b[0;34m[\u001b[0m\u001b[0mself\u001b[0m\u001b[0;34m.\u001b[0m\u001b[0m_index\u001b[0m\u001b[0;34m]\u001b[0m\u001b[0;34m\u001b[0m\u001b[0;34m\u001b[0m\u001b[0m\n\u001b[0m\u001b[1;32m    548\u001b[0m \u001b[0;34m\u001b[0m\u001b[0m\n\u001b[1;32m    549\u001b[0m     \u001b[0;32mdef\u001b[0m \u001b[0m__iter__\u001b[0m\u001b[0;34m(\u001b[0m\u001b[0mself\u001b[0m\u001b[0;34m)\u001b[0m\u001b[0;34m:\u001b[0m\u001b[0;34m\u001b[0m\u001b[0;34m\u001b[0m\u001b[0m\n",
      "\u001b[0;32m~/Documents/GitHub/SLEEPY/SLEEPY/Propagator.py\u001b[0m in \u001b[0;36m__getitem__\u001b[0;34m(self, i)\u001b[0m\n\u001b[1;32m    532\u001b[0m \u001b[0;34m\u001b[0m\u001b[0m\n\u001b[1;32m    533\u001b[0m         \u001b[0;32mif\u001b[0m \u001b[0;32mnot\u001b[0m\u001b[0;34m(\u001b[0m\u001b[0mself\u001b[0m\u001b[0;34m.\u001b[0m\u001b[0mpwdavg\u001b[0m\u001b[0;34m)\u001b[0m\u001b[0;34m:\u001b[0m\u001b[0;32mreturn\u001b[0m \u001b[0mself\u001b[0m\u001b[0;34m.\u001b[0m\u001b[0mU\u001b[0m\u001b[0;34m\u001b[0m\u001b[0;34m\u001b[0m\u001b[0m\n\u001b[0;32m--> 534\u001b[0;31m         \u001b[0mself\u001b[0m\u001b[0;34m.\u001b[0m\u001b[0mcalcU\u001b[0m\u001b[0;34m(\u001b[0m\u001b[0;34m)\u001b[0m\u001b[0;34m\u001b[0m\u001b[0;34m\u001b[0m\u001b[0m\n\u001b[0m\u001b[1;32m    535\u001b[0m         \u001b[0;32mreturn\u001b[0m \u001b[0mself\u001b[0m\u001b[0;34m.\u001b[0m\u001b[0mU\u001b[0m\u001b[0;34m[\u001b[0m\u001b[0mi\u001b[0m\u001b[0;34m%\u001b[0m\u001b[0mlen\u001b[0m\u001b[0;34m(\u001b[0m\u001b[0mself\u001b[0m\u001b[0;34m)\u001b[0m\u001b[0;34m]\u001b[0m\u001b[0;34m\u001b[0m\u001b[0;34m\u001b[0m\u001b[0m\n\u001b[1;32m    536\u001b[0m \u001b[0;34m\u001b[0m\u001b[0m\n",
      "\u001b[0;32m~/Documents/GitHub/SLEEPY/SLEEPY/Propagator.py\u001b[0m in \u001b[0;36mcalcU\u001b[0;34m(self)\u001b[0m\n\u001b[1;32m    222\u001b[0m                 \u001b[0;32mfor\u001b[0m \u001b[0mk\u001b[0m\u001b[0;34m,\u001b[0m\u001b[0;34m(\u001b[0m\u001b[0mv1\u001b[0m\u001b[0;34m,\u001b[0m\u001b[0mphase\u001b[0m\u001b[0;34m,\u001b[0m\u001b[0mvoff\u001b[0m\u001b[0;34m)\u001b[0m \u001b[0;32min\u001b[0m \u001b[0menumerate\u001b[0m\u001b[0;34m(\u001b[0m\u001b[0mzip\u001b[0m\u001b[0;34m(\u001b[0m\u001b[0mdct\u001b[0m\u001b[0;34m[\u001b[0m\u001b[0;34m'v1'\u001b[0m\u001b[0;34m]\u001b[0m\u001b[0;34m,\u001b[0m\u001b[0mdct\u001b[0m\u001b[0;34m[\u001b[0m\u001b[0;34m'phase'\u001b[0m\u001b[0;34m]\u001b[0m\u001b[0;34m,\u001b[0m\u001b[0mdct\u001b[0m\u001b[0;34m[\u001b[0m\u001b[0;34m'voff'\u001b[0m\u001b[0;34m]\u001b[0m\u001b[0;34m)\u001b[0m\u001b[0;34m)\u001b[0m\u001b[0;34m:\u001b[0m\u001b[0;34m\u001b[0m\u001b[0;34m\u001b[0m\u001b[0m\n\u001b[1;32m    223\u001b[0m                     \u001b[0mL\u001b[0m\u001b[0;34m.\u001b[0m\u001b[0mfields\u001b[0m\u001b[0;34m[\u001b[0m\u001b[0mk\u001b[0m\u001b[0;34m]\u001b[0m\u001b[0;34m=\u001b[0m\u001b[0;34m(\u001b[0m\u001b[0mv1\u001b[0m\u001b[0;34m[\u001b[0m\u001b[0mm\u001b[0m\u001b[0;34m]\u001b[0m\u001b[0;34m,\u001b[0m\u001b[0mphase\u001b[0m\u001b[0;34m[\u001b[0m\u001b[0mm\u001b[0m\u001b[0;34m]\u001b[0m\u001b[0;34m,\u001b[0m\u001b[0mvoff\u001b[0m\u001b[0;34m[\u001b[0m\u001b[0mm\u001b[0m\u001b[0;34m]\u001b[0m\u001b[0;34m)\u001b[0m\u001b[0;34m\u001b[0m\u001b[0;34m\u001b[0m\u001b[0m\n\u001b[0;32m--> 224\u001b[0;31m                 \u001b[0mU0\u001b[0m\u001b[0;34m=\u001b[0m\u001b[0mself\u001b[0m\u001b[0;34m.\u001b[0m\u001b[0mL\u001b[0m\u001b[0;34m.\u001b[0m\u001b[0mU\u001b[0m\u001b[0;34m(\u001b[0m\u001b[0mt0\u001b[0m\u001b[0;34m=\u001b[0m\u001b[0mta\u001b[0m\u001b[0;34m,\u001b[0m\u001b[0mDt\u001b[0m\u001b[0;34m=\u001b[0m\u001b[0mtb\u001b[0m\u001b[0;34m-\u001b[0m\u001b[0mta\u001b[0m\u001b[0;34m,\u001b[0m\u001b[0mcalc_now\u001b[0m\u001b[0;34m=\u001b[0m\u001b[0;32mTrue\u001b[0m\u001b[0;34m)\u001b[0m\u001b[0;34m\u001b[0m\u001b[0;34m\u001b[0m\u001b[0m\n\u001b[0m\u001b[1;32m    225\u001b[0m                 \u001b[0mU\u001b[0m\u001b[0;34m=\u001b[0m\u001b[0mU0\u001b[0m\u001b[0;34m*\u001b[0m\u001b[0mU\u001b[0m\u001b[0;34m\u001b[0m\u001b[0;34m\u001b[0m\u001b[0m\n\u001b[1;32m    226\u001b[0m \u001b[0;34m\u001b[0m\u001b[0m\n",
      "\u001b[0;32m~/Documents/GitHub/SLEEPY/SLEEPY/Liouvillian.py\u001b[0m in \u001b[0;36mU\u001b[0;34m(self, Dt, t0, calc_now)\u001b[0m\n\u001b[1;32m    756\u001b[0m                 \u001b[0;32melse\u001b[0m\u001b[0;34m:\u001b[0m\u001b[0;34m\u001b[0m\u001b[0;34m\u001b[0m\u001b[0m\n\u001b[1;32m    757\u001b[0m                     \u001b[0mpm\u001b[0m\u001b[0;34m=\u001b[0m\u001b[0mParallelManager\u001b[0m\u001b[0;34m(\u001b[0m\u001b[0mL\u001b[0m\u001b[0;34m=\u001b[0m\u001b[0mself\u001b[0m\u001b[0;34m,\u001b[0m\u001b[0mt0\u001b[0m\u001b[0;34m=\u001b[0m\u001b[0mt0\u001b[0m\u001b[0;34m,\u001b[0m\u001b[0mDt\u001b[0m\u001b[0;34m=\u001b[0m\u001b[0mDt\u001b[0m\u001b[0;34m)\u001b[0m\u001b[0;34m\u001b[0m\u001b[0;34m\u001b[0m\u001b[0m\n\u001b[0;32m--> 758\u001b[0;31m                     \u001b[0mU\u001b[0m\u001b[0;34m=\u001b[0m\u001b[0mpm\u001b[0m\u001b[0;34m(\u001b[0m\u001b[0;34m)\u001b[0m\u001b[0;34m\u001b[0m\u001b[0;34m\u001b[0m\u001b[0m\n\u001b[0m\u001b[1;32m    759\u001b[0m                     \u001b[0;32mreturn\u001b[0m \u001b[0mPropagator\u001b[0m\u001b[0;34m(\u001b[0m\u001b[0mU\u001b[0m\u001b[0;34m=\u001b[0m\u001b[0mU\u001b[0m\u001b[0;34m,\u001b[0m\u001b[0mt0\u001b[0m\u001b[0;34m=\u001b[0m\u001b[0mt0\u001b[0m\u001b[0;34m,\u001b[0m\u001b[0mtf\u001b[0m\u001b[0;34m=\u001b[0m\u001b[0mtf\u001b[0m\u001b[0;34m,\u001b[0m\u001b[0mtaur\u001b[0m\u001b[0;34m=\u001b[0m\u001b[0mself\u001b[0m\u001b[0;34m.\u001b[0m\u001b[0mtaur\u001b[0m\u001b[0;34m,\u001b[0m\u001b[0mL\u001b[0m\u001b[0;34m=\u001b[0m\u001b[0mself\u001b[0m\u001b[0;34m,\u001b[0m\u001b[0misotropic\u001b[0m\u001b[0;34m=\u001b[0m\u001b[0mself\u001b[0m\u001b[0;34m.\u001b[0m\u001b[0misotropic\u001b[0m\u001b[0;34m,\u001b[0m\u001b[0mphase_accum\u001b[0m\u001b[0;34m=\u001b[0m\u001b[0mph_acc\u001b[0m\u001b[0;34m)\u001b[0m\u001b[0;34m\u001b[0m\u001b[0;34m\u001b[0m\u001b[0m\n\u001b[1;32m    760\u001b[0m         \u001b[0;32melse\u001b[0m\u001b[0;34m:\u001b[0m\u001b[0;34m\u001b[0m\u001b[0;34m\u001b[0m\u001b[0m\n",
      "\u001b[0;32m~/Documents/GitHub/SLEEPY/SLEEPY/Para.py\u001b[0m in \u001b[0;36m__call__\u001b[0;34m(self)\u001b[0m\n\u001b[1;32m    171\u001b[0m         \u001b[0;32mif\u001b[0m \u001b[0mDefaults\u001b[0m\u001b[0;34m[\u001b[0m\u001b[0;34m'parallel'\u001b[0m\u001b[0;34m]\u001b[0m \u001b[0;32mand\u001b[0m \u001b[0mX\u001b[0m\u001b[0;34m[\u001b[0m\u001b[0;36m0\u001b[0m\u001b[0;34m]\u001b[0m\u001b[0;34m[\u001b[0m\u001b[0;36m2\u001b[0m\u001b[0;34m]\u001b[0m \u001b[0;32mis\u001b[0m \u001b[0;32mNone\u001b[0m\u001b[0;34m:\u001b[0m\u001b[0;34m\u001b[0m\u001b[0;34m\u001b[0m\u001b[0m\n\u001b[1;32m    172\u001b[0m             \u001b[0;32mwith\u001b[0m \u001b[0mmp\u001b[0m\u001b[0;34m.\u001b[0m\u001b[0mPool\u001b[0m\u001b[0;34m(\u001b[0m\u001b[0mprocesses\u001b[0m\u001b[0;34m=\u001b[0m\u001b[0mself\u001b[0m\u001b[0;34m.\u001b[0m\u001b[0mcpu_count\u001b[0m\u001b[0;34m)\u001b[0m \u001b[0;32mas\u001b[0m \u001b[0mpool\u001b[0m\u001b[0;34m:\u001b[0m\u001b[0;34m\u001b[0m\u001b[0;34m\u001b[0m\u001b[0m\n\u001b[0;32m--> 173\u001b[0;31m                 \u001b[0mU\u001b[0m\u001b[0;34m=\u001b[0m\u001b[0mpool\u001b[0m\u001b[0;34m.\u001b[0m\u001b[0mmap\u001b[0m\u001b[0;34m(\u001b[0m\u001b[0mfun\u001b[0m\u001b[0;34m,\u001b[0m\u001b[0mX\u001b[0m\u001b[0;34m,\u001b[0m\u001b[0mchunksize\u001b[0m \u001b[0;34m=\u001b[0m \u001b[0mself\u001b[0m\u001b[0;34m.\u001b[0m\u001b[0mchunk_size\u001b[0m\u001b[0;34m)\u001b[0m\u001b[0;34m\u001b[0m\u001b[0;34m\u001b[0m\u001b[0m\n\u001b[0m\u001b[1;32m    174\u001b[0m         \u001b[0;32melse\u001b[0m\u001b[0;34m:\u001b[0m\u001b[0;34m\u001b[0m\u001b[0;34m\u001b[0m\u001b[0m\n\u001b[1;32m    175\u001b[0m             \u001b[0mU\u001b[0m\u001b[0;34m=\u001b[0m\u001b[0;34m[\u001b[0m\u001b[0mfun\u001b[0m\u001b[0;34m(\u001b[0m\u001b[0mX0\u001b[0m\u001b[0;34m)\u001b[0m \u001b[0;32mfor\u001b[0m \u001b[0mX0\u001b[0m \u001b[0;32min\u001b[0m \u001b[0mX\u001b[0m\u001b[0;34m]\u001b[0m\u001b[0;34m\u001b[0m\u001b[0;34m\u001b[0m\u001b[0m\n",
      "\u001b[0;32m~/anaconda3/lib/python3.7/multiprocessing/pool.py\u001b[0m in \u001b[0;36mmap\u001b[0;34m(self, func, iterable, chunksize)\u001b[0m\n\u001b[1;32m    266\u001b[0m         \u001b[0;32min\u001b[0m \u001b[0ma\u001b[0m \u001b[0mlist\u001b[0m \u001b[0mthat\u001b[0m \u001b[0;32mis\u001b[0m \u001b[0mreturned\u001b[0m\u001b[0;34m.\u001b[0m\u001b[0;34m\u001b[0m\u001b[0;34m\u001b[0m\u001b[0m\n\u001b[1;32m    267\u001b[0m         '''\n\u001b[0;32m--> 268\u001b[0;31m         \u001b[0;32mreturn\u001b[0m \u001b[0mself\u001b[0m\u001b[0;34m.\u001b[0m\u001b[0m_map_async\u001b[0m\u001b[0;34m(\u001b[0m\u001b[0mfunc\u001b[0m\u001b[0;34m,\u001b[0m \u001b[0miterable\u001b[0m\u001b[0;34m,\u001b[0m \u001b[0mmapstar\u001b[0m\u001b[0;34m,\u001b[0m \u001b[0mchunksize\u001b[0m\u001b[0;34m)\u001b[0m\u001b[0;34m.\u001b[0m\u001b[0mget\u001b[0m\u001b[0;34m(\u001b[0m\u001b[0;34m)\u001b[0m\u001b[0;34m\u001b[0m\u001b[0;34m\u001b[0m\u001b[0m\n\u001b[0m\u001b[1;32m    269\u001b[0m \u001b[0;34m\u001b[0m\u001b[0m\n\u001b[1;32m    270\u001b[0m     \u001b[0;32mdef\u001b[0m \u001b[0mstarmap\u001b[0m\u001b[0;34m(\u001b[0m\u001b[0mself\u001b[0m\u001b[0;34m,\u001b[0m \u001b[0mfunc\u001b[0m\u001b[0;34m,\u001b[0m \u001b[0miterable\u001b[0m\u001b[0;34m,\u001b[0m \u001b[0mchunksize\u001b[0m\u001b[0;34m=\u001b[0m\u001b[0;32mNone\u001b[0m\u001b[0;34m)\u001b[0m\u001b[0;34m:\u001b[0m\u001b[0;34m\u001b[0m\u001b[0;34m\u001b[0m\u001b[0m\n",
      "\u001b[0;32m~/anaconda3/lib/python3.7/multiprocessing/pool.py\u001b[0m in \u001b[0;36mget\u001b[0;34m(self, timeout)\u001b[0m\n\u001b[1;32m    649\u001b[0m \u001b[0;34m\u001b[0m\u001b[0m\n\u001b[1;32m    650\u001b[0m     \u001b[0;32mdef\u001b[0m \u001b[0mget\u001b[0m\u001b[0;34m(\u001b[0m\u001b[0mself\u001b[0m\u001b[0;34m,\u001b[0m \u001b[0mtimeout\u001b[0m\u001b[0;34m=\u001b[0m\u001b[0;32mNone\u001b[0m\u001b[0;34m)\u001b[0m\u001b[0;34m:\u001b[0m\u001b[0;34m\u001b[0m\u001b[0;34m\u001b[0m\u001b[0m\n\u001b[0;32m--> 651\u001b[0;31m         \u001b[0mself\u001b[0m\u001b[0;34m.\u001b[0m\u001b[0mwait\u001b[0m\u001b[0;34m(\u001b[0m\u001b[0mtimeout\u001b[0m\u001b[0;34m)\u001b[0m\u001b[0;34m\u001b[0m\u001b[0;34m\u001b[0m\u001b[0m\n\u001b[0m\u001b[1;32m    652\u001b[0m         \u001b[0;32mif\u001b[0m \u001b[0;32mnot\u001b[0m \u001b[0mself\u001b[0m\u001b[0;34m.\u001b[0m\u001b[0mready\u001b[0m\u001b[0;34m(\u001b[0m\u001b[0;34m)\u001b[0m\u001b[0;34m:\u001b[0m\u001b[0;34m\u001b[0m\u001b[0;34m\u001b[0m\u001b[0m\n\u001b[1;32m    653\u001b[0m             \u001b[0;32mraise\u001b[0m \u001b[0mTimeoutError\u001b[0m\u001b[0;34m\u001b[0m\u001b[0;34m\u001b[0m\u001b[0m\n",
      "\u001b[0;32m~/anaconda3/lib/python3.7/multiprocessing/pool.py\u001b[0m in \u001b[0;36mwait\u001b[0;34m(self, timeout)\u001b[0m\n\u001b[1;32m    646\u001b[0m \u001b[0;34m\u001b[0m\u001b[0m\n\u001b[1;32m    647\u001b[0m     \u001b[0;32mdef\u001b[0m \u001b[0mwait\u001b[0m\u001b[0;34m(\u001b[0m\u001b[0mself\u001b[0m\u001b[0;34m,\u001b[0m \u001b[0mtimeout\u001b[0m\u001b[0;34m=\u001b[0m\u001b[0;32mNone\u001b[0m\u001b[0;34m)\u001b[0m\u001b[0;34m:\u001b[0m\u001b[0;34m\u001b[0m\u001b[0;34m\u001b[0m\u001b[0m\n\u001b[0;32m--> 648\u001b[0;31m         \u001b[0mself\u001b[0m\u001b[0;34m.\u001b[0m\u001b[0m_event\u001b[0m\u001b[0;34m.\u001b[0m\u001b[0mwait\u001b[0m\u001b[0;34m(\u001b[0m\u001b[0mtimeout\u001b[0m\u001b[0;34m)\u001b[0m\u001b[0;34m\u001b[0m\u001b[0;34m\u001b[0m\u001b[0m\n\u001b[0m\u001b[1;32m    649\u001b[0m \u001b[0;34m\u001b[0m\u001b[0m\n\u001b[1;32m    650\u001b[0m     \u001b[0;32mdef\u001b[0m \u001b[0mget\u001b[0m\u001b[0;34m(\u001b[0m\u001b[0mself\u001b[0m\u001b[0;34m,\u001b[0m \u001b[0mtimeout\u001b[0m\u001b[0;34m=\u001b[0m\u001b[0;32mNone\u001b[0m\u001b[0;34m)\u001b[0m\u001b[0;34m:\u001b[0m\u001b[0;34m\u001b[0m\u001b[0;34m\u001b[0m\u001b[0m\n",
      "\u001b[0;32m~/anaconda3/lib/python3.7/threading.py\u001b[0m in \u001b[0;36mwait\u001b[0;34m(self, timeout)\u001b[0m\n\u001b[1;32m    550\u001b[0m             \u001b[0msignaled\u001b[0m \u001b[0;34m=\u001b[0m \u001b[0mself\u001b[0m\u001b[0;34m.\u001b[0m\u001b[0m_flag\u001b[0m\u001b[0;34m\u001b[0m\u001b[0;34m\u001b[0m\u001b[0m\n\u001b[1;32m    551\u001b[0m             \u001b[0;32mif\u001b[0m \u001b[0;32mnot\u001b[0m \u001b[0msignaled\u001b[0m\u001b[0;34m:\u001b[0m\u001b[0;34m\u001b[0m\u001b[0;34m\u001b[0m\u001b[0m\n\u001b[0;32m--> 552\u001b[0;31m                 \u001b[0msignaled\u001b[0m \u001b[0;34m=\u001b[0m \u001b[0mself\u001b[0m\u001b[0;34m.\u001b[0m\u001b[0m_cond\u001b[0m\u001b[0;34m.\u001b[0m\u001b[0mwait\u001b[0m\u001b[0;34m(\u001b[0m\u001b[0mtimeout\u001b[0m\u001b[0;34m)\u001b[0m\u001b[0;34m\u001b[0m\u001b[0;34m\u001b[0m\u001b[0m\n\u001b[0m\u001b[1;32m    553\u001b[0m             \u001b[0;32mreturn\u001b[0m \u001b[0msignaled\u001b[0m\u001b[0;34m\u001b[0m\u001b[0;34m\u001b[0m\u001b[0m\n\u001b[1;32m    554\u001b[0m \u001b[0;34m\u001b[0m\u001b[0m\n",
      "\u001b[0;32m~/anaconda3/lib/python3.7/threading.py\u001b[0m in \u001b[0;36mwait\u001b[0;34m(self, timeout)\u001b[0m\n\u001b[1;32m    294\u001b[0m         \u001b[0;32mtry\u001b[0m\u001b[0;34m:\u001b[0m    \u001b[0;31m# restore state no matter what (e.g., KeyboardInterrupt)\u001b[0m\u001b[0;34m\u001b[0m\u001b[0;34m\u001b[0m\u001b[0m\n\u001b[1;32m    295\u001b[0m             \u001b[0;32mif\u001b[0m \u001b[0mtimeout\u001b[0m \u001b[0;32mis\u001b[0m \u001b[0;32mNone\u001b[0m\u001b[0;34m:\u001b[0m\u001b[0;34m\u001b[0m\u001b[0;34m\u001b[0m\u001b[0m\n\u001b[0;32m--> 296\u001b[0;31m                 \u001b[0mwaiter\u001b[0m\u001b[0;34m.\u001b[0m\u001b[0macquire\u001b[0m\u001b[0;34m(\u001b[0m\u001b[0;34m)\u001b[0m\u001b[0;34m\u001b[0m\u001b[0;34m\u001b[0m\u001b[0m\n\u001b[0m\u001b[1;32m    297\u001b[0m                 \u001b[0mgotit\u001b[0m \u001b[0;34m=\u001b[0m \u001b[0;32mTrue\u001b[0m\u001b[0;34m\u001b[0m\u001b[0;34m\u001b[0m\u001b[0m\n\u001b[1;32m    298\u001b[0m             \u001b[0;32melse\u001b[0m\u001b[0;34m:\u001b[0m\u001b[0;34m\u001b[0m\u001b[0;34m\u001b[0m\u001b[0m\n",
      "\u001b[0;31mKeyboardInterrupt\u001b[0m: "
     ]
    }
   ],
   "source": [
    "n=5 #Number of 1H (number of spins is n+1)\n",
    "sl.Defaults['cache']=False\n",
    "for parallel in [True]:\n",
    "    sl.Defaults['parallel']=parallel\n",
    "    t0=time()\n",
    "\n",
    "    # CH couplings\n",
    "    delta=np.array([4606.92351485, 1797.74007351, 3013.38969601, 1109.64922884,\n",
    "       2016.55071255,  985.46533497])\n",
    "    beta=np.array([1.52269289, 1.32442461, 1.72911212, 2.00710785, 0.79886871,\n",
    "       2.50129217])\n",
    "    gamma=np.array([ 0.90747836,  1.24462096, -1.94198315, -2.26840075, -0.28942014,\n",
    "       -0.97775707])\n",
    "\n",
    "    # HH couplings\n",
    "    deltaHH=np.array([[240240.30545617,  61146.36447292,   1970.3813349 ,\n",
    "          1155.61145146,   6094.10132617,   1985.91135194],\n",
    "       [ 61146.36447292, 240240.30545617,   1794.04721071,\n",
    "          1006.48333044,   5846.61932559,   2152.90241365],\n",
    "       [  1970.3813349 ,   1794.04721071, 240240.30545617,\n",
    "         61145.15653655,   2294.80686596,   7166.863992  ],\n",
    "       [  1155.61145146,   1006.48333044,  61145.15653655,\n",
    "        240240.30545617,   2580.00271199,   6890.73630547],\n",
    "       [  6094.10132617,   5846.61932559,   2294.80686596,\n",
    "          2580.00271199, 240240.30545617,  61343.71356863],\n",
    "       [  1985.91135194,   2152.90241365,   7166.863992  ,\n",
    "          6890.73630547,  61343.71356863, 240240.30545617]])\n",
    "    betaHH=np.array([[1.57079633, 2.42558372, 1.29852807, 1.13067005, 2.41964498, 2.4303553 ],\n",
    "       [0.71600894, 1.57079633, 1.05488134, 0.9288108 , 1.97712181, 2.13051745],\n",
    "       [1.84306458, 2.08671132, 1.57079633, 0.71601651, 0.67347314, 0.68760657],\n",
    "       [2.0109226 , 2.21278185, 2.42557615, 1.57079633, 0.98826407, 1.16112572],\n",
    "       [0.72194768, 1.16447084, 2.46811952, 2.15332858, 1.57079633, 2.42864234],\n",
    "       [0.71123735, 1.01107521, 2.45398609, 1.98046694, 0.71295032, 1.57079633]])\n",
    "    gammaHH=np.array([[ 0.00000000e+00, -1.04923238e+00,  1.05757029e+00,\n",
    "8.88208378e-01,  1.51992907e+00,  1.40024175e+00],\n",
    "       [ 2.09236028e+00,  0.00000000e+00, -1.14726745e+00,\n",
    "        -9.56226609e-01,  1.69785967e+00,  1.56297278e+00],\n",
    "       [-2.08402236e+00,  1.99432521e+00,  0.00000000e+00,\n",
    "        -2.04361472e-03, -2.43231532e+00, -2.64270770e+00],\n",
    "       [-2.25338428e+00,  2.18536604e+00,  3.13954904e+00,\n",
    "         0.00000000e+00, -2.61192428e+00, -2.80947505e+00],\n",
    "       [-1.62166358e+00, -1.44373298e+00,  7.09277331e-01,\n",
    "         5.29668373e-01,  0.00000000e+00,  1.13672151e+00],\n",
    "       [-1.74135091e+00, -1.57861987e+00,  4.98884952e-01,\n",
    "         3.32117606e-01, -2.00487114e+00,  0.00000000e+00]])\n",
    "\n",
    "    # 13C CSA\n",
    "    deltaCSA=15.983465288047174\n",
    "    etaCSA=-0.10233422812456781\n",
    "    alphaCSA=-1.1674898472001762\n",
    "    betaCSA=0.914512792179852\n",
    "    gammaCSA=-1.312316331380307\n",
    "\n",
    "    # 1H CS/CSA\n",
    "    HCS=np.array([22.99922011, 24.97644825, 24.97644846, 22.99921996, 24.52192647, 23.98644806])\n",
    "\n",
    "    deltaHCSA=np.array([17.60332199, 15.80323671, 15.97227992, 18.56681946, 16.48042676, 16.77075626])\n",
    "    etaHCSA=np.array([-0.10418638, -0.10503486, -0.08225994, -0.14162113, -0.18843222, -0.11487855])\n",
    "    alphaHCSA=np.array([-2.12485296, -2.14137643,  0.91297352, -0.55202972,  2.27784746, -0.91270437])\n",
    "    betaHCSA=np.array([0.93737428, 2.23403156, 2.228757  , 2.17804567, 2.26820148, 0.96358604])\n",
    "    gammaHCSA=np.array([ 1.25827576, -0.2144375 , -2.31668105,  2.28178711,  0.17926152, -1.23977268])\n",
    "\n",
    "    ex=sl.ExpSys(v0H=400,Nucs=['13C',*['1H' for _ in range(n)]],vr=5000,pwdavg=sl.PowderAvg(q=2))\n",
    "    ex.set_inter('CSA',i=0,delta=deltaCSA,eta=etaCSA,euler=[alphaCSA,betaCSA,gammaCSA])\n",
    "    for k in range(n):\n",
    "        ex.set_inter('dipole',i0=0,i1=k+1,delta=delta[k],euler=[0,beta[k],gamma[k]])\n",
    "        ex.set_inter('CSA',i=k+1,delta=deltaHCSA[k],euler=[alphaHCSA[k],betaHCSA[k],gammaHCSA[k]])\n",
    "        ex.set_inter('CS',i=k+1,ppm=HCS[k])\n",
    "        for m in range(k+1,n):\n",
    "            ex.set_inter('dipole',i0=k+1,i1=m+1,delta=deltaHH[k,m],euler=[0,betaHH[k,m],gammaHH[k,m]])\n",
    "\n",
    "    L=ex.Liouvillian()\n",
    "\n",
    "    L.add_SpinEx(i=[1,2],tc=1e-4)\n",
    "    if n>3:\n",
    "        L.add_SpinEx(i=[3,4],tc=1e-4)\n",
    "    print(f'{(time()-t0):.1f}')\n",
    "    for i in range(n):\n",
    "        L.add_relax(Type='SpinDiffusion',i=i+1,k=0)\n",
    "    print(f'{(time()-t0):.1f}')\n",
    "    seq=L.Sequence().add_channel('13C',v1=22000)\n",
    "\n",
    "    t0=time()\n",
    "    rho=sl.Rho(rho0='13Cx',detect='13Cx')\n",
    "    rho,seq=rho.ReducedSetup(seq)\n",
    "    rho.DetProp(seq,n=500)\n",
    "\n",
    "    print(f'{\"Parallel\" if parallel else \"Series\"} time: {(time()-t0):.1f} s')"
   ]
  },
  {
   "cell_type": "markdown",
   "id": "aba91ebf",
   "metadata": {},
   "source": [
    "started: 14:02"
   ]
  },
  {
   "cell_type": "code",
   "execution_count": 31,
   "id": "6af5ddc7",
   "metadata": {},
   "outputs": [
    {
     "data": {
      "text/plain": [
       "array([256,   1], dtype=int16)"
      ]
     },
     "execution_count": 31,
     "metadata": {},
     "output_type": "execute_result"
    }
   ],
   "source": [
    "rho.L._PropCache.cache_count"
   ]
  },
  {
   "cell_type": "code",
   "execution_count": 38,
   "id": "1afd9374",
   "metadata": {},
   "outputs": [],
   "source": [
    "rho.L._PropCache.sm0"
   ]
  },
  {
   "cell_type": "code",
   "execution_count": null,
   "id": "ce2b729c",
   "metadata": {},
   "outputs": [],
   "source": []
  }
 ],
 "metadata": {
  "kernelspec": {
   "display_name": "Python 3",
   "language": "python",
   "name": "python3"
  },
  "language_info": {
   "codemirror_mode": {
    "name": "ipython",
    "version": 3
   },
   "file_extension": ".py",
   "mimetype": "text/x-python",
   "name": "python",
   "nbconvert_exporter": "python",
   "pygments_lexer": "ipython3",
   "version": "3.7.3"
  }
 },
 "nbformat": 4,
 "nbformat_minor": 5
}
