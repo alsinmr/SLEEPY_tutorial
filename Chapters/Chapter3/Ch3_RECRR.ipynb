{
 "cells": [
  {
   "cell_type": "markdown",
   "id": "5ad7b5a0",
   "metadata": {},
   "source": [
    "# <font  color = \"#0093AF\"> Relaxation in complex sequences: RECRR"
   ]
  },
  {
   "cell_type": "markdown",
   "id": "d02b5a3f",
   "metadata": {},
   "source": [
    "A challenge in acquiring $R_{1\\rho}$ relaxation rate constants is that coherent oscillation is present at the beginning of the $R_{1\\rho}$ period, which distorts the signal decay. While we could wait until oscillation is subsided, the beginning of the relaxation period is particularly important, because $R_{1\\rho}$ relaxation is multiexponential. The initial slope of decay gives the averaged rate constant, which is what we would like to acquire. However, after time, the faster relaxing components have decayed more than the slower components, so that the slope no longer represents the average rate constant.\n",
    "\n",
    "Keeler et al. propose a solution to suppress oscillation at the beginning of the $R_{1\\rho}$ period, referred to as the REfocused CSA Rotating-frame Relaxation experiment (RECRR). In this experiment, the spin-locks (CW$_{\\pm x}$)  are switched in phase, and $\\pi$-pulses are inserted to invert the magnetization, as follows:$^1$ \n",
    "\n",
    "CW$_x$ - $\\pi_y$ - CW$_{-x}$ – CW$_{-x}$ - $\\pi_{-y}$ CW$_x$\n",
    "\n",
    "The spin-locks each have an integer number of rotor periods.\n",
    "\n",
    "We will investigate the RECRR here and compare its performance to the standard $R_{1\\rho}$ experiment\n",
    "\n",
    "[1] E.G. Keeler, K.J. Fritzsching, A.E. McDermott. *[J. Magn. Reson](https://doi.org/10.1016/j.jmr.2018.09.004)*, **2018**, 296, 130-137."
   ]
  },
  {
   "cell_type": "markdown",
   "id": "63a740e0",
   "metadata": {},
   "source": [
    "## Setup"
   ]
  },
  {
   "cell_type": "code",
   "execution_count": 2,
   "id": "6bff29be",
   "metadata": {},
   "outputs": [],
   "source": [
    "# SETUP SLEEPY\n",
    "import os\n",
    "os.chdir('../../../')"
   ]
  },
  {
   "cell_type": "code",
   "execution_count": 3,
   "id": "df921dbb",
   "metadata": {},
   "outputs": [],
   "source": [
    "import SLEEPY as sl\n",
    "import numpy as np\n",
    "import matplotlib.pyplot as plt"
   ]
  },
  {
   "cell_type": "markdown",
   "id": "e768b26c",
   "metadata": {},
   "source": [
    "## Build the system and Liouvillian"
   ]
  },
  {
   "cell_type": "code",
   "execution_count": 90,
   "id": "c94277dd",
   "metadata": {},
   "outputs": [],
   "source": [
    "ex0=sl.ExpSys(v0H=600,Nucs=['15N','1H'],vr=16000,pwdavg=sl.PowderAvg(),n_gamma=50)\n",
    "ex0.set_inter('dipole',i0=0,i1=1,delta=44000)\n",
    "ex0.set_inter('CSA',i=0,delta=113,euler=[0,23*np.pi/180,0])\n",
    "ex1=ex0.copy()\n",
    "ex1.set_inter('dipole',i0=0,i1=1,delta=44000,euler=[0,15*np.pi/180,0])\n",
    "ex1.set_inter('CSA',i=0,delta=113,euler=[[0,23*np.pi/180,0],[0,15*np.pi/180,0]])\n",
    "\n",
    "L=sl.Liouvillian(ex0,ex1)\n",
    "# L.kex=sl.Tools.twoSite_kex(tc=200e-6)\n",
    "_=L.add_relax('SpinDiffusion',i=1,k=100)"
   ]
  },
  {
   "cell_type": "markdown",
   "id": "e176483b",
   "metadata": {},
   "source": [
    "## Build the propagators and density matrices.\n",
    "We build the spin-locks on $x$ and $-x$, and $\\pi$-pulses on $y$ and $-y$\n",
    "\n",
    "Density matrix for $R_{1\\rho}$ and RECRR sequences are also constructed, including a basis set reduction for propagators and density matrices."
   ]
  },
  {
   "cell_type": "code",
   "execution_count": 91,
   "id": "fe32a420",
   "metadata": {},
   "outputs": [
    {
     "name": "stdout",
     "output_type": "stream",
     "text": [
      "State-space reduction: 32->16\n"
     ]
    }
   ],
   "source": [
    "Ux=L.Sequence().add_channel('15N',v1=25000).U()\n",
    "Umx=L.Sequence().add_channel('15N',v1=25000,phase=np.pi).U()\n",
    "Upiy=L.Udelta('15N',phase=np.pi/2)\n",
    "Upimy=L.Udelta('15N',phase=3*np.pi/2)\n",
    "\n",
    "R1p=sl.Rho('15Nx','15Nx')\n",
    "\n",
    "R1p,Ux,Umx,Upiy,Upimy=R1p.ReducedSetup(Ux,Umx,Upiy,Upimy)\n",
    "RECRR=R1p.copy_reduced()"
   ]
  },
  {
   "cell_type": "markdown",
   "id": "30cda579",
   "metadata": {},
   "source": [
    "The basic $R_{1\\rho}$ experiment only requires repetition of the `Ux` propagator, so we can simply use the `DetProp` function"
   ]
  },
  {
   "cell_type": "markdown",
   "id": "e4a72884",
   "metadata": {},
   "source": [
    "## Propagation and plotting"
   ]
  },
  {
   "cell_type": "code",
   "execution_count": 92,
   "id": "362755f4",
   "metadata": {},
   "outputs": [
    {
     "data": {
      "image/png": "[encoded data removed]",
      "text/plain": [
       "<Figure size 432x288 with 1 Axes>"
      ]
     },
     "metadata": {
      "needs_background": "light"
     },
     "output_type": "display_data"
    }
   ],
   "source": [
    "R1p.DetProp(Ux,n=800)\n",
    "_=R1p.plot()"
   ]
  },
  {
   "cell_type": "markdown",
   "id": "7eb685d5",
   "metadata": {},
   "source": [
    "At the beginning of the decay, we observe a loss of almost half of the signal, due to coherent contributions.\n",
    "\n",
    "We can also compare the the RECRR. Since additional rotor periods must be inserted into each of four spin-lock blocks, we cannot use the `DetProp` function. We do accelerate the calculation by building up the $x$ and $-x$ spin locks at each loop step, instead of recalculating `Ux**k` and `Umx**k` at every step."
   ]
  },
  {
   "cell_type": "code",
   "execution_count": 62,
   "id": "da8bf382",
   "metadata": {},
   "outputs": [
    {
     "data": {
      "text/plain": [
       "<AxesSubplot:xlabel='t / ms', ylabel='<$^{15}N_x$>'>"
      ]
     },
     "execution_count": 62,
     "metadata": {},
     "output_type": "execute_result"
    },
    {
     "data": {
      "image/png": "[encoded data removed]",
      "text/plain": [
       "<Figure size 432x288 with 1 Axes>"
      ]
     },
     "metadata": {
      "needs_background": "light"
     },
     "output_type": "display_data"
    }
   ],
   "source": [
    "Umx0=Umx\n",
    "Ux0=Ux\n",
    "RECRR()\n",
    "for k in range(200):\n",
    "    RECRR.reset()\n",
    "    (Umx0*Upimy*Umx0*Ux0*Upiy*Ux0*RECRR)()\n",
    "    Umx0=Umx*Umx0\n",
    "    Ux0=Ux*Ux0\n",
    "_=RECRR.plot()"
   ]
  },
  {
   "cell_type": "markdown",
   "id": "682717cf",
   "metadata": {},
   "source": [
    "Indeed, oscillations at the beginning of the decay curve have been almost entirely removed. However, it is worth noting that the decay rate at the beginning of the curve appears to be faster than with the standard $R_{1\\rho}$ experiment. We overlay the two curves, scaling the RECRR curve to match the beginning of the non-coherent decay of the $R_{1\\rho}$ curve."
   ]
  },
  {
   "cell_type": "markdown",
   "id": "fc875e95",
   "metadata": {},
   "source": [
    "## Single crystal behavior"
   ]
  },
  {
   "cell_type": "code",
   "execution_count": 94,
   "id": "f96a050f",
   "metadata": {},
   "outputs": [
    {
     "name": "stdout",
     "output_type": "stream",
     "text": [
      "State-space reduction: 32->16\n"
     ]
    },
    {
     "data": {
      "image/png": "[encoded data removed]",
      "text/plain": [
       "<Figure size 432x288 with 1 Axes>"
      ]
     },
     "metadata": {
      "needs_background": "light"
     },
     "output_type": "display_data"
    },
    {
     "data": {
      "image/png": "[encoded data removed]",
      "text/plain": [
       "<Figure size 432x288 with 1 Axes>"
      ]
     },
     "metadata": {
      "needs_background": "light"
     },
     "output_type": "display_data"
    }
   ],
   "source": [
    "ex0=sl.ExpSys(v0H=600,Nucs=['15N','1H'],vr=16000,pwdavg=sl.PowderAvg()[3],n_gamma=50)\n",
    "ex0.set_inter('dipole',i0=0,i1=1,delta=44000)\n",
    "ex0.set_inter('CSA',i=0,delta=113,euler=[0,23*np.pi/180,0])\n",
    "ex1=ex0.copy()\n",
    "ex1.set_inter('dipole',i0=0,i1=1,delta=44000,euler=[0,15*np.pi/180,0])\n",
    "ex1.set_inter('CSA',i=0,delta=113,euler=[[0,23*np.pi/180,0],[0,15*np.pi/180,0]])\n",
    "\n",
    "L=sl.Liouvillian(ex0,ex1)\n",
    "L.kex=sl.Tools.twoSite_kex(tc=200e-6)\n",
    "# SpinDiffusion makes the relaxation closer to monoexponential\n",
    "L.add_relax('SpinDiffusion',i=1,k=100)\n",
    "\n",
    "Ux=L.Sequence().add_channel('15N',v1=25000).U()\n",
    "Umx=L.Sequence().add_channel('15N',v1=25000,phase=np.pi).U()\n",
    "Upiy=L.Udelta('15N',phase=np.pi/2)\n",
    "Upimy=L.Udelta('15N',phase=3*np.pi/2)\n",
    "\n",
    "R1p=sl.Rho('15Nx','15Nx')\n",
    "\n",
    "R1p,Ux,Umx,Upiy,Upimy=R1p.ReducedSetup(Ux,Umx,Upiy,Upimy)\n",
    "RECRR=R1p.copy_reduced()\n",
    "\n",
    "r1p=R1p.extract_decay_rates(Ux,pwdavg=True)\n",
    "R1p.DetProp(Ux,n=800)\n",
    "\n",
    "ax=R1p.plot()\n",
    "R1p.reset()\n",
    "sc=0.9\n",
    "\n",
    "ax.plot(R1p.t_axis*1e3,\n",
    "        sc*np.exp(-R1p.t_axis*r1p),linestyle=':',color='black')\n",
    "\n",
    "Umx0=Umx\n",
    "Ux0=Ux\n",
    "RECRR()\n",
    "for k in range(200):\n",
    "    RECRR.reset()\n",
    "    (Umx0*Upimy*Umx0*Ux0*Upiy*Ux0*RECRR)()\n",
    "    Umx0=Umx*Umx0\n",
    "    Ux0=Ux*Ux0\n",
    "ax=RECRR.plot()\n",
    "_=ax.plot(R1p.t_axis*1e3,\n",
    "        0.65*np.exp(-R1p.t_axis*R1p.extract_decay_rates(Ux,pwdavg=True)),\n",
    "       linestyle=':',color='black')"
   ]
  }
 ],
 "metadata": {
  "kernelspec": {
   "display_name": "Python 3",
   "language": "python",
   "name": "python3"
  },
  "language_info": {
   "codemirror_mode": {
    "name": "ipython",
    "version": 3
   },
   "file_extension": ".py",
   "mimetype": "text/x-python",
   "name": "python",
   "nbconvert_exporter": "python",
   "pygments_lexer": "ipython3",
   "version": "3.8.8"
  }
 },
 "nbformat": 4,
 "nbformat_minor": 5
}
