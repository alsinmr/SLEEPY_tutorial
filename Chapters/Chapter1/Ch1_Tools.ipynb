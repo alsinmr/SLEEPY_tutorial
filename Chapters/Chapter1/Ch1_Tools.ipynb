{
 "cells": [
  {
   "cell_type": "markdown",
   "id": "517484d2",
   "metadata": {},
   "source": [
    "# <font  color = \"#0093AF\">Defaults, Constants, and Tools</font>"
   ]
  },
  {
   "cell_type": "markdown",
   "id": "40408507",
   "metadata": {},
   "source": [
    "SLEEPY relies on a few default settings, numerical constants, and includes a toolbox. These are all found in the main SLEEPY module:\n",
    "```\n",
    "sl.Defaults     #Python dictionary containing defaults\n",
    "sl.Constants    #Python dictionary containing constants\n",
    "sl.Tools        #Pythong sub-module containing tools\n",
    "```\n",
    "\n",
    "These are summarized here"
   ]
  },
  {
   "cell_type": "markdown",
   "id": "2f4a5243",
   "metadata": {},
   "source": [
    "## Setup"
   ]
  },
  {
   "cell_type": "code",
   "execution_count": 1,
   "id": "a79f7cb9",
   "metadata": {},
   "outputs": [],
   "source": [
    "# SETUP SLEEPY\n",
    "import os\n",
    "os.chdir('../../..')"
   ]
  },
  {
   "cell_type": "code",
   "execution_count": 2,
   "id": "3608d837",
   "metadata": {},
   "outputs": [],
   "source": [
    "import SLEEPY as sl\n",
    "import numpy as np\n",
    "import matplotlib.pyplot as plt"
   ]
  },
  {
   "cell_type": "markdown",
   "id": "1ae7faab",
   "metadata": {},
   "source": [
    "## Defaults\n",
    "SLEEPY defaults include data types for real and complex data (`rtype`,`ctype`), whether or not to use parallel processing (`parallel`), whether or not to cache propagators for steps in the rotor cycle (`cache`), the number of cores to use for parallel processing (`ncores`), and whether to print information about calculations (`verbose`).\n",
    "\n",
    "At the moment, we do not recommend changing the default data types. Numpy does not support higher precision data types for all calculations, and lower precision data types do not result in significant speed up in calculations (although should reduce memory usage). Parallel processing is often not beneficial, as the implemented algorithms in numpy are already fairly optimized for parallel calculations, and parallelism introduces communication overhead. Exceptions may occur for larger powder averages and possibly on different systems. The cache stores propagators for individual steps in the rotor period; it may be turned off if memory usage is too hight. ncores set to None will use all cores available for parallel processing, but an integer may also be provided. Verbosity can be suppressed, especially where many simulations should be performed.\n",
    "\n",
    "Note that adjusting cache and parallel settings after building a Liouville matrix may result in a propagator cache that is not properly set up."
   ]
  },
  {
   "cell_type": "code",
   "execution_count": 3,
   "id": "f62082a7",
   "metadata": {},
   "outputs": [
    {
     "data": {
      "text/plain": [
       "{'rtype': numpy.float64,\n",
       " 'ctype': numpy.complex128,\n",
       " 'parallel': False,\n",
       " 'cache': True,\n",
       " 'ncores': None,\n",
       " 'verbose': True}"
      ]
     },
     "execution_count": 3,
     "metadata": {},
     "output_type": "execute_result"
    }
   ],
   "source": [
    "sl.Defaults"
   ]
  },
  {
   "cell_type": "markdown",
   "id": "8c687600",
   "metadata": {},
   "source": [
    "# Constants"
   ]
  },
  {
   "cell_type": "markdown",
   "id": "04402974",
   "metadata": {},
   "source": [
    "SLEEPY loads a few physical constants for calculations. \n",
    "\n",
    "* $h$ = $6.62607015\\times10^{-34}$ J$\\cdot$s: Planck constant\n",
    "* $k_B$ = $1.380649\\times10^{-23}$ J/K: Boltzmann constant\n",
    "* $\\mu_B$ = $-13996244936.072704$ Hz/T: Bohr magneton\n",
    "* $g_e$ = $2.00231930436092$ : Free electron g-factor (unitless)\n",
    "* $\\mu_n$ = $7622593.158495312$ Hz/T: Nuclear magneton\n",
    "* $\\mu_0$ = $1.256637\\times10^{-6}$ T$^2\\cdot$m$^3$/J: Vacuum Permeability\n",
    "\n",
    "The Planck constant is used to calculate energy from frequencies, and the Boltzmann constant is used with these energies to calculate equilibrium density matrices. The Bohr magneton is used with the free electron g-factor to calculate the electron Gyromagnetic ratio. This is in turn used as reference for the electron carrier frequency. $\\mu_0$ is used for calculating dipole couplings.\n",
    "\n",
    "These constants can be user-adjusted. Note that adjusting $\\mu_n$ after loading SLEEPY will *not* affect the nuclear gyromagnetic ratios because these are calculated when SLEEPY loads. However, adjusting $g_e$ will change the electron gyromagnetic ratio and in turn, change the electron carrier frequency (resulting in shifting spectra). Adjustments to $h$ and $k_B$ will affect thermal equilibrium calculations, and adjusting $\\mu_0$ will change dipole coupling calculations."
   ]
  },
  {
   "cell_type": "code",
   "execution_count": 4,
   "id": "0cd34d18",
   "metadata": {},
   "outputs": [
    {
     "data": {
      "text/plain": [
       "{'h': 6.62607015e-34,\n",
       " 'kB': 1.380649e-23,\n",
       " 'mub': -13996244936.072704,\n",
       " 'ge': 2.0023193043609235,\n",
       " 'mun': 7622593.158495312,\n",
       " 'mu0': 1.256637e-06}"
      ]
     },
     "execution_count": 4,
     "metadata": {},
     "output_type": "execute_result"
    }
   ],
   "source": [
    "sl.Constants"
   ]
  },
  {
   "cell_type": "markdown",
   "id": "1085d32e",
   "metadata": {},
   "source": [
    "## Tools"
   ]
  },
  {
   "cell_type": "markdown",
   "id": "5c531c32",
   "metadata": {},
   "source": [
    "SLEEPY has a variety of tools for help setting up simulations."
   ]
  },
  {
   "cell_type": "markdown",
   "id": "79361075",
   "metadata": {},
   "source": [
    "### NucInfo\n",
    "`sl.Tools.NucInfo` provides information about nuclei. It may be indexed (`NucInfo[...]`) with the name of a nucleus, or called as a function. Using the chemical symbol without mass number will return all isotopes of that element. Calling by default returns the gyromagnetic ratio in Hz/T. One may also set `info=...` and request 'gyro', 'mass', 'spin', 'abund', or 'all', which returns a dictionary with all values. For calls (`NucInfo(...)`), if only the chemical symbol is provided ('H', 'N','U', etc.), then it will try to guess the desired nucleus (priority: spin 1/2, non-zero spin, abundance, so 'H'->'1H', 'C'->'13C', 'U'->'235U')."
   ]
  },
  {
   "cell_type": "code",
   "execution_count": 5,
   "id": "47344f2a",
   "metadata": {},
   "outputs": [
    {
     "data": {
      "text/plain": [
       "42577478.05321166"
      ]
     },
     "execution_count": 5,
     "metadata": {},
     "output_type": "execute_result"
    }
   ],
   "source": [
    "sl.Tools.NucInfo('H')  #Returns 1H gyroratio "
   ]
  },
  {
   "cell_type": "code",
   "execution_count": 6,
   "id": "e9f15ee3",
   "metadata": {},
   "outputs": [
    {
     "data": {
      "text/plain": [
       "{'Nuc': 'C',\n",
       " 'mass': 13.0,\n",
       " 'spin': 0.5,\n",
       " 'gyro': 10708398.762252755,\n",
       " 'abundance': 0.010700000000000001}"
      ]
     },
     "execution_count": 6,
     "metadata": {},
     "output_type": "execute_result"
    }
   ],
   "source": [
    "sl.Tools.NucInfo('13C',info='all')  #Returns all info about 13C"
   ]
  },
  {
   "cell_type": "code",
   "execution_count": 7,
   "id": "8ad5e5b0",
   "metadata": {},
   "outputs": [
    {
     "data": {
      "text/plain": [
       "                     0\n",
       "Nuc                  N\n",
       "mass              15.0\n",
       "spin               0.5\n",
       "gyro        -4317266.6\n",
       "abundance      0.00368\n",
       "\n",
       "[1 experiments with 5 parameters]"
      ]
     },
     "execution_count": 7,
     "metadata": {},
     "output_type": "execute_result"
    }
   ],
   "source": [
    "sl.Tools.NucInfo['15N']  #Returns all info about 15N (exact match required)"
   ]
  },
  {
   "cell_type": "code",
   "execution_count": 8,
   "id": "a36d984e",
   "metadata": {},
   "outputs": [
    {
     "data": {
      "text/plain": [
       "                     0           1           2\n",
       "Nuc                  O           O           O\n",
       "mass              16.0        17.0        18.0\n",
       "spin               0.0         2.5         0.0\n",
       "gyro               0.0  -5774236.2         0.0\n",
       "abundance   0.99757000  0.00037999  0.00204999\n",
       "\n",
       "[3 experiments with 5 parameters]"
      ]
     },
     "execution_count": 8,
     "metadata": {},
     "output_type": "execute_result"
    }
   ],
   "source": [
    "sl.Tools.NucInfo['O']"
   ]
  },
  {
   "cell_type": "markdown",
   "id": "04f22089",
   "metadata": {},
   "source": [
    "### dipole_coupling\n",
    "Calculates the dipole coupling between two nuclei (or electron). Input is the distance between the nuclei in Angstroms and the names of the two nuclei. Output is the *anisotropy* (`delta`) of the dipole coupling in Hz, which is twice as big as $D$ which is often referred to as the dipole coupling. If using this function, the output value should be assigned to `delta` when adding a dipole coupling to a system.\n",
    "\n",
    "e.g.:\n",
    "```\n",
    "ex.set_inter('dipole',i0=0,i1=1,delta=sl.Tools.dipole_coupling(.102,'15N','1H'))\n",
    "```"
   ]
  },
  {
   "cell_type": "code",
   "execution_count": 9,
   "id": "43689ce1",
   "metadata": {},
   "outputs": [
    {
     "data": {
      "text/plain": [
       "46656.37350022942"
      ]
     },
     "execution_count": 9,
     "metadata": {},
     "output_type": "execute_result"
    }
   ],
   "source": [
    "sl.Tools.dipole_coupling(.109,'1H','13C')"
   ]
  },
  {
   "cell_type": "markdown",
   "id": "9dd7a288",
   "metadata": {},
   "source": [
    "### Exchange matrices\n",
    "Sleepy calculates a number of different exchange matrices. Note that we provide a correlation time to define these matrices. This correlation time is the inverse of the non-zero eigenvalue (or inverse of the mean of the non-zero eigenvalues). This effective correlation time is the correct value to be applied, for example, for model-free calculations.\n",
    "\n",
    "* twoSite_kex\n",
    "\n",
    "Two-site exchange with correlation time and optionally populations as input. \n",
    "\n",
    "* nSite_sym\n",
    "\n",
    "Returns an exchange matrix over $n$-sites, where all sites are equally populated, and all exchange rate constants are the same. Input is the number of sites and the correlation time. Note that while there are $n-1$ non-zero eigenvalues to this matrix, all eigenvalues are the same.\n",
    "\n",
    "* fourSite_sym\n",
    "\n",
    "Same as above, but specifically for four sites. Usually paired with tetrahedral hopping.\n",
    "\n",
    "* tumbling\n",
    "\n",
    "Takes either a 3-site or 4-site symmetric hop, or a \"repulsion\" powder average, and calculates an exchange matrix to mimic tumbling. The rates are adjusted so that the mean non-zero eigenvalue matches the input correlation time. Also returns Euler angles (usually, not directly used by the user; rather use `sl.Tools.SetupTumbling`, see below). Number of angles is determined by an integer quality factor, `q`. Tumbling does not currently include an average around the $\\gamma$-angle.\n",
    "\n",
    "\n",
    "\n",
    "[1] G. Lipari, A. Szabo. [J. Am. Chem. Soc.](https://doi.org/10.1021/ja00381a010), **1982**, 104, 4559-4579."
   ]
  },
  {
   "cell_type": "code",
   "execution_count": 13,
   "id": "0d1835a5",
   "metadata": {},
   "outputs": [
    {
     "name": "stdout",
     "output_type": "stream",
     "text": [
      "[[-250.  750.]\n",
      " [ 250. -750.]]\n"
     ]
    }
   ],
   "source": [
    "print(sl.Tools.twoSite_kex(tc=1e-3,p1=.75))  #Two-site, asymmetric exchange"
   ]
  },
  {
   "cell_type": "code",
   "execution_count": 14,
   "id": "f74deaf1",
   "metadata": {},
   "outputs": [
    {
     "name": "stdout",
     "output_type": "stream",
     "text": [
      "[[-800.  200.  200.  200.  200.]\n",
      " [ 200. -800.  200.  200.  200.]\n",
      " [ 200.  200. -800.  200.  200.]\n",
      " [ 200.  200.  200. -800.  200.]\n",
      " [ 200.  200.  200.  200. -800.]]\n"
     ]
    }
   ],
   "source": [
    "print(sl.Tools.nSite_sym(n=5,tc=1e-3))    #Five-site, symmetric exchange"
   ]
  },
  {
   "cell_type": "code",
   "execution_count": 34,
   "id": "19f48811",
   "metadata": {},
   "outputs": [
    {
     "name": "stdout",
     "output_type": "stream",
     "text": [
      "-768.1  180.7    0.0  173.4  173.2  119.8    0.0    0.0    0.0  121.0\n",
      " 180.7 -752.9    0.0    0.0    0.0  180.9   28.9  180.3    0.0  182.2\n",
      "   0.0    0.0 -753.7  181.6  180.9    0.0  180.8   28.9  181.5    0.0\n",
      " 173.4    0.0  181.6 -769.3  120.0    0.0  121.3    0.0    0.0  173.1\n",
      " 173.2    0.0  180.9  120.0 -768.4  173.7    0.0    0.0  120.5    0.0\n",
      " 119.8  180.9    0.0    0.0  173.7 -768.1    0.0  120.2  173.4    0.0\n",
      "   0.0   28.9  180.8  121.3    0.0    0.0 -797.5  173.3  119.7  173.4\n",
      "   0.0  180.3   28.9    0.0    0.0  120.2  173.3 -796.5  173.6  120.2\n",
      "   0.0    0.0  181.5    0.0  120.5  173.4  119.7  173.6 -768.8    0.0\n",
      " 121.0  182.2    0.0  173.1    0.0    0.0  173.4  120.2    0.0 -769.9\n"
     ]
    }
   ],
   "source": [
    "kex,euler=sl.Tools.tumbling(q=2,tc=1e-3)\n",
    "for k in kex:\n",
    "    print(' '.join([f'{k0:6.1f}' for k0 in k]))"
   ]
  },
  {
   "cell_type": "markdown",
   "id": "d632794e",
   "metadata": {},
   "source": [
    "Note that the eigenvalues of the above matrix are not all identical, but span a fairly small range where the amplitude is significant, making it a good approximation for tumbling. The inverse of the weighted average of the eigenvalues matches the input correlation time (use `kex2A` to verify)"
   ]
  },
  {
   "cell_type": "code",
   "execution_count": 38,
   "id": "75d48304",
   "metadata": {},
   "outputs": [
    {
     "name": "stdout",
     "output_type": "stream",
     "text": [
      "k:1171.6, A:0.00\n",
      "k:1033.0, A:0.18\n",
      "k:1024.3, A:0.20\n",
      "k:1012.3, A:0.19\n",
      "k:1010.6, A:0.19\n",
      "k:938.9, A:0.24\n",
      "k:534.8, A:0.00\n",
      "k:526.2, A:0.00\n",
      "k:461.6, A:0.00\n"
     ]
    }
   ],
   "source": [
    "_,_,tc,A=sl.Tools.kex2A(kex,euler)\n",
    "for tc0,A0 in zip(tc,A):\n",
    "    print(f'k:{1/tc0:.1f}, A:{A0:.2f}')"
   ]
  },
  {
   "cell_type": "code",
   "execution_count": 40,
   "id": "b5e54a29",
   "metadata": {},
   "outputs": [
    {
     "name": "stdout",
     "output_type": "stream",
     "text": [
      "0.001\n"
     ]
    }
   ],
   "source": [
    "kavg=((1/tc)*A).sum()\n",
    "print(1/kavg)"
   ]
  },
  {
   "cell_type": "code",
   "execution_count": null,
   "id": "0a41af13",
   "metadata": {},
   "outputs": [],
   "source": []
  }
 ],
 "metadata": {
  "kernelspec": {
   "display_name": "Python 3",
   "language": "python",
   "name": "python3"
  },
  "language_info": {
   "codemirror_mode": {
    "name": "ipython",
    "version": 3
   },
   "file_extension": ".py",
   "mimetype": "text/x-python",
   "name": "python",
   "nbconvert_exporter": "python",
   "pygments_lexer": "ipython3",
   "version": "3.8.8"
  }
 },
 "nbformat": 4,
 "nbformat_minor": 5
}
