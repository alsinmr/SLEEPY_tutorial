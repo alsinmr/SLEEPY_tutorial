{
 "cells": [
  {
   "cell_type": "markdown",
   "id": "517484d2",
   "metadata": {},
   "source": [
    "# <font  color = \"#0093AF\">Defaults, Constants, and Tools</font>"
   ]
  },
  {
   "cell_type": "markdown",
   "id": "40408507",
   "metadata": {},
   "source": [
    "SLEEPY relies on a few default settings, numerical constants, and includes a toolbox. These are all found in the main SLEEPY module:\n",
    "```\n",
    "sl.Defaults     #Python dictionary containing defaults\n",
    "sl.Constants    #Python dictionary containing constants\n",
    "sl.Tools        #Pythong sub-module containing tools\n",
    "```\n",
    "\n",
    "These are summarized here"
   ]
  },
  {
   "cell_type": "markdown",
   "id": "2f4a5243",
   "metadata": {},
   "source": [
    "## Setup"
   ]
  },
  {
   "cell_type": "code",
   "execution_count": 1,
   "id": "a79f7cb9",
   "metadata": {},
   "outputs": [],
   "source": [
    "# SETUP SLEEPY\n",
    "import os\n",
    "os.chdir('../../..')"
   ]
  },
  {
   "cell_type": "code",
   "execution_count": 2,
   "id": "3608d837",
   "metadata": {},
   "outputs": [],
   "source": [
    "import SLEEPY as sl\n",
    "import numpy as np\n",
    "import matplotlib.pyplot as plt"
   ]
  },
  {
   "cell_type": "markdown",
   "id": "1ae7faab",
   "metadata": {},
   "source": [
    "## Defaults\n",
    "SLEEPY defaults include data types for real and complex data (`rtype`,`ctype`), whether or not to use parallel processing (`parallel`), whether or not to cache propagators for steps in the rotor cycle (`cache`), the number of cores to use for parallel processing (`ncores`), and whether to print information about calculations (`verbose`).\n",
    "\n",
    "At the moment, we do not recommend changing the default data types. Numpy does not support higher precision data types for all calculations, and lower precision data types do not result in significant speed up in calculations (although should reduce memory usage). Parallel processing is often not beneficial, as the implemented algorithms in numpy are already fairly optimized for parallel calculations, and parallelism introduces communication overhead. Exceptions may occur for larger powder averages and possibly on different systems. The cache stores propagators for individual steps in the rotor period; it may be turned off if memory usage is too hight. ncores set to None will use all cores available for parallel processing, but an integer may also be provided. Verbosity can be suppressed, especially where many simulations should be performed.\n",
    "\n",
    "Note that adjusting cache and parallel settings after building a Liouville matrix may result in a propagator cache that is not properly set up."
   ]
  },
  {
   "cell_type": "code",
   "execution_count": 6,
   "id": "f62082a7",
   "metadata": {},
   "outputs": [
    {
     "data": {
      "text/plain": [
       "{'rtype': numpy.float64,\n",
       " 'ctype': numpy.complex128,\n",
       " 'parallel': False,\n",
       " 'cache': True,\n",
       " 'ncores': None,\n",
       " 'verbose': True}"
      ]
     },
     "execution_count": 6,
     "metadata": {},
     "output_type": "execute_result"
    }
   ],
   "source": [
    "sl.Defaults"
   ]
  },
  {
   "cell_type": "markdown",
   "id": "8c687600",
   "metadata": {},
   "source": [
    "# Constants"
   ]
  },
  {
   "cell_type": "code",
   "execution_count": 7,
   "id": "0cd34d18",
   "metadata": {},
   "outputs": [
    {
     "data": {
      "text/plain": [
       "{'h': 6.62607015e-34,\n",
       " 'kB': 1.380649e-23,\n",
       " 'mub': -13996244936.072704,\n",
       " 'ge': 2.0023193043609235,\n",
       " 'muen': 5.05078369931e-27}"
      ]
     },
     "execution_count": 7,
     "metadata": {},
     "output_type": "execute_result"
    }
   ],
   "source": [
    "sl.Constants"
   ]
  },
  {
   "cell_type": "code",
   "execution_count": null,
   "id": "684f09c4",
   "metadata": {},
   "outputs": [],
   "source": []
  }
 ],
 "metadata": {
  "kernelspec": {
   "display_name": "Python 3",
   "language": "python",
   "name": "python3"
  },
  "language_info": {
   "codemirror_mode": {
    "name": "ipython",
    "version": 3
   },
   "file_extension": ".py",
   "mimetype": "text/x-python",
   "name": "python",
   "nbconvert_exporter": "python",
   "pygments_lexer": "ipython3",
   "version": "3.7.3"
  }
 },
 "nbformat": 4,
 "nbformat_minor": 5
}
