{
 "cells": [
  {
   "cell_type": "markdown",
   "id": "112fdc17",
   "metadata": {},
   "source": [
    "# <img src=\"https://raw.githubusercontent.com/alsinmr/SLEEPY_tutorial/033b817f027ebdcd6493a1f42ab9fdec290dbee8/JupyterBook/favicon.png\"  width=40> <font  color = \"#0093AF\"> SLEEPY Colab Template\n",
    "Here we provide the basic SLEEPY setup in Google Colab, along with some suggestions on getting started."
   ]
  },
  {
   "cell_type": "markdown",
   "id": "25bae5ec",
   "metadata": {},
   "source": [
    "## Setup"
   ]
  },
  {
   "cell_type": "code",
   "execution_count": 3,
   "id": "5d982524",
   "metadata": {},
   "outputs": [],
   "source": [
    "# SETUP SLEEPY\n",
    "!pip install sleepy-nmr"
   ]
  },
  {
   "cell_type": "code",
   "execution_count": 4,
   "id": "c4639eb7",
   "metadata": {},
   "outputs": [],
   "source": [
    "import SLEEPY as sl\n",
    "import numpy as np\n",
    "import matplotlib.pyplot as plt"
   ]
  },
  {
   "cell_type": "markdown",
   "id": "a6b0651b",
   "metadata": {},
   "source": [
    "## Run the simulation"
   ]
  },
  {
   "cell_type": "code",
   "execution_count": 27,
   "id": "1cb03062",
   "metadata": {},
   "outputs": [],
   "source": [
    "# Experimental system settings (use two or more for exchange)\n",
    "ex0=sl.ExpSys(v0H=...,Nucs=[...,...],vr=60000)\n",
    "ex0.set_inter('...',i0=...,i1=..,...)\n",
    "ex1=ex0.copy()"
   ]
  },
  {
   "cell_type": "code",
   "execution_count": null,
   "id": "6f25e072",
   "metadata": {},
   "outputs": [],
   "source": [
    "# Build the Liouvillian\n",
    "L=sl.Liouvillian(ex0,ex1,kex=sl.Tools.twoSite_kex(...))"
   ]
  },
  {
   "cell_type": "code",
   "execution_count": null,
   "id": "8f65fd92",
   "metadata": {},
   "outputs": [],
   "source": [
    "# Add a sequence\n",
    "seq=L.Sequence()\n",
    "# Add a channel\n",
    "seq.add_channel('...',t=...,v1=...,phase=...,voff=...)"
   ]
  },
  {
   "cell_type": "code",
   "execution_count": null,
   "id": "fccae0cb",
   "metadata": {},
   "outputs": [],
   "source": [
    "# Density matrix\n",
    "rho=sl.Rho(rho0='...',detect='...')"
   ]
  },
  {
   "cell_type": "code",
   "execution_count": null,
   "id": "996dbb3b",
   "metadata": {},
   "outputs": [],
   "source": [
    "# Run the simulation\n",
    "rho.DetProp(seq,n=...,n_per_seq=...)"
   ]
  },
  {
   "cell_type": "code",
   "execution_count": null,
   "id": "81bd97d5",
   "metadata": {},
   "outputs": [],
   "source": [
    "# Plot the results\n",
    "rho.plot(FT=...)"
   ]
  }
 ],
 "metadata": {
  "kernelspec": {
   "display_name": "Python 3",
   "language": "python",
   "name": "python3"
  },
  "language_info": {
   "codemirror_mode": {
    "name": "ipython",
    "version": 3
   },
   "file_extension": ".py",
   "mimetype": "text/x-python",
   "name": "python",
   "nbconvert_exporter": "python",
   "pygments_lexer": "ipython3",
   "version": "3.7.3"
  }
 },
 "nbformat": 4,
 "nbformat_minor": 5
}
