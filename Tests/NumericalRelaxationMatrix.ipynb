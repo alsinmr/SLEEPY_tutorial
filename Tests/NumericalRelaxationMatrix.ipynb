{
 "cells": [
  {
   "cell_type": "code",
   "execution_count": 125,
   "id": "e252bd1e",
   "metadata": {},
   "outputs": [],
   "source": [
    "# SETUP SLEEPY\n",
    "import os\n",
    "os.chdir('../../')"
   ]
  },
  {
   "cell_type": "code",
   "execution_count": 126,
   "id": "b194aee9",
   "metadata": {},
   "outputs": [],
   "source": [
    "import SLEEPY as sl\n",
    "import numpy as np\n",
    "import matplotlib.pyplot as plt\n",
    "sl.Defaults['verbose']=False\n",
    "from copy import copy"
   ]
  },
  {
   "cell_type": "code",
   "execution_count": 127,
   "id": "d60d1fdb",
   "metadata": {},
   "outputs": [
    {
     "data": {
      "text/plain": [
       "<AxesSubplot:xlabel='t / s', ylabel='<$^{15}N_z$>'>"
      ]
     },
     "execution_count": 127,
     "metadata": {},
     "output_type": "execute_result"
    },
    {
     "data": {
      "image/png": "[encoded data removed]",
      "text/plain": [
       "<Figure size 432x288 with 1 Axes>"
      ]
     },
     "metadata": {
      "needs_background": "light"
     },
     "output_type": "display_data"
    }
   ],
   "source": [
    "ex0=sl.ExpSys(600,Nucs=['1H','15N'],LF=True,pwdavg='alpha0beta45')\n",
    "ex0.set_inter('dipole',i0=0,i1=1,delta=22000)\n",
    "ex1=ex0.copy()\n",
    "ex1.set_inter('dipole',i0=0,i1=1,delta=22000,euler_d=[0,15,0])\n",
    "\n",
    "L=sl.Liouvillian(ex0,ex1,kex=sl.Tools.twoSite_kex(1e-10))\n",
    "\n",
    "sl.Rho('15Nz','15Nz').DetProp(L.U(.1),n=500).plot()"
   ]
  },
  {
   "cell_type": "code",
   "execution_count": 135,
   "id": "e8f72f45",
   "metadata": {},
   "outputs": [],
   "source": [
    "a,b=np.linalg.eig(L[0].L(0))\n",
    "bi=np.linalg.pinv(b)\n",
    "i=a.real<-1e8\n",
    "b[:,i]=0\n",
    "bi[i]=0\n",
    "Lnew=b@np.diag(a)@bi\n",
    "# Lnew=0.5*(Lnew[:16][:,:16]+Lnew[16:][:,16:])"
   ]
  },
  {
   "cell_type": "code",
   "execution_count": 136,
   "id": "5bc03bd9",
   "metadata": {},
   "outputs": [],
   "source": [
    "ex=sl.ExpSys(600,Nucs=['1H','15N'],LF=False,pwdavg='alpha0beta45')\n",
    "L1=sl.Liouvillian(ex,ex).add_relax(Lnew)"
   ]
  },
  {
   "cell_type": "code",
   "execution_count": 137,
   "id": "0b11c6d0",
   "metadata": {},
   "outputs": [
    {
     "data": {
      "text/plain": [
       "<AxesSubplot:xlabel='t / s', ylabel='<$^{15}N_z$>'>"
      ]
     },
     "execution_count": 137,
     "metadata": {},
     "output_type": "execute_result"
    },
    {
     "data": {
      "image/png": "[encoded data removed]",
      "text/plain": [
       "<Figure size 432x288 with 1 Axes>"
      ]
     },
     "metadata": {
      "needs_background": "light"
     },
     "output_type": "display_data"
    }
   ],
   "source": [
    "sl.Rho('15Nz','15Nz').DetProp(L1.U(.1),n=500).plot()"
   ]
  },
  {
   "cell_type": "code",
   "execution_count": 115,
   "id": "9597c3e5",
   "metadata": {},
   "outputs": [
    {
     "data": {
      "text/plain": [
       "array([[-5.00000000e+09-1.18196476e-06j, -1.66566978e-06+8.63937980e+03j,\n",
       "         7.35586465e-07+8.63937980e+03j, ...,\n",
       "         2.41885335e-06-1.60227357e-06j,  5.25853169e-07-1.25901773e-06j,\n",
       "        -2.40395113e-06-7.89063051e-07j],\n",
       "       [-5.84337431e-07+8.63937980e+03j, -5.00000000e+09+7.64553706e+08j,\n",
       "         1.36570956e-06+1.57964764e+04j, ...,\n",
       "         3.03166360e-07-2.14488978e-06j,  1.25588301e-07+1.24290314e-06j,\n",
       "        -1.28336735e-07+1.27550160e-06j],\n",
       "       [-1.00865325e-07+8.63937980e+03j,  1.65978553e-06+1.57964764e+04j,\n",
       "        -5.00000000e+09-7.53979078e+09j, ...,\n",
       "        -3.25701790e-08-1.10016719e-07j, -3.38437849e-06+3.06942638e-07j,\n",
       "        -3.12107123e-09+8.07483665e-07j],\n",
       "       ...,\n",
       "       [ 1.11904839e-06+3.25275146e-06j, -5.35803520e-06+2.64110258e-06j,\n",
       "        -8.63591340e-07+1.19016652e-06j, ...,\n",
       "        -5.00000000e+09+7.53983877e+09j,  2.27691526e-06+8.20300250e+03j,\n",
       "        -3.48478079e-07-1.96998505e+04j],\n",
       "       [ 1.41259800e-06+2.36244892e-06j, -1.93980393e-06+9.11338848e-07j,\n",
       "        -1.55528755e-06-3.71678425e-07j, ...,\n",
       "         2.36654231e-06+8.20300250e+03j, -5.00000000e+09-7.64505707e+08j,\n",
       "        -6.96405117e-07-1.96998505e+04j],\n",
       "       [-4.33900587e-06+6.90575689e-07j,  2.47392826e-07-2.42043537e-07j,\n",
       "        -1.49871906e-07+2.65323800e-07j, ...,\n",
       "         5.90982345e-07-1.96998505e+04j, -1.06415838e-06-1.96998505e+04j,\n",
       "        -5.00000000e+09+8.23987648e-07j]])"
      ]
     },
     "execution_count": 115,
     "metadata": {},
     "output_type": "execute_result"
    }
   ],
   "source": [
    "L1[0].L(0)"
   ]
  },
  {
   "cell_type": "code",
   "execution_count": 114,
   "id": "e933a2db",
   "metadata": {},
   "outputs": [
    {
     "data": {
      "text/plain": [
       "array([[-5.e+09+0.00000000e+00j,  0.e+00+8.63937980e+03j,\n",
       "         0.e+00+8.63937980e+03j, ...,  0.e+00+0.00000000e+00j,\n",
       "         0.e+00+0.00000000e+00j,  0.e+00+0.00000000e+00j],\n",
       "       [ 0.e+00+8.63937980e+03j, -5.e+09+3.82292650e+08j,\n",
       "         0.e+00+1.57964764e+04j, ...,  0.e+00+0.00000000e+00j,\n",
       "         0.e+00+0.00000000e+00j,  0.e+00+0.00000000e+00j],\n",
       "       [ 0.e+00+8.63937980e+03j,  0.e+00+1.57964764e+04j,\n",
       "        -5.e+09-3.76987959e+09j, ...,  0.e+00+0.00000000e+00j,\n",
       "         0.e+00+0.00000000e+00j,  0.e+00+0.00000000e+00j],\n",
       "       ...,\n",
       "       [ 0.e+00+0.00000000e+00j,  0.e+00+0.00000000e+00j,\n",
       "         0.e+00+0.00000000e+00j, ..., -5.e+09+3.76992759e+09j,\n",
       "         0.e+00+8.20300250e+03j,  0.e+00-1.96998505e+04j],\n",
       "       [ 0.e+00+0.00000000e+00j,  0.e+00+0.00000000e+00j,\n",
       "         0.e+00+0.00000000e+00j, ...,  0.e+00+8.20300250e+03j,\n",
       "        -5.e+09-3.82244651e+08j,  0.e+00-1.96998505e+04j],\n",
       "       [ 0.e+00+0.00000000e+00j,  0.e+00+0.00000000e+00j,\n",
       "         0.e+00+0.00000000e+00j, ...,  0.e+00-1.96998505e+04j,\n",
       "         0.e+00-1.96998505e+04j, -5.e+09+0.00000000e+00j]])"
      ]
     },
     "execution_count": 114,
     "metadata": {},
     "output_type": "execute_result"
    }
   ],
   "source": [
    "L[0].L(0)"
   ]
  },
  {
   "cell_type": "code",
   "execution_count": null,
   "id": "0d142c74",
   "metadata": {},
   "outputs": [],
   "source": []
  }
 ],
 "metadata": {
  "kernelspec": {
   "display_name": "Python 3",
   "language": "python",
   "name": "python3"
  },
  "language_info": {
   "codemirror_mode": {
    "name": "ipython",
    "version": 3
   },
   "file_extension": ".py",
   "mimetype": "text/x-python",
   "name": "python",
   "nbconvert_exporter": "python",
   "pygments_lexer": "ipython3",
   "version": "3.7.3"
  }
 },
 "nbformat": 4,
 "nbformat_minor": 5
}
